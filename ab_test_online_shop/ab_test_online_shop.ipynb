{
 "cells": [
  {
   "cell_type": "markdown",
   "id": "4ecdf76b",
   "metadata": {},
   "source": [
    "# Проверка гипотез"
   ]
  },
  {
   "cell_type": "markdown",
   "id": "0ab08f9e",
   "metadata": {},
   "source": [
    "Подготовлен список гипотез для увеличения выручки.\n",
    "Необходимо приоритизировать гипотезы, запустить A/B-тест и проанализировать результаты."
   ]
  },
  {
   "cell_type": "code",
   "execution_count": 1,
   "id": "76413e55",
   "metadata": {},
   "outputs": [],
   "source": [
    "import pandas as pd\n",
    "import scipy.stats as stats\n",
    "import numpy as np\n",
    "import matplotlib.pyplot as plt\n",
    "import datetime as dt"
   ]
  },
  {
   "cell_type": "markdown",
   "id": "8cce5eed",
   "metadata": {},
   "source": [
    "## Предобработка данных"
   ]
  },
  {
   "cell_type": "code",
   "execution_count": 2,
   "id": "5eb653e8",
   "metadata": {},
   "outputs": [],
   "source": [
    "try:\n",
    "    hypothesis = pd.read_csv(--)\n",
    "    orders = pd.read_csv(--)\n",
    "    visitors = pd.read_csv(--)\n",
    "except:\n",
    "    hypothesis = pd.read_csv('/datasets/hypothesis.csv')\n",
    "    orders = pd.read_csv('/datasets/orders.csv')\n",
    "    visitors = pd.read_csv('/datasets/visitors.csv')\n",
    "\n",
    "    "
   ]
  },
  {
   "cell_type": "code",
   "execution_count": 3,
   "id": "00af3edf",
   "metadata": {},
   "outputs": [
    {
     "data": {
      "text/html": [
       "<div>\n",
       "<style scoped>\n",
       "    .dataframe tbody tr th:only-of-type {\n",
       "        vertical-align: middle;\n",
       "    }\n",
       "\n",
       "    .dataframe tbody tr th {\n",
       "        vertical-align: top;\n",
       "    }\n",
       "\n",
       "    .dataframe thead th {\n",
       "        text-align: right;\n",
       "    }\n",
       "</style>\n",
       "<table border=\"1\" class=\"dataframe\">\n",
       "  <thead>\n",
       "    <tr style=\"text-align: right;\">\n",
       "      <th></th>\n",
       "      <th>Hypothesis</th>\n",
       "      <th>Reach</th>\n",
       "      <th>Impact</th>\n",
       "      <th>Confidence</th>\n",
       "      <th>Efforts</th>\n",
       "    </tr>\n",
       "  </thead>\n",
       "  <tbody>\n",
       "    <tr>\n",
       "      <td>0</td>\n",
       "      <td>Добавить два новых канала привлечения трафика,...</td>\n",
       "      <td>3</td>\n",
       "      <td>10</td>\n",
       "      <td>8</td>\n",
       "      <td>6</td>\n",
       "    </tr>\n",
       "    <tr>\n",
       "      <td>1</td>\n",
       "      <td>Запустить собственную службу доставки, что сок...</td>\n",
       "      <td>2</td>\n",
       "      <td>5</td>\n",
       "      <td>4</td>\n",
       "      <td>10</td>\n",
       "    </tr>\n",
       "    <tr>\n",
       "      <td>2</td>\n",
       "      <td>Добавить блоки рекомендаций товаров на сайт ин...</td>\n",
       "      <td>8</td>\n",
       "      <td>3</td>\n",
       "      <td>7</td>\n",
       "      <td>3</td>\n",
       "    </tr>\n",
       "    <tr>\n",
       "      <td>3</td>\n",
       "      <td>Изменить структура категорий, что увеличит кон...</td>\n",
       "      <td>8</td>\n",
       "      <td>3</td>\n",
       "      <td>3</td>\n",
       "      <td>8</td>\n",
       "    </tr>\n",
       "    <tr>\n",
       "      <td>4</td>\n",
       "      <td>Изменить цвет фона главной страницы, чтобы уве...</td>\n",
       "      <td>3</td>\n",
       "      <td>1</td>\n",
       "      <td>1</td>\n",
       "      <td>1</td>\n",
       "    </tr>\n",
       "    <tr>\n",
       "      <td>5</td>\n",
       "      <td>Добавить страницу отзывов клиентов о магазине,...</td>\n",
       "      <td>3</td>\n",
       "      <td>2</td>\n",
       "      <td>2</td>\n",
       "      <td>3</td>\n",
       "    </tr>\n",
       "    <tr>\n",
       "      <td>6</td>\n",
       "      <td>Показать на главной странице баннеры с актуаль...</td>\n",
       "      <td>5</td>\n",
       "      <td>3</td>\n",
       "      <td>8</td>\n",
       "      <td>3</td>\n",
       "    </tr>\n",
       "    <tr>\n",
       "      <td>7</td>\n",
       "      <td>Добавить форму подписки на все основные страни...</td>\n",
       "      <td>10</td>\n",
       "      <td>7</td>\n",
       "      <td>8</td>\n",
       "      <td>5</td>\n",
       "    </tr>\n",
       "    <tr>\n",
       "      <td>8</td>\n",
       "      <td>Запустить акцию, дающую скидку на товар в день...</td>\n",
       "      <td>1</td>\n",
       "      <td>9</td>\n",
       "      <td>9</td>\n",
       "      <td>5</td>\n",
       "    </tr>\n",
       "  </tbody>\n",
       "</table>\n",
       "</div>"
      ],
      "text/plain": [
       "                                          Hypothesis  Reach  Impact  \\\n",
       "0  Добавить два новых канала привлечения трафика,...      3      10   \n",
       "1  Запустить собственную службу доставки, что сок...      2       5   \n",
       "2  Добавить блоки рекомендаций товаров на сайт ин...      8       3   \n",
       "3  Изменить структура категорий, что увеличит кон...      8       3   \n",
       "4  Изменить цвет фона главной страницы, чтобы уве...      3       1   \n",
       "5  Добавить страницу отзывов клиентов о магазине,...      3       2   \n",
       "6  Показать на главной странице баннеры с актуаль...      5       3   \n",
       "7  Добавить форму подписки на все основные страни...     10       7   \n",
       "8  Запустить акцию, дающую скидку на товар в день...      1       9   \n",
       "\n",
       "   Confidence  Efforts  \n",
       "0           8        6  \n",
       "1           4       10  \n",
       "2           7        3  \n",
       "3           3        8  \n",
       "4           1        1  \n",
       "5           2        3  \n",
       "6           8        3  \n",
       "7           8        5  \n",
       "8           9        5  "
      ]
     },
     "execution_count": 3,
     "metadata": {},
     "output_type": "execute_result"
    }
   ],
   "source": [
    "hypothesis"
   ]
  },
  {
   "cell_type": "code",
   "execution_count": 4,
   "id": "8c998e4b",
   "metadata": {},
   "outputs": [
    {
     "name": "stdout",
     "output_type": "stream",
     "text": [
      "<class 'pandas.core.frame.DataFrame'>\n",
      "RangeIndex: 9 entries, 0 to 8\n",
      "Data columns (total 5 columns):\n",
      "Hypothesis    9 non-null object\n",
      "Reach         9 non-null int64\n",
      "Impact        9 non-null int64\n",
      "Confidence    9 non-null int64\n",
      "Efforts       9 non-null int64\n",
      "dtypes: int64(4), object(1)\n",
      "memory usage: 488.0+ bytes\n"
     ]
    }
   ],
   "source": [
    "hypothesis.info()"
   ]
  },
  {
   "cell_type": "code",
   "execution_count": 5,
   "id": "ddb95073",
   "metadata": {},
   "outputs": [
    {
     "data": {
      "text/html": [
       "<div>\n",
       "<style scoped>\n",
       "    .dataframe tbody tr th:only-of-type {\n",
       "        vertical-align: middle;\n",
       "    }\n",
       "\n",
       "    .dataframe tbody tr th {\n",
       "        vertical-align: top;\n",
       "    }\n",
       "\n",
       "    .dataframe thead th {\n",
       "        text-align: right;\n",
       "    }\n",
       "</style>\n",
       "<table border=\"1\" class=\"dataframe\">\n",
       "  <thead>\n",
       "    <tr style=\"text-align: right;\">\n",
       "      <th></th>\n",
       "      <th>transactionId</th>\n",
       "      <th>visitorId</th>\n",
       "      <th>date</th>\n",
       "      <th>revenue</th>\n",
       "      <th>group</th>\n",
       "    </tr>\n",
       "  </thead>\n",
       "  <tbody>\n",
       "    <tr>\n",
       "      <td>0</td>\n",
       "      <td>3667963787</td>\n",
       "      <td>3312258926</td>\n",
       "      <td>2019-08-15</td>\n",
       "      <td>1650</td>\n",
       "      <td>B</td>\n",
       "    </tr>\n",
       "    <tr>\n",
       "      <td>1</td>\n",
       "      <td>2804400009</td>\n",
       "      <td>3642806036</td>\n",
       "      <td>2019-08-15</td>\n",
       "      <td>730</td>\n",
       "      <td>B</td>\n",
       "    </tr>\n",
       "    <tr>\n",
       "      <td>2</td>\n",
       "      <td>2961555356</td>\n",
       "      <td>4069496402</td>\n",
       "      <td>2019-08-15</td>\n",
       "      <td>400</td>\n",
       "      <td>A</td>\n",
       "    </tr>\n",
       "    <tr>\n",
       "      <td>3</td>\n",
       "      <td>3797467345</td>\n",
       "      <td>1196621759</td>\n",
       "      <td>2019-08-15</td>\n",
       "      <td>9759</td>\n",
       "      <td>B</td>\n",
       "    </tr>\n",
       "    <tr>\n",
       "      <td>4</td>\n",
       "      <td>2282983706</td>\n",
       "      <td>2322279887</td>\n",
       "      <td>2019-08-15</td>\n",
       "      <td>2308</td>\n",
       "      <td>B</td>\n",
       "    </tr>\n",
       "  </tbody>\n",
       "</table>\n",
       "</div>"
      ],
      "text/plain": [
       "   transactionId   visitorId        date  revenue group\n",
       "0     3667963787  3312258926  2019-08-15     1650     B\n",
       "1     2804400009  3642806036  2019-08-15      730     B\n",
       "2     2961555356  4069496402  2019-08-15      400     A\n",
       "3     3797467345  1196621759  2019-08-15     9759     B\n",
       "4     2282983706  2322279887  2019-08-15     2308     B"
      ]
     },
     "execution_count": 5,
     "metadata": {},
     "output_type": "execute_result"
    }
   ],
   "source": [
    "orders.head()"
   ]
  },
  {
   "cell_type": "code",
   "execution_count": 6,
   "id": "a51804ec",
   "metadata": {},
   "outputs": [
    {
     "name": "stdout",
     "output_type": "stream",
     "text": [
      "<class 'pandas.core.frame.DataFrame'>\n",
      "RangeIndex: 1197 entries, 0 to 1196\n",
      "Data columns (total 5 columns):\n",
      "transactionId    1197 non-null int64\n",
      "visitorId        1197 non-null int64\n",
      "date             1197 non-null object\n",
      "revenue          1197 non-null int64\n",
      "group            1197 non-null object\n",
      "dtypes: int64(3), object(2)\n",
      "memory usage: 46.9+ KB\n"
     ]
    }
   ],
   "source": [
    "orders.info()"
   ]
  },
  {
   "cell_type": "markdown",
   "id": "e4936d41",
   "metadata": {},
   "source": [
    "Узнаем нет ли посетителий находящихся в обоих группах"
   ]
  },
  {
   "cell_type": "code",
   "execution_count": 7,
   "id": "67b8c8d0",
   "metadata": {},
   "outputs": [],
   "source": [
    "ab_visitors = orders.groupby('visitorId', as_index=False).agg({'group': 'nunique'})\n",
    "ab_visitors = ab_visitors[ab_visitors['group'] > 1]['visitorId']"
   ]
  },
  {
   "cell_type": "code",
   "execution_count": 8,
   "id": "996ae0ef",
   "metadata": {
    "scrolled": true
   },
   "outputs": [
    {
     "data": {
      "text/plain": [
       "58"
      ]
     },
     "execution_count": 8,
     "metadata": {},
     "output_type": "execute_result"
    }
   ],
   "source": [
    "len(ab_visitors)"
   ]
  },
  {
   "cell_type": "code",
   "execution_count": 9,
   "id": "69ec2e27",
   "metadata": {},
   "outputs": [],
   "source": [
    "orders = orders[np.logical_not(orders['visitorId'].isin(ab_visitors))]"
   ]
  },
  {
   "cell_type": "code",
   "execution_count": 10,
   "id": "bd839d90",
   "metadata": {},
   "outputs": [
    {
     "data": {
      "text/plain": [
       "Series([], Name: visitorId, dtype: int64)"
      ]
     },
     "execution_count": 10,
     "metadata": {},
     "output_type": "execute_result"
    }
   ],
   "source": [
    "ab_visitors_2 = orders.groupby('visitorId', as_index=False).agg({'group': 'nunique'})\n",
    "ab_visitors_2 = ab_visitors_2[ab_visitors_2['group'] > 1]['visitorId']\n",
    "ab_visitors_2"
   ]
  },
  {
   "cell_type": "code",
   "execution_count": 11,
   "id": "5625e6d9",
   "metadata": {},
   "outputs": [
    {
     "name": "stdout",
     "output_type": "stream",
     "text": [
      "<class 'pandas.core.frame.DataFrame'>\n",
      "Int64Index: 1016 entries, 0 to 1196\n",
      "Data columns (total 5 columns):\n",
      "transactionId    1016 non-null int64\n",
      "visitorId        1016 non-null int64\n",
      "date             1016 non-null object\n",
      "revenue          1016 non-null int64\n",
      "group            1016 non-null object\n",
      "dtypes: int64(3), object(2)\n",
      "memory usage: 47.6+ KB\n"
     ]
    }
   ],
   "source": [
    "orders.info()"
   ]
  },
  {
   "cell_type": "code",
   "execution_count": 12,
   "id": "e38c1663",
   "metadata": {},
   "outputs": [
    {
     "data": {
      "text/plain": [
       "0"
      ]
     },
     "execution_count": 12,
     "metadata": {},
     "output_type": "execute_result"
    }
   ],
   "source": [
    "orders.duplicated().sum()"
   ]
  },
  {
   "cell_type": "code",
   "execution_count": 13,
   "id": "4db2ea0c",
   "metadata": {},
   "outputs": [],
   "source": [
    "orders['date'] = orders['date'].map(lambda x: dt.datetime.strptime(x, '%Y-%m-%d'))"
   ]
  },
  {
   "cell_type": "code",
   "execution_count": 14,
   "id": "71a4327d",
   "metadata": {},
   "outputs": [
    {
     "data": {
      "text/html": [
       "<div>\n",
       "<style scoped>\n",
       "    .dataframe tbody tr th:only-of-type {\n",
       "        vertical-align: middle;\n",
       "    }\n",
       "\n",
       "    .dataframe tbody tr th {\n",
       "        vertical-align: top;\n",
       "    }\n",
       "\n",
       "    .dataframe thead th {\n",
       "        text-align: right;\n",
       "    }\n",
       "</style>\n",
       "<table border=\"1\" class=\"dataframe\">\n",
       "  <thead>\n",
       "    <tr style=\"text-align: right;\">\n",
       "      <th></th>\n",
       "      <th>date</th>\n",
       "      <th>group</th>\n",
       "      <th>visitors</th>\n",
       "    </tr>\n",
       "  </thead>\n",
       "  <tbody>\n",
       "    <tr>\n",
       "      <td>0</td>\n",
       "      <td>2019-08-01</td>\n",
       "      <td>A</td>\n",
       "      <td>719</td>\n",
       "    </tr>\n",
       "    <tr>\n",
       "      <td>1</td>\n",
       "      <td>2019-08-02</td>\n",
       "      <td>A</td>\n",
       "      <td>619</td>\n",
       "    </tr>\n",
       "    <tr>\n",
       "      <td>2</td>\n",
       "      <td>2019-08-03</td>\n",
       "      <td>A</td>\n",
       "      <td>507</td>\n",
       "    </tr>\n",
       "    <tr>\n",
       "      <td>3</td>\n",
       "      <td>2019-08-04</td>\n",
       "      <td>A</td>\n",
       "      <td>717</td>\n",
       "    </tr>\n",
       "    <tr>\n",
       "      <td>4</td>\n",
       "      <td>2019-08-05</td>\n",
       "      <td>A</td>\n",
       "      <td>756</td>\n",
       "    </tr>\n",
       "  </tbody>\n",
       "</table>\n",
       "</div>"
      ],
      "text/plain": [
       "         date group  visitors\n",
       "0  2019-08-01     A       719\n",
       "1  2019-08-02     A       619\n",
       "2  2019-08-03     A       507\n",
       "3  2019-08-04     A       717\n",
       "4  2019-08-05     A       756"
      ]
     },
     "execution_count": 14,
     "metadata": {},
     "output_type": "execute_result"
    }
   ],
   "source": [
    "visitors.head()"
   ]
  },
  {
   "cell_type": "code",
   "execution_count": 15,
   "id": "ead3a474",
   "metadata": {},
   "outputs": [
    {
     "name": "stdout",
     "output_type": "stream",
     "text": [
      "<class 'pandas.core.frame.DataFrame'>\n",
      "RangeIndex: 62 entries, 0 to 61\n",
      "Data columns (total 3 columns):\n",
      "date        62 non-null object\n",
      "group       62 non-null object\n",
      "visitors    62 non-null int64\n",
      "dtypes: int64(1), object(2)\n",
      "memory usage: 1.6+ KB\n"
     ]
    }
   ],
   "source": [
    "visitors.info()"
   ]
  },
  {
   "cell_type": "code",
   "execution_count": 16,
   "id": "72b453a8",
   "metadata": {},
   "outputs": [
    {
     "data": {
      "text/plain": [
       "0"
      ]
     },
     "execution_count": 16,
     "metadata": {},
     "output_type": "execute_result"
    }
   ],
   "source": [
    "visitors.duplicated().sum()"
   ]
  },
  {
   "cell_type": "code",
   "execution_count": 17,
   "id": "7c8cbc08",
   "metadata": {},
   "outputs": [],
   "source": [
    "visitors['date'] = visitors['date'].map(lambda x: dt.datetime.strptime(x, '%Y-%m-%d'))"
   ]
  },
  {
   "cell_type": "code",
   "execution_count": 18,
   "id": "a541976d",
   "metadata": {},
   "outputs": [
    {
     "data": {
      "text/html": [
       "<div>\n",
       "<style scoped>\n",
       "    .dataframe tbody tr th:only-of-type {\n",
       "        vertical-align: middle;\n",
       "    }\n",
       "\n",
       "    .dataframe tbody tr th {\n",
       "        vertical-align: top;\n",
       "    }\n",
       "\n",
       "    .dataframe thead th {\n",
       "        text-align: right;\n",
       "    }\n",
       "</style>\n",
       "<table border=\"1\" class=\"dataframe\">\n",
       "  <thead>\n",
       "    <tr style=\"text-align: right;\">\n",
       "      <th></th>\n",
       "      <th>Hypothesis</th>\n",
       "      <th>Reach</th>\n",
       "      <th>Impact</th>\n",
       "      <th>Confidence</th>\n",
       "      <th>Efforts</th>\n",
       "    </tr>\n",
       "  </thead>\n",
       "  <tbody>\n",
       "    <tr>\n",
       "      <td>0</td>\n",
       "      <td>Добавить два новых канала привлечения трафика, что позволит привлекать на 30% больше пользователей</td>\n",
       "      <td>3</td>\n",
       "      <td>10</td>\n",
       "      <td>8</td>\n",
       "      <td>6</td>\n",
       "    </tr>\n",
       "    <tr>\n",
       "      <td>1</td>\n",
       "      <td>Запустить собственную службу доставки, что сократит срок доставки заказов</td>\n",
       "      <td>2</td>\n",
       "      <td>5</td>\n",
       "      <td>4</td>\n",
       "      <td>10</td>\n",
       "    </tr>\n",
       "    <tr>\n",
       "      <td>2</td>\n",
       "      <td>Добавить блоки рекомендаций товаров на сайт интернет магазина, чтобы повысить конверсию и средний чек заказа</td>\n",
       "      <td>8</td>\n",
       "      <td>3</td>\n",
       "      <td>7</td>\n",
       "      <td>3</td>\n",
       "    </tr>\n",
       "    <tr>\n",
       "      <td>3</td>\n",
       "      <td>Изменить структура категорий, что увеличит конверсию, т.к. пользователи быстрее найдут нужный товар</td>\n",
       "      <td>8</td>\n",
       "      <td>3</td>\n",
       "      <td>3</td>\n",
       "      <td>8</td>\n",
       "    </tr>\n",
       "    <tr>\n",
       "      <td>4</td>\n",
       "      <td>Изменить цвет фона главной страницы, чтобы увеличить вовлеченность пользователей</td>\n",
       "      <td>3</td>\n",
       "      <td>1</td>\n",
       "      <td>1</td>\n",
       "      <td>1</td>\n",
       "    </tr>\n",
       "    <tr>\n",
       "      <td>5</td>\n",
       "      <td>Добавить страницу отзывов клиентов о магазине, что позволит увеличить количество заказов</td>\n",
       "      <td>3</td>\n",
       "      <td>2</td>\n",
       "      <td>2</td>\n",
       "      <td>3</td>\n",
       "    </tr>\n",
       "    <tr>\n",
       "      <td>6</td>\n",
       "      <td>Показать на главной странице баннеры с актуальными акциями и распродажами, чтобы увеличить конверсию</td>\n",
       "      <td>5</td>\n",
       "      <td>3</td>\n",
       "      <td>8</td>\n",
       "      <td>3</td>\n",
       "    </tr>\n",
       "    <tr>\n",
       "      <td>7</td>\n",
       "      <td>Добавить форму подписки на все основные страницы, чтобы собрать базу клиентов для email-рассылок</td>\n",
       "      <td>10</td>\n",
       "      <td>7</td>\n",
       "      <td>8</td>\n",
       "      <td>5</td>\n",
       "    </tr>\n",
       "    <tr>\n",
       "      <td>8</td>\n",
       "      <td>Запустить акцию, дающую скидку на товар в день рождения</td>\n",
       "      <td>1</td>\n",
       "      <td>9</td>\n",
       "      <td>9</td>\n",
       "      <td>5</td>\n",
       "    </tr>\n",
       "  </tbody>\n",
       "</table>\n",
       "</div>"
      ],
      "text/plain": [
       "                                                                                                     Hypothesis  \\\n",
       "0            Добавить два новых канала привлечения трафика, что позволит привлекать на 30% больше пользователей   \n",
       "1                                     Запустить собственную службу доставки, что сократит срок доставки заказов   \n",
       "2  Добавить блоки рекомендаций товаров на сайт интернет магазина, чтобы повысить конверсию и средний чек заказа   \n",
       "3           Изменить структура категорий, что увеличит конверсию, т.к. пользователи быстрее найдут нужный товар   \n",
       "4                              Изменить цвет фона главной страницы, чтобы увеличить вовлеченность пользователей   \n",
       "5                      Добавить страницу отзывов клиентов о магазине, что позволит увеличить количество заказов   \n",
       "6          Показать на главной странице баннеры с актуальными акциями и распродажами, чтобы увеличить конверсию   \n",
       "7              Добавить форму подписки на все основные страницы, чтобы собрать базу клиентов для email-рассылок   \n",
       "8                                                       Запустить акцию, дающую скидку на товар в день рождения   \n",
       "\n",
       "   Reach  Impact  Confidence  Efforts  \n",
       "0      3      10           8        6  \n",
       "1      2       5           4       10  \n",
       "2      8       3           7        3  \n",
       "3      8       3           3        8  \n",
       "4      3       1           1        1  \n",
       "5      3       2           2        3  \n",
       "6      5       3           8        3  \n",
       "7     10       7           8        5  \n",
       "8      1       9           9        5  "
      ]
     },
     "execution_count": 18,
     "metadata": {},
     "output_type": "execute_result"
    }
   ],
   "source": [
    "pd.set_option(\"max_colwidth\", 400)\n",
    "hypothesis"
   ]
  },
  {
   "cell_type": "markdown",
   "id": "2eb0f586",
   "metadata": {},
   "source": [
    "## Приоретизация гипотез"
   ]
  },
  {
   "cell_type": "markdown",
   "id": "ddc2073d",
   "metadata": {},
   "source": [
    "Приоретизируем гипотезы согластно фреймворкам ICE и RICE."
   ]
  },
  {
   "cell_type": "markdown",
   "id": "8f69c3f9",
   "metadata": {},
   "source": [
    "\n",
    "$$ICE = \\frac{Impact * Confidence}{Efforts}$$\n",
    "\n",
    "$$RICE = \\frac{Rearch * Impact * Confidence}{Efforts}$$"
   ]
  },
  {
   "cell_type": "code",
   "execution_count": 19,
   "id": "5a225cf6",
   "metadata": {},
   "outputs": [],
   "source": [
    "hypothesis['ICE'] = (hypothesis['Impact'] * hypothesis['Confidence']) / hypothesis['Efforts']\n",
    "\n",
    "hypothesis['RICE'] = (hypothesis['Reach'] * hypothesis['Impact'] * hypothesis['Confidence']) / hypothesis['Efforts']"
   ]
  },
  {
   "cell_type": "code",
   "execution_count": 20,
   "id": "875ac437",
   "metadata": {},
   "outputs": [
    {
     "data": {
      "text/html": [
       "<div>\n",
       "<style scoped>\n",
       "    .dataframe tbody tr th:only-of-type {\n",
       "        vertical-align: middle;\n",
       "    }\n",
       "\n",
       "    .dataframe tbody tr th {\n",
       "        vertical-align: top;\n",
       "    }\n",
       "\n",
       "    .dataframe thead th {\n",
       "        text-align: right;\n",
       "    }\n",
       "</style>\n",
       "<table border=\"1\" class=\"dataframe\">\n",
       "  <thead>\n",
       "    <tr style=\"text-align: right;\">\n",
       "      <th></th>\n",
       "      <th>Hypothesis</th>\n",
       "      <th>Reach</th>\n",
       "      <th>Impact</th>\n",
       "      <th>Confidence</th>\n",
       "      <th>Efforts</th>\n",
       "      <th>ICE</th>\n",
       "      <th>RICE</th>\n",
       "    </tr>\n",
       "  </thead>\n",
       "  <tbody>\n",
       "    <tr>\n",
       "      <td>8</td>\n",
       "      <td>Запустить акцию, дающую скидку на товар в день рождения</td>\n",
       "      <td>1</td>\n",
       "      <td>9</td>\n",
       "      <td>9</td>\n",
       "      <td>5</td>\n",
       "      <td>16.200000</td>\n",
       "      <td>16.2</td>\n",
       "    </tr>\n",
       "    <tr>\n",
       "      <td>0</td>\n",
       "      <td>Добавить два новых канала привлечения трафика, что позволит привлекать на 30% больше пользователей</td>\n",
       "      <td>3</td>\n",
       "      <td>10</td>\n",
       "      <td>8</td>\n",
       "      <td>6</td>\n",
       "      <td>13.333333</td>\n",
       "      <td>40.0</td>\n",
       "    </tr>\n",
       "    <tr>\n",
       "      <td>7</td>\n",
       "      <td>Добавить форму подписки на все основные страницы, чтобы собрать базу клиентов для email-рассылок</td>\n",
       "      <td>10</td>\n",
       "      <td>7</td>\n",
       "      <td>8</td>\n",
       "      <td>5</td>\n",
       "      <td>11.200000</td>\n",
       "      <td>112.0</td>\n",
       "    </tr>\n",
       "    <tr>\n",
       "      <td>6</td>\n",
       "      <td>Показать на главной странице баннеры с актуальными акциями и распродажами, чтобы увеличить конверсию</td>\n",
       "      <td>5</td>\n",
       "      <td>3</td>\n",
       "      <td>8</td>\n",
       "      <td>3</td>\n",
       "      <td>8.000000</td>\n",
       "      <td>40.0</td>\n",
       "    </tr>\n",
       "    <tr>\n",
       "      <td>2</td>\n",
       "      <td>Добавить блоки рекомендаций товаров на сайт интернет магазина, чтобы повысить конверсию и средний чек заказа</td>\n",
       "      <td>8</td>\n",
       "      <td>3</td>\n",
       "      <td>7</td>\n",
       "      <td>3</td>\n",
       "      <td>7.000000</td>\n",
       "      <td>56.0</td>\n",
       "    </tr>\n",
       "  </tbody>\n",
       "</table>\n",
       "</div>"
      ],
      "text/plain": [
       "                                                                                                     Hypothesis  \\\n",
       "8                                                       Запустить акцию, дающую скидку на товар в день рождения   \n",
       "0            Добавить два новых канала привлечения трафика, что позволит привлекать на 30% больше пользователей   \n",
       "7              Добавить форму подписки на все основные страницы, чтобы собрать базу клиентов для email-рассылок   \n",
       "6          Показать на главной странице баннеры с актуальными акциями и распродажами, чтобы увеличить конверсию   \n",
       "2  Добавить блоки рекомендаций товаров на сайт интернет магазина, чтобы повысить конверсию и средний чек заказа   \n",
       "\n",
       "   Reach  Impact  Confidence  Efforts        ICE   RICE  \n",
       "8      1       9           9        5  16.200000   16.2  \n",
       "0      3      10           8        6  13.333333   40.0  \n",
       "7     10       7           8        5  11.200000  112.0  \n",
       "6      5       3           8        3   8.000000   40.0  \n",
       "2      8       3           7        3   7.000000   56.0  "
      ]
     },
     "execution_count": 20,
     "metadata": {},
     "output_type": "execute_result"
    }
   ],
   "source": [
    "hypothesis.sort_values('ICE', ascending=False).head(5)"
   ]
  },
  {
   "cell_type": "code",
   "execution_count": 21,
   "id": "dedfc97f",
   "metadata": {},
   "outputs": [
    {
     "data": {
      "text/html": [
       "<div>\n",
       "<style scoped>\n",
       "    .dataframe tbody tr th:only-of-type {\n",
       "        vertical-align: middle;\n",
       "    }\n",
       "\n",
       "    .dataframe tbody tr th {\n",
       "        vertical-align: top;\n",
       "    }\n",
       "\n",
       "    .dataframe thead th {\n",
       "        text-align: right;\n",
       "    }\n",
       "</style>\n",
       "<table border=\"1\" class=\"dataframe\">\n",
       "  <thead>\n",
       "    <tr style=\"text-align: right;\">\n",
       "      <th></th>\n",
       "      <th>Hypothesis</th>\n",
       "      <th>Reach</th>\n",
       "      <th>Impact</th>\n",
       "      <th>Confidence</th>\n",
       "      <th>Efforts</th>\n",
       "      <th>ICE</th>\n",
       "      <th>RICE</th>\n",
       "    </tr>\n",
       "  </thead>\n",
       "  <tbody>\n",
       "    <tr>\n",
       "      <td>7</td>\n",
       "      <td>Добавить форму подписки на все основные страницы, чтобы собрать базу клиентов для email-рассылок</td>\n",
       "      <td>10</td>\n",
       "      <td>7</td>\n",
       "      <td>8</td>\n",
       "      <td>5</td>\n",
       "      <td>11.200000</td>\n",
       "      <td>112.0</td>\n",
       "    </tr>\n",
       "    <tr>\n",
       "      <td>2</td>\n",
       "      <td>Добавить блоки рекомендаций товаров на сайт интернет магазина, чтобы повысить конверсию и средний чек заказа</td>\n",
       "      <td>8</td>\n",
       "      <td>3</td>\n",
       "      <td>7</td>\n",
       "      <td>3</td>\n",
       "      <td>7.000000</td>\n",
       "      <td>56.0</td>\n",
       "    </tr>\n",
       "    <tr>\n",
       "      <td>0</td>\n",
       "      <td>Добавить два новых канала привлечения трафика, что позволит привлекать на 30% больше пользователей</td>\n",
       "      <td>3</td>\n",
       "      <td>10</td>\n",
       "      <td>8</td>\n",
       "      <td>6</td>\n",
       "      <td>13.333333</td>\n",
       "      <td>40.0</td>\n",
       "    </tr>\n",
       "    <tr>\n",
       "      <td>6</td>\n",
       "      <td>Показать на главной странице баннеры с актуальными акциями и распродажами, чтобы увеличить конверсию</td>\n",
       "      <td>5</td>\n",
       "      <td>3</td>\n",
       "      <td>8</td>\n",
       "      <td>3</td>\n",
       "      <td>8.000000</td>\n",
       "      <td>40.0</td>\n",
       "    </tr>\n",
       "    <tr>\n",
       "      <td>8</td>\n",
       "      <td>Запустить акцию, дающую скидку на товар в день рождения</td>\n",
       "      <td>1</td>\n",
       "      <td>9</td>\n",
       "      <td>9</td>\n",
       "      <td>5</td>\n",
       "      <td>16.200000</td>\n",
       "      <td>16.2</td>\n",
       "    </tr>\n",
       "  </tbody>\n",
       "</table>\n",
       "</div>"
      ],
      "text/plain": [
       "                                                                                                     Hypothesis  \\\n",
       "7              Добавить форму подписки на все основные страницы, чтобы собрать базу клиентов для email-рассылок   \n",
       "2  Добавить блоки рекомендаций товаров на сайт интернет магазина, чтобы повысить конверсию и средний чек заказа   \n",
       "0            Добавить два новых канала привлечения трафика, что позволит привлекать на 30% больше пользователей   \n",
       "6          Показать на главной странице баннеры с актуальными акциями и распродажами, чтобы увеличить конверсию   \n",
       "8                                                       Запустить акцию, дающую скидку на товар в день рождения   \n",
       "\n",
       "   Reach  Impact  Confidence  Efforts        ICE   RICE  \n",
       "7     10       7           8        5  11.200000  112.0  \n",
       "2      8       3           7        3   7.000000   56.0  \n",
       "0      3      10           8        6  13.333333   40.0  \n",
       "6      5       3           8        3   8.000000   40.0  \n",
       "8      1       9           9        5  16.200000   16.2  "
      ]
     },
     "execution_count": 21,
     "metadata": {},
     "output_type": "execute_result"
    }
   ],
   "source": [
    "hypothesis.sort_values('RICE', ascending=False).head(5)"
   ]
  },
  {
   "cell_type": "markdown",
   "id": "5a0ab795",
   "metadata": {},
   "source": [
    "Мы видим большие различия в результатах фреймворков ICE и RICE. 8 гипотеза деймтвителько оказывает большой вклад и уверенность в этом велика однако она влияет на очень малое количество пользователей, то же самое можно сказать о гипотезе 0. Однако по RICE она онабрало одинаковое количество баллов с 6 гипотезой которая находиться на том же месте что и при применении ICE.  "
   ]
  },
  {
   "cell_type": "markdown",
   "id": "b5cdd12d",
   "metadata": {},
   "source": [
    "Самой перспективной гипотезой можно назвать 7 гипотезу так как стоимость ее воплощения такая же как и у 8 но она затрагивает 100% пользователей"
   ]
  },
  {
   "cell_type": "markdown",
   "id": "9ed5d5bf",
   "metadata": {},
   "source": [
    "## Анализ A/B-теста"
   ]
  },
  {
   "cell_type": "markdown",
   "id": "b5659005",
   "metadata": {},
   "source": [
    "Расчитаем дневные и кумулятивные показатели."
   ]
  },
  {
   "cell_type": "code",
   "execution_count": 22,
   "id": "6cf12730",
   "metadata": {},
   "outputs": [],
   "source": [
    "visitorsADaily = visitors[visitors['group'] == 'A'][['date','visitors']]\n",
    "visitorsADaily.columns = ['date','visitorsPerDateA']\n",
    "\n",
    "visitorsBDaily = visitors[visitors['group'] == 'B'][['date','visitors']]\n",
    "visitorsBDaily.columns = ['date','visitorsPerDateB']"
   ]
  },
  {
   "cell_type": "code",
   "execution_count": 23,
   "id": "170d9e27",
   "metadata": {},
   "outputs": [],
   "source": [
    "visitorsACummulative = visitorsADaily.apply(\n",
    "    lambda x: visitorsADaily[visitorsADaily['date'] <= x['date']].agg(\n",
    "    {'date': 'max', 'visitorsPerDateA': 'sum'}\n",
    "    ),\n",
    "    axis=1,\n",
    ")\n",
    "visitorsACummulative.columns = ['date','visitorsCummulativeA']\n",
    "\n",
    "visitorsBCummulative = visitorsBDaily.apply(\n",
    "    lambda x: visitorsBDaily[visitorsBDaily['date'] <= x['date']].agg(\n",
    "    {'date': 'max', 'visitorsPerDateB': 'sum'}\n",
    "    ),\n",
    "    axis=1,\n",
    ")\n",
    "visitorsBCummulative.columns = ['date','visitorsCummulativeB']\n"
   ]
  },
  {
   "cell_type": "code",
   "execution_count": 24,
   "id": "a5b32f3d",
   "metadata": {},
   "outputs": [],
   "source": [
    "ordersADaily = (\n",
    "    orders[orders['group'] == 'A'][['transactionId','visitorId','date','revenue']]\n",
    "    .groupby('date', as_index=False)\n",
    "    .agg({'transactionId': pd.Series.nunique, 'revenue': 'sum'})\n",
    ")\n",
    "ordersADaily.columns = ['date', 'ordersPerDateA', 'revenuePerDateA']\n",
    "\n",
    "ordersBDaily = (\n",
    "    orders[orders['group'] == 'B'][['transactionId','visitorId','date','revenue']]\n",
    "    .groupby('date', as_index=False)\n",
    "    .agg({'transactionId': pd.Series.nunique, 'revenue': 'sum'})\n",
    ")\n",
    "ordersBDaily.columns = ['date', 'ordersPerDateB', 'revenuePerDateB']"
   ]
  },
  {
   "cell_type": "code",
   "execution_count": 25,
   "id": "3c349d27",
   "metadata": {},
   "outputs": [],
   "source": [
    "ordersACummulative = ordersADaily.apply(\n",
    "    lambda x: ordersADaily[ordersADaily['date'] <= x['date']].agg(\n",
    "    {'date': 'max', 'ordersPerDateA': 'sum', 'revenuePerDateA': 'sum'}\n",
    "    ),\n",
    "    axis=1,\n",
    ").sort_values(by=['date'])\n",
    "ordersACummulative.columns = [\n",
    "    'date',\n",
    "    'ordersCummulativeA',\n",
    "    'revenueCummulativeA'\n",
    "]\n",
    "\n",
    "ordersBCummulative = ordersBDaily.apply(\n",
    "    lambda x: ordersBDaily[ordersBDaily['date'] <= x['date']].agg(\n",
    "    {'date': 'max', 'ordersPerDateB': 'sum', 'revenuePerDateB': 'sum'}\n",
    "    ),\n",
    "    axis=1,\n",
    ").sort_values(by=['date'])\n",
    "ordersBCummulative.columns = [\n",
    "    'date',\n",
    "    'ordersCummulativeB',\n",
    "    'revenueCummulativeB'\n",
    "]"
   ]
  },
  {
   "cell_type": "markdown",
   "id": "5c48ffc2",
   "metadata": {},
   "source": [
    "Объеденим их в одну таблицу."
   ]
  },
  {
   "cell_type": "code",
   "execution_count": 26,
   "id": "67ce9457",
   "metadata": {},
   "outputs": [],
   "source": [
    "data = (ordersADaily.merge(\n",
    "        ordersBDaily, left_on='date', right_on='date', how='left')\n",
    "    .merge(ordersACummulative, left_on='date', right_on='date', how='left')\n",
    "    .merge(ordersBCummulative, left_on='date', right_on='date', how='left')\n",
    "    .merge(visitorsADaily, left_on='date', right_on='date', how='left')\n",
    "    .merge(visitorsBDaily, left_on='date', right_on='date', how='left')\n",
    "    .merge(visitorsACummulative, left_on='date', right_on='date', how='left')\n",
    "    .merge(visitorsBCummulative, left_on='date', right_on='date', how='left')\n",
    "       )\n"
   ]
  },
  {
   "cell_type": "code",
   "execution_count": 27,
   "id": "8810d1d2",
   "metadata": {},
   "outputs": [
    {
     "data": {
      "text/html": [
       "<div>\n",
       "<style scoped>\n",
       "    .dataframe tbody tr th:only-of-type {\n",
       "        vertical-align: middle;\n",
       "    }\n",
       "\n",
       "    .dataframe tbody tr th {\n",
       "        vertical-align: top;\n",
       "    }\n",
       "\n",
       "    .dataframe thead th {\n",
       "        text-align: right;\n",
       "    }\n",
       "</style>\n",
       "<table border=\"1\" class=\"dataframe\">\n",
       "  <thead>\n",
       "    <tr style=\"text-align: right;\">\n",
       "      <th></th>\n",
       "      <th>date</th>\n",
       "      <th>ordersPerDateA</th>\n",
       "      <th>revenuePerDateA</th>\n",
       "      <th>ordersPerDateB</th>\n",
       "      <th>revenuePerDateB</th>\n",
       "      <th>ordersCummulativeA</th>\n",
       "      <th>revenueCummulativeA</th>\n",
       "      <th>ordersCummulativeB</th>\n",
       "      <th>revenueCummulativeB</th>\n",
       "      <th>visitorsPerDateA</th>\n",
       "      <th>visitorsPerDateB</th>\n",
       "      <th>visitorsCummulativeA</th>\n",
       "      <th>visitorsCummulativeB</th>\n",
       "    </tr>\n",
       "  </thead>\n",
       "  <tbody>\n",
       "    <tr>\n",
       "      <td>0</td>\n",
       "      <td>2019-08-01</td>\n",
       "      <td>23</td>\n",
       "      <td>142779</td>\n",
       "      <td>17</td>\n",
       "      <td>59758</td>\n",
       "      <td>23</td>\n",
       "      <td>142779</td>\n",
       "      <td>17</td>\n",
       "      <td>59758</td>\n",
       "      <td>719</td>\n",
       "      <td>713</td>\n",
       "      <td>719</td>\n",
       "      <td>713</td>\n",
       "    </tr>\n",
       "    <tr>\n",
       "      <td>1</td>\n",
       "      <td>2019-08-02</td>\n",
       "      <td>19</td>\n",
       "      <td>91602</td>\n",
       "      <td>23</td>\n",
       "      <td>162043</td>\n",
       "      <td>42</td>\n",
       "      <td>234381</td>\n",
       "      <td>40</td>\n",
       "      <td>221801</td>\n",
       "      <td>619</td>\n",
       "      <td>581</td>\n",
       "      <td>1338</td>\n",
       "      <td>1294</td>\n",
       "    </tr>\n",
       "    <tr>\n",
       "      <td>2</td>\n",
       "      <td>2019-08-03</td>\n",
       "      <td>24</td>\n",
       "      <td>112473</td>\n",
       "      <td>14</td>\n",
       "      <td>67049</td>\n",
       "      <td>66</td>\n",
       "      <td>346854</td>\n",
       "      <td>54</td>\n",
       "      <td>288850</td>\n",
       "      <td>507</td>\n",
       "      <td>509</td>\n",
       "      <td>1845</td>\n",
       "      <td>1803</td>\n",
       "    </tr>\n",
       "    <tr>\n",
       "      <td>3</td>\n",
       "      <td>2019-08-04</td>\n",
       "      <td>11</td>\n",
       "      <td>41176</td>\n",
       "      <td>14</td>\n",
       "      <td>96890</td>\n",
       "      <td>77</td>\n",
       "      <td>388030</td>\n",
       "      <td>68</td>\n",
       "      <td>385740</td>\n",
       "      <td>717</td>\n",
       "      <td>770</td>\n",
       "      <td>2562</td>\n",
       "      <td>2573</td>\n",
       "    </tr>\n",
       "    <tr>\n",
       "      <td>4</td>\n",
       "      <td>2019-08-05</td>\n",
       "      <td>22</td>\n",
       "      <td>86383</td>\n",
       "      <td>21</td>\n",
       "      <td>89908</td>\n",
       "      <td>99</td>\n",
       "      <td>474413</td>\n",
       "      <td>89</td>\n",
       "      <td>475648</td>\n",
       "      <td>756</td>\n",
       "      <td>707</td>\n",
       "      <td>3318</td>\n",
       "      <td>3280</td>\n",
       "    </tr>\n",
       "  </tbody>\n",
       "</table>\n",
       "</div>"
      ],
      "text/plain": [
       "        date  ordersPerDateA  revenuePerDateA  ordersPerDateB  \\\n",
       "0 2019-08-01              23           142779              17   \n",
       "1 2019-08-02              19            91602              23   \n",
       "2 2019-08-03              24           112473              14   \n",
       "3 2019-08-04              11            41176              14   \n",
       "4 2019-08-05              22            86383              21   \n",
       "\n",
       "   revenuePerDateB  ordersCummulativeA  revenueCummulativeA  \\\n",
       "0            59758                  23               142779   \n",
       "1           162043                  42               234381   \n",
       "2            67049                  66               346854   \n",
       "3            96890                  77               388030   \n",
       "4            89908                  99               474413   \n",
       "\n",
       "   ordersCummulativeB  revenueCummulativeB  visitorsPerDateA  \\\n",
       "0                  17                59758               719   \n",
       "1                  40               221801               619   \n",
       "2                  54               288850               507   \n",
       "3                  68               385740               717   \n",
       "4                  89               475648               756   \n",
       "\n",
       "   visitorsPerDateB  visitorsCummulativeA  visitorsCummulativeB  \n",
       "0               713                   719                   713  \n",
       "1               581                  1338                  1294  \n",
       "2               509                  1845                  1803  \n",
       "3               770                  2562                  2573  \n",
       "4               707                  3318                  3280  "
      ]
     },
     "execution_count": 27,
     "metadata": {},
     "output_type": "execute_result"
    }
   ],
   "source": [
    "data.head(5)"
   ]
  },
  {
   "cell_type": "markdown",
   "id": "58c9eff3",
   "metadata": {},
   "source": [
    "### Куммулятивная выручка"
   ]
  },
  {
   "cell_type": "code",
   "execution_count": 28,
   "id": "50c6a05d",
   "metadata": {},
   "outputs": [
    {
     "name": "stderr",
     "output_type": "stream",
     "text": [
      "C:\\Users\\sab\\anaconda3\\envs\\praktikum\\lib\\site-packages\\pandas\\plotting\\_matplotlib\\converter.py:103: FutureWarning: Using an implicitly registered datetime converter for a matplotlib plotting method. The converter was registered by pandas on import. Future versions of pandas will require you to explicitly register matplotlib converters.\n",
      "\n",
      "To register the converters:\n",
      "\t>>> from pandas.plotting import register_matplotlib_converters\n",
      "\t>>> register_matplotlib_converters()\n",
      "  warnings.warn(msg, FutureWarning)\n"
     ]
    },
    {
     "data": {
      "image/png": "[encoded data removed]",
      "text/plain": [
       "<Figure size 864x504 with 1 Axes>"
      ]
     },
     "metadata": {
      "needs_background": "light"
     },
     "output_type": "display_data"
    }
   ],
   "source": [
    "plt.figure(figsize=(12,7))\n",
    "plt.plot(\n",
    "    data['date'],\n",
    "    data['revenueCummulativeA'], label='A')\n",
    "plt.plot(\n",
    "    data['date'],\n",
    "    data['revenueCummulativeB'], label='B')\n",
    "plt.grid()\n",
    "plt.legend()\n",
    "plt.title('Куммулятивная выручка')\n",
    "plt.show()"
   ]
  },
  {
   "cell_type": "markdown",
   "id": "bede70a8",
   "metadata": {},
   "source": [
    "Куммулятивная выручка группы В резко выросла 2019-08-18 после чего группа А и Б росли примерно одинаково. Возможно в этот день были совершены один или несколько больших заказов что повлияло на показатель группы Б. "
   ]
  },
  {
   "cell_type": "markdown",
   "id": "bbc24ff9",
   "metadata": {},
   "source": [
    "### Куммулятивный средний чек"
   ]
  },
  {
   "cell_type": "code",
   "execution_count": 29,
   "id": "b014a223",
   "metadata": {},
   "outputs": [
    {
     "data": {
      "image/png": "[encoded data removed]",
      "text/plain": [
       "<Figure size 720x504 with 1 Axes>"
      ]
     },
     "metadata": {
      "needs_background": "light"
     },
     "output_type": "display_data"
    }
   ],
   "source": [
    "plt.figure(figsize=(10,7))\n",
    "plt.plot(data['date'],\n",
    "        (data['revenueCummulativeA'] / data['ordersCummulativeA']),\n",
    "         label='A')\n",
    "plt.plot(data['date'],\n",
    "        (data['revenueCummulativeB'] / data['ordersCummulativeB']),\n",
    "         label='B')\n",
    "plt.title('Куммулятивный средний чек')\n",
    "plt.grid()\n",
    "plt.legend()\n",
    "plt.show()"
   ]
  },
  {
   "cell_type": "markdown",
   "id": "0efe91e6",
   "metadata": {},
   "source": [
    "Мы видим похожую ситуацию с куммулятивной выручкой, сильные колебания среднего чека вплоть до 18 августа, после чего средний чек группы В сильно вырос а позже начал снижаться.   "
   ]
  },
  {
   "cell_type": "code",
   "execution_count": 30,
   "id": "979e8b59",
   "metadata": {},
   "outputs": [
    {
     "data": {
      "image/png": "[encoded data removed]",
      "text/plain": [
       "<Figure size 720x504 with 1 Axes>"
      ]
     },
     "metadata": {
      "needs_background": "light"
     },
     "output_type": "display_data"
    }
   ],
   "source": [
    "plt.figure(figsize=(10,7))\n",
    "plt.plot(data['date'],\n",
    "        (data['revenueCummulativeB'] / data['ordersCummulativeB'])\n",
    "        / (data['revenueCummulativeA'] / data['ordersCummulativeA']) - 1)\n",
    "plt.title('График относительно различия кумулятивного среднего чека группы B к группе A.')\n",
    "plt.axhline(y=0, color='black', linestyle='--')\n",
    "plt.grid()\n",
    "plt.show()"
   ]
  },
  {
   "cell_type": "markdown",
   "id": "78f9576a",
   "metadata": {},
   "source": [
    "График резко скачет, скорее всего в группу В попались крупные заказы"
   ]
  },
  {
   "cell_type": "markdown",
   "id": "9752f90e",
   "metadata": {},
   "source": [
    "### Куммулятивная конверсия"
   ]
  },
  {
   "cell_type": "code",
   "execution_count": 31,
   "id": "ff6eda1a",
   "metadata": {},
   "outputs": [
    {
     "data": {
      "image/png": "[encoded data removed]",
      "text/plain": [
       "<Figure size 720x504 with 1 Axes>"
      ]
     },
     "metadata": {
      "needs_background": "light"
     },
     "output_type": "display_data"
    }
   ],
   "source": [
    "plt.figure(figsize=(10,7))\n",
    "plt.plot(data['date'],\n",
    "        (data['ordersCummulativeA'] / data['visitorsCummulativeA']),\n",
    "         label='A')\n",
    "plt.plot(data['date'],\n",
    "        (data['ordersCummulativeB'] / data['visitorsCummulativeB']),\n",
    "         label='B')\n",
    "plt.title('Куммулятивная конверсия')\n",
    "plt.grid()\n",
    "plt.legend()\n",
    "plt.show()"
   ]
  },
  {
   "cell_type": "markdown",
   "id": "fc6a7ac4",
   "metadata": {},
   "source": [
    "Графики обоих груп сильно колебались одна после этого стабилизировались и конверсия у группы В выше."
   ]
  },
  {
   "cell_type": "code",
   "execution_count": 32,
   "id": "76eff2d8",
   "metadata": {},
   "outputs": [
    {
     "data": {
      "image/png": "[encoded data removed]",
      "text/plain": [
       "<Figure size 720x504 with 1 Axes>"
      ]
     },
     "metadata": {
      "needs_background": "light"
     },
     "output_type": "display_data"
    }
   ],
   "source": [
    "plt.figure(figsize=(10,7))\n",
    "plt.plot(data['date'],\n",
    "        (data['ordersCummulativeB'] / data['visitorsCummulativeB'])\n",
    "        / (data['ordersCummulativeA'] / data['visitorsCummulativeA']) - 1)\n",
    "plt.title('График относительно различия кумулятивной конверсии группы B к группе A.')\n",
    "plt.axhline(y=0, color='black', linestyle='--')\n",
    "plt.grid()\n",
    "plt.show()"
   ]
  },
  {
   "cell_type": "markdown",
   "id": "16448bcc",
   "metadata": {},
   "source": [
    "Конверсия группы В начиня с 6 августа стабильно больше конверсии группы А"
   ]
  },
  {
   "cell_type": "markdown",
   "id": "cb777a76",
   "metadata": {},
   "source": [
    "### Количество заказов"
   ]
  },
  {
   "cell_type": "code",
   "execution_count": 33,
   "id": "2f07ae84",
   "metadata": {},
   "outputs": [],
   "source": [
    "ordersByUsers = (\n",
    "    orders.drop(['group','revenue','date'], axis=1)\n",
    "    .groupby('visitorId', as_index=False)\n",
    "    .agg({'transactionId': pd.Series.nunique})\n",
    ")\n",
    "ordersByUsers.columns = ['visitorId','orders']"
   ]
  },
  {
   "cell_type": "code",
   "execution_count": 34,
   "id": "249f54a1",
   "metadata": {},
   "outputs": [
    {
     "data": {
      "image/png": "[encoded data removed]",
      "text/plain": [
       "<Figure size 576x432 with 1 Axes>"
      ]
     },
     "metadata": {
      "needs_background": "light"
     },
     "output_type": "display_data"
    }
   ],
   "source": [
    "x_values = pd.Series(range(0,len(ordersByUsers)))\n",
    "\n",
    "plt.figure(figsize=(8,6))\n",
    "plt.scatter(x_values, ordersByUsers['orders'])\n",
    "plt.title('Колчество заказов на пользователя')\n",
    "plt.show()"
   ]
  },
  {
   "cell_type": "code",
   "execution_count": 35,
   "id": "f1c8c771",
   "metadata": {},
   "outputs": [
    {
     "data": {
      "text/plain": [
       "array([1., 2.])"
      ]
     },
     "execution_count": 35,
     "metadata": {},
     "output_type": "execute_result"
    }
   ],
   "source": [
    "np.percentile(ordersByUsers['orders'], [95,99])"
   ]
  },
  {
   "cell_type": "code",
   "execution_count": 36,
   "id": "f1f68dcb",
   "metadata": {},
   "outputs": [
    {
     "data": {
      "text/plain": [
       "array([1., 2.])"
      ]
     },
     "execution_count": 36,
     "metadata": {},
     "output_type": "execute_result"
    }
   ],
   "source": [
    "np.percentile(ordersByUsers['orders'], [96,97])"
   ]
  },
  {
   "cell_type": "markdown",
   "id": "147a401a",
   "metadata": {},
   "source": [
    "Не более 4 процентов пользователей оформляли более 1 заказа. Следовательно пользователей с количеством заказов больше 1 бумем считать выбросом."
   ]
  },
  {
   "cell_type": "markdown",
   "id": "ec08e83b",
   "metadata": {},
   "source": [
    "### Выручка"
   ]
  },
  {
   "cell_type": "code",
   "execution_count": 37,
   "id": "4452b4c7",
   "metadata": {},
   "outputs": [
    {
     "data": {
      "image/png": "[encoded data removed]",
      "text/plain": [
       "<Figure size 576x432 with 1 Axes>"
      ]
     },
     "metadata": {
      "needs_background": "light"
     },
     "output_type": "display_data"
    }
   ],
   "source": [
    "x_values_2 = pd.Series(range(0, len(orders['revenue'])))\n",
    "\n",
    "plt.figure(figsize=(8,6))\n",
    "plt.scatter(x_values_2, orders['revenue'])\n",
    "plt.title('Стоимость заказа')\n",
    "plt.show()"
   ]
  },
  {
   "cell_type": "code",
   "execution_count": 38,
   "id": "90b12d73",
   "metadata": {},
   "outputs": [
    {
     "data": {
      "text/plain": [
       "array([26785., 53904.])"
      ]
     },
     "execution_count": 38,
     "metadata": {},
     "output_type": "execute_result"
    }
   ],
   "source": [
    "np.percentile(orders['revenue'],[95,99])"
   ]
  },
  {
   "cell_type": "markdown",
   "id": "d1426356",
   "metadata": {},
   "source": [
    "Не более 5 процентов заказов превышают стоимость в 26785. Заказы стоимостью выше мы будем считать выбросами."
   ]
  },
  {
   "cell_type": "markdown",
   "id": "590b0d83",
   "metadata": {},
   "source": [
    "### Статистическая значимость "
   ]
  },
  {
   "cell_type": "markdown",
   "id": "db2a2345",
   "metadata": {},
   "source": [
    "<a id='s1'> </a>"
   ]
  },
  {
   "cell_type": "markdown",
   "id": "4c67048e",
   "metadata": {},
   "source": [
    "Сформулируем гипотезы для конверсии и среднего чека"
   ]
  },
  {
   "cell_type": "markdown",
   "id": "31890ffb",
   "metadata": {},
   "source": [
    "Конверсия: Но - статистически значимых различий в конверсии между группами нет. Н1-  статистически значимые различия в конверсии между группами есть."
   ]
  },
  {
   "cell_type": "markdown",
   "id": "bf5d6349",
   "metadata": {},
   "source": [
    "Средний чек: Но - статистически значимых различий в среднем чеке между группами нет. Н1-  статистически значимые различия в среднем чеке между группами есть."
   ]
  },
  {
   "cell_type": "markdown",
   "id": "3a68cb5a",
   "metadata": {},
   "source": [
    "Проверим эти гипотезы сначала на \"сырых\" данных."
   ]
  },
  {
   "cell_type": "markdown",
   "id": "58985a28",
   "metadata": {},
   "source": [
    "#### Сырые данные"
   ]
  },
  {
   "cell_type": "code",
   "execution_count": 39,
   "id": "ea714163",
   "metadata": {},
   "outputs": [],
   "source": [
    "ordersByUsersA = (\n",
    "    orders[orders['group'] == 'A']\n",
    "    .groupby('visitorId', as_index=False)\n",
    "    .agg({'transactionId': pd.Series.nunique})\n",
    ")\n",
    "ordersByUsersA.columns = ['visitorId','orders']\n",
    "\n",
    "ordersByUsersB = (\n",
    "    orders[orders['group'] == 'B']\n",
    "    .groupby('visitorId', as_index=False)\n",
    "    .agg({'transactionId': pd.Series.nunique})\n",
    ")\n",
    "ordersByUsersB.columns = ['visitorId','orders']"
   ]
  },
  {
   "cell_type": "code",
   "execution_count": 40,
   "id": "9f7361d3",
   "metadata": {},
   "outputs": [],
   "source": [
    "sampleA = pd.concat(\n",
    "    [ordersByUsersA['orders'],\n",
    "     pd.Series(0,\n",
    "               index=np.arange(data['visitorsPerDateA'].sum()\n",
    "               - len(ordersByUsersA['orders'])), name='orders')],\n",
    "    axis=0)\n",
    "\n",
    "sampleB = pd.concat(\n",
    "    [ordersByUsersB['orders'],\n",
    "    pd.Series(0,\n",
    "             index=np.arange(data['visitorsPerDateB'].sum()\n",
    "             - len(ordersByUsersB['orders'])), name='orders')],\n",
    "    axis=0)"
   ]
  },
  {
   "cell_type": "code",
   "execution_count": 41,
   "id": "d3fc0487",
   "metadata": {},
   "outputs": [
    {
     "data": {
      "text/plain": [
       "0        1\n",
       "1        1\n",
       "2        1\n",
       "3        1\n",
       "4        1\n",
       "        ..\n",
       "18286    0\n",
       "18287    0\n",
       "18288    0\n",
       "18289    0\n",
       "18290    0\n",
       "Name: orders, Length: 18736, dtype: int64"
      ]
     },
     "execution_count": 41,
     "metadata": {},
     "output_type": "execute_result"
    }
   ],
   "source": [
    "sampleA"
   ]
  },
  {
   "cell_type": "code",
   "execution_count": 42,
   "id": "981ed62c",
   "metadata": {},
   "outputs": [
    {
     "data": {
      "text/plain": [
       "1016"
      ]
     },
     "execution_count": 42,
     "metadata": {},
     "output_type": "execute_result"
    }
   ],
   "source": [
    "sampleA.sum() + sampleB.sum()"
   ]
  },
  {
   "cell_type": "code",
   "execution_count": 43,
   "id": "f65665be",
   "metadata": {},
   "outputs": [
    {
     "data": {
      "text/plain": [
       "1016"
      ]
     },
     "execution_count": 43,
     "metadata": {},
     "output_type": "execute_result"
    }
   ],
   "source": [
    "len(orders)"
   ]
  },
  {
   "cell_type": "code",
   "execution_count": 44,
   "id": "efc07ec0",
   "metadata": {},
   "outputs": [
    {
     "name": "stdout",
     "output_type": "stream",
     "text": [
      "p-value:0.0055\n",
      "Относительный прирост конверсии группы В: 15.98%\n"
     ]
    }
   ],
   "source": [
    "print('p-value:{0:.4f}'.format(stats.mannwhitneyu(sampleA, sampleB)[1]))\n",
    "print('Относительный прирост конверсии группы В: {0:.2%}'\n",
    "     .format(sampleB.mean() / sampleA.mean() -1))"
   ]
  },
  {
   "cell_type": "markdown",
   "id": "5c37ba41",
   "metadata": {},
   "source": [
    "P-value меньше 0.05 значит гипотезу о том что статистически значимых различий в конверсии между группами нет, отвергаем. "
   ]
  },
  {
   "cell_type": "markdown",
   "id": "274fb834",
   "metadata": {},
   "source": [
    "Так же относительный прирост конверсии группы В относительно группы А составил 15.98%. "
   ]
  },
  {
   "cell_type": "code",
   "execution_count": 45,
   "id": "5ef45bc0",
   "metadata": {},
   "outputs": [
    {
     "name": "stdout",
     "output_type": "stream",
     "text": [
      "P-value:0.4147\n",
      "Относительное различие среднего чека между группами: 28.66%\n"
     ]
    }
   ],
   "source": [
    "print('P-value:{0:.4f}'\n",
    "      .format(stats.mannwhitneyu(\n",
    "          orders[orders['group'] == 'A']['revenue'],\n",
    "          orders[orders['group'] == 'B']['revenue'])\n",
    "      [1])\n",
    ")\n",
    "print('Относительное различие среднего чека между группами: {0:.2%}'\n",
    "     .format(\n",
    "         orders[orders['group'] == 'B']['revenue'].mean()\n",
    "         / orders[orders['group'] == 'A']['revenue'].mean() \n",
    "         - 1))     "
   ]
  },
  {
   "cell_type": "markdown",
   "id": "beb1652f",
   "metadata": {},
   "source": [
    "P-value больше 0.05 значит нулевую гипотезу о том что статистически значимых различий в среднем чеке между группами нет, не отвергаем."
   ]
  },
  {
   "cell_type": "markdown",
   "id": "81b1b18e",
   "metadata": {},
   "source": [
    "При этом средний чек группы В на 28.66% выше чем у группы А."
   ]
  },
  {
   "cell_type": "markdown",
   "id": "aaba4c3d",
   "metadata": {},
   "source": [
    "#### Очищенные данные"
   ]
  },
  {
   "cell_type": "code",
   "execution_count": 46,
   "id": "f6654d93",
   "metadata": {},
   "outputs": [],
   "source": [
    "usersWithManyOrders = pd.concat(\n",
    "    [\n",
    "        ordersByUsersA[ordersByUsersA['orders'] > 1]['visitorId'],\n",
    "        ordersByUsersB[ordersByUsersB['orders'] > 1]['visitorId']\n",
    "    ],\n",
    "    axis=0,\n",
    ")\n",
    "\n",
    "usersWithExpensiveOrders = orders[orders['revenue'] > 26785]['visitorId']\n"
   ]
  },
  {
   "cell_type": "code",
   "execution_count": 47,
   "id": "0c9da8bd",
   "metadata": {},
   "outputs": [],
   "source": [
    "abnormalUsers = (\n",
    "    pd.concat(\n",
    "        [usersWithManyOrders, usersWithExpensiveOrders], axis=0)\n",
    "    .drop_duplicates()\n",
    "    .sort_values()\n",
    ")"
   ]
  },
  {
   "cell_type": "code",
   "execution_count": 48,
   "id": "90991fde",
   "metadata": {},
   "outputs": [
    {
     "data": {
      "text/plain": [
       "(86,)"
      ]
     },
     "execution_count": 48,
     "metadata": {},
     "output_type": "execute_result"
    }
   ],
   "source": [
    "abnormalUsers.shape"
   ]
  },
  {
   "cell_type": "markdown",
   "id": "b8dbf82e",
   "metadata": {},
   "source": [
    "86 аномальных пользователей"
   ]
  },
  {
   "cell_type": "code",
   "execution_count": 49,
   "id": "90b5784c",
   "metadata": {},
   "outputs": [],
   "source": [
    "sampleAFiltered = pd.concat(\n",
    "    [\n",
    "        ordersByUsersA[\n",
    "            np.logical_not(ordersByUsersA['visitorId'].isin(abnormalUsers))\n",
    "        ]['orders'],\n",
    "        pd.Series(\n",
    "            0,\n",
    "            index=np.arange(\n",
    "                data['visitorsPerDateA'].sum() - len(ordersByUsersA['orders'])\n",
    "            ),\n",
    "            name='orders',\n",
    "        ),\n",
    "    ],\n",
    "    axis=0\n",
    ")\n",
    "\n",
    "sampleBFiltered =  pd.concat(\n",
    "    [\n",
    "        ordersByUsersB[\n",
    "            np.logical_not(ordersByUsersB['visitorId'].isin(abnormalUsers))\n",
    "        ]['orders'],\n",
    "        pd.Series(\n",
    "            0,\n",
    "            index=np.arange(\n",
    "                data['visitorsPerDateB'].sum() - len(ordersByUsersB['orders'])\n",
    "            ),\n",
    "            name='orders',\n",
    "        ),\n",
    "    ],\n",
    "    axis=0\n",
    ")\n"
   ]
  },
  {
   "cell_type": "code",
   "execution_count": 50,
   "id": "a4c156b4",
   "metadata": {},
   "outputs": [
    {
     "name": "stdout",
     "output_type": "stream",
     "text": [
      "P-value: 0.0080\n",
      "Относительный прирост конверсии группы В: 17.39%\n"
     ]
    }
   ],
   "source": [
    "print('P-value: {0:.4f}'\n",
    "     .format(stats.mannwhitneyu(\n",
    "         sampleAFiltered, sampleBFiltered)[1]))\n",
    "print('Относительный прирост конверсии группы В: {0:.2%}'\n",
    "     .format(\n",
    "         sampleBFiltered.mean() / sampleAFiltered.mean() - 1))"
   ]
  },
  {
   "cell_type": "markdown",
   "id": "2729ad87",
   "metadata": {},
   "source": [
    "P-value меньше 0.05 значит гипотезу о том что статистически значимых различий в конверсии между группа нет, отвергаем.\n"
   ]
  },
  {
   "cell_type": "markdown",
   "id": "30c20545",
   "metadata": {},
   "source": [
    "Так же относительный прирост конверсии группы В относительно группы А составил 17.39%, что больше чем в сырых данных."
   ]
  },
  {
   "cell_type": "code",
   "execution_count": 51,
   "id": "b19074ea",
   "metadata": {},
   "outputs": [
    {
     "name": "stdout",
     "output_type": "stream",
     "text": [
      "P-value: 0.3636\n",
      "Относительное различие среднего чека между группами: -3.37%\n"
     ]
    }
   ],
   "source": [
    "print('P-value: {0:.4f}'\n",
    "      .format(stats.mannwhitneyu(\n",
    "            orders[\n",
    "                np.logical_and(\n",
    "                    orders['group'] == 'A',\n",
    "                    np.logical_not(orders['visitorId'].isin(abnormalUsers)),\n",
    "                )\n",
    "            ]['revenue'],\n",
    "            orders[\n",
    "                np.logical_and(\n",
    "                    orders['group'] == 'B',\n",
    "                    np.logical_not(orders['visitorId'].isin(abnormalUsers)),\n",
    "                )\n",
    "            ]['revenue'],\n",
    "        )[1]\n",
    "    )\n",
    ")\n",
    "\n",
    "print('Относительное различие среднего чека между группами: {0:.2%}'\n",
    "      .format(\n",
    "        orders[\n",
    "            np.logical_and(\n",
    "                orders['group'] == 'B',\n",
    "                np.logical_not(orders['visitorId'].isin(abnormalUsers)),\n",
    "            )\n",
    "        ]['revenue'].mean()\n",
    "        / orders[\n",
    "            np.logical_and(\n",
    "                orders['group'] == 'A',\n",
    "                np.logical_not(orders['visitorId'].isin(abnormalUsers)),\n",
    "            )\n",
    "        ]['revenue'].mean()\n",
    "        - 1\n",
    "    )\n",
    ") \n"
   ]
  },
  {
   "cell_type": "markdown",
   "id": "76f78ce8",
   "metadata": {},
   "source": [
    "P-value больше 0.05 значит нулевую гипотезу о том что статистически значимых различий в среднем чеке между группами нет, не отвергаем."
   ]
  },
  {
   "cell_type": "markdown",
   "id": "a91ef546",
   "metadata": {},
   "source": [
    "При этом средний чек в группе В ниже на 3.37% чем в группе А, что сильно отличается от сырых данных."
   ]
  },
  {
   "cell_type": "markdown",
   "id": "0ba3c231",
   "metadata": {},
   "source": [
    "## Вывод"
   ]
  },
  {
   "cell_type": "markdown",
   "id": "55167c39",
   "metadata": {},
   "source": [
    "Есть статистически значимые различия между конверсией групп А и В, как в \"сырых\" данных так и после фильтрации аномалий. В фильтрованных данных относительный прирост конверсии составляет 17.39%."
   ]
  },
  {
   "cell_type": "markdown",
   "id": "ba39478d",
   "metadata": {},
   "source": [
    "Однако мы необнаружили статистически значимого различия по среднему чеку между группами ни по \"сырым\", ни по данным после фильтрации аномалий. Однако данные по относительному различию сильно разняться."
   ]
  },
  {
   "cell_type": "markdown",
   "id": "b2d5d595",
   "metadata": {},
   "source": [
    "График различия конверсии между группами говорит о том что группа В стабильно лучше группы А."
   ]
  },
  {
   "cell_type": "markdown",
   "id": "b312fc43",
   "metadata": {},
   "source": [
    "А график относительного различия среднего чека говорит о том что есть тенденция к снижению."
   ]
  },
  {
   "cell_type": "markdown",
   "id": "72842451",
   "metadata": {},
   "source": [
    "Я считаю что целесообразным будет продолжить тест чтобы оценить данные по среднему чеку."
   ]
  }
 ],
 "metadata": {
  "ExecuteTimeLog": [
   {
    "duration": 1003,
    "start_time": "2021-10-18T07:07:41.982Z"
   },
   {
    "duration": 345,
    "start_time": "2021-10-18T07:07:42.986Z"
   },
   {
    "duration": 11,
    "start_time": "2021-10-18T07:07:43.333Z"
   },
   {
    "duration": 8,
    "start_time": "2021-10-18T07:07:43.346Z"
   },
   {
    "duration": 14,
    "start_time": "2021-10-18T07:07:43.356Z"
   },
   {
    "duration": 17,
    "start_time": "2021-10-18T07:07:43.372Z"
   },
   {
    "duration": 17,
    "start_time": "2021-10-18T07:07:43.391Z"
   },
   {
    "duration": 5,
    "start_time": "2021-10-18T07:07:43.410Z"
   },
   {
    "duration": 6,
    "start_time": "2021-10-18T07:07:43.417Z"
   },
   {
    "duration": 15,
    "start_time": "2021-10-18T07:07:43.425Z"
   },
   {
    "duration": 17,
    "start_time": "2021-10-18T07:07:43.442Z"
   },
   {
    "duration": 21,
    "start_time": "2021-10-18T07:07:43.461Z"
   },
   {
    "duration": 12,
    "start_time": "2021-10-18T07:07:43.484Z"
   },
   {
    "duration": 30,
    "start_time": "2021-10-18T07:07:43.498Z"
   },
   {
    "duration": 27,
    "start_time": "2021-10-18T07:07:43.529Z"
   },
   {
    "duration": 25,
    "start_time": "2021-10-18T07:07:43.558Z"
   },
   {
    "duration": 13,
    "start_time": "2021-10-18T07:07:43.585Z"
   },
   {
    "duration": 23,
    "start_time": "2021-10-18T07:07:43.600Z"
   },
   {
    "duration": 15,
    "start_time": "2021-10-18T07:07:43.625Z"
   },
   {
    "duration": 9,
    "start_time": "2021-10-18T07:07:43.642Z"
   },
   {
    "duration": 29,
    "start_time": "2021-10-18T07:07:43.653Z"
   },
   {
    "duration": 19,
    "start_time": "2021-10-18T07:07:43.683Z"
   },
   {
    "duration": 130,
    "start_time": "2021-10-18T07:07:43.706Z"
   },
   {
    "duration": 28,
    "start_time": "2021-10-18T07:07:43.838Z"
   },
   {
    "duration": 125,
    "start_time": "2021-10-18T07:07:43.868Z"
   },
   {
    "duration": 34,
    "start_time": "2021-10-18T07:07:43.995Z"
   },
   {
    "duration": 22,
    "start_time": "2021-10-18T07:07:44.031Z"
   },
   {
    "duration": 274,
    "start_time": "2021-10-18T07:07:44.054Z"
   },
   {
    "duration": 245,
    "start_time": "2021-10-18T07:07:44.330Z"
   },
   {
    "duration": 313,
    "start_time": "2021-10-18T07:07:44.577Z"
   },
   {
    "duration": 244,
    "start_time": "2021-10-18T07:07:44.892Z"
   },
   {
    "duration": 353,
    "start_time": "2021-10-18T07:07:45.138Z"
   },
   {
    "duration": 105,
    "start_time": "2021-10-18T07:07:45.492Z"
   },
   {
    "duration": 264,
    "start_time": "2021-10-18T07:07:45.599Z"
   },
   {
    "duration": 5,
    "start_time": "2021-10-18T07:07:45.864Z"
   },
   {
    "duration": 7,
    "start_time": "2021-10-18T07:07:45.870Z"
   },
   {
    "duration": 253,
    "start_time": "2021-10-18T07:07:45.879Z"
   },
   {
    "duration": 12,
    "start_time": "2021-10-18T07:07:46.134Z"
   },
   {
    "duration": 115,
    "start_time": "2021-10-18T07:07:46.148Z"
   },
   {
    "duration": 6,
    "start_time": "2021-10-18T07:07:46.265Z"
   },
   {
    "duration": 13,
    "start_time": "2021-10-18T07:07:46.272Z"
   },
   {
    "duration": 17,
    "start_time": "2021-10-18T07:07:46.286Z"
   },
   {
    "duration": 10,
    "start_time": "2021-10-18T07:07:46.305Z"
   },
   {
    "duration": 9,
    "start_time": "2021-10-18T07:07:46.317Z"
   },
   {
    "duration": 6,
    "start_time": "2021-10-18T07:07:46.327Z"
   },
   {
    "duration": 5,
    "start_time": "2021-10-18T07:07:46.344Z"
   },
   {
    "duration": 9,
    "start_time": "2021-10-18T07:07:46.350Z"
   },
   {
    "duration": 8,
    "start_time": "2021-10-18T07:07:46.360Z"
   },
   {
    "duration": 19,
    "start_time": "2021-10-18T07:07:46.370Z"
   },
   {
    "duration": 20,
    "start_time": "2021-10-18T07:07:46.391Z"
   },
   {
    "duration": 1044,
    "start_time": "2021-10-18T19:54:33.299Z"
   },
   {
    "duration": 320,
    "start_time": "2021-10-18T19:54:34.344Z"
   },
   {
    "duration": 10,
    "start_time": "2021-10-18T19:54:34.666Z"
   },
   {
    "duration": 7,
    "start_time": "2021-10-18T19:54:34.678Z"
   },
   {
    "duration": 9,
    "start_time": "2021-10-18T19:54:34.687Z"
   },
   {
    "duration": 8,
    "start_time": "2021-10-18T19:54:34.697Z"
   },
   {
    "duration": 8,
    "start_time": "2021-10-18T19:54:34.706Z"
   },
   {
    "duration": 4,
    "start_time": "2021-10-18T19:54:34.716Z"
   },
   {
    "duration": 5,
    "start_time": "2021-10-18T19:54:34.721Z"
   },
   {
    "duration": 10,
    "start_time": "2021-10-18T19:54:34.728Z"
   },
   {
    "duration": 5,
    "start_time": "2021-10-18T19:54:34.739Z"
   },
   {
    "duration": 7,
    "start_time": "2021-10-18T19:54:34.746Z"
   },
   {
    "duration": 43,
    "start_time": "2021-10-18T19:54:34.755Z"
   },
   {
    "duration": 20,
    "start_time": "2021-10-18T19:54:34.799Z"
   },
   {
    "duration": 6,
    "start_time": "2021-10-18T19:54:34.821Z"
   },
   {
    "duration": 8,
    "start_time": "2021-10-18T19:54:34.829Z"
   },
   {
    "duration": 6,
    "start_time": "2021-10-18T19:54:34.838Z"
   },
   {
    "duration": 9,
    "start_time": "2021-10-18T19:54:34.846Z"
   },
   {
    "duration": 8,
    "start_time": "2021-10-18T19:54:34.856Z"
   },
   {
    "duration": 10,
    "start_time": "2021-10-18T19:54:34.865Z"
   },
   {
    "duration": 9,
    "start_time": "2021-10-18T19:54:34.891Z"
   },
   {
    "duration": 8,
    "start_time": "2021-10-18T19:54:34.902Z"
   },
   {
    "duration": 120,
    "start_time": "2021-10-18T19:54:34.913Z"
   },
   {
    "duration": 28,
    "start_time": "2021-10-18T19:54:35.037Z"
   },
   {
    "duration": 165,
    "start_time": "2021-10-18T19:54:35.067Z"
   },
   {
    "duration": 23,
    "start_time": "2021-10-18T19:54:35.234Z"
   },
   {
    "duration": 12,
    "start_time": "2021-10-18T19:54:35.259Z"
   },
   {
    "duration": 293,
    "start_time": "2021-10-18T19:54:35.273Z"
   },
   {
    "duration": 266,
    "start_time": "2021-10-18T19:54:35.567Z"
   },
   {
    "duration": 343,
    "start_time": "2021-10-18T19:54:35.834Z"
   },
   {
    "duration": 264,
    "start_time": "2021-10-18T19:54:36.179Z"
   },
   {
    "duration": 341,
    "start_time": "2021-10-18T19:54:36.444Z"
   },
   {
    "duration": 115,
    "start_time": "2021-10-18T19:54:36.787Z"
   },
   {
    "duration": 295,
    "start_time": "2021-10-18T19:54:36.903Z"
   },
   {
    "duration": 4,
    "start_time": "2021-10-18T19:54:37.200Z"
   },
   {
    "duration": 6,
    "start_time": "2021-10-18T19:54:37.206Z"
   },
   {
    "duration": 285,
    "start_time": "2021-10-18T19:54:37.214Z"
   },
   {
    "duration": 5,
    "start_time": "2021-10-18T19:54:37.500Z"
   },
   {
    "duration": 115,
    "start_time": "2021-10-18T19:54:37.506Z"
   },
   {
    "duration": 6,
    "start_time": "2021-10-18T19:54:37.622Z"
   },
   {
    "duration": 14,
    "start_time": "2021-10-18T19:54:37.630Z"
   },
   {
    "duration": 15,
    "start_time": "2021-10-18T19:54:37.646Z"
   },
   {
    "duration": 16,
    "start_time": "2021-10-18T19:54:37.662Z"
   },
   {
    "duration": 16,
    "start_time": "2021-10-18T19:54:37.679Z"
   },
   {
    "duration": 5,
    "start_time": "2021-10-18T19:54:37.697Z"
   },
   {
    "duration": 10,
    "start_time": "2021-10-18T19:54:37.703Z"
   },
   {
    "duration": 5,
    "start_time": "2021-10-18T19:54:37.714Z"
   },
   {
    "duration": 9,
    "start_time": "2021-10-18T19:54:37.721Z"
   },
   {
    "duration": 11,
    "start_time": "2021-10-18T19:54:37.731Z"
   },
   {
    "duration": 14,
    "start_time": "2021-10-18T19:54:37.743Z"
   },
   {
    "duration": 9,
    "start_time": "2021-10-18T19:54:51.709Z"
   },
   {
    "duration": 10,
    "start_time": "2021-10-18T19:54:56.935Z"
   },
   {
    "duration": 12,
    "start_time": "2021-10-18T19:54:59.621Z"
   },
   {
    "duration": 289,
    "start_time": "2021-10-18T21:04:37.122Z"
   },
   {
    "duration": 389,
    "start_time": "2021-10-18T21:05:03.009Z"
   },
   {
    "duration": 341,
    "start_time": "2021-10-18T21:05:10.490Z"
   },
   {
    "duration": 328,
    "start_time": "2021-10-18T21:12:02.693Z"
   },
   {
    "duration": 1215,
    "start_time": "2021-10-19T04:45:40.100Z"
   },
   {
    "duration": 334,
    "start_time": "2021-10-19T04:45:41.317Z"
   },
   {
    "duration": 12,
    "start_time": "2021-10-19T04:45:41.653Z"
   },
   {
    "duration": 10,
    "start_time": "2021-10-19T04:45:41.667Z"
   },
   {
    "duration": 20,
    "start_time": "2021-10-19T04:45:41.679Z"
   },
   {
    "duration": 21,
    "start_time": "2021-10-19T04:45:41.701Z"
   },
   {
    "duration": 13,
    "start_time": "2021-10-19T04:45:41.724Z"
   },
   {
    "duration": 6,
    "start_time": "2021-10-19T04:45:41.739Z"
   },
   {
    "duration": 14,
    "start_time": "2021-10-19T04:45:41.747Z"
   },
   {
    "duration": 14,
    "start_time": "2021-10-19T04:45:41.762Z"
   },
   {
    "duration": 15,
    "start_time": "2021-10-19T04:45:41.777Z"
   },
   {
    "duration": 16,
    "start_time": "2021-10-19T04:45:41.794Z"
   },
   {
    "duration": 17,
    "start_time": "2021-10-19T04:45:41.812Z"
   },
   {
    "duration": 18,
    "start_time": "2021-10-19T04:45:41.831Z"
   },
   {
    "duration": 19,
    "start_time": "2021-10-19T04:45:41.851Z"
   },
   {
    "duration": 10,
    "start_time": "2021-10-19T04:45:41.872Z"
   },
   {
    "duration": 10,
    "start_time": "2021-10-19T04:45:41.884Z"
   },
   {
    "duration": 14,
    "start_time": "2021-10-19T04:45:41.896Z"
   },
   {
    "duration": 10,
    "start_time": "2021-10-19T04:45:41.911Z"
   },
   {
    "duration": 16,
    "start_time": "2021-10-19T04:45:41.923Z"
   },
   {
    "duration": 18,
    "start_time": "2021-10-19T04:45:41.940Z"
   },
   {
    "duration": 11,
    "start_time": "2021-10-19T04:45:41.960Z"
   },
   {
    "duration": 96,
    "start_time": "2021-10-19T04:45:41.975Z"
   },
   {
    "duration": 17,
    "start_time": "2021-10-19T04:45:42.073Z"
   },
   {
    "duration": 112,
    "start_time": "2021-10-19T04:45:42.093Z"
   },
   {
    "duration": 24,
    "start_time": "2021-10-19T04:45:42.207Z"
   },
   {
    "duration": 10,
    "start_time": "2021-10-19T04:45:42.232Z"
   },
   {
    "duration": 299,
    "start_time": "2021-10-19T04:45:42.264Z"
   },
   {
    "duration": 301,
    "start_time": "2021-10-19T04:45:42.565Z"
   },
   {
    "duration": 304,
    "start_time": "2021-10-19T04:45:42.868Z"
   },
   {
    "duration": 314,
    "start_time": "2021-10-19T04:45:43.174Z"
   },
   {
    "duration": 345,
    "start_time": "2021-10-19T04:45:43.490Z"
   },
   {
    "duration": 59,
    "start_time": "2021-10-19T04:45:43.837Z"
   },
   {
    "duration": 237,
    "start_time": "2021-10-19T04:45:43.897Z"
   },
   {
    "duration": 5,
    "start_time": "2021-10-19T04:45:44.135Z"
   },
   {
    "duration": 5,
    "start_time": "2021-10-19T04:45:44.142Z"
   },
   {
    "duration": 339,
    "start_time": "2021-10-19T04:45:44.164Z"
   },
   {
    "duration": 4,
    "start_time": "2021-10-19T04:45:44.505Z"
   },
   {
    "duration": 62,
    "start_time": "2021-10-19T04:45:44.511Z"
   },
   {
    "duration": 6,
    "start_time": "2021-10-19T04:45:44.575Z"
   },
   {
    "duration": 6,
    "start_time": "2021-10-19T04:45:44.583Z"
   },
   {
    "duration": 5,
    "start_time": "2021-10-19T04:45:44.591Z"
   },
   {
    "duration": 11,
    "start_time": "2021-10-19T04:45:44.598Z"
   },
   {
    "duration": 9,
    "start_time": "2021-10-19T04:45:44.611Z"
   },
   {
    "duration": 6,
    "start_time": "2021-10-19T04:45:44.622Z"
   },
   {
    "duration": 35,
    "start_time": "2021-10-19T04:45:44.630Z"
   },
   {
    "duration": 9,
    "start_time": "2021-10-19T04:45:44.667Z"
   },
   {
    "duration": 10,
    "start_time": "2021-10-19T04:45:44.677Z"
   },
   {
    "duration": 13,
    "start_time": "2021-10-19T04:45:44.689Z"
   },
   {
    "duration": 13,
    "start_time": "2021-10-19T04:45:44.704Z"
   },
   {
    "duration": 15,
    "start_time": "2021-10-19T04:50:01.991Z"
   },
   {
    "duration": 12,
    "start_time": "2021-10-19T04:50:21.783Z"
   },
   {
    "duration": 15,
    "start_time": "2021-10-19T04:51:14.478Z"
   },
   {
    "duration": 15,
    "start_time": "2021-10-19T04:51:59.696Z"
   },
   {
    "duration": 16,
    "start_time": "2021-10-19T04:52:16.779Z"
   },
   {
    "duration": 15,
    "start_time": "2021-10-19T04:53:37.059Z"
   },
   {
    "duration": 3640,
    "start_time": "2021-10-19T04:56:48.876Z"
   },
   {
    "duration": 3427,
    "start_time": "2021-10-19T04:57:40.138Z"
   },
   {
    "duration": 600,
    "start_time": "2021-10-19T04:57:50.272Z"
   },
   {
    "duration": 56,
    "start_time": "2021-10-19T05:00:12.789Z"
   },
   {
    "duration": 278,
    "start_time": "2021-10-19T05:00:15.394Z"
   },
   {
    "duration": 308,
    "start_time": "2021-10-19T05:00:24.034Z"
   },
   {
    "duration": 8,
    "start_time": "2021-10-19T05:01:06.094Z"
   },
   {
    "duration": 7,
    "start_time": "2021-10-19T05:01:19.212Z"
   },
   {
    "duration": 7,
    "start_time": "2021-10-19T05:01:25.480Z"
   },
   {
    "duration": 8,
    "start_time": "2021-10-19T05:01:28.402Z"
   },
   {
    "duration": 5,
    "start_time": "2021-10-19T05:01:56.765Z"
   },
   {
    "duration": 5,
    "start_time": "2021-10-19T05:02:09.448Z"
   },
   {
    "duration": 19,
    "start_time": "2021-10-19T05:02:23.664Z"
   },
   {
    "duration": 16,
    "start_time": "2021-10-19T05:05:09.242Z"
   },
   {
    "duration": 12,
    "start_time": "2021-10-19T05:05:37.401Z"
   },
   {
    "duration": 17,
    "start_time": "2021-10-19T05:06:43.163Z"
   },
   {
    "duration": 18,
    "start_time": "2021-10-19T05:07:17.080Z"
   },
   {
    "duration": 293,
    "start_time": "2021-10-19T05:07:39.349Z"
   },
   {
    "duration": 304,
    "start_time": "2021-10-19T05:07:52.418Z"
   },
   {
    "duration": 16,
    "start_time": "2021-10-19T05:10:38.780Z"
   },
   {
    "duration": 16,
    "start_time": "2021-10-19T05:10:56.988Z"
   },
   {
    "duration": 16,
    "start_time": "2021-10-19T05:11:01.661Z"
   },
   {
    "duration": 12,
    "start_time": "2021-10-19T05:11:08.868Z"
   },
   {
    "duration": 21,
    "start_time": "2021-10-19T05:11:19.356Z"
   },
   {
    "duration": 24,
    "start_time": "2021-10-19T05:11:39.100Z"
   },
   {
    "duration": 22,
    "start_time": "2021-10-19T05:13:54.276Z"
   },
   {
    "duration": 21,
    "start_time": "2021-10-19T05:13:58.155Z"
   },
   {
    "duration": 23,
    "start_time": "2021-10-19T05:14:01.639Z"
   },
   {
    "duration": 16,
    "start_time": "2021-10-19T05:14:05.387Z"
   },
   {
    "duration": 25,
    "start_time": "2021-10-19T05:14:15.597Z"
   },
   {
    "duration": 16,
    "start_time": "2021-10-19T05:15:02.445Z"
   },
   {
    "duration": 26,
    "start_time": "2021-10-19T05:15:27.160Z"
   },
   {
    "duration": 23,
    "start_time": "2021-10-19T05:15:41.138Z"
   },
   {
    "duration": 24,
    "start_time": "2021-10-19T05:15:53.334Z"
   },
   {
    "duration": 25,
    "start_time": "2021-10-19T05:16:19.861Z"
   },
   {
    "duration": 387,
    "start_time": "2021-10-19T05:19:19.471Z"
   },
   {
    "duration": 271,
    "start_time": "2021-10-19T05:19:30.804Z"
   },
   {
    "duration": 24,
    "start_time": "2021-10-19T05:19:34.858Z"
   },
   {
    "duration": 26,
    "start_time": "2021-10-19T05:19:52.080Z"
   },
   {
    "duration": 700,
    "start_time": "2021-10-19T05:19:59.565Z"
   },
   {
    "duration": 25,
    "start_time": "2021-10-19T05:20:10.480Z"
   },
   {
    "duration": 28,
    "start_time": "2021-10-19T05:20:34.839Z"
   },
   {
    "duration": 20,
    "start_time": "2021-10-19T05:20:40.669Z"
   },
   {
    "duration": 273,
    "start_time": "2021-10-19T05:21:01.511Z"
   },
   {
    "duration": 253,
    "start_time": "2021-10-19T05:22:03.312Z"
   },
   {
    "duration": 284,
    "start_time": "2021-10-19T05:22:09.243Z"
   },
   {
    "duration": 264,
    "start_time": "2021-10-19T05:22:12.167Z"
   },
   {
    "duration": 262,
    "start_time": "2021-10-19T05:22:28.023Z"
   },
   {
    "duration": 261,
    "start_time": "2021-10-19T05:22:39.574Z"
   },
   {
    "duration": 23,
    "start_time": "2021-10-19T05:22:44.398Z"
   },
   {
    "duration": 295,
    "start_time": "2021-10-19T05:22:52.780Z"
   },
   {
    "duration": 23,
    "start_time": "2021-10-19T05:23:02.044Z"
   },
   {
    "duration": 24,
    "start_time": "2021-10-19T05:23:54.615Z"
   },
   {
    "duration": 266,
    "start_time": "2021-10-19T05:23:59.073Z"
   },
   {
    "duration": 22,
    "start_time": "2021-10-19T05:24:03.502Z"
   },
   {
    "duration": 258,
    "start_time": "2021-10-19T05:24:18.421Z"
   },
   {
    "duration": 27,
    "start_time": "2021-10-19T05:24:27.097Z"
   },
   {
    "duration": 29,
    "start_time": "2021-10-19T05:24:39.158Z"
   },
   {
    "duration": 25,
    "start_time": "2021-10-19T05:24:56.774Z"
   },
   {
    "duration": 22,
    "start_time": "2021-10-19T05:26:30.068Z"
   },
   {
    "duration": 18,
    "start_time": "2021-10-19T05:26:43.921Z"
   },
   {
    "duration": 24,
    "start_time": "2021-10-19T05:27:21.864Z"
   },
   {
    "duration": 27,
    "start_time": "2021-10-19T05:27:33.568Z"
   },
   {
    "duration": 30,
    "start_time": "2021-10-19T05:28:14.875Z"
   },
   {
    "duration": 37,
    "start_time": "2021-10-19T05:28:27.335Z"
   },
   {
    "duration": 36,
    "start_time": "2021-10-19T05:29:04.987Z"
   },
   {
    "duration": 40,
    "start_time": "2021-10-19T05:30:06.502Z"
   },
   {
    "duration": 31,
    "start_time": "2021-10-19T05:30:38.822Z"
   },
   {
    "duration": 41,
    "start_time": "2021-10-19T05:30:44.393Z"
   },
   {
    "duration": 306,
    "start_time": "2021-10-19T05:31:34.522Z"
   },
   {
    "duration": 370,
    "start_time": "2021-10-19T05:31:49.506Z"
   },
   {
    "duration": 12,
    "start_time": "2021-10-19T05:36:30.956Z"
   },
   {
    "duration": 12,
    "start_time": "2021-10-19T05:37:32.156Z"
   },
   {
    "duration": 10,
    "start_time": "2021-10-19T05:37:45.749Z"
   },
   {
    "duration": 3,
    "start_time": "2021-10-19T05:38:22.448Z"
   },
   {
    "duration": 40,
    "start_time": "2021-10-19T05:38:40.911Z"
   },
   {
    "duration": 5,
    "start_time": "2021-10-19T05:39:11.484Z"
   },
   {
    "duration": 3,
    "start_time": "2021-10-19T05:39:20.803Z"
   },
   {
    "duration": 13,
    "start_time": "2021-10-19T05:40:00.828Z"
   },
   {
    "duration": 13,
    "start_time": "2021-10-19T05:40:09.089Z"
   },
   {
    "duration": 8,
    "start_time": "2021-10-19T05:40:29.111Z"
   },
   {
    "duration": 7,
    "start_time": "2021-10-19T05:40:42.234Z"
   },
   {
    "duration": 7,
    "start_time": "2021-10-19T05:40:49.735Z"
   },
   {
    "duration": 3,
    "start_time": "2021-10-19T05:41:11.509Z"
   },
   {
    "duration": 7,
    "start_time": "2021-10-19T05:41:28.405Z"
   },
   {
    "duration": 7,
    "start_time": "2021-10-19T05:41:36.430Z"
   },
   {
    "duration": 13,
    "start_time": "2021-10-19T05:42:05.048Z"
   },
   {
    "duration": 94,
    "start_time": "2021-10-19T05:42:16.755Z"
   },
   {
    "duration": 43,
    "start_time": "2021-10-19T05:42:31.332Z"
   },
   {
    "duration": 42,
    "start_time": "2021-10-19T05:42:54.563Z"
   },
   {
    "duration": 13,
    "start_time": "2021-10-19T05:44:51.829Z"
   },
   {
    "duration": 14,
    "start_time": "2021-10-19T05:45:20.389Z"
   },
   {
    "duration": 15,
    "start_time": "2021-10-19T05:45:43.889Z"
   },
   {
    "duration": 13,
    "start_time": "2021-10-19T05:45:56.442Z"
   },
   {
    "duration": 4057,
    "start_time": "2021-10-19T05:46:29.128Z"
   },
   {
    "duration": 16,
    "start_time": "2021-10-19T05:46:39.567Z"
   },
   {
    "duration": 12,
    "start_time": "2021-10-19T05:46:51.703Z"
   },
   {
    "duration": 11,
    "start_time": "2021-10-19T05:47:07.696Z"
   },
   {
    "duration": 13,
    "start_time": "2021-10-19T05:47:16.111Z"
   },
   {
    "duration": 12,
    "start_time": "2021-10-19T05:47:51.417Z"
   },
   {
    "duration": 10,
    "start_time": "2021-10-19T05:49:17.394Z"
   },
   {
    "duration": 16,
    "start_time": "2021-10-19T05:49:25.449Z"
   },
   {
    "duration": 16,
    "start_time": "2021-10-19T05:49:52.352Z"
   },
   {
    "duration": 16,
    "start_time": "2021-10-19T05:50:03.220Z"
   },
   {
    "duration": 20,
    "start_time": "2021-10-19T05:50:51.784Z"
   },
   {
    "duration": 20,
    "start_time": "2021-10-19T05:51:07.071Z"
   },
   {
    "duration": 24,
    "start_time": "2021-10-19T05:52:30.368Z"
   },
   {
    "duration": 15,
    "start_time": "2021-10-19T05:53:01.542Z"
   },
   {
    "duration": 3396,
    "start_time": "2021-10-19T05:53:22.880Z"
   },
   {
    "duration": 3270,
    "start_time": "2021-10-19T05:53:31.696Z"
   },
   {
    "duration": 293,
    "start_time": "2021-10-19T05:53:36.751Z"
   },
   {
    "duration": 3,
    "start_time": "2021-10-19T05:54:20.578Z"
   },
   {
    "duration": 85,
    "start_time": "2021-10-19T05:54:20.841Z"
   },
   {
    "duration": 12,
    "start_time": "2021-10-19T05:54:21.602Z"
   },
   {
    "duration": 17,
    "start_time": "2021-10-19T05:54:22.480Z"
   },
   {
    "duration": 284,
    "start_time": "2021-10-19T05:54:23.538Z"
   },
   {
    "duration": 3,
    "start_time": "2021-10-19T05:54:34.643Z"
   },
   {
    "duration": 156,
    "start_time": "2021-10-19T05:54:35.162Z"
   },
   {
    "duration": 14,
    "start_time": "2021-10-19T05:54:35.531Z"
   },
   {
    "duration": 16,
    "start_time": "2021-10-19T05:54:35.904Z"
   },
   {
    "duration": 226,
    "start_time": "2021-10-19T05:54:36.202Z"
   },
   {
    "duration": 27,
    "start_time": "2021-10-19T05:56:42.103Z"
   },
   {
    "duration": 225,
    "start_time": "2021-10-19T05:57:20.207Z"
   },
   {
    "duration": 14,
    "start_time": "2021-10-19T05:57:32.604Z"
   },
   {
    "duration": 291,
    "start_time": "2021-10-19T05:57:48.127Z"
   },
   {
    "duration": 17,
    "start_time": "2021-10-19T05:58:19.085Z"
   },
   {
    "duration": 268,
    "start_time": "2021-10-19T05:58:19.808Z"
   },
   {
    "duration": 2,
    "start_time": "2021-10-19T05:59:11.660Z"
   },
   {
    "duration": 3,
    "start_time": "2021-10-19T05:59:15.602Z"
   },
   {
    "duration": 262,
    "start_time": "2021-10-19T05:59:40.323Z"
   },
   {
    "duration": 12,
    "start_time": "2021-10-19T05:59:48.494Z"
   },
   {
    "duration": 28,
    "start_time": "2021-10-19T05:59:49.459Z"
   },
   {
    "duration": 89,
    "start_time": "2021-10-19T05:59:53.637Z"
   },
   {
    "duration": 4073,
    "start_time": "2021-10-19T05:59:58.431Z"
   },
   {
    "duration": 390,
    "start_time": "2021-10-19T06:00:22.608Z"
   },
   {
    "duration": 1361,
    "start_time": "2022-01-12T22:03:39.774Z"
   },
   {
    "duration": 305,
    "start_time": "2022-01-12T22:03:41.138Z"
   },
   {
    "duration": 17,
    "start_time": "2022-01-12T22:03:41.446Z"
   },
   {
    "duration": 10,
    "start_time": "2022-01-12T22:03:41.466Z"
   },
   {
    "duration": 12,
    "start_time": "2022-01-12T22:03:41.478Z"
   },
   {
    "duration": 9,
    "start_time": "2022-01-12T22:03:41.492Z"
   },
   {
    "duration": 59,
    "start_time": "2022-01-12T22:03:41.504Z"
   },
   {
    "duration": 5,
    "start_time": "2022-01-12T22:03:41.567Z"
   },
   {
    "duration": 6,
    "start_time": "2022-01-12T22:03:41.574Z"
   },
   {
    "duration": 12,
    "start_time": "2022-01-12T22:03:41.582Z"
   },
   {
    "duration": 8,
    "start_time": "2022-01-12T22:03:41.596Z"
   },
   {
    "duration": 62,
    "start_time": "2022-01-12T22:03:41.606Z"
   },
   {
    "duration": 18,
    "start_time": "2022-01-12T22:03:41.671Z"
   },
   {
    "duration": 12,
    "start_time": "2022-01-12T22:03:41.691Z"
   },
   {
    "duration": 11,
    "start_time": "2022-01-12T22:03:41.706Z"
   },
   {
    "duration": 47,
    "start_time": "2022-01-12T22:03:41.719Z"
   },
   {
    "duration": 6,
    "start_time": "2022-01-12T22:03:41.770Z"
   },
   {
    "duration": 15,
    "start_time": "2022-01-12T22:03:41.779Z"
   },
   {
    "duration": 9,
    "start_time": "2022-01-12T22:03:41.797Z"
   },
   {
    "duration": 56,
    "start_time": "2022-01-12T22:03:41.809Z"
   },
   {
    "duration": 18,
    "start_time": "2022-01-12T22:03:41.867Z"
   },
   {
    "duration": 11,
    "start_time": "2022-01-12T22:03:41.887Z"
   },
   {
    "duration": 210,
    "start_time": "2022-01-12T22:03:41.904Z"
   },
   {
    "duration": 56,
    "start_time": "2022-01-12T22:03:42.117Z"
   },
   {
    "duration": 234,
    "start_time": "2022-01-12T22:03:42.176Z"
   },
   {
    "duration": 75,
    "start_time": "2022-01-12T22:03:42.413Z"
   },
   {
    "duration": 26,
    "start_time": "2022-01-12T22:03:42.491Z"
   },
   {
    "duration": 686,
    "start_time": "2022-01-12T22:03:42.521Z"
   },
   {
    "duration": 635,
    "start_time": "2022-01-12T22:03:43.210Z"
   },
   {
    "duration": 668,
    "start_time": "2022-01-12T22:03:43.848Z"
   },
   {
    "duration": 618,
    "start_time": "2022-01-12T22:03:44.519Z"
   },
   {
    "duration": 503,
    "start_time": "2022-01-12T22:03:45.141Z"
   },
   {
    "duration": 218,
    "start_time": "2022-01-12T22:03:45.647Z"
   },
   {
    "duration": 449,
    "start_time": "2022-01-12T22:03:45.868Z"
   },
   {
    "duration": 8,
    "start_time": "2022-01-12T22:03:46.320Z"
   },
   {
    "duration": 36,
    "start_time": "2022-01-12T22:03:46.330Z"
   },
   {
    "duration": 454,
    "start_time": "2022-01-12T22:03:46.368Z"
   },
   {
    "duration": 8,
    "start_time": "2022-01-12T22:03:46.825Z"
   },
   {
    "duration": 258,
    "start_time": "2022-01-12T22:03:46.836Z"
   },
   {
    "duration": 9,
    "start_time": "2022-01-12T22:03:47.096Z"
   },
   {
    "duration": 15,
    "start_time": "2022-01-12T22:03:47.108Z"
   },
   {
    "duration": 17,
    "start_time": "2022-01-12T22:03:47.125Z"
   },
   {
    "duration": 5,
    "start_time": "2022-01-12T22:03:47.163Z"
   },
   {
    "duration": 20,
    "start_time": "2022-01-12T22:03:47.170Z"
   },
   {
    "duration": 21,
    "start_time": "2022-01-12T22:03:47.192Z"
   },
   {
    "duration": 8,
    "start_time": "2022-01-12T22:03:47.216Z"
   },
   {
    "duration": 36,
    "start_time": "2022-01-12T22:03:47.227Z"
   },
   {
    "duration": 13,
    "start_time": "2022-01-12T22:03:47.265Z"
   },
   {
    "duration": 22,
    "start_time": "2022-01-12T22:03:47.281Z"
   },
   {
    "duration": 10,
    "start_time": "2022-01-12T22:03:47.306Z"
   },
   {
    "duration": 40,
    "start_time": "2022-01-12T22:03:47.318Z"
   },
   {
    "duration": 6,
    "start_time": "2022-01-12T22:03:47.361Z"
   },
   {
    "duration": 45,
    "start_time": "2022-01-12T22:03:47.370Z"
   },
   {
    "duration": 200,
    "start_time": "2022-01-12T22:03:47.418Z"
   },
   {
    "duration": 410,
    "start_time": "2022-01-12T22:03:47.620Z"
   },
   {
    "duration": 45,
    "start_time": "2022-01-12T22:03:48.033Z"
   },
   {
    "duration": 398,
    "start_time": "2022-01-12T22:03:48.080Z"
   },
   {
    "duration": 108,
    "start_time": "2022-01-12T22:03:48.481Z"
   },
   {
    "duration": 429,
    "start_time": "2022-01-12T22:03:48.592Z"
   },
   {
    "duration": 3,
    "start_time": "2022-01-12T22:03:49.024Z"
   },
   {
    "duration": 6,
    "start_time": "2022-01-12T22:03:49.029Z"
   },
   {
    "duration": 354,
    "start_time": "2022-01-12T22:03:49.039Z"
   },
   {
    "duration": 19,
    "start_time": "2022-01-12T22:03:49.396Z"
   },
   {
    "duration": 77,
    "start_time": "2022-01-12T22:03:49.419Z"
   },
   {
    "duration": 515,
    "start_time": "2022-01-12T22:03:49.498Z"
   }
  ],
  "kernelspec": {
   "display_name": "Python 3",
   "language": "python",
   "name": "python3"
  },
  "language_info": {
   "codemirror_mode": {
    "name": "ipython",
    "version": 3
   },
   "file_extension": ".py",
   "mimetype": "text/x-python",
   "name": "python",
   "nbconvert_exporter": "python",
   "pygments_lexer": "ipython3",
   "version": "3.7.10"
  },
  "toc": {
   "base_numbering": 1,
   "nav_menu": {},
   "number_sections": true,
   "sideBar": true,
   "skip_h1_title": true,
   "title_cell": "Table of Contents",
   "title_sidebar": "Contents",
   "toc_cell": false,
   "toc_position": {},
   "toc_section_display": true,
   "toc_window_display": false
  }
 },
 "nbformat": 4,
 "nbformat_minor": 5
}
