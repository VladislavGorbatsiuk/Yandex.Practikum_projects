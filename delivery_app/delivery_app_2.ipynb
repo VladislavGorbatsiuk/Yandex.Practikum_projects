{
 "cells": [
  {
   "cell_type": "markdown",
   "id": "4079f25b",
   "metadata": {},
   "source": [
    "# Анализ поведения пользователей"
   ]
  },
  {
   "cell_type": "code",
   "execution_count": 26,
   "id": "e415896d",
   "metadata": {},
   "outputs": [
    {
     "data": {
      "text/html": [
       "<div>\n",
       "<style scoped>\n",
       "    .dataframe tbody tr th:only-of-type {\n",
       "        vertical-align: middle;\n",
       "    }\n",
       "\n",
       "    .dataframe tbody tr th {\n",
       "        vertical-align: top;\n",
       "    }\n",
       "\n",
       "    .dataframe thead th {\n",
       "        text-align: right;\n",
       "    }\n",
       "</style>\n",
       "<table border=\"1\" class=\"dataframe\">\n",
       "  <thead>\n",
       "    <tr style=\"text-align: right;\">\n",
       "      <th>event_name</th>\n",
       "      <th>CartScreenAppear</th>\n",
       "      <th>MainScreenAppear</th>\n",
       "      <th>OffersScreenAppear</th>\n",
       "      <th>PaymentScreenSuccessful</th>\n",
       "      <th>Tutorial</th>\n",
       "    </tr>\n",
       "    <tr>\n",
       "      <th>id</th>\n",
       "      <th></th>\n",
       "      <th></th>\n",
       "      <th></th>\n",
       "      <th></th>\n",
       "      <th></th>\n",
       "    </tr>\n",
       "  </thead>\n",
       "  <tbody>\n",
       "    <tr>\n",
       "      <td>74158328448226259</td>\n",
       "      <td>2019-08-01 09:32:03</td>\n",
       "      <td>NaT</td>\n",
       "      <td>2019-08-01 09:32:07</td>\n",
       "      <td>2019-08-01 09:32:02</td>\n",
       "      <td>NaT</td>\n",
       "    </tr>\n",
       "    <tr>\n",
       "      <td>111394506613435756</td>\n",
       "      <td>2019-08-02 15:17:27</td>\n",
       "      <td>NaT</td>\n",
       "      <td>2019-08-02 15:17:28</td>\n",
       "      <td>2019-08-02 15:17:25</td>\n",
       "      <td>NaT</td>\n",
       "    </tr>\n",
       "    <tr>\n",
       "      <td>214966247576341063</td>\n",
       "      <td>2019-08-01 07:04:01</td>\n",
       "      <td>NaT</td>\n",
       "      <td>2019-08-01 07:02:56</td>\n",
       "      <td>2019-08-01 07:04:00</td>\n",
       "      <td>NaT</td>\n",
       "    </tr>\n",
       "    <tr>\n",
       "      <td>261817378841141406</td>\n",
       "      <td>2019-08-02 10:36:04</td>\n",
       "      <td>NaT</td>\n",
       "      <td>2019-08-02 10:36:09</td>\n",
       "      <td>2019-08-02 10:36:03</td>\n",
       "      <td>NaT</td>\n",
       "    </tr>\n",
       "    <tr>\n",
       "      <td>332529825412858125</td>\n",
       "      <td>2019-08-01 07:13:44</td>\n",
       "      <td>NaT</td>\n",
       "      <td>2019-08-01 07:13:37</td>\n",
       "      <td>2019-08-01 16:06:20</td>\n",
       "      <td>NaT</td>\n",
       "    </tr>\n",
       "  </tbody>\n",
       "</table>\n",
       "</div>"
      ],
      "text/plain": [
       "event_name            CartScreenAppear MainScreenAppear  OffersScreenAppear  \\\n",
       "id                                                                            \n",
       "74158328448226259  2019-08-01 09:32:03              NaT 2019-08-01 09:32:07   \n",
       "111394506613435756 2019-08-02 15:17:27              NaT 2019-08-02 15:17:28   \n",
       "214966247576341063 2019-08-01 07:04:01              NaT 2019-08-01 07:02:56   \n",
       "261817378841141406 2019-08-02 10:36:04              NaT 2019-08-02 10:36:09   \n",
       "332529825412858125 2019-08-01 07:13:44              NaT 2019-08-01 07:13:37   \n",
       "\n",
       "event_name         PaymentScreenSuccessful Tutorial  \n",
       "id                                                   \n",
       "74158328448226259      2019-08-01 09:32:02      NaT  \n",
       "111394506613435756     2019-08-02 15:17:25      NaT  \n",
       "214966247576341063     2019-08-01 07:04:00      NaT  \n",
       "261817378841141406     2019-08-02 10:36:03      NaT  \n",
       "332529825412858125     2019-08-01 16:06:20      NaT  "
      ]
     },
     "execution_count": 26,
     "metadata": {},
     "output_type": "execute_result"
    }
   ],
   "source": [
    "users[users['MainScreenAppear'].isna()].head()"
   ]
  },
  {
   "cell_type": "markdown",
   "id": "804ea323",
   "metadata": {},
   "source": [
    "Как мы видим общее количество пользователей(7534) не совпадает с количеством пользователей на первом шаге(7419). Исходя из данных видно что оплата предшествует просмотру страницы корзины и каталога, а время просмотра главной страницы вовсе отсутствует."
   ]
  },
  {
   "cell_type": "code",
   "execution_count": 27,
   "id": "4e6c261c",
   "metadata": {},
   "outputs": [
    {
     "data": {
      "text/plain": [
       "115"
      ]
     },
     "execution_count": 27,
     "metadata": {},
     "output_type": "execute_result"
    }
   ],
   "source": [
    "bug_orders = users[users['MainScreenAppear'].isna()]\n",
    "len(bug_orders)"
   ]
  },
  {
   "cell_type": "code",
   "execution_count": 28,
   "id": "84c21a4d",
   "metadata": {},
   "outputs": [
    {
     "data": {
      "text/html": [
       "<div>\n",
       "<style scoped>\n",
       "    .dataframe tbody tr th:only-of-type {\n",
       "        vertical-align: middle;\n",
       "    }\n",
       "\n",
       "    .dataframe tbody tr th {\n",
       "        vertical-align: top;\n",
       "    }\n",
       "\n",
       "    .dataframe thead th {\n",
       "        text-align: right;\n",
       "    }\n",
       "</style>\n",
       "<table border=\"1\" class=\"dataframe\">\n",
       "  <thead>\n",
       "    <tr style=\"text-align: right;\">\n",
       "      <th></th>\n",
       "      <th>id</th>\n",
       "    </tr>\n",
       "    <tr>\n",
       "      <th>event_name</th>\n",
       "      <th></th>\n",
       "    </tr>\n",
       "  </thead>\n",
       "  <tbody>\n",
       "    <tr>\n",
       "      <td>CartScreenAppear</td>\n",
       "      <td>99</td>\n",
       "    </tr>\n",
       "    <tr>\n",
       "      <td>OffersScreenAppear</td>\n",
       "      <td>111</td>\n",
       "    </tr>\n",
       "    <tr>\n",
       "      <td>PaymentScreenSuccessful</td>\n",
       "      <td>98</td>\n",
       "    </tr>\n",
       "    <tr>\n",
       "      <td>Tutorial</td>\n",
       "      <td>4</td>\n",
       "    </tr>\n",
       "  </tbody>\n",
       "</table>\n",
       "</div>"
      ],
      "text/plain": [
       "                          id\n",
       "event_name                  \n",
       "CartScreenAppear          99\n",
       "OffersScreenAppear       111\n",
       "PaymentScreenSuccessful   98\n",
       "Tutorial                   4"
      ]
     },
     "execution_count": 28,
     "metadata": {},
     "output_type": "execute_result"
    }
   ],
   "source": [
    "result = pd.DataFrame()\n",
    "\n",
    "for i in bug_orders.iterrows():\n",
    "    rows = data[(data['event_name'] == 'CartScreenAppear') & (data['id'] == i[0]) & (data['event_datetime'] == i[1][0])]\n",
    "    result = result.append(rows)\n",
    "    rows = data[(data['event_name'] == 'OffersScreenAppear') & (data['id'] == i[0]) & (data['event_datetime'] == i[1][2])]\n",
    "    result =result.append(rows)\n",
    "    rows = data[(data['event_name'] == 'PaymentScreenSuccessful') & (data['id'] == i[0]) & (data['event_datetime'] == i[1][3])]\n",
    "    result = result.append(rows)\n",
    "    rows = data[(data['event_name'] == 'Tutorial') & (data['id'] == i[0]) & (data['event_datetime'] == i[1][4])]\n",
    "    result = result.append(rows)\n",
    "\n",
    "result.groupby('event_name').agg({'id': 'count'})\n"
   ]
  },
  {
   "cell_type": "code",
   "execution_count": 29,
   "id": "150e8d72",
   "metadata": {},
   "outputs": [
    {
     "name": "stdout",
     "output_type": "stream",
     "text": [
      "<class 'pandas.core.frame.DataFrame'>\n",
      "Int64Index: 115 entries, 74158328448226259 to 9217594193087726423\n",
      "Data columns (total 5 columns):\n",
      "CartScreenAppear           99 non-null datetime64[ns]\n",
      "MainScreenAppear           0 non-null datetime64[ns]\n",
      "OffersScreenAppear         111 non-null datetime64[ns]\n",
      "PaymentScreenSuccessful    98 non-null datetime64[ns]\n",
      "Tutorial                   4 non-null datetime64[ns]\n",
      "dtypes: datetime64[ns](5)\n",
      "memory usage: 5.4 KB\n"
     ]
    }
   ],
   "source": [
    "bug_orders.info()"
   ]
  },
  {
   "cell_type": "code",
   "execution_count": 30,
   "id": "530aad1b",
   "metadata": {},
   "outputs": [],
   "source": [
    "data_clear = data.drop(result.index)"
   ]
  },
  {
   "cell_type": "markdown",
   "id": "cc71ed34",
   "metadata": {},
   "source": [
    "перезапишим таблицу users"
   ]
  },
  {
   "cell_type": "code",
   "execution_count": 31,
   "id": "955cfeb5",
   "metadata": {},
   "outputs": [],
   "source": [
    "users = data_clear.pivot_table(index='id',\n",
    "                        columns='event_name',\n",
    "                        values='event_datetime',\n",
    "                        aggfunc='min')"
   ]
  },
  {
   "cell_type": "markdown",
   "id": "dce6d2c2",
   "metadata": {},
   "source": [
    "Расчитаем воронки для всех пользователей и для каждой группы отдельно."
   ]
  },
  {
   "cell_type": "code",
   "execution_count": 32,
   "id": "d84acb9d",
   "metadata": {},
   "outputs": [],
   "source": [
    "step_1 = ~users['MainScreenAppear'].isna()\n",
    "step_2 = step_1 & (users['OffersScreenAppear'] > users['MainScreenAppear'])\n",
    "step_3 = step_2 & (users['CartScreenAppear'] > users['OffersScreenAppear'])\n",
    "step_4 = step_3 & (users['PaymentScreenSuccessful'] > users['CartScreenAppear'])\n",
    "\n",
    "funnel = pd.DataFrame(columns=['users'],\n",
    "                    index=['MainScreenAppear',\n",
    "                        'OffersScreenAppear',\n",
    "                        'CartScreenAppear',\n",
    "                        'PaymentScreenSuccessful'])\n",
    "\n",
    "funnel['MainScreenAppear':] = users[step_1].shape[0] \n",
    "funnel['OffersScreenAppear':] =  users[step_2].shape[0]\n",
    "funnel['CartScreenAppear':] = users[step_3].shape[0]\n",
    "funnel['PaymentScreenSuccessful':] = users[step_4].shape[0]"
   ]
  },
  {
   "cell_type": "code",
   "execution_count": 33,
   "id": "fa46dc12",
   "metadata": {},
   "outputs": [
    {
     "data": {
      "text/html": [
       "<div>\n",
       "<style scoped>\n",
       "    .dataframe tbody tr th:only-of-type {\n",
       "        vertical-align: middle;\n",
       "    }\n",
       "\n",
       "    .dataframe tbody tr th {\n",
       "        vertical-align: top;\n",
       "    }\n",
       "\n",
       "    .dataframe thead th {\n",
       "        text-align: right;\n",
       "    }\n",
       "</style>\n",
       "<table border=\"1\" class=\"dataframe\">\n",
       "  <thead>\n",
       "    <tr style=\"text-align: right;\">\n",
       "      <th></th>\n",
       "      <th>users</th>\n",
       "    </tr>\n",
       "  </thead>\n",
       "  <tbody>\n",
       "    <tr>\n",
       "      <td>MainScreenAppear</td>\n",
       "      <td>2450</td>\n",
       "    </tr>\n",
       "    <tr>\n",
       "      <td>OffersScreenAppear</td>\n",
       "      <td>1411</td>\n",
       "    </tr>\n",
       "    <tr>\n",
       "      <td>CartScreenAppear</td>\n",
       "      <td>584</td>\n",
       "    </tr>\n",
       "    <tr>\n",
       "      <td>PaymentScreenSuccessful</td>\n",
       "      <td>145</td>\n",
       "    </tr>\n",
       "  </tbody>\n",
       "</table>\n",
       "</div>"
      ],
      "text/plain": [
       "                         users\n",
       "MainScreenAppear          2450\n",
       "OffersScreenAppear        1411\n",
       "CartScreenAppear           584\n",
       "PaymentScreenSuccessful    145"
      ]
     },
     "execution_count": 33,
     "metadata": {},
     "output_type": "execute_result"
    }
   ],
   "source": [
    "users_246 = data_clear.query('exp_id == 246').pivot_table(index='id',\n",
    "                        columns='event_name',\n",
    "                        values='event_datetime',\n",
    "                        aggfunc='min')\n",
    "\n",
    "step_1_246 = ~users_246['MainScreenAppear'].isna()\n",
    "step_2_246 = step_1_246 & (users_246['OffersScreenAppear'] > users_246['MainScreenAppear'])\n",
    "step_3_246 = step_2_246 & (users_246['CartScreenAppear'] > users_246['OffersScreenAppear'])\n",
    "step_4_246 = step_3_246 & (users_246['PaymentScreenSuccessful'] > users_246['CartScreenAppear'])\n",
    "\n",
    "funnel_246 = pd.DataFrame(columns=['users'],\n",
    "                    index=['MainScreenAppear',\n",
    "                        'OffersScreenAppear',\n",
    "                        'CartScreenAppear',\n",
    "                        'PaymentScreenSuccessful'])\n",
    "\n",
    "funnel_246['MainScreenAppear':] = users_246[step_1_246].shape[0] \n",
    "funnel_246['OffersScreenAppear':] =  users_246[step_2_246].shape[0]\n",
    "funnel_246['CartScreenAppear':] = users_246[step_3_246].shape[0]\n",
    "funnel_246['PaymentScreenSuccessful':] = users_246[step_4_246].shape[0]\n",
    "\n",
    "funnel_246"
   ]
  },
  {
   "cell_type": "code",
   "execution_count": 34,
   "id": "33a4af27",
   "metadata": {},
   "outputs": [
    {
     "data": {
      "text/html": [
       "<div>\n",
       "<style scoped>\n",
       "    .dataframe tbody tr th:only-of-type {\n",
       "        vertical-align: middle;\n",
       "    }\n",
       "\n",
       "    .dataframe tbody tr th {\n",
       "        vertical-align: top;\n",
       "    }\n",
       "\n",
       "    .dataframe thead th {\n",
       "        text-align: right;\n",
       "    }\n",
       "</style>\n",
       "<table border=\"1\" class=\"dataframe\">\n",
       "  <thead>\n",
       "    <tr style=\"text-align: right;\">\n",
       "      <th></th>\n",
       "      <th>users</th>\n",
       "    </tr>\n",
       "  </thead>\n",
       "  <tbody>\n",
       "    <tr>\n",
       "      <td>MainScreenAppear</td>\n",
       "      <td>2476</td>\n",
       "    </tr>\n",
       "    <tr>\n",
       "      <td>OffersScreenAppear</td>\n",
       "      <td>1379</td>\n",
       "    </tr>\n",
       "    <tr>\n",
       "      <td>CartScreenAppear</td>\n",
       "      <td>600</td>\n",
       "    </tr>\n",
       "    <tr>\n",
       "      <td>PaymentScreenSuccessful</td>\n",
       "      <td>144</td>\n",
       "    </tr>\n",
       "  </tbody>\n",
       "</table>\n",
       "</div>"
      ],
      "text/plain": [
       "                         users\n",
       "MainScreenAppear          2476\n",
       "OffersScreenAppear        1379\n",
       "CartScreenAppear           600\n",
       "PaymentScreenSuccessful    144"
      ]
     },
     "execution_count": 34,
     "metadata": {},
     "output_type": "execute_result"
    }
   ],
   "source": [
    "users_247 = data_clear.query('exp_id == 247').pivot_table(index='id',\n",
    "                        columns='event_name',\n",
    "                        values='event_datetime',\n",
    "                        aggfunc='min')\n",
    "\n",
    "step_1_247 = ~users_247['MainScreenAppear'].isna()\n",
    "step_2_247 = step_1_247 & (users_247['OffersScreenAppear'] > users_247['MainScreenAppear'])\n",
    "step_3_247 = step_2_247 & (users_247['CartScreenAppear'] > users_247['OffersScreenAppear'])\n",
    "step_4_247 = step_3_247 & (users_247['PaymentScreenSuccessful'] > users_247['CartScreenAppear'])\n",
    "\n",
    "funnel_247 = pd.DataFrame(columns=['users'],\n",
    "                    index=['MainScreenAppear',\n",
    "                        'OffersScreenAppear',\n",
    "                        'CartScreenAppear',\n",
    "                        'PaymentScreenSuccessful'])\n",
    "\n",
    "funnel_247['MainScreenAppear':] = users_247[step_1_247].shape[0] \n",
    "funnel_247['OffersScreenAppear':] =  users_247[step_2_247].shape[0]\n",
    "funnel_247['CartScreenAppear':] = users_247[step_3_247].shape[0]\n",
    "funnel_247['PaymentScreenSuccessful':] = users_247[step_4_247].shape[0]\n",
    "\n",
    "funnel_247"
   ]
  },
  {
   "cell_type": "code",
   "execution_count": 35,
   "id": "ec0a34c4",
   "metadata": {},
   "outputs": [
    {
     "data": {
      "text/html": [
       "<div>\n",
       "<style scoped>\n",
       "    .dataframe tbody tr th:only-of-type {\n",
       "        vertical-align: middle;\n",
       "    }\n",
       "\n",
       "    .dataframe tbody tr th {\n",
       "        vertical-align: top;\n",
       "    }\n",
       "\n",
       "    .dataframe thead th {\n",
       "        text-align: right;\n",
       "    }\n",
       "</style>\n",
       "<table border=\"1\" class=\"dataframe\">\n",
       "  <thead>\n",
       "    <tr style=\"text-align: right;\">\n",
       "      <th></th>\n",
       "      <th>users</th>\n",
       "    </tr>\n",
       "  </thead>\n",
       "  <tbody>\n",
       "    <tr>\n",
       "      <td>MainScreenAppear</td>\n",
       "      <td>2493</td>\n",
       "    </tr>\n",
       "    <tr>\n",
       "      <td>OffersScreenAppear</td>\n",
       "      <td>1411</td>\n",
       "    </tr>\n",
       "    <tr>\n",
       "      <td>CartScreenAppear</td>\n",
       "      <td>583</td>\n",
       "    </tr>\n",
       "    <tr>\n",
       "      <td>PaymentScreenSuccessful</td>\n",
       "      <td>165</td>\n",
       "    </tr>\n",
       "  </tbody>\n",
       "</table>\n",
       "</div>"
      ],
      "text/plain": [
       "                         users\n",
       "MainScreenAppear          2493\n",
       "OffersScreenAppear        1411\n",
       "CartScreenAppear           583\n",
       "PaymentScreenSuccessful    165"
      ]
     },
     "execution_count": 35,
     "metadata": {},
     "output_type": "execute_result"
    }
   ],
   "source": [
    "users_248 = data_clear.query('exp_id == 248').pivot_table(index='id',\n",
    "                        columns='event_name',\n",
    "                        values='event_datetime',\n",
    "                        aggfunc='min')\n",
    "\n",
    "step_1_248 = ~users_248['MainScreenAppear'].isna()\n",
    "step_2_248 = step_1_248 & (users_248['OffersScreenAppear'] > users_248['MainScreenAppear'])\n",
    "step_3_248 = step_2_248 & (users_248['CartScreenAppear'] > users_248['OffersScreenAppear'])\n",
    "step_4_248 = step_3_248 & (users_248['PaymentScreenSuccessful'] > users_248['CartScreenAppear'])\n",
    "\n",
    "funnel_248 = pd.DataFrame(columns=['users'],\n",
    "                    index=['MainScreenAppear',\n",
    "                        'OffersScreenAppear',\n",
    "                        'CartScreenAppear',\n",
    "                        'PaymentScreenSuccessful'])\n",
    "\n",
    "funnel_248['MainScreenAppear':] = users_248[step_1_248].shape[0] \n",
    "funnel_248['OffersScreenAppear':] =  users_248[step_2_248].shape[0]\n",
    "funnel_248['CartScreenAppear':] = users_248[step_3_248].shape[0]\n",
    "funnel_248['PaymentScreenSuccessful':] = users_248[step_4_248].shape[0]\n",
    "\n",
    "funnel_248"
   ]
  },
  {
   "cell_type": "code",
   "execution_count": 36,
   "id": "575653ce",
   "metadata": {},
   "outputs": [
    {
     "data": {
      "application/vnd.plotly.v1+json": {
       "config": {
        "plotlyServerURL": "https://plot.ly"
       },
       "data": [
        {
         "textinfo": "value+percent initial",
         "type": "funnel",
         "x": [
          7419,
          4201,
          1767,
          454
         ],
         "y": [
          "MainScreenAppear",
          "OffersScreenAppear",
          "CartScreenAppear",
          "PaymentScreenSuccessful"
         ]
        }
       ],
       "layout": {
        "template": {
         "data": {
          "bar": [
           {
            "error_x": {
             "color": "#2a3f5f"
            },
            "error_y": {
             "color": "#2a3f5f"
            },
            "marker": {
             "line": {
              "color": "#E5ECF6",
              "width": 0.5
             }
            },
            "type": "bar"
           }
          ],
          "barpolar": [
           {
            "marker": {
             "line": {
              "color": "#E5ECF6",
              "width": 0.5
             }
            },
            "type": "barpolar"
           }
          ],
          "carpet": [
           {
            "aaxis": {
             "endlinecolor": "#2a3f5f",
             "gridcolor": "white",
             "linecolor": "white",
             "minorgridcolor": "white",
             "startlinecolor": "#2a3f5f"
            },
            "baxis": {
             "endlinecolor": "#2a3f5f",
             "gridcolor": "white",
             "linecolor": "white",
             "minorgridcolor": "white",
             "startlinecolor": "#2a3f5f"
            },
            "type": "carpet"
           }
          ],
          "choropleth": [
           {
            "colorbar": {
             "outlinewidth": 0,
             "ticks": ""
            },
            "type": "choropleth"
           }
          ],
          "contour": [
           {
            "colorbar": {
             "outlinewidth": 0,
             "ticks": ""
            },
            "colorscale": [
             [
              0,
              "#0d0887"
             ],
             [
              0.1111111111111111,
              "#46039f"
             ],
             [
              0.2222222222222222,
              "#7201a8"
             ],
             [
              0.3333333333333333,
              "#9c179e"
             ],
             [
              0.4444444444444444,
              "#bd3786"
             ],
             [
              0.5555555555555556,
              "#d8576b"
             ],
             [
              0.6666666666666666,
              "#ed7953"
             ],
             [
              0.7777777777777778,
              "#fb9f3a"
             ],
             [
              0.8888888888888888,
              "#fdca26"
             ],
             [
              1,
              "#f0f921"
             ]
            ],
            "type": "contour"
           }
          ],
          "contourcarpet": [
           {
            "colorbar": {
             "outlinewidth": 0,
             "ticks": ""
            },
            "type": "contourcarpet"
           }
          ],
          "heatmap": [
           {
            "colorbar": {
             "outlinewidth": 0,
             "ticks": ""
            },
            "colorscale": [
             [
              0,
              "#0d0887"
             ],
             [
              0.1111111111111111,
              "#46039f"
             ],
             [
              0.2222222222222222,
              "#7201a8"
             ],
             [
              0.3333333333333333,
              "#9c179e"
             ],
             [
              0.4444444444444444,
              "#bd3786"
             ],
             [
              0.5555555555555556,
              "#d8576b"
             ],
             [
              0.6666666666666666,
              "#ed7953"
             ],
             [
              0.7777777777777778,
              "#fb9f3a"
             ],
             [
              0.8888888888888888,
              "#fdca26"
             ],
             [
              1,
              "#f0f921"
             ]
            ],
            "type": "heatmap"
           }
          ],
          "heatmapgl": [
           {
            "colorbar": {
             "outlinewidth": 0,
             "ticks": ""
            },
            "colorscale": [
             [
              0,
              "#0d0887"
             ],
             [
              0.1111111111111111,
              "#46039f"
             ],
             [
              0.2222222222222222,
              "#7201a8"
             ],
             [
              0.3333333333333333,
              "#9c179e"
             ],
             [
              0.4444444444444444,
              "#bd3786"
             ],
             [
              0.5555555555555556,
              "#d8576b"
             ],
             [
              0.6666666666666666,
              "#ed7953"
             ],
             [
              0.7777777777777778,
              "#fb9f3a"
             ],
             [
              0.8888888888888888,
              "#fdca26"
             ],
             [
              1,
              "#f0f921"
             ]
            ],
            "type": "heatmapgl"
           }
          ],
          "histogram": [
           {
            "marker": {
             "colorbar": {
              "outlinewidth": 0,
              "ticks": ""
             }
            },
            "type": "histogram"
           }
          ],
          "histogram2d": [
           {
            "colorbar": {
             "outlinewidth": 0,
             "ticks": ""
            },
            "colorscale": [
             [
              0,
              "#0d0887"
             ],
             [
              0.1111111111111111,
              "#46039f"
             ],
             [
              0.2222222222222222,
              "#7201a8"
             ],
             [
              0.3333333333333333,
              "#9c179e"
             ],
             [
              0.4444444444444444,
              "#bd3786"
             ],
             [
              0.5555555555555556,
              "#d8576b"
             ],
             [
              0.6666666666666666,
              "#ed7953"
             ],
             [
              0.7777777777777778,
              "#fb9f3a"
             ],
             [
              0.8888888888888888,
              "#fdca26"
             ],
             [
              1,
              "#f0f921"
             ]
            ],
            "type": "histogram2d"
           }
          ],
          "histogram2dcontour": [
           {
            "colorbar": {
             "outlinewidth": 0,
             "ticks": ""
            },
            "colorscale": [
             [
              0,
              "#0d0887"
             ],
             [
              0.1111111111111111,
              "#46039f"
             ],
             [
              0.2222222222222222,
              "#7201a8"
             ],
             [
              0.3333333333333333,
              "#9c179e"
             ],
             [
              0.4444444444444444,
              "#bd3786"
             ],
             [
              0.5555555555555556,
              "#d8576b"
             ],
             [
              0.6666666666666666,
              "#ed7953"
             ],
             [
              0.7777777777777778,
              "#fb9f3a"
             ],
             [
              0.8888888888888888,
              "#fdca26"
             ],
             [
              1,
              "#f0f921"
             ]
            ],
            "type": "histogram2dcontour"
           }
          ],
          "mesh3d": [
           {
            "colorbar": {
             "outlinewidth": 0,
             "ticks": ""
            },
            "type": "mesh3d"
           }
          ],
          "parcoords": [
           {
            "line": {
             "colorbar": {
              "outlinewidth": 0,
              "ticks": ""
             }
            },
            "type": "parcoords"
           }
          ],
          "scatter": [
           {
            "marker": {
             "colorbar": {
              "outlinewidth": 0,
              "ticks": ""
             }
            },
            "type": "scatter"
           }
          ],
          "scatter3d": [
           {
            "line": {
             "colorbar": {
              "outlinewidth": 0,
              "ticks": ""
             }
            },
            "marker": {
             "colorbar": {
              "outlinewidth": 0,
              "ticks": ""
             }
            },
            "type": "scatter3d"
           }
          ],
          "scattercarpet": [
           {
            "marker": {
             "colorbar": {
              "outlinewidth": 0,
              "ticks": ""
             }
            },
            "type": "scattercarpet"
           }
          ],
          "scattergeo": [
           {
            "marker": {
             "colorbar": {
              "outlinewidth": 0,
              "ticks": ""
             }
            },
            "type": "scattergeo"
           }
          ],
          "scattergl": [
           {
            "marker": {
             "colorbar": {
              "outlinewidth": 0,
              "ticks": ""
             }
            },
            "type": "scattergl"
           }
          ],
          "scattermapbox": [
           {
            "marker": {
             "colorbar": {
              "outlinewidth": 0,
              "ticks": ""
             }
            },
            "type": "scattermapbox"
           }
          ],
          "scatterpolar": [
           {
            "marker": {
             "colorbar": {
              "outlinewidth": 0,
              "ticks": ""
             }
            },
            "type": "scatterpolar"
           }
          ],
          "scatterpolargl": [
           {
            "marker": {
             "colorbar": {
              "outlinewidth": 0,
              "ticks": ""
             }
            },
            "type": "scatterpolargl"
           }
          ],
          "scatterternary": [
           {
            "marker": {
             "colorbar": {
              "outlinewidth": 0,
              "ticks": ""
             }
            },
            "type": "scatterternary"
           }
          ],
          "surface": [
           {
            "colorbar": {
             "outlinewidth": 0,
             "ticks": ""
            },
            "colorscale": [
             [
              0,
              "#0d0887"
             ],
             [
              0.1111111111111111,
              "#46039f"
             ],
             [
              0.2222222222222222,
              "#7201a8"
             ],
             [
              0.3333333333333333,
              "#9c179e"
             ],
             [
              0.4444444444444444,
              "#bd3786"
             ],
             [
              0.5555555555555556,
              "#d8576b"
             ],
             [
              0.6666666666666666,
              "#ed7953"
             ],
             [
              0.7777777777777778,
              "#fb9f3a"
             ],
             [
              0.8888888888888888,
              "#fdca26"
             ],
             [
              1,
              "#f0f921"
             ]
            ],
            "type": "surface"
           }
          ],
          "table": [
           {
            "cells": {
             "fill": {
              "color": "#EBF0F8"
             },
             "line": {
              "color": "white"
             }
            },
            "header": {
             "fill": {
              "color": "#C8D4E3"
             },
             "line": {
              "color": "white"
             }
            },
            "type": "table"
           }
          ]
         },
         "layout": {
          "annotationdefaults": {
           "arrowcolor": "#2a3f5f",
           "arrowhead": 0,
           "arrowwidth": 1
          },
          "colorscale": {
           "diverging": [
            [
             0,
             "#8e0152"
            ],
            [
             0.1,
             "#c51b7d"
            ],
            [
             0.2,
             "#de77ae"
            ],
            [
             0.3,
             "#f1b6da"
            ],
            [
             0.4,
             "#fde0ef"
            ],
            [
             0.5,
             "#f7f7f7"
            ],
            [
             0.6,
             "#e6f5d0"
            ],
            [
             0.7,
             "#b8e186"
            ],
            [
             0.8,
             "#7fbc41"
            ],
            [
             0.9,
             "#4d9221"
            ],
            [
             1,
             "#276419"
            ]
           ],
           "sequential": [
            [
             0,
             "#0d0887"
            ],
            [
             0.1111111111111111,
             "#46039f"
            ],
            [
             0.2222222222222222,
             "#7201a8"
            ],
            [
             0.3333333333333333,
             "#9c179e"
            ],
            [
             0.4444444444444444,
             "#bd3786"
            ],
            [
             0.5555555555555556,
             "#d8576b"
            ],
            [
             0.6666666666666666,
             "#ed7953"
            ],
            [
             0.7777777777777778,
             "#fb9f3a"
            ],
            [
             0.8888888888888888,
             "#fdca26"
            ],
            [
             1,
             "#f0f921"
            ]
           ],
           "sequentialminus": [
            [
             0,
             "#0d0887"
            ],
            [
             0.1111111111111111,
             "#46039f"
            ],
            [
             0.2222222222222222,
             "#7201a8"
            ],
            [
             0.3333333333333333,
             "#9c179e"
            ],
            [
             0.4444444444444444,
             "#bd3786"
            ],
            [
             0.5555555555555556,
             "#d8576b"
            ],
            [
             0.6666666666666666,
             "#ed7953"
            ],
            [
             0.7777777777777778,
             "#fb9f3a"
            ],
            [
             0.8888888888888888,
             "#fdca26"
            ],
            [
             1,
             "#f0f921"
            ]
           ]
          },
          "colorway": [
           "#636efa",
           "#EF553B",
           "#00cc96",
           "#ab63fa",
           "#FFA15A",
           "#19d3f3",
           "#FF6692",
           "#B6E880",
           "#FF97FF",
           "#FECB52"
          ],
          "font": {
           "color": "#2a3f5f"
          },
          "geo": {
           "bgcolor": "white",
           "lakecolor": "white",
           "landcolor": "#E5ECF6",
           "showlakes": true,
           "showland": true,
           "subunitcolor": "white"
          },
          "hoverlabel": {
           "align": "left"
          },
          "hovermode": "closest",
          "mapbox": {
           "style": "light"
          },
          "paper_bgcolor": "white",
          "plot_bgcolor": "#E5ECF6",
          "polar": {
           "angularaxis": {
            "gridcolor": "white",
            "linecolor": "white",
            "ticks": ""
           },
           "bgcolor": "#E5ECF6",
           "radialaxis": {
            "gridcolor": "white",
            "linecolor": "white",
            "ticks": ""
           }
          },
          "scene": {
           "xaxis": {
            "backgroundcolor": "#E5ECF6",
            "gridcolor": "white",
            "gridwidth": 2,
            "linecolor": "white",
            "showbackground": true,
            "ticks": "",
            "zerolinecolor": "white"
           },
           "yaxis": {
            "backgroundcolor": "#E5ECF6",
            "gridcolor": "white",
            "gridwidth": 2,
            "linecolor": "white",
            "showbackground": true,
            "ticks": "",
            "zerolinecolor": "white"
           },
           "zaxis": {
            "backgroundcolor": "#E5ECF6",
            "gridcolor": "white",
            "gridwidth": 2,
            "linecolor": "white",
            "showbackground": true,
            "ticks": "",
            "zerolinecolor": "white"
           }
          },
          "shapedefaults": {
           "line": {
            "color": "#2a3f5f"
           }
          },
          "ternary": {
           "aaxis": {
            "gridcolor": "white",
            "linecolor": "white",
            "ticks": ""
           },
           "baxis": {
            "gridcolor": "white",
            "linecolor": "white",
            "ticks": ""
           },
           "bgcolor": "#E5ECF6",
           "caxis": {
            "gridcolor": "white",
            "linecolor": "white",
            "ticks": ""
           }
          },
          "title": {
           "x": 0.05
          },
          "xaxis": {
           "automargin": true,
           "gridcolor": "white",
           "linecolor": "white",
           "ticks": "",
           "zerolinecolor": "white",
           "zerolinewidth": 2
          },
          "yaxis": {
           "automargin": true,
           "gridcolor": "white",
           "linecolor": "white",
           "ticks": "",
           "zerolinecolor": "white",
           "zerolinewidth": 2
          }
         }
        }
       }
      },
      "text/html": [
       "<div>\n",
       "        \n",
       "        \n",
       "            <div id=\"3847c837-c357-4ffb-8a72-396494d37e3b\" class=\"plotly-graph-div\" style=\"height:525px; width:100%;\"></div>\n",
       "            <script type=\"text/javascript\">\n",
       "                require([\"plotly\"], function(Plotly) {\n",
       "                    window.PLOTLYENV=window.PLOTLYENV || {};\n",
       "                    \n",
       "                if (document.getElementById(\"3847c837-c357-4ffb-8a72-396494d37e3b\")) {\n",
       "                    Plotly.newPlot(\n",
       "                        '3847c837-c357-4ffb-8a72-396494d37e3b',\n",
       "                        [{\"textinfo\": \"value+percent initial\", \"type\": \"funnel\", \"x\": [7419, 4201, 1767, 454], \"y\": [\"MainScreenAppear\", \"OffersScreenAppear\", \"CartScreenAppear\", \"PaymentScreenSuccessful\"]}],\n",
       "                        {\"template\": {\"data\": {\"bar\": [{\"error_x\": {\"color\": \"#2a3f5f\"}, \"error_y\": {\"color\": \"#2a3f5f\"}, \"marker\": {\"line\": {\"color\": \"#E5ECF6\", \"width\": 0.5}}, \"type\": \"bar\"}], \"barpolar\": [{\"marker\": {\"line\": {\"color\": \"#E5ECF6\", \"width\": 0.5}}, \"type\": \"barpolar\"}], \"carpet\": [{\"aaxis\": {\"endlinecolor\": \"#2a3f5f\", \"gridcolor\": \"white\", \"linecolor\": \"white\", \"minorgridcolor\": \"white\", \"startlinecolor\": \"#2a3f5f\"}, \"baxis\": {\"endlinecolor\": \"#2a3f5f\", \"gridcolor\": \"white\", \"linecolor\": \"white\", \"minorgridcolor\": \"white\", \"startlinecolor\": \"#2a3f5f\"}, \"type\": \"carpet\"}], \"choropleth\": [{\"colorbar\": {\"outlinewidth\": 0, \"ticks\": \"\"}, \"type\": \"choropleth\"}], \"contour\": [{\"colorbar\": {\"outlinewidth\": 0, \"ticks\": \"\"}, \"colorscale\": [[0.0, \"#0d0887\"], [0.1111111111111111, \"#46039f\"], [0.2222222222222222, \"#7201a8\"], [0.3333333333333333, \"#9c179e\"], [0.4444444444444444, \"#bd3786\"], [0.5555555555555556, \"#d8576b\"], [0.6666666666666666, \"#ed7953\"], [0.7777777777777778, \"#fb9f3a\"], [0.8888888888888888, \"#fdca26\"], [1.0, \"#f0f921\"]], \"type\": \"contour\"}], \"contourcarpet\": [{\"colorbar\": {\"outlinewidth\": 0, \"ticks\": \"\"}, \"type\": \"contourcarpet\"}], \"heatmap\": [{\"colorbar\": {\"outlinewidth\": 0, \"ticks\": \"\"}, \"colorscale\": [[0.0, \"#0d0887\"], [0.1111111111111111, \"#46039f\"], [0.2222222222222222, \"#7201a8\"], [0.3333333333333333, \"#9c179e\"], [0.4444444444444444, \"#bd3786\"], [0.5555555555555556, \"#d8576b\"], [0.6666666666666666, \"#ed7953\"], [0.7777777777777778, \"#fb9f3a\"], [0.8888888888888888, \"#fdca26\"], [1.0, \"#f0f921\"]], \"type\": \"heatmap\"}], \"heatmapgl\": [{\"colorbar\": {\"outlinewidth\": 0, \"ticks\": \"\"}, \"colorscale\": [[0.0, \"#0d0887\"], [0.1111111111111111, \"#46039f\"], [0.2222222222222222, \"#7201a8\"], [0.3333333333333333, \"#9c179e\"], [0.4444444444444444, \"#bd3786\"], [0.5555555555555556, \"#d8576b\"], [0.6666666666666666, \"#ed7953\"], [0.7777777777777778, \"#fb9f3a\"], [0.8888888888888888, \"#fdca26\"], [1.0, \"#f0f921\"]], \"type\": \"heatmapgl\"}], \"histogram\": [{\"marker\": {\"colorbar\": {\"outlinewidth\": 0, \"ticks\": \"\"}}, \"type\": \"histogram\"}], \"histogram2d\": [{\"colorbar\": {\"outlinewidth\": 0, \"ticks\": \"\"}, \"colorscale\": [[0.0, \"#0d0887\"], [0.1111111111111111, \"#46039f\"], [0.2222222222222222, \"#7201a8\"], [0.3333333333333333, \"#9c179e\"], [0.4444444444444444, \"#bd3786\"], [0.5555555555555556, \"#d8576b\"], [0.6666666666666666, \"#ed7953\"], [0.7777777777777778, \"#fb9f3a\"], [0.8888888888888888, \"#fdca26\"], [1.0, \"#f0f921\"]], \"type\": \"histogram2d\"}], \"histogram2dcontour\": [{\"colorbar\": {\"outlinewidth\": 0, \"ticks\": \"\"}, \"colorscale\": [[0.0, \"#0d0887\"], [0.1111111111111111, \"#46039f\"], [0.2222222222222222, \"#7201a8\"], [0.3333333333333333, \"#9c179e\"], [0.4444444444444444, \"#bd3786\"], [0.5555555555555556, \"#d8576b\"], [0.6666666666666666, \"#ed7953\"], [0.7777777777777778, \"#fb9f3a\"], [0.8888888888888888, \"#fdca26\"], [1.0, \"#f0f921\"]], \"type\": \"histogram2dcontour\"}], \"mesh3d\": [{\"colorbar\": {\"outlinewidth\": 0, \"ticks\": \"\"}, \"type\": \"mesh3d\"}], \"parcoords\": [{\"line\": {\"colorbar\": {\"outlinewidth\": 0, \"ticks\": \"\"}}, \"type\": \"parcoords\"}], \"scatter\": [{\"marker\": {\"colorbar\": {\"outlinewidth\": 0, \"ticks\": \"\"}}, \"type\": \"scatter\"}], \"scatter3d\": [{\"line\": {\"colorbar\": {\"outlinewidth\": 0, \"ticks\": \"\"}}, \"marker\": {\"colorbar\": {\"outlinewidth\": 0, \"ticks\": \"\"}}, \"type\": \"scatter3d\"}], \"scattercarpet\": [{\"marker\": {\"colorbar\": {\"outlinewidth\": 0, \"ticks\": \"\"}}, \"type\": \"scattercarpet\"}], \"scattergeo\": [{\"marker\": {\"colorbar\": {\"outlinewidth\": 0, \"ticks\": \"\"}}, \"type\": \"scattergeo\"}], \"scattergl\": [{\"marker\": {\"colorbar\": {\"outlinewidth\": 0, \"ticks\": \"\"}}, \"type\": \"scattergl\"}], \"scattermapbox\": [{\"marker\": {\"colorbar\": {\"outlinewidth\": 0, \"ticks\": \"\"}}, \"type\": \"scattermapbox\"}], \"scatterpolar\": [{\"marker\": {\"colorbar\": {\"outlinewidth\": 0, \"ticks\": \"\"}}, \"type\": \"scatterpolar\"}], \"scatterpolargl\": [{\"marker\": {\"colorbar\": {\"outlinewidth\": 0, \"ticks\": \"\"}}, \"type\": \"scatterpolargl\"}], \"scatterternary\": [{\"marker\": {\"colorbar\": {\"outlinewidth\": 0, \"ticks\": \"\"}}, \"type\": \"scatterternary\"}], \"surface\": [{\"colorbar\": {\"outlinewidth\": 0, \"ticks\": \"\"}, \"colorscale\": [[0.0, \"#0d0887\"], [0.1111111111111111, \"#46039f\"], [0.2222222222222222, \"#7201a8\"], [0.3333333333333333, \"#9c179e\"], [0.4444444444444444, \"#bd3786\"], [0.5555555555555556, \"#d8576b\"], [0.6666666666666666, \"#ed7953\"], [0.7777777777777778, \"#fb9f3a\"], [0.8888888888888888, \"#fdca26\"], [1.0, \"#f0f921\"]], \"type\": \"surface\"}], \"table\": [{\"cells\": {\"fill\": {\"color\": \"#EBF0F8\"}, \"line\": {\"color\": \"white\"}}, \"header\": {\"fill\": {\"color\": \"#C8D4E3\"}, \"line\": {\"color\": \"white\"}}, \"type\": \"table\"}]}, \"layout\": {\"annotationdefaults\": {\"arrowcolor\": \"#2a3f5f\", \"arrowhead\": 0, \"arrowwidth\": 1}, \"colorscale\": {\"diverging\": [[0, \"#8e0152\"], [0.1, \"#c51b7d\"], [0.2, \"#de77ae\"], [0.3, \"#f1b6da\"], [0.4, \"#fde0ef\"], [0.5, \"#f7f7f7\"], [0.6, \"#e6f5d0\"], [0.7, \"#b8e186\"], [0.8, \"#7fbc41\"], [0.9, \"#4d9221\"], [1, \"#276419\"]], \"sequential\": [[0.0, \"#0d0887\"], [0.1111111111111111, \"#46039f\"], [0.2222222222222222, \"#7201a8\"], [0.3333333333333333, \"#9c179e\"], [0.4444444444444444, \"#bd3786\"], [0.5555555555555556, \"#d8576b\"], [0.6666666666666666, \"#ed7953\"], [0.7777777777777778, \"#fb9f3a\"], [0.8888888888888888, \"#fdca26\"], [1.0, \"#f0f921\"]], \"sequentialminus\": [[0.0, \"#0d0887\"], [0.1111111111111111, \"#46039f\"], [0.2222222222222222, \"#7201a8\"], [0.3333333333333333, \"#9c179e\"], [0.4444444444444444, \"#bd3786\"], [0.5555555555555556, \"#d8576b\"], [0.6666666666666666, \"#ed7953\"], [0.7777777777777778, \"#fb9f3a\"], [0.8888888888888888, \"#fdca26\"], [1.0, \"#f0f921\"]]}, \"colorway\": [\"#636efa\", \"#EF553B\", \"#00cc96\", \"#ab63fa\", \"#FFA15A\", \"#19d3f3\", \"#FF6692\", \"#B6E880\", \"#FF97FF\", \"#FECB52\"], \"font\": {\"color\": \"#2a3f5f\"}, \"geo\": {\"bgcolor\": \"white\", \"lakecolor\": \"white\", \"landcolor\": \"#E5ECF6\", \"showlakes\": true, \"showland\": true, \"subunitcolor\": \"white\"}, \"hoverlabel\": {\"align\": \"left\"}, \"hovermode\": \"closest\", \"mapbox\": {\"style\": \"light\"}, \"paper_bgcolor\": \"white\", \"plot_bgcolor\": \"#E5ECF6\", \"polar\": {\"angularaxis\": {\"gridcolor\": \"white\", \"linecolor\": \"white\", \"ticks\": \"\"}, \"bgcolor\": \"#E5ECF6\", \"radialaxis\": {\"gridcolor\": \"white\", \"linecolor\": \"white\", \"ticks\": \"\"}}, \"scene\": {\"xaxis\": {\"backgroundcolor\": \"#E5ECF6\", \"gridcolor\": \"white\", \"gridwidth\": 2, \"linecolor\": \"white\", \"showbackground\": true, \"ticks\": \"\", \"zerolinecolor\": \"white\"}, \"yaxis\": {\"backgroundcolor\": \"#E5ECF6\", \"gridcolor\": \"white\", \"gridwidth\": 2, \"linecolor\": \"white\", \"showbackground\": true, \"ticks\": \"\", \"zerolinecolor\": \"white\"}, \"zaxis\": {\"backgroundcolor\": \"#E5ECF6\", \"gridcolor\": \"white\", \"gridwidth\": 2, \"linecolor\": \"white\", \"showbackground\": true, \"ticks\": \"\", \"zerolinecolor\": \"white\"}}, \"shapedefaults\": {\"line\": {\"color\": \"#2a3f5f\"}}, \"ternary\": {\"aaxis\": {\"gridcolor\": \"white\", \"linecolor\": \"white\", \"ticks\": \"\"}, \"baxis\": {\"gridcolor\": \"white\", \"linecolor\": \"white\", \"ticks\": \"\"}, \"bgcolor\": \"#E5ECF6\", \"caxis\": {\"gridcolor\": \"white\", \"linecolor\": \"white\", \"ticks\": \"\"}}, \"title\": {\"x\": 0.05}, \"xaxis\": {\"automargin\": true, \"gridcolor\": \"white\", \"linecolor\": \"white\", \"ticks\": \"\", \"zerolinecolor\": \"white\", \"zerolinewidth\": 2}, \"yaxis\": {\"automargin\": true, \"gridcolor\": \"white\", \"linecolor\": \"white\", \"ticks\": \"\", \"zerolinecolor\": \"white\", \"zerolinewidth\": 2}}}},\n",
       "                        {\"responsive\": true}\n",
       "                    ).then(function(){\n",
       "                            \n",
       "var gd = document.getElementById('3847c837-c357-4ffb-8a72-396494d37e3b');\n",
       "var x = new MutationObserver(function (mutations, observer) {{\n",
       "        var display = window.getComputedStyle(gd).display;\n",
       "        if (!display || display === 'none') {{\n",
       "            console.log([gd, 'removed!']);\n",
       "            Plotly.purge(gd);\n",
       "            observer.disconnect();\n",
       "        }}\n",
       "}});\n",
       "\n",
       "// Listen for the removal of the full notebook cells\n",
       "var notebookContainer = gd.closest('#notebook-container');\n",
       "if (notebookContainer) {{\n",
       "    x.observe(notebookContainer, {childList: true});\n",
       "}}\n",
       "\n",
       "// Listen for the clearing of the current output cell\n",
       "var outputEl = gd.closest('.output');\n",
       "if (outputEl) {{\n",
       "    x.observe(outputEl, {childList: true});\n",
       "}}\n",
       "\n",
       "                        })\n",
       "                };\n",
       "                });\n",
       "            </script>\n",
       "        </div>"
      ]
     },
     "metadata": {},
     "output_type": "display_data"
    }
   ],
   "source": [
    "fig = go.Figure()\n",
    "\n",
    "fig.add_trace(go.Funnel(\n",
    "    y = funnel.index,\n",
    "    x = funnel['users'],\n",
    "    textinfo = 'value+percent initial'\n",
    "))\n",
    "\n",
    "fig.show()"
   ]
  },
  {
   "cell_type": "code",
   "execution_count": 37,
   "id": "63412301",
   "metadata": {},
   "outputs": [
    {
     "data": {
      "application/vnd.plotly.v1+json": {
       "config": {
        "plotlyServerURL": "https://plot.ly"
       },
       "data": [
        {
         "name": "246",
         "textinfo": "value+percent initial",
         "type": "funnel",
         "x": [
          2450,
          1411,
          584,
          145
         ],
         "y": [
          "MainScreenAppear",
          "OffersScreenAppear",
          "CartScreenAppear",
          "PaymentScreenSuccessful"
         ]
        },
        {
         "name": "247",
         "textinfo": "value+percent initial",
         "type": "funnel",
         "x": [
          2476,
          1379,
          600,
          144
         ],
         "y": [
          "MainScreenAppear",
          "OffersScreenAppear",
          "CartScreenAppear",
          "PaymentScreenSuccessful"
         ]
        },
        {
         "name": "248",
         "textinfo": "value+percent initial",
         "type": "funnel",
         "x": [
          2493,
          1411,
          583,
          165
         ],
         "y": [
          "MainScreenAppear",
          "OffersScreenAppear",
          "CartScreenAppear",
          "PaymentScreenSuccessful"
         ]
        }
       ],
       "layout": {
        "template": {
         "data": {
          "bar": [
           {
            "error_x": {
             "color": "#2a3f5f"
            },
            "error_y": {
             "color": "#2a3f5f"
            },
            "marker": {
             "line": {
              "color": "#E5ECF6",
              "width": 0.5
             }
            },
            "type": "bar"
           }
          ],
          "barpolar": [
           {
            "marker": {
             "line": {
              "color": "#E5ECF6",
              "width": 0.5
             }
            },
            "type": "barpolar"
           }
          ],
          "carpet": [
           {
            "aaxis": {
             "endlinecolor": "#2a3f5f",
             "gridcolor": "white",
             "linecolor": "white",
             "minorgridcolor": "white",
             "startlinecolor": "#2a3f5f"
            },
            "baxis": {
             "endlinecolor": "#2a3f5f",
             "gridcolor": "white",
             "linecolor": "white",
             "minorgridcolor": "white",
             "startlinecolor": "#2a3f5f"
            },
            "type": "carpet"
           }
          ],
          "choropleth": [
           {
            "colorbar": {
             "outlinewidth": 0,
             "ticks": ""
            },
            "type": "choropleth"
           }
          ],
          "contour": [
           {
            "colorbar": {
             "outlinewidth": 0,
             "ticks": ""
            },
            "colorscale": [
             [
              0,
              "#0d0887"
             ],
             [
              0.1111111111111111,
              "#46039f"
             ],
             [
              0.2222222222222222,
              "#7201a8"
             ],
             [
              0.3333333333333333,
              "#9c179e"
             ],
             [
              0.4444444444444444,
              "#bd3786"
             ],
             [
              0.5555555555555556,
              "#d8576b"
             ],
             [
              0.6666666666666666,
              "#ed7953"
             ],
             [
              0.7777777777777778,
              "#fb9f3a"
             ],
             [
              0.8888888888888888,
              "#fdca26"
             ],
             [
              1,
              "#f0f921"
             ]
            ],
            "type": "contour"
           }
          ],
          "contourcarpet": [
           {
            "colorbar": {
             "outlinewidth": 0,
             "ticks": ""
            },
            "type": "contourcarpet"
           }
          ],
          "heatmap": [
           {
            "colorbar": {
             "outlinewidth": 0,
             "ticks": ""
            },
            "colorscale": [
             [
              0,
              "#0d0887"
             ],
             [
              0.1111111111111111,
              "#46039f"
             ],
             [
              0.2222222222222222,
              "#7201a8"
             ],
             [
              0.3333333333333333,
              "#9c179e"
             ],
             [
              0.4444444444444444,
              "#bd3786"
             ],
             [
              0.5555555555555556,
              "#d8576b"
             ],
             [
              0.6666666666666666,
              "#ed7953"
             ],
             [
              0.7777777777777778,
              "#fb9f3a"
             ],
             [
              0.8888888888888888,
              "#fdca26"
             ],
             [
              1,
              "#f0f921"
             ]
            ],
            "type": "heatmap"
           }
          ],
          "heatmapgl": [
           {
            "colorbar": {
             "outlinewidth": 0,
             "ticks": ""
            },
            "colorscale": [
             [
              0,
              "#0d0887"
             ],
             [
              0.1111111111111111,
              "#46039f"
             ],
             [
              0.2222222222222222,
              "#7201a8"
             ],
             [
              0.3333333333333333,
              "#9c179e"
             ],
             [
              0.4444444444444444,
              "#bd3786"
             ],
             [
              0.5555555555555556,
              "#d8576b"
             ],
             [
              0.6666666666666666,
              "#ed7953"
             ],
             [
              0.7777777777777778,
              "#fb9f3a"
             ],
             [
              0.8888888888888888,
              "#fdca26"
             ],
             [
              1,
              "#f0f921"
             ]
            ],
            "type": "heatmapgl"
           }
          ],
          "histogram": [
           {
            "marker": {
             "colorbar": {
              "outlinewidth": 0,
              "ticks": ""
             }
            },
            "type": "histogram"
           }
          ],
          "histogram2d": [
           {
            "colorbar": {
             "outlinewidth": 0,
             "ticks": ""
            },
            "colorscale": [
             [
              0,
              "#0d0887"
             ],
             [
              0.1111111111111111,
              "#46039f"
             ],
             [
              0.2222222222222222,
              "#7201a8"
             ],
             [
              0.3333333333333333,
              "#9c179e"
             ],
             [
              0.4444444444444444,
              "#bd3786"
             ],
             [
              0.5555555555555556,
              "#d8576b"
             ],
             [
              0.6666666666666666,
              "#ed7953"
             ],
             [
              0.7777777777777778,
              "#fb9f3a"
             ],
             [
              0.8888888888888888,
              "#fdca26"
             ],
             [
              1,
              "#f0f921"
             ]
            ],
            "type": "histogram2d"
           }
          ],
          "histogram2dcontour": [
           {
            "colorbar": {
             "outlinewidth": 0,
             "ticks": ""
            },
            "colorscale": [
             [
              0,
              "#0d0887"
             ],
             [
              0.1111111111111111,
              "#46039f"
             ],
             [
              0.2222222222222222,
              "#7201a8"
             ],
             [
              0.3333333333333333,
              "#9c179e"
             ],
             [
              0.4444444444444444,
              "#bd3786"
             ],
             [
              0.5555555555555556,
              "#d8576b"
             ],
             [
              0.6666666666666666,
              "#ed7953"
             ],
             [
              0.7777777777777778,
              "#fb9f3a"
             ],
             [
              0.8888888888888888,
              "#fdca26"
             ],
             [
              1,
              "#f0f921"
             ]
            ],
            "type": "histogram2dcontour"
           }
          ],
          "mesh3d": [
           {
            "colorbar": {
             "outlinewidth": 0,
             "ticks": ""
            },
            "type": "mesh3d"
           }
          ],
          "parcoords": [
           {
            "line": {
             "colorbar": {
              "outlinewidth": 0,
              "ticks": ""
             }
            },
            "type": "parcoords"
           }
          ],
          "scatter": [
           {
            "marker": {
             "colorbar": {
              "outlinewidth": 0,
              "ticks": ""
             }
            },
            "type": "scatter"
           }
          ],
          "scatter3d": [
           {
            "line": {
             "colorbar": {
              "outlinewidth": 0,
              "ticks": ""
             }
            },
            "marker": {
             "colorbar": {
              "outlinewidth": 0,
              "ticks": ""
             }
            },
            "type": "scatter3d"
           }
          ],
          "scattercarpet": [
           {
            "marker": {
             "colorbar": {
              "outlinewidth": 0,
              "ticks": ""
             }
            },
            "type": "scattercarpet"
           }
          ],
          "scattergeo": [
           {
            "marker": {
             "colorbar": {
              "outlinewidth": 0,
              "ticks": ""
             }
            },
            "type": "scattergeo"
           }
          ],
          "scattergl": [
           {
            "marker": {
             "colorbar": {
              "outlinewidth": 0,
              "ticks": ""
             }
            },
            "type": "scattergl"
           }
          ],
          "scattermapbox": [
           {
            "marker": {
             "colorbar": {
              "outlinewidth": 0,
              "ticks": ""
             }
            },
            "type": "scattermapbox"
           }
          ],
          "scatterpolar": [
           {
            "marker": {
             "colorbar": {
              "outlinewidth": 0,
              "ticks": ""
             }
            },
            "type": "scatterpolar"
           }
          ],
          "scatterpolargl": [
           {
            "marker": {
             "colorbar": {
              "outlinewidth": 0,
              "ticks": ""
             }
            },
            "type": "scatterpolargl"
           }
          ],
          "scatterternary": [
           {
            "marker": {
             "colorbar": {
              "outlinewidth": 0,
              "ticks": ""
             }
            },
            "type": "scatterternary"
           }
          ],
          "surface": [
           {
            "colorbar": {
             "outlinewidth": 0,
             "ticks": ""
            },
            "colorscale": [
             [
              0,
              "#0d0887"
             ],
             [
              0.1111111111111111,
              "#46039f"
             ],
             [
              0.2222222222222222,
              "#7201a8"
             ],
             [
              0.3333333333333333,
              "#9c179e"
             ],
             [
              0.4444444444444444,
              "#bd3786"
             ],
             [
              0.5555555555555556,
              "#d8576b"
             ],
             [
              0.6666666666666666,
              "#ed7953"
             ],
             [
              0.7777777777777778,
              "#fb9f3a"
             ],
             [
              0.8888888888888888,
              "#fdca26"
             ],
             [
              1,
              "#f0f921"
             ]
            ],
            "type": "surface"
           }
          ],
          "table": [
           {
            "cells": {
             "fill": {
              "color": "#EBF0F8"
             },
             "line": {
              "color": "white"
             }
            },
            "header": {
             "fill": {
              "color": "#C8D4E3"
             },
             "line": {
              "color": "white"
             }
            },
            "type": "table"
           }
          ]
         },
         "layout": {
          "annotationdefaults": {
           "arrowcolor": "#2a3f5f",
           "arrowhead": 0,
           "arrowwidth": 1
          },
          "colorscale": {
           "diverging": [
            [
             0,
             "#8e0152"
            ],
            [
             0.1,
             "#c51b7d"
            ],
            [
             0.2,
             "#de77ae"
            ],
            [
             0.3,
             "#f1b6da"
            ],
            [
             0.4,
             "#fde0ef"
            ],
            [
             0.5,
             "#f7f7f7"
            ],
            [
             0.6,
             "#e6f5d0"
            ],
            [
             0.7,
             "#b8e186"
            ],
            [
             0.8,
             "#7fbc41"
            ],
            [
             0.9,
             "#4d9221"
            ],
            [
             1,
             "#276419"
            ]
           ],
           "sequential": [
            [
             0,
             "#0d0887"
            ],
            [
             0.1111111111111111,
             "#46039f"
            ],
            [
             0.2222222222222222,
             "#7201a8"
            ],
            [
             0.3333333333333333,
             "#9c179e"
            ],
            [
             0.4444444444444444,
             "#bd3786"
            ],
            [
             0.5555555555555556,
             "#d8576b"
            ],
            [
             0.6666666666666666,
             "#ed7953"
            ],
            [
             0.7777777777777778,
             "#fb9f3a"
            ],
            [
             0.8888888888888888,
             "#fdca26"
            ],
            [
             1,
             "#f0f921"
            ]
           ],
           "sequentialminus": [
            [
             0,
             "#0d0887"
            ],
            [
             0.1111111111111111,
             "#46039f"
            ],
            [
             0.2222222222222222,
             "#7201a8"
            ],
            [
             0.3333333333333333,
             "#9c179e"
            ],
            [
             0.4444444444444444,
             "#bd3786"
            ],
            [
             0.5555555555555556,
             "#d8576b"
            ],
            [
             0.6666666666666666,
             "#ed7953"
            ],
            [
             0.7777777777777778,
             "#fb9f3a"
            ],
            [
             0.8888888888888888,
             "#fdca26"
            ],
            [
             1,
             "#f0f921"
            ]
           ]
          },
          "colorway": [
           "#636efa",
           "#EF553B",
           "#00cc96",
           "#ab63fa",
           "#FFA15A",
           "#19d3f3",
           "#FF6692",
           "#B6E880",
           "#FF97FF",
           "#FECB52"
          ],
          "font": {
           "color": "#2a3f5f"
          },
          "geo": {
           "bgcolor": "white",
           "lakecolor": "white",
           "landcolor": "#E5ECF6",
           "showlakes": true,
           "showland": true,
           "subunitcolor": "white"
          },
          "hoverlabel": {
           "align": "left"
          },
          "hovermode": "closest",
          "mapbox": {
           "style": "light"
          },
          "paper_bgcolor": "white",
          "plot_bgcolor": "#E5ECF6",
          "polar": {
           "angularaxis": {
            "gridcolor": "white",
            "linecolor": "white",
            "ticks": ""
           },
           "bgcolor": "#E5ECF6",
           "radialaxis": {
            "gridcolor": "white",
            "linecolor": "white",
            "ticks": ""
           }
          },
          "scene": {
           "xaxis": {
            "backgroundcolor": "#E5ECF6",
            "gridcolor": "white",
            "gridwidth": 2,
            "linecolor": "white",
            "showbackground": true,
            "ticks": "",
            "zerolinecolor": "white"
           },
           "yaxis": {
            "backgroundcolor": "#E5ECF6",
            "gridcolor": "white",
            "gridwidth": 2,
            "linecolor": "white",
            "showbackground": true,
            "ticks": "",
            "zerolinecolor": "white"
           },
           "zaxis": {
            "backgroundcolor": "#E5ECF6",
            "gridcolor": "white",
            "gridwidth": 2,
            "linecolor": "white",
            "showbackground": true,
            "ticks": "",
            "zerolinecolor": "white"
           }
          },
          "shapedefaults": {
           "line": {
            "color": "#2a3f5f"
           }
          },
          "ternary": {
           "aaxis": {
            "gridcolor": "white",
            "linecolor": "white",
            "ticks": ""
           },
           "baxis": {
            "gridcolor": "white",
            "linecolor": "white",
            "ticks": ""
           },
           "bgcolor": "#E5ECF6",
           "caxis": {
            "gridcolor": "white",
            "linecolor": "white",
            "ticks": ""
           }
          },
          "title": {
           "x": 0.05
          },
          "xaxis": {
           "automargin": true,
           "gridcolor": "white",
           "linecolor": "white",
           "ticks": "",
           "zerolinecolor": "white",
           "zerolinewidth": 2
          },
          "yaxis": {
           "automargin": true,
           "gridcolor": "white",
           "linecolor": "white",
           "ticks": "",
           "zerolinecolor": "white",
           "zerolinewidth": 2
          }
         }
        }
       }
      },
      "text/html": [
       "<div>\n",
       "        \n",
       "        \n",
       "            <div id=\"2ed9261b-fa2b-41b8-ab2d-670ef85d7c1b\" class=\"plotly-graph-div\" style=\"height:525px; width:100%;\"></div>\n",
       "            <script type=\"text/javascript\">\n",
       "                require([\"plotly\"], function(Plotly) {\n",
       "                    window.PLOTLYENV=window.PLOTLYENV || {};\n",
       "                    \n",
       "                if (document.getElementById(\"2ed9261b-fa2b-41b8-ab2d-670ef85d7c1b\")) {\n",
       "                    Plotly.newPlot(\n",
       "                        '2ed9261b-fa2b-41b8-ab2d-670ef85d7c1b',\n",
       "                        [{\"name\": \"246\", \"textinfo\": \"value+percent initial\", \"type\": \"funnel\", \"x\": [2450, 1411, 584, 145], \"y\": [\"MainScreenAppear\", \"OffersScreenAppear\", \"CartScreenAppear\", \"PaymentScreenSuccessful\"]}, {\"name\": \"247\", \"textinfo\": \"value+percent initial\", \"type\": \"funnel\", \"x\": [2476, 1379, 600, 144], \"y\": [\"MainScreenAppear\", \"OffersScreenAppear\", \"CartScreenAppear\", \"PaymentScreenSuccessful\"]}, {\"name\": \"248\", \"textinfo\": \"value+percent initial\", \"type\": \"funnel\", \"x\": [2493, 1411, 583, 165], \"y\": [\"MainScreenAppear\", \"OffersScreenAppear\", \"CartScreenAppear\", \"PaymentScreenSuccessful\"]}],\n",
       "                        {\"template\": {\"data\": {\"bar\": [{\"error_x\": {\"color\": \"#2a3f5f\"}, \"error_y\": {\"color\": \"#2a3f5f\"}, \"marker\": {\"line\": {\"color\": \"#E5ECF6\", \"width\": 0.5}}, \"type\": \"bar\"}], \"barpolar\": [{\"marker\": {\"line\": {\"color\": \"#E5ECF6\", \"width\": 0.5}}, \"type\": \"barpolar\"}], \"carpet\": [{\"aaxis\": {\"endlinecolor\": \"#2a3f5f\", \"gridcolor\": \"white\", \"linecolor\": \"white\", \"minorgridcolor\": \"white\", \"startlinecolor\": \"#2a3f5f\"}, \"baxis\": {\"endlinecolor\": \"#2a3f5f\", \"gridcolor\": \"white\", \"linecolor\": \"white\", \"minorgridcolor\": \"white\", \"startlinecolor\": \"#2a3f5f\"}, \"type\": \"carpet\"}], \"choropleth\": [{\"colorbar\": {\"outlinewidth\": 0, \"ticks\": \"\"}, \"type\": \"choropleth\"}], \"contour\": [{\"colorbar\": {\"outlinewidth\": 0, \"ticks\": \"\"}, \"colorscale\": [[0.0, \"#0d0887\"], [0.1111111111111111, \"#46039f\"], [0.2222222222222222, \"#7201a8\"], [0.3333333333333333, \"#9c179e\"], [0.4444444444444444, \"#bd3786\"], [0.5555555555555556, \"#d8576b\"], [0.6666666666666666, \"#ed7953\"], [0.7777777777777778, \"#fb9f3a\"], [0.8888888888888888, \"#fdca26\"], [1.0, \"#f0f921\"]], \"type\": \"contour\"}], \"contourcarpet\": [{\"colorbar\": {\"outlinewidth\": 0, \"ticks\": \"\"}, \"type\": \"contourcarpet\"}], \"heatmap\": [{\"colorbar\": {\"outlinewidth\": 0, \"ticks\": \"\"}, \"colorscale\": [[0.0, \"#0d0887\"], [0.1111111111111111, \"#46039f\"], [0.2222222222222222, \"#7201a8\"], [0.3333333333333333, \"#9c179e\"], [0.4444444444444444, \"#bd3786\"], [0.5555555555555556, \"#d8576b\"], [0.6666666666666666, \"#ed7953\"], [0.7777777777777778, \"#fb9f3a\"], [0.8888888888888888, \"#fdca26\"], [1.0, \"#f0f921\"]], \"type\": \"heatmap\"}], \"heatmapgl\": [{\"colorbar\": {\"outlinewidth\": 0, \"ticks\": \"\"}, \"colorscale\": [[0.0, \"#0d0887\"], [0.1111111111111111, \"#46039f\"], [0.2222222222222222, \"#7201a8\"], [0.3333333333333333, \"#9c179e\"], [0.4444444444444444, \"#bd3786\"], [0.5555555555555556, \"#d8576b\"], [0.6666666666666666, \"#ed7953\"], [0.7777777777777778, \"#fb9f3a\"], [0.8888888888888888, \"#fdca26\"], [1.0, \"#f0f921\"]], \"type\": \"heatmapgl\"}], \"histogram\": [{\"marker\": {\"colorbar\": {\"outlinewidth\": 0, \"ticks\": \"\"}}, \"type\": \"histogram\"}], \"histogram2d\": [{\"colorbar\": {\"outlinewidth\": 0, \"ticks\": \"\"}, \"colorscale\": [[0.0, \"#0d0887\"], [0.1111111111111111, \"#46039f\"], [0.2222222222222222, \"#7201a8\"], [0.3333333333333333, \"#9c179e\"], [0.4444444444444444, \"#bd3786\"], [0.5555555555555556, \"#d8576b\"], [0.6666666666666666, \"#ed7953\"], [0.7777777777777778, \"#fb9f3a\"], [0.8888888888888888, \"#fdca26\"], [1.0, \"#f0f921\"]], \"type\": \"histogram2d\"}], \"histogram2dcontour\": [{\"colorbar\": {\"outlinewidth\": 0, \"ticks\": \"\"}, \"colorscale\": [[0.0, \"#0d0887\"], [0.1111111111111111, \"#46039f\"], [0.2222222222222222, \"#7201a8\"], [0.3333333333333333, \"#9c179e\"], [0.4444444444444444, \"#bd3786\"], [0.5555555555555556, \"#d8576b\"], [0.6666666666666666, \"#ed7953\"], [0.7777777777777778, \"#fb9f3a\"], [0.8888888888888888, \"#fdca26\"], [1.0, \"#f0f921\"]], \"type\": \"histogram2dcontour\"}], \"mesh3d\": [{\"colorbar\": {\"outlinewidth\": 0, \"ticks\": \"\"}, \"type\": \"mesh3d\"}], \"parcoords\": [{\"line\": {\"colorbar\": {\"outlinewidth\": 0, \"ticks\": \"\"}}, \"type\": \"parcoords\"}], \"scatter\": [{\"marker\": {\"colorbar\": {\"outlinewidth\": 0, \"ticks\": \"\"}}, \"type\": \"scatter\"}], \"scatter3d\": [{\"line\": {\"colorbar\": {\"outlinewidth\": 0, \"ticks\": \"\"}}, \"marker\": {\"colorbar\": {\"outlinewidth\": 0, \"ticks\": \"\"}}, \"type\": \"scatter3d\"}], \"scattercarpet\": [{\"marker\": {\"colorbar\": {\"outlinewidth\": 0, \"ticks\": \"\"}}, \"type\": \"scattercarpet\"}], \"scattergeo\": [{\"marker\": {\"colorbar\": {\"outlinewidth\": 0, \"ticks\": \"\"}}, \"type\": \"scattergeo\"}], \"scattergl\": [{\"marker\": {\"colorbar\": {\"outlinewidth\": 0, \"ticks\": \"\"}}, \"type\": \"scattergl\"}], \"scattermapbox\": [{\"marker\": {\"colorbar\": {\"outlinewidth\": 0, \"ticks\": \"\"}}, \"type\": \"scattermapbox\"}], \"scatterpolar\": [{\"marker\": {\"colorbar\": {\"outlinewidth\": 0, \"ticks\": \"\"}}, \"type\": \"scatterpolar\"}], \"scatterpolargl\": [{\"marker\": {\"colorbar\": {\"outlinewidth\": 0, \"ticks\": \"\"}}, \"type\": \"scatterpolargl\"}], \"scatterternary\": [{\"marker\": {\"colorbar\": {\"outlinewidth\": 0, \"ticks\": \"\"}}, \"type\": \"scatterternary\"}], \"surface\": [{\"colorbar\": {\"outlinewidth\": 0, \"ticks\": \"\"}, \"colorscale\": [[0.0, \"#0d0887\"], [0.1111111111111111, \"#46039f\"], [0.2222222222222222, \"#7201a8\"], [0.3333333333333333, \"#9c179e\"], [0.4444444444444444, \"#bd3786\"], [0.5555555555555556, \"#d8576b\"], [0.6666666666666666, \"#ed7953\"], [0.7777777777777778, \"#fb9f3a\"], [0.8888888888888888, \"#fdca26\"], [1.0, \"#f0f921\"]], \"type\": \"surface\"}], \"table\": [{\"cells\": {\"fill\": {\"color\": \"#EBF0F8\"}, \"line\": {\"color\": \"white\"}}, \"header\": {\"fill\": {\"color\": \"#C8D4E3\"}, \"line\": {\"color\": \"white\"}}, \"type\": \"table\"}]}, \"layout\": {\"annotationdefaults\": {\"arrowcolor\": \"#2a3f5f\", \"arrowhead\": 0, \"arrowwidth\": 1}, \"colorscale\": {\"diverging\": [[0, \"#8e0152\"], [0.1, \"#c51b7d\"], [0.2, \"#de77ae\"], [0.3, \"#f1b6da\"], [0.4, \"#fde0ef\"], [0.5, \"#f7f7f7\"], [0.6, \"#e6f5d0\"], [0.7, \"#b8e186\"], [0.8, \"#7fbc41\"], [0.9, \"#4d9221\"], [1, \"#276419\"]], \"sequential\": [[0.0, \"#0d0887\"], [0.1111111111111111, \"#46039f\"], [0.2222222222222222, \"#7201a8\"], [0.3333333333333333, \"#9c179e\"], [0.4444444444444444, \"#bd3786\"], [0.5555555555555556, \"#d8576b\"], [0.6666666666666666, \"#ed7953\"], [0.7777777777777778, \"#fb9f3a\"], [0.8888888888888888, \"#fdca26\"], [1.0, \"#f0f921\"]], \"sequentialminus\": [[0.0, \"#0d0887\"], [0.1111111111111111, \"#46039f\"], [0.2222222222222222, \"#7201a8\"], [0.3333333333333333, \"#9c179e\"], [0.4444444444444444, \"#bd3786\"], [0.5555555555555556, \"#d8576b\"], [0.6666666666666666, \"#ed7953\"], [0.7777777777777778, \"#fb9f3a\"], [0.8888888888888888, \"#fdca26\"], [1.0, \"#f0f921\"]]}, \"colorway\": [\"#636efa\", \"#EF553B\", \"#00cc96\", \"#ab63fa\", \"#FFA15A\", \"#19d3f3\", \"#FF6692\", \"#B6E880\", \"#FF97FF\", \"#FECB52\"], \"font\": {\"color\": \"#2a3f5f\"}, \"geo\": {\"bgcolor\": \"white\", \"lakecolor\": \"white\", \"landcolor\": \"#E5ECF6\", \"showlakes\": true, \"showland\": true, \"subunitcolor\": \"white\"}, \"hoverlabel\": {\"align\": \"left\"}, \"hovermode\": \"closest\", \"mapbox\": {\"style\": \"light\"}, \"paper_bgcolor\": \"white\", \"plot_bgcolor\": \"#E5ECF6\", \"polar\": {\"angularaxis\": {\"gridcolor\": \"white\", \"linecolor\": \"white\", \"ticks\": \"\"}, \"bgcolor\": \"#E5ECF6\", \"radialaxis\": {\"gridcolor\": \"white\", \"linecolor\": \"white\", \"ticks\": \"\"}}, \"scene\": {\"xaxis\": {\"backgroundcolor\": \"#E5ECF6\", \"gridcolor\": \"white\", \"gridwidth\": 2, \"linecolor\": \"white\", \"showbackground\": true, \"ticks\": \"\", \"zerolinecolor\": \"white\"}, \"yaxis\": {\"backgroundcolor\": \"#E5ECF6\", \"gridcolor\": \"white\", \"gridwidth\": 2, \"linecolor\": \"white\", \"showbackground\": true, \"ticks\": \"\", \"zerolinecolor\": \"white\"}, \"zaxis\": {\"backgroundcolor\": \"#E5ECF6\", \"gridcolor\": \"white\", \"gridwidth\": 2, \"linecolor\": \"white\", \"showbackground\": true, \"ticks\": \"\", \"zerolinecolor\": \"white\"}}, \"shapedefaults\": {\"line\": {\"color\": \"#2a3f5f\"}}, \"ternary\": {\"aaxis\": {\"gridcolor\": \"white\", \"linecolor\": \"white\", \"ticks\": \"\"}, \"baxis\": {\"gridcolor\": \"white\", \"linecolor\": \"white\", \"ticks\": \"\"}, \"bgcolor\": \"#E5ECF6\", \"caxis\": {\"gridcolor\": \"white\", \"linecolor\": \"white\", \"ticks\": \"\"}}, \"title\": {\"x\": 0.05}, \"xaxis\": {\"automargin\": true, \"gridcolor\": \"white\", \"linecolor\": \"white\", \"ticks\": \"\", \"zerolinecolor\": \"white\", \"zerolinewidth\": 2}, \"yaxis\": {\"automargin\": true, \"gridcolor\": \"white\", \"linecolor\": \"white\", \"ticks\": \"\", \"zerolinecolor\": \"white\", \"zerolinewidth\": 2}}}},\n",
       "                        {\"responsive\": true}\n",
       "                    ).then(function(){\n",
       "                            \n",
       "var gd = document.getElementById('2ed9261b-fa2b-41b8-ab2d-670ef85d7c1b');\n",
       "var x = new MutationObserver(function (mutations, observer) {{\n",
       "        var display = window.getComputedStyle(gd).display;\n",
       "        if (!display || display === 'none') {{\n",
       "            console.log([gd, 'removed!']);\n",
       "            Plotly.purge(gd);\n",
       "            observer.disconnect();\n",
       "        }}\n",
       "}});\n",
       "\n",
       "// Listen for the removal of the full notebook cells\n",
       "var notebookContainer = gd.closest('#notebook-container');\n",
       "if (notebookContainer) {{\n",
       "    x.observe(notebookContainer, {childList: true});\n",
       "}}\n",
       "\n",
       "// Listen for the clearing of the current output cell\n",
       "var outputEl = gd.closest('.output');\n",
       "if (outputEl) {{\n",
       "    x.observe(outputEl, {childList: true});\n",
       "}}\n",
       "\n",
       "                        })\n",
       "                };\n",
       "                });\n",
       "            </script>\n",
       "        </div>"
      ]
     },
     "metadata": {},
     "output_type": "display_data"
    }
   ],
   "source": [
    "fig = go.Figure()\n",
    "\n",
    "fig.add_trace(go.Funnel(\n",
    "    name = '246',\n",
    "    y = funnel_246.index,\n",
    "    x = funnel_246['users'],\n",
    "    textinfo = 'value+percent initial'\n",
    "))\n",
    "\n",
    "fig.add_trace(go.Funnel(\n",
    "    name = '247',\n",
    "    y = funnel_247.index,\n",
    "    x = funnel_247['users'],\n",
    "    textinfo = 'value+percent initial'\n",
    "))\n",
    "\n",
    "fig.add_trace(go.Funnel(\n",
    "    name = '248',\n",
    "    y = funnel_248.index,\n",
    "    x = funnel_248['users'],\n",
    "    textinfo = 'value+percent initial'\n",
    "))\n",
    "\n",
    "fig.show()"
   ]
  },
  {
   "cell_type": "markdown",
   "id": "30a01266",
   "metadata": {},
   "source": [
    "Больше всего пользователей теряется после главного экрана, 6,1% от всех пользователей доходит от главного экрана, по группам 246, 247, 248 от главного экрана до покупки доходит 5,9% 5,8% и 6,6% соответственно."
   ]
  },
  {
   "cell_type": "markdown",
   "id": "53574d5f",
   "metadata": {},
   "source": [
    "Построим воронки для вожможных вариаций пользовательского пути."
   ]
  },
  {
   "cell_type": "code",
   "execution_count": 38,
   "id": "8fc0dd84",
   "metadata": {},
   "outputs": [
    {
     "data": {
      "application/vnd.plotly.v1+json": {
       "config": {
        "plotlyServerURL": "https://plot.ly"
       },
       "data": [
        {
         "textinfo": "value+percent initial",
         "type": "funnel",
         "x": [
          4578,
          2014,
          503
         ],
         "y": [
          "OffersScreenAppear",
          "CartScreenAppear",
          "PaymentScreenSuccessful"
         ]
        }
       ],
       "layout": {
        "template": {
         "data": {
          "bar": [
           {
            "error_x": {
             "color": "#2a3f5f"
            },
            "error_y": {
             "color": "#2a3f5f"
            },
            "marker": {
             "line": {
              "color": "#E5ECF6",
              "width": 0.5
             }
            },
            "type": "bar"
           }
          ],
          "barpolar": [
           {
            "marker": {
             "line": {
              "color": "#E5ECF6",
              "width": 0.5
             }
            },
            "type": "barpolar"
           }
          ],
          "carpet": [
           {
            "aaxis": {
             "endlinecolor": "#2a3f5f",
             "gridcolor": "white",
             "linecolor": "white",
             "minorgridcolor": "white",
             "startlinecolor": "#2a3f5f"
            },
            "baxis": {
             "endlinecolor": "#2a3f5f",
             "gridcolor": "white",
             "linecolor": "white",
             "minorgridcolor": "white",
             "startlinecolor": "#2a3f5f"
            },
            "type": "carpet"
           }
          ],
          "choropleth": [
           {
            "colorbar": {
             "outlinewidth": 0,
             "ticks": ""
            },
            "type": "choropleth"
           }
          ],
          "contour": [
           {
            "colorbar": {
             "outlinewidth": 0,
             "ticks": ""
            },
            "colorscale": [
             [
              0,
              "#0d0887"
             ],
             [
              0.1111111111111111,
              "#46039f"
             ],
             [
              0.2222222222222222,
              "#7201a8"
             ],
             [
              0.3333333333333333,
              "#9c179e"
             ],
             [
              0.4444444444444444,
              "#bd3786"
             ],
             [
              0.5555555555555556,
              "#d8576b"
             ],
             [
              0.6666666666666666,
              "#ed7953"
             ],
             [
              0.7777777777777778,
              "#fb9f3a"
             ],
             [
              0.8888888888888888,
              "#fdca26"
             ],
             [
              1,
              "#f0f921"
             ]
            ],
            "type": "contour"
           }
          ],
          "contourcarpet": [
           {
            "colorbar": {
             "outlinewidth": 0,
             "ticks": ""
            },
            "type": "contourcarpet"
           }
          ],
          "heatmap": [
           {
            "colorbar": {
             "outlinewidth": 0,
             "ticks": ""
            },
            "colorscale": [
             [
              0,
              "#0d0887"
             ],
             [
              0.1111111111111111,
              "#46039f"
             ],
             [
              0.2222222222222222,
              "#7201a8"
             ],
             [
              0.3333333333333333,
              "#9c179e"
             ],
             [
              0.4444444444444444,
              "#bd3786"
             ],
             [
              0.5555555555555556,
              "#d8576b"
             ],
             [
              0.6666666666666666,
              "#ed7953"
             ],
             [
              0.7777777777777778,
              "#fb9f3a"
             ],
             [
              0.8888888888888888,
              "#fdca26"
             ],
             [
              1,
              "#f0f921"
             ]
            ],
            "type": "heatmap"
           }
          ],
          "heatmapgl": [
           {
            "colorbar": {
             "outlinewidth": 0,
             "ticks": ""
            },
            "colorscale": [
             [
              0,
              "#0d0887"
             ],
             [
              0.1111111111111111,
              "#46039f"
             ],
             [
              0.2222222222222222,
              "#7201a8"
             ],
             [
              0.3333333333333333,
              "#9c179e"
             ],
             [
              0.4444444444444444,
              "#bd3786"
             ],
             [
              0.5555555555555556,
              "#d8576b"
             ],
             [
              0.6666666666666666,
              "#ed7953"
             ],
             [
              0.7777777777777778,
              "#fb9f3a"
             ],
             [
              0.8888888888888888,
              "#fdca26"
             ],
             [
              1,
              "#f0f921"
             ]
            ],
            "type": "heatmapgl"
           }
          ],
          "histogram": [
           {
            "marker": {
             "colorbar": {
              "outlinewidth": 0,
              "ticks": ""
             }
            },
            "type": "histogram"
           }
          ],
          "histogram2d": [
           {
            "colorbar": {
             "outlinewidth": 0,
             "ticks": ""
            },
            "colorscale": [
             [
              0,
              "#0d0887"
             ],
             [
              0.1111111111111111,
              "#46039f"
             ],
             [
              0.2222222222222222,
              "#7201a8"
             ],
             [
              0.3333333333333333,
              "#9c179e"
             ],
             [
              0.4444444444444444,
              "#bd3786"
             ],
             [
              0.5555555555555556,
              "#d8576b"
             ],
             [
              0.6666666666666666,
              "#ed7953"
             ],
             [
              0.7777777777777778,
              "#fb9f3a"
             ],
             [
              0.8888888888888888,
              "#fdca26"
             ],
             [
              1,
              "#f0f921"
             ]
            ],
            "type": "histogram2d"
           }
          ],
          "histogram2dcontour": [
           {
            "colorbar": {
             "outlinewidth": 0,
             "ticks": ""
            },
            "colorscale": [
             [
              0,
              "#0d0887"
             ],
             [
              0.1111111111111111,
              "#46039f"
             ],
             [
              0.2222222222222222,
              "#7201a8"
             ],
             [
              0.3333333333333333,
              "#9c179e"
             ],
             [
              0.4444444444444444,
              "#bd3786"
             ],
             [
              0.5555555555555556,
              "#d8576b"
             ],
             [
              0.6666666666666666,
              "#ed7953"
             ],
             [
              0.7777777777777778,
              "#fb9f3a"
             ],
             [
              0.8888888888888888,
              "#fdca26"
             ],
             [
              1,
              "#f0f921"
             ]
            ],
            "type": "histogram2dcontour"
           }
          ],
          "mesh3d": [
           {
            "colorbar": {
             "outlinewidth": 0,
             "ticks": ""
            },
            "type": "mesh3d"
           }
          ],
          "parcoords": [
           {
            "line": {
             "colorbar": {
              "outlinewidth": 0,
              "ticks": ""
             }
            },
            "type": "parcoords"
           }
          ],
          "scatter": [
           {
            "marker": {
             "colorbar": {
              "outlinewidth": 0,
              "ticks": ""
             }
            },
            "type": "scatter"
           }
          ],
          "scatter3d": [
           {
            "line": {
             "colorbar": {
              "outlinewidth": 0,
              "ticks": ""
             }
            },
            "marker": {
             "colorbar": {
              "outlinewidth": 0,
              "ticks": ""
             }
            },
            "type": "scatter3d"
           }
          ],
          "scattercarpet": [
           {
            "marker": {
             "colorbar": {
              "outlinewidth": 0,
              "ticks": ""
             }
            },
            "type": "scattercarpet"
           }
          ],
          "scattergeo": [
           {
            "marker": {
             "colorbar": {
              "outlinewidth": 0,
              "ticks": ""
             }
            },
            "type": "scattergeo"
           }
          ],
          "scattergl": [
           {
            "marker": {
             "colorbar": {
              "outlinewidth": 0,
              "ticks": ""
             }
            },
            "type": "scattergl"
           }
          ],
          "scattermapbox": [
           {
            "marker": {
             "colorbar": {
              "outlinewidth": 0,
              "ticks": ""
             }
            },
            "type": "scattermapbox"
           }
          ],
          "scatterpolar": [
           {
            "marker": {
             "colorbar": {
              "outlinewidth": 0,
              "ticks": ""
             }
            },
            "type": "scatterpolar"
           }
          ],
          "scatterpolargl": [
           {
            "marker": {
             "colorbar": {
              "outlinewidth": 0,
              "ticks": ""
             }
            },
            "type": "scatterpolargl"
           }
          ],
          "scatterternary": [
           {
            "marker": {
             "colorbar": {
              "outlinewidth": 0,
              "ticks": ""
             }
            },
            "type": "scatterternary"
           }
          ],
          "surface": [
           {
            "colorbar": {
             "outlinewidth": 0,
             "ticks": ""
            },
            "colorscale": [
             [
              0,
              "#0d0887"
             ],
             [
              0.1111111111111111,
              "#46039f"
             ],
             [
              0.2222222222222222,
              "#7201a8"
             ],
             [
              0.3333333333333333,
              "#9c179e"
             ],
             [
              0.4444444444444444,
              "#bd3786"
             ],
             [
              0.5555555555555556,
              "#d8576b"
             ],
             [
              0.6666666666666666,
              "#ed7953"
             ],
             [
              0.7777777777777778,
              "#fb9f3a"
             ],
             [
              0.8888888888888888,
              "#fdca26"
             ],
             [
              1,
              "#f0f921"
             ]
            ],
            "type": "surface"
           }
          ],
          "table": [
           {
            "cells": {
             "fill": {
              "color": "#EBF0F8"
             },
             "line": {
              "color": "white"
             }
            },
            "header": {
             "fill": {
              "color": "#C8D4E3"
             },
             "line": {
              "color": "white"
             }
            },
            "type": "table"
           }
          ]
         },
         "layout": {
          "annotationdefaults": {
           "arrowcolor": "#2a3f5f",
           "arrowhead": 0,
           "arrowwidth": 1
          },
          "colorscale": {
           "diverging": [
            [
             0,
             "#8e0152"
            ],
            [
             0.1,
             "#c51b7d"
            ],
            [
             0.2,
             "#de77ae"
            ],
            [
             0.3,
             "#f1b6da"
            ],
            [
             0.4,
             "#fde0ef"
            ],
            [
             0.5,
             "#f7f7f7"
            ],
            [
             0.6,
             "#e6f5d0"
            ],
            [
             0.7,
             "#b8e186"
            ],
            [
             0.8,
             "#7fbc41"
            ],
            [
             0.9,
             "#4d9221"
            ],
            [
             1,
             "#276419"
            ]
           ],
           "sequential": [
            [
             0,
             "#0d0887"
            ],
            [
             0.1111111111111111,
             "#46039f"
            ],
            [
             0.2222222222222222,
             "#7201a8"
            ],
            [
             0.3333333333333333,
             "#9c179e"
            ],
            [
             0.4444444444444444,
             "#bd3786"
            ],
            [
             0.5555555555555556,
             "#d8576b"
            ],
            [
             0.6666666666666666,
             "#ed7953"
            ],
            [
             0.7777777777777778,
             "#fb9f3a"
            ],
            [
             0.8888888888888888,
             "#fdca26"
            ],
            [
             1,
             "#f0f921"
            ]
           ],
           "sequentialminus": [
            [
             0,
             "#0d0887"
            ],
            [
             0.1111111111111111,
             "#46039f"
            ],
            [
             0.2222222222222222,
             "#7201a8"
            ],
            [
             0.3333333333333333,
             "#9c179e"
            ],
            [
             0.4444444444444444,
             "#bd3786"
            ],
            [
             0.5555555555555556,
             "#d8576b"
            ],
            [
             0.6666666666666666,
             "#ed7953"
            ],
            [
             0.7777777777777778,
             "#fb9f3a"
            ],
            [
             0.8888888888888888,
             "#fdca26"
            ],
            [
             1,
             "#f0f921"
            ]
           ]
          },
          "colorway": [
           "#636efa",
           "#EF553B",
           "#00cc96",
           "#ab63fa",
           "#FFA15A",
           "#19d3f3",
           "#FF6692",
           "#B6E880",
           "#FF97FF",
           "#FECB52"
          ],
          "font": {
           "color": "#2a3f5f"
          },
          "geo": {
           "bgcolor": "white",
           "lakecolor": "white",
           "landcolor": "#E5ECF6",
           "showlakes": true,
           "showland": true,
           "subunitcolor": "white"
          },
          "hoverlabel": {
           "align": "left"
          },
          "hovermode": "closest",
          "mapbox": {
           "style": "light"
          },
          "paper_bgcolor": "white",
          "plot_bgcolor": "#E5ECF6",
          "polar": {
           "angularaxis": {
            "gridcolor": "white",
            "linecolor": "white",
            "ticks": ""
           },
           "bgcolor": "#E5ECF6",
           "radialaxis": {
            "gridcolor": "white",
            "linecolor": "white",
            "ticks": ""
           }
          },
          "scene": {
           "xaxis": {
            "backgroundcolor": "#E5ECF6",
            "gridcolor": "white",
            "gridwidth": 2,
            "linecolor": "white",
            "showbackground": true,
            "ticks": "",
            "zerolinecolor": "white"
           },
           "yaxis": {
            "backgroundcolor": "#E5ECF6",
            "gridcolor": "white",
            "gridwidth": 2,
            "linecolor": "white",
            "showbackground": true,
            "ticks": "",
            "zerolinecolor": "white"
           },
           "zaxis": {
            "backgroundcolor": "#E5ECF6",
            "gridcolor": "white",
            "gridwidth": 2,
            "linecolor": "white",
            "showbackground": true,
            "ticks": "",
            "zerolinecolor": "white"
           }
          },
          "shapedefaults": {
           "line": {
            "color": "#2a3f5f"
           }
          },
          "ternary": {
           "aaxis": {
            "gridcolor": "white",
            "linecolor": "white",
            "ticks": ""
           },
           "baxis": {
            "gridcolor": "white",
            "linecolor": "white",
            "ticks": ""
           },
           "bgcolor": "#E5ECF6",
           "caxis": {
            "gridcolor": "white",
            "linecolor": "white",
            "ticks": ""
           }
          },
          "title": {
           "x": 0.05
          },
          "xaxis": {
           "automargin": true,
           "gridcolor": "white",
           "linecolor": "white",
           "ticks": "",
           "zerolinecolor": "white",
           "zerolinewidth": 2
          },
          "yaxis": {
           "automargin": true,
           "gridcolor": "white",
           "linecolor": "white",
           "ticks": "",
           "zerolinecolor": "white",
           "zerolinewidth": 2
          }
         }
        }
       }
      },
      "text/html": [
       "<div>\n",
       "        \n",
       "        \n",
       "            <div id=\"e5874ee0-5c77-4637-9426-a11aafbed6a1\" class=\"plotly-graph-div\" style=\"height:525px; width:100%;\"></div>\n",
       "            <script type=\"text/javascript\">\n",
       "                require([\"plotly\"], function(Plotly) {\n",
       "                    window.PLOTLYENV=window.PLOTLYENV || {};\n",
       "                    \n",
       "                if (document.getElementById(\"e5874ee0-5c77-4637-9426-a11aafbed6a1\")) {\n",
       "                    Plotly.newPlot(\n",
       "                        'e5874ee0-5c77-4637-9426-a11aafbed6a1',\n",
       "                        [{\"textinfo\": \"value+percent initial\", \"type\": \"funnel\", \"x\": [4578, 2014, 503], \"y\": [\"OffersScreenAppear\", \"CartScreenAppear\", \"PaymentScreenSuccessful\"]}],\n",
       "                        {\"template\": {\"data\": {\"bar\": [{\"error_x\": {\"color\": \"#2a3f5f\"}, \"error_y\": {\"color\": \"#2a3f5f\"}, \"marker\": {\"line\": {\"color\": \"#E5ECF6\", \"width\": 0.5}}, \"type\": \"bar\"}], \"barpolar\": [{\"marker\": {\"line\": {\"color\": \"#E5ECF6\", \"width\": 0.5}}, \"type\": \"barpolar\"}], \"carpet\": [{\"aaxis\": {\"endlinecolor\": \"#2a3f5f\", \"gridcolor\": \"white\", \"linecolor\": \"white\", \"minorgridcolor\": \"white\", \"startlinecolor\": \"#2a3f5f\"}, \"baxis\": {\"endlinecolor\": \"#2a3f5f\", \"gridcolor\": \"white\", \"linecolor\": \"white\", \"minorgridcolor\": \"white\", \"startlinecolor\": \"#2a3f5f\"}, \"type\": \"carpet\"}], \"choropleth\": [{\"colorbar\": {\"outlinewidth\": 0, \"ticks\": \"\"}, \"type\": \"choropleth\"}], \"contour\": [{\"colorbar\": {\"outlinewidth\": 0, \"ticks\": \"\"}, \"colorscale\": [[0.0, \"#0d0887\"], [0.1111111111111111, \"#46039f\"], [0.2222222222222222, \"#7201a8\"], [0.3333333333333333, \"#9c179e\"], [0.4444444444444444, \"#bd3786\"], [0.5555555555555556, \"#d8576b\"], [0.6666666666666666, \"#ed7953\"], [0.7777777777777778, \"#fb9f3a\"], [0.8888888888888888, \"#fdca26\"], [1.0, \"#f0f921\"]], \"type\": \"contour\"}], \"contourcarpet\": [{\"colorbar\": {\"outlinewidth\": 0, \"ticks\": \"\"}, \"type\": \"contourcarpet\"}], \"heatmap\": [{\"colorbar\": {\"outlinewidth\": 0, \"ticks\": \"\"}, \"colorscale\": [[0.0, \"#0d0887\"], [0.1111111111111111, \"#46039f\"], [0.2222222222222222, \"#7201a8\"], [0.3333333333333333, \"#9c179e\"], [0.4444444444444444, \"#bd3786\"], [0.5555555555555556, \"#d8576b\"], [0.6666666666666666, \"#ed7953\"], [0.7777777777777778, \"#fb9f3a\"], [0.8888888888888888, \"#fdca26\"], [1.0, \"#f0f921\"]], \"type\": \"heatmap\"}], \"heatmapgl\": [{\"colorbar\": {\"outlinewidth\": 0, \"ticks\": \"\"}, \"colorscale\": [[0.0, \"#0d0887\"], [0.1111111111111111, \"#46039f\"], [0.2222222222222222, \"#7201a8\"], [0.3333333333333333, \"#9c179e\"], [0.4444444444444444, \"#bd3786\"], [0.5555555555555556, \"#d8576b\"], [0.6666666666666666, \"#ed7953\"], [0.7777777777777778, \"#fb9f3a\"], [0.8888888888888888, \"#fdca26\"], [1.0, \"#f0f921\"]], \"type\": \"heatmapgl\"}], \"histogram\": [{\"marker\": {\"colorbar\": {\"outlinewidth\": 0, \"ticks\": \"\"}}, \"type\": \"histogram\"}], \"histogram2d\": [{\"colorbar\": {\"outlinewidth\": 0, \"ticks\": \"\"}, \"colorscale\": [[0.0, \"#0d0887\"], [0.1111111111111111, \"#46039f\"], [0.2222222222222222, \"#7201a8\"], [0.3333333333333333, \"#9c179e\"], [0.4444444444444444, \"#bd3786\"], [0.5555555555555556, \"#d8576b\"], [0.6666666666666666, \"#ed7953\"], [0.7777777777777778, \"#fb9f3a\"], [0.8888888888888888, \"#fdca26\"], [1.0, \"#f0f921\"]], \"type\": \"histogram2d\"}], \"histogram2dcontour\": [{\"colorbar\": {\"outlinewidth\": 0, \"ticks\": \"\"}, \"colorscale\": [[0.0, \"#0d0887\"], [0.1111111111111111, \"#46039f\"], [0.2222222222222222, \"#7201a8\"], [0.3333333333333333, \"#9c179e\"], [0.4444444444444444, \"#bd3786\"], [0.5555555555555556, \"#d8576b\"], [0.6666666666666666, \"#ed7953\"], [0.7777777777777778, \"#fb9f3a\"], [0.8888888888888888, \"#fdca26\"], [1.0, \"#f0f921\"]], \"type\": \"histogram2dcontour\"}], \"mesh3d\": [{\"colorbar\": {\"outlinewidth\": 0, \"ticks\": \"\"}, \"type\": \"mesh3d\"}], \"parcoords\": [{\"line\": {\"colorbar\": {\"outlinewidth\": 0, \"ticks\": \"\"}}, \"type\": \"parcoords\"}], \"scatter\": [{\"marker\": {\"colorbar\": {\"outlinewidth\": 0, \"ticks\": \"\"}}, \"type\": \"scatter\"}], \"scatter3d\": [{\"line\": {\"colorbar\": {\"outlinewidth\": 0, \"ticks\": \"\"}}, \"marker\": {\"colorbar\": {\"outlinewidth\": 0, \"ticks\": \"\"}}, \"type\": \"scatter3d\"}], \"scattercarpet\": [{\"marker\": {\"colorbar\": {\"outlinewidth\": 0, \"ticks\": \"\"}}, \"type\": \"scattercarpet\"}], \"scattergeo\": [{\"marker\": {\"colorbar\": {\"outlinewidth\": 0, \"ticks\": \"\"}}, \"type\": \"scattergeo\"}], \"scattergl\": [{\"marker\": {\"colorbar\": {\"outlinewidth\": 0, \"ticks\": \"\"}}, \"type\": \"scattergl\"}], \"scattermapbox\": [{\"marker\": {\"colorbar\": {\"outlinewidth\": 0, \"ticks\": \"\"}}, \"type\": \"scattermapbox\"}], \"scatterpolar\": [{\"marker\": {\"colorbar\": {\"outlinewidth\": 0, \"ticks\": \"\"}}, \"type\": \"scatterpolar\"}], \"scatterpolargl\": [{\"marker\": {\"colorbar\": {\"outlinewidth\": 0, \"ticks\": \"\"}}, \"type\": \"scatterpolargl\"}], \"scatterternary\": [{\"marker\": {\"colorbar\": {\"outlinewidth\": 0, \"ticks\": \"\"}}, \"type\": \"scatterternary\"}], \"surface\": [{\"colorbar\": {\"outlinewidth\": 0, \"ticks\": \"\"}, \"colorscale\": [[0.0, \"#0d0887\"], [0.1111111111111111, \"#46039f\"], [0.2222222222222222, \"#7201a8\"], [0.3333333333333333, \"#9c179e\"], [0.4444444444444444, \"#bd3786\"], [0.5555555555555556, \"#d8576b\"], [0.6666666666666666, \"#ed7953\"], [0.7777777777777778, \"#fb9f3a\"], [0.8888888888888888, \"#fdca26\"], [1.0, \"#f0f921\"]], \"type\": \"surface\"}], \"table\": [{\"cells\": {\"fill\": {\"color\": \"#EBF0F8\"}, \"line\": {\"color\": \"white\"}}, \"header\": {\"fill\": {\"color\": \"#C8D4E3\"}, \"line\": {\"color\": \"white\"}}, \"type\": \"table\"}]}, \"layout\": {\"annotationdefaults\": {\"arrowcolor\": \"#2a3f5f\", \"arrowhead\": 0, \"arrowwidth\": 1}, \"colorscale\": {\"diverging\": [[0, \"#8e0152\"], [0.1, \"#c51b7d\"], [0.2, \"#de77ae\"], [0.3, \"#f1b6da\"], [0.4, \"#fde0ef\"], [0.5, \"#f7f7f7\"], [0.6, \"#e6f5d0\"], [0.7, \"#b8e186\"], [0.8, \"#7fbc41\"], [0.9, \"#4d9221\"], [1, \"#276419\"]], \"sequential\": [[0.0, \"#0d0887\"], [0.1111111111111111, \"#46039f\"], [0.2222222222222222, \"#7201a8\"], [0.3333333333333333, \"#9c179e\"], [0.4444444444444444, \"#bd3786\"], [0.5555555555555556, \"#d8576b\"], [0.6666666666666666, \"#ed7953\"], [0.7777777777777778, \"#fb9f3a\"], [0.8888888888888888, \"#fdca26\"], [1.0, \"#f0f921\"]], \"sequentialminus\": [[0.0, \"#0d0887\"], [0.1111111111111111, \"#46039f\"], [0.2222222222222222, \"#7201a8\"], [0.3333333333333333, \"#9c179e\"], [0.4444444444444444, \"#bd3786\"], [0.5555555555555556, \"#d8576b\"], [0.6666666666666666, \"#ed7953\"], [0.7777777777777778, \"#fb9f3a\"], [0.8888888888888888, \"#fdca26\"], [1.0, \"#f0f921\"]]}, \"colorway\": [\"#636efa\", \"#EF553B\", \"#00cc96\", \"#ab63fa\", \"#FFA15A\", \"#19d3f3\", \"#FF6692\", \"#B6E880\", \"#FF97FF\", \"#FECB52\"], \"font\": {\"color\": \"#2a3f5f\"}, \"geo\": {\"bgcolor\": \"white\", \"lakecolor\": \"white\", \"landcolor\": \"#E5ECF6\", \"showlakes\": true, \"showland\": true, \"subunitcolor\": \"white\"}, \"hoverlabel\": {\"align\": \"left\"}, \"hovermode\": \"closest\", \"mapbox\": {\"style\": \"light\"}, \"paper_bgcolor\": \"white\", \"plot_bgcolor\": \"#E5ECF6\", \"polar\": {\"angularaxis\": {\"gridcolor\": \"white\", \"linecolor\": \"white\", \"ticks\": \"\"}, \"bgcolor\": \"#E5ECF6\", \"radialaxis\": {\"gridcolor\": \"white\", \"linecolor\": \"white\", \"ticks\": \"\"}}, \"scene\": {\"xaxis\": {\"backgroundcolor\": \"#E5ECF6\", \"gridcolor\": \"white\", \"gridwidth\": 2, \"linecolor\": \"white\", \"showbackground\": true, \"ticks\": \"\", \"zerolinecolor\": \"white\"}, \"yaxis\": {\"backgroundcolor\": \"#E5ECF6\", \"gridcolor\": \"white\", \"gridwidth\": 2, \"linecolor\": \"white\", \"showbackground\": true, \"ticks\": \"\", \"zerolinecolor\": \"white\"}, \"zaxis\": {\"backgroundcolor\": \"#E5ECF6\", \"gridcolor\": \"white\", \"gridwidth\": 2, \"linecolor\": \"white\", \"showbackground\": true, \"ticks\": \"\", \"zerolinecolor\": \"white\"}}, \"shapedefaults\": {\"line\": {\"color\": \"#2a3f5f\"}}, \"ternary\": {\"aaxis\": {\"gridcolor\": \"white\", \"linecolor\": \"white\", \"ticks\": \"\"}, \"baxis\": {\"gridcolor\": \"white\", \"linecolor\": \"white\", \"ticks\": \"\"}, \"bgcolor\": \"#E5ECF6\", \"caxis\": {\"gridcolor\": \"white\", \"linecolor\": \"white\", \"ticks\": \"\"}}, \"title\": {\"x\": 0.05}, \"xaxis\": {\"automargin\": true, \"gridcolor\": \"white\", \"linecolor\": \"white\", \"ticks\": \"\", \"zerolinecolor\": \"white\", \"zerolinewidth\": 2}, \"yaxis\": {\"automargin\": true, \"gridcolor\": \"white\", \"linecolor\": \"white\", \"ticks\": \"\", \"zerolinecolor\": \"white\", \"zerolinewidth\": 2}}}},\n",
       "                        {\"responsive\": true}\n",
       "                    ).then(function(){\n",
       "                            \n",
       "var gd = document.getElementById('e5874ee0-5c77-4637-9426-a11aafbed6a1');\n",
       "var x = new MutationObserver(function (mutations, observer) {{\n",
       "        var display = window.getComputedStyle(gd).display;\n",
       "        if (!display || display === 'none') {{\n",
       "            console.log([gd, 'removed!']);\n",
       "            Plotly.purge(gd);\n",
       "            observer.disconnect();\n",
       "        }}\n",
       "}});\n",
       "\n",
       "// Listen for the removal of the full notebook cells\n",
       "var notebookContainer = gd.closest('#notebook-container');\n",
       "if (notebookContainer) {{\n",
       "    x.observe(notebookContainer, {childList: true});\n",
       "}}\n",
       "\n",
       "// Listen for the clearing of the current output cell\n",
       "var outputEl = gd.closest('.output');\n",
       "if (outputEl) {{\n",
       "    x.observe(outputEl, {childList: true});\n",
       "}}\n",
       "\n",
       "                        })\n",
       "                };\n",
       "                });\n",
       "            </script>\n",
       "        </div>"
      ]
     },
     "metadata": {},
     "output_type": "display_data"
    }
   ],
   "source": [
    "step_1 = ~users['OffersScreenAppear'].isna()\n",
    "step_2 = step_1 & (users['CartScreenAppear'] > users['OffersScreenAppear'])\n",
    "step_3 = step_2 & (users['PaymentScreenSuccessful'] > users['CartScreenAppear'])\n",
    "\n",
    "funnel_2 = pd.DataFrame(columns=['users'],\n",
    "                    index=['OffersScreenAppear',\n",
    "                        'CartScreenAppear',\n",
    "                        'PaymentScreenSuccessful'])\n",
    "\n",
    "funnel_2['OffersScreenAppear':] =  users[step_1].shape[0]\n",
    "funnel_2['CartScreenAppear':] = users[step_2].shape[0]\n",
    "funnel_2['PaymentScreenSuccessful':] = users[step_3].shape[0]\n",
    "\n",
    "fig = go.Figure()\n",
    "\n",
    "fig.add_trace(go.Funnel(\n",
    "    y = funnel_2.index,\n",
    "    x = funnel_2['users'],\n",
    "    textinfo = 'value+percent initial'\n",
    "))\n",
    "\n",
    "fig.show()\n"
   ]
  },
  {
   "cell_type": "markdown",
   "id": "6bc97dff",
   "metadata": {},
   "source": [
    "Данная воронка отражает только пользователей прошедших путь 'OffersScreenAppear' - 'CartScreenAppear' - 'PaymentScreenSuccessful'"
   ]
  },
  {
   "cell_type": "code",
   "execution_count": 39,
   "id": "4870ea18",
   "metadata": {},
   "outputs": [
    {
     "data": {
      "application/vnd.plotly.v1+json": {
       "config": {
        "plotlyServerURL": "https://plot.ly"
       },
       "data": [
        {
         "textinfo": "value+percent initial",
         "type": "funnel",
         "x": [
          3714,
          955
         ],
         "y": [
          "CartScreenAppear",
          "PaymentScreenSuccessful"
         ]
        }
       ],
       "layout": {
        "template": {
         "data": {
          "bar": [
           {
            "error_x": {
             "color": "#2a3f5f"
            },
            "error_y": {
             "color": "#2a3f5f"
            },
            "marker": {
             "line": {
              "color": "#E5ECF6",
              "width": 0.5
             }
            },
            "type": "bar"
           }
          ],
          "barpolar": [
           {
            "marker": {
             "line": {
              "color": "#E5ECF6",
              "width": 0.5
             }
            },
            "type": "barpolar"
           }
          ],
          "carpet": [
           {
            "aaxis": {
             "endlinecolor": "#2a3f5f",
             "gridcolor": "white",
             "linecolor": "white",
             "minorgridcolor": "white",
             "startlinecolor": "#2a3f5f"
            },
            "baxis": {
             "endlinecolor": "#2a3f5f",
             "gridcolor": "white",
             "linecolor": "white",
             "minorgridcolor": "white",
             "startlinecolor": "#2a3f5f"
            },
            "type": "carpet"
           }
          ],
          "choropleth": [
           {
            "colorbar": {
             "outlinewidth": 0,
             "ticks": ""
            },
            "type": "choropleth"
           }
          ],
          "contour": [
           {
            "colorbar": {
             "outlinewidth": 0,
             "ticks": ""
            },
            "colorscale": [
             [
              0,
              "#0d0887"
             ],
             [
              0.1111111111111111,
              "#46039f"
             ],
             [
              0.2222222222222222,
              "#7201a8"
             ],
             [
              0.3333333333333333,
              "#9c179e"
             ],
             [
              0.4444444444444444,
              "#bd3786"
             ],
             [
              0.5555555555555556,
              "#d8576b"
             ],
             [
              0.6666666666666666,
              "#ed7953"
             ],
             [
              0.7777777777777778,
              "#fb9f3a"
             ],
             [
              0.8888888888888888,
              "#fdca26"
             ],
             [
              1,
              "#f0f921"
             ]
            ],
            "type": "contour"
           }
          ],
          "contourcarpet": [
           {
            "colorbar": {
             "outlinewidth": 0,
             "ticks": ""
            },
            "type": "contourcarpet"
           }
          ],
          "heatmap": [
           {
            "colorbar": {
             "outlinewidth": 0,
             "ticks": ""
            },
            "colorscale": [
             [
              0,
              "#0d0887"
             ],
             [
              0.1111111111111111,
              "#46039f"
             ],
             [
              0.2222222222222222,
              "#7201a8"
             ],
             [
              0.3333333333333333,
              "#9c179e"
             ],
             [
              0.4444444444444444,
              "#bd3786"
             ],
             [
              0.5555555555555556,
              "#d8576b"
             ],
             [
              0.6666666666666666,
              "#ed7953"
             ],
             [
              0.7777777777777778,
              "#fb9f3a"
             ],
             [
              0.8888888888888888,
              "#fdca26"
             ],
             [
              1,
              "#f0f921"
             ]
            ],
            "type": "heatmap"
           }
          ],
          "heatmapgl": [
           {
            "colorbar": {
             "outlinewidth": 0,
             "ticks": ""
            },
            "colorscale": [
             [
              0,
              "#0d0887"
             ],
             [
              0.1111111111111111,
              "#46039f"
             ],
             [
              0.2222222222222222,
              "#7201a8"
             ],
             [
              0.3333333333333333,
              "#9c179e"
             ],
             [
              0.4444444444444444,
              "#bd3786"
             ],
             [
              0.5555555555555556,
              "#d8576b"
             ],
             [
              0.6666666666666666,
              "#ed7953"
             ],
             [
              0.7777777777777778,
              "#fb9f3a"
             ],
             [
              0.8888888888888888,
              "#fdca26"
             ],
             [
              1,
              "#f0f921"
             ]
            ],
            "type": "heatmapgl"
           }
          ],
          "histogram": [
           {
            "marker": {
             "colorbar": {
              "outlinewidth": 0,
              "ticks": ""
             }
            },
            "type": "histogram"
           }
          ],
          "histogram2d": [
           {
            "colorbar": {
             "outlinewidth": 0,
             "ticks": ""
            },
            "colorscale": [
             [
              0,
              "#0d0887"
             ],
             [
              0.1111111111111111,
              "#46039f"
             ],
             [
              0.2222222222222222,
              "#7201a8"
             ],
             [
              0.3333333333333333,
              "#9c179e"
             ],
             [
              0.4444444444444444,
              "#bd3786"
             ],
             [
              0.5555555555555556,
              "#d8576b"
             ],
             [
              0.6666666666666666,
              "#ed7953"
             ],
             [
              0.7777777777777778,
              "#fb9f3a"
             ],
             [
              0.8888888888888888,
              "#fdca26"
             ],
             [
              1,
              "#f0f921"
             ]
            ],
            "type": "histogram2d"
           }
          ],
          "histogram2dcontour": [
           {
            "colorbar": {
             "outlinewidth": 0,
             "ticks": ""
            },
            "colorscale": [
             [
              0,
              "#0d0887"
             ],
             [
              0.1111111111111111,
              "#46039f"
             ],
             [
              0.2222222222222222,
              "#7201a8"
             ],
             [
              0.3333333333333333,
              "#9c179e"
             ],
             [
              0.4444444444444444,
              "#bd3786"
             ],
             [
              0.5555555555555556,
              "#d8576b"
             ],
             [
              0.6666666666666666,
              "#ed7953"
             ],
             [
              0.7777777777777778,
              "#fb9f3a"
             ],
             [
              0.8888888888888888,
              "#fdca26"
             ],
             [
              1,
              "#f0f921"
             ]
            ],
            "type": "histogram2dcontour"
           }
          ],
          "mesh3d": [
           {
            "colorbar": {
             "outlinewidth": 0,
             "ticks": ""
            },
            "type": "mesh3d"
           }
          ],
          "parcoords": [
           {
            "line": {
             "colorbar": {
              "outlinewidth": 0,
              "ticks": ""
             }
            },
            "type": "parcoords"
           }
          ],
          "scatter": [
           {
            "marker": {
             "colorbar": {
              "outlinewidth": 0,
              "ticks": ""
             }
            },
            "type": "scatter"
           }
          ],
          "scatter3d": [
           {
            "line": {
             "colorbar": {
              "outlinewidth": 0,
              "ticks": ""
             }
            },
            "marker": {
             "colorbar": {
              "outlinewidth": 0,
              "ticks": ""
             }
            },
            "type": "scatter3d"
           }
          ],
          "scattercarpet": [
           {
            "marker": {
             "colorbar": {
              "outlinewidth": 0,
              "ticks": ""
             }
            },
            "type": "scattercarpet"
           }
          ],
          "scattergeo": [
           {
            "marker": {
             "colorbar": {
              "outlinewidth": 0,
              "ticks": ""
             }
            },
            "type": "scattergeo"
           }
          ],
          "scattergl": [
           {
            "marker": {
             "colorbar": {
              "outlinewidth": 0,
              "ticks": ""
             }
            },
            "type": "scattergl"
           }
          ],
          "scattermapbox": [
           {
            "marker": {
             "colorbar": {
              "outlinewidth": 0,
              "ticks": ""
             }
            },
            "type": "scattermapbox"
           }
          ],
          "scatterpolar": [
           {
            "marker": {
             "colorbar": {
              "outlinewidth": 0,
              "ticks": ""
             }
            },
            "type": "scatterpolar"
           }
          ],
          "scatterpolargl": [
           {
            "marker": {
             "colorbar": {
              "outlinewidth": 0,
              "ticks": ""
             }
            },
            "type": "scatterpolargl"
           }
          ],
          "scatterternary": [
           {
            "marker": {
             "colorbar": {
              "outlinewidth": 0,
              "ticks": ""
             }
            },
            "type": "scatterternary"
           }
          ],
          "surface": [
           {
            "colorbar": {
             "outlinewidth": 0,
             "ticks": ""
            },
            "colorscale": [
             [
              0,
              "#0d0887"
             ],
             [
              0.1111111111111111,
              "#46039f"
             ],
             [
              0.2222222222222222,
              "#7201a8"
             ],
             [
              0.3333333333333333,
              "#9c179e"
             ],
             [
              0.4444444444444444,
              "#bd3786"
             ],
             [
              0.5555555555555556,
              "#d8576b"
             ],
             [
              0.6666666666666666,
              "#ed7953"
             ],
             [
              0.7777777777777778,
              "#fb9f3a"
             ],
             [
              0.8888888888888888,
              "#fdca26"
             ],
             [
              1,
              "#f0f921"
             ]
            ],
            "type": "surface"
           }
          ],
          "table": [
           {
            "cells": {
             "fill": {
              "color": "#EBF0F8"
             },
             "line": {
              "color": "white"
             }
            },
            "header": {
             "fill": {
              "color": "#C8D4E3"
             },
             "line": {
              "color": "white"
             }
            },
            "type": "table"
           }
          ]
         },
         "layout": {
          "annotationdefaults": {
           "arrowcolor": "#2a3f5f",
           "arrowhead": 0,
           "arrowwidth": 1
          },
          "colorscale": {
           "diverging": [
            [
             0,
             "#8e0152"
            ],
            [
             0.1,
             "#c51b7d"
            ],
            [
             0.2,
             "#de77ae"
            ],
            [
             0.3,
             "#f1b6da"
            ],
            [
             0.4,
             "#fde0ef"
            ],
            [
             0.5,
             "#f7f7f7"
            ],
            [
             0.6,
             "#e6f5d0"
            ],
            [
             0.7,
             "#b8e186"
            ],
            [
             0.8,
             "#7fbc41"
            ],
            [
             0.9,
             "#4d9221"
            ],
            [
             1,
             "#276419"
            ]
           ],
           "sequential": [
            [
             0,
             "#0d0887"
            ],
            [
             0.1111111111111111,
             "#46039f"
            ],
            [
             0.2222222222222222,
             "#7201a8"
            ],
            [
             0.3333333333333333,
             "#9c179e"
            ],
            [
             0.4444444444444444,
             "#bd3786"
            ],
            [
             0.5555555555555556,
             "#d8576b"
            ],
            [
             0.6666666666666666,
             "#ed7953"
            ],
            [
             0.7777777777777778,
             "#fb9f3a"
            ],
            [
             0.8888888888888888,
             "#fdca26"
            ],
            [
             1,
             "#f0f921"
            ]
           ],
           "sequentialminus": [
            [
             0,
             "#0d0887"
            ],
            [
             0.1111111111111111,
             "#46039f"
            ],
            [
             0.2222222222222222,
             "#7201a8"
            ],
            [
             0.3333333333333333,
             "#9c179e"
            ],
            [
             0.4444444444444444,
             "#bd3786"
            ],
            [
             0.5555555555555556,
             "#d8576b"
            ],
            [
             0.6666666666666666,
             "#ed7953"
            ],
            [
             0.7777777777777778,
             "#fb9f3a"
            ],
            [
             0.8888888888888888,
             "#fdca26"
            ],
            [
             1,
             "#f0f921"
            ]
           ]
          },
          "colorway": [
           "#636efa",
           "#EF553B",
           "#00cc96",
           "#ab63fa",
           "#FFA15A",
           "#19d3f3",
           "#FF6692",
           "#B6E880",
           "#FF97FF",
           "#FECB52"
          ],
          "font": {
           "color": "#2a3f5f"
          },
          "geo": {
           "bgcolor": "white",
           "lakecolor": "white",
           "landcolor": "#E5ECF6",
           "showlakes": true,
           "showland": true,
           "subunitcolor": "white"
          },
          "hoverlabel": {
           "align": "left"
          },
          "hovermode": "closest",
          "mapbox": {
           "style": "light"
          },
          "paper_bgcolor": "white",
          "plot_bgcolor": "#E5ECF6",
          "polar": {
           "angularaxis": {
            "gridcolor": "white",
            "linecolor": "white",
            "ticks": ""
           },
           "bgcolor": "#E5ECF6",
           "radialaxis": {
            "gridcolor": "white",
            "linecolor": "white",
            "ticks": ""
           }
          },
          "scene": {
           "xaxis": {
            "backgroundcolor": "#E5ECF6",
            "gridcolor": "white",
            "gridwidth": 2,
            "linecolor": "white",
            "showbackground": true,
            "ticks": "",
            "zerolinecolor": "white"
           },
           "yaxis": {
            "backgroundcolor": "#E5ECF6",
            "gridcolor": "white",
            "gridwidth": 2,
            "linecolor": "white",
            "showbackground": true,
            "ticks": "",
            "zerolinecolor": "white"
           },
           "zaxis": {
            "backgroundcolor": "#E5ECF6",
            "gridcolor": "white",
            "gridwidth": 2,
            "linecolor": "white",
            "showbackground": true,
            "ticks": "",
            "zerolinecolor": "white"
           }
          },
          "shapedefaults": {
           "line": {
            "color": "#2a3f5f"
           }
          },
          "ternary": {
           "aaxis": {
            "gridcolor": "white",
            "linecolor": "white",
            "ticks": ""
           },
           "baxis": {
            "gridcolor": "white",
            "linecolor": "white",
            "ticks": ""
           },
           "bgcolor": "#E5ECF6",
           "caxis": {
            "gridcolor": "white",
            "linecolor": "white",
            "ticks": ""
           }
          },
          "title": {
           "x": 0.05
          },
          "xaxis": {
           "automargin": true,
           "gridcolor": "white",
           "linecolor": "white",
           "ticks": "",
           "zerolinecolor": "white",
           "zerolinewidth": 2
          },
          "yaxis": {
           "automargin": true,
           "gridcolor": "white",
           "linecolor": "white",
           "ticks": "",
           "zerolinecolor": "white",
           "zerolinewidth": 2
          }
         }
        }
       }
      },
      "text/html": [
       "<div>\n",
       "        \n",
       "        \n",
       "            <div id=\"acbb558d-bb58-4f9f-ae5c-361e9dae8ca4\" class=\"plotly-graph-div\" style=\"height:525px; width:100%;\"></div>\n",
       "            <script type=\"text/javascript\">\n",
       "                require([\"plotly\"], function(Plotly) {\n",
       "                    window.PLOTLYENV=window.PLOTLYENV || {};\n",
       "                    \n",
       "                if (document.getElementById(\"acbb558d-bb58-4f9f-ae5c-361e9dae8ca4\")) {\n",
       "                    Plotly.newPlot(\n",
       "                        'acbb558d-bb58-4f9f-ae5c-361e9dae8ca4',\n",
       "                        [{\"textinfo\": \"value+percent initial\", \"type\": \"funnel\", \"x\": [3714, 955], \"y\": [\"CartScreenAppear\", \"PaymentScreenSuccessful\"]}],\n",
       "                        {\"template\": {\"data\": {\"bar\": [{\"error_x\": {\"color\": \"#2a3f5f\"}, \"error_y\": {\"color\": \"#2a3f5f\"}, \"marker\": {\"line\": {\"color\": \"#E5ECF6\", \"width\": 0.5}}, \"type\": \"bar\"}], \"barpolar\": [{\"marker\": {\"line\": {\"color\": \"#E5ECF6\", \"width\": 0.5}}, \"type\": \"barpolar\"}], \"carpet\": [{\"aaxis\": {\"endlinecolor\": \"#2a3f5f\", \"gridcolor\": \"white\", \"linecolor\": \"white\", \"minorgridcolor\": \"white\", \"startlinecolor\": \"#2a3f5f\"}, \"baxis\": {\"endlinecolor\": \"#2a3f5f\", \"gridcolor\": \"white\", \"linecolor\": \"white\", \"minorgridcolor\": \"white\", \"startlinecolor\": \"#2a3f5f\"}, \"type\": \"carpet\"}], \"choropleth\": [{\"colorbar\": {\"outlinewidth\": 0, \"ticks\": \"\"}, \"type\": \"choropleth\"}], \"contour\": [{\"colorbar\": {\"outlinewidth\": 0, \"ticks\": \"\"}, \"colorscale\": [[0.0, \"#0d0887\"], [0.1111111111111111, \"#46039f\"], [0.2222222222222222, \"#7201a8\"], [0.3333333333333333, \"#9c179e\"], [0.4444444444444444, \"#bd3786\"], [0.5555555555555556, \"#d8576b\"], [0.6666666666666666, \"#ed7953\"], [0.7777777777777778, \"#fb9f3a\"], [0.8888888888888888, \"#fdca26\"], [1.0, \"#f0f921\"]], \"type\": \"contour\"}], \"contourcarpet\": [{\"colorbar\": {\"outlinewidth\": 0, \"ticks\": \"\"}, \"type\": \"contourcarpet\"}], \"heatmap\": [{\"colorbar\": {\"outlinewidth\": 0, \"ticks\": \"\"}, \"colorscale\": [[0.0, \"#0d0887\"], [0.1111111111111111, \"#46039f\"], [0.2222222222222222, \"#7201a8\"], [0.3333333333333333, \"#9c179e\"], [0.4444444444444444, \"#bd3786\"], [0.5555555555555556, \"#d8576b\"], [0.6666666666666666, \"#ed7953\"], [0.7777777777777778, \"#fb9f3a\"], [0.8888888888888888, \"#fdca26\"], [1.0, \"#f0f921\"]], \"type\": \"heatmap\"}], \"heatmapgl\": [{\"colorbar\": {\"outlinewidth\": 0, \"ticks\": \"\"}, \"colorscale\": [[0.0, \"#0d0887\"], [0.1111111111111111, \"#46039f\"], [0.2222222222222222, \"#7201a8\"], [0.3333333333333333, \"#9c179e\"], [0.4444444444444444, \"#bd3786\"], [0.5555555555555556, \"#d8576b\"], [0.6666666666666666, \"#ed7953\"], [0.7777777777777778, \"#fb9f3a\"], [0.8888888888888888, \"#fdca26\"], [1.0, \"#f0f921\"]], \"type\": \"heatmapgl\"}], \"histogram\": [{\"marker\": {\"colorbar\": {\"outlinewidth\": 0, \"ticks\": \"\"}}, \"type\": \"histogram\"}], \"histogram2d\": [{\"colorbar\": {\"outlinewidth\": 0, \"ticks\": \"\"}, \"colorscale\": [[0.0, \"#0d0887\"], [0.1111111111111111, \"#46039f\"], [0.2222222222222222, \"#7201a8\"], [0.3333333333333333, \"#9c179e\"], [0.4444444444444444, \"#bd3786\"], [0.5555555555555556, \"#d8576b\"], [0.6666666666666666, \"#ed7953\"], [0.7777777777777778, \"#fb9f3a\"], [0.8888888888888888, \"#fdca26\"], [1.0, \"#f0f921\"]], \"type\": \"histogram2d\"}], \"histogram2dcontour\": [{\"colorbar\": {\"outlinewidth\": 0, \"ticks\": \"\"}, \"colorscale\": [[0.0, \"#0d0887\"], [0.1111111111111111, \"#46039f\"], [0.2222222222222222, \"#7201a8\"], [0.3333333333333333, \"#9c179e\"], [0.4444444444444444, \"#bd3786\"], [0.5555555555555556, \"#d8576b\"], [0.6666666666666666, \"#ed7953\"], [0.7777777777777778, \"#fb9f3a\"], [0.8888888888888888, \"#fdca26\"], [1.0, \"#f0f921\"]], \"type\": \"histogram2dcontour\"}], \"mesh3d\": [{\"colorbar\": {\"outlinewidth\": 0, \"ticks\": \"\"}, \"type\": \"mesh3d\"}], \"parcoords\": [{\"line\": {\"colorbar\": {\"outlinewidth\": 0, \"ticks\": \"\"}}, \"type\": \"parcoords\"}], \"scatter\": [{\"marker\": {\"colorbar\": {\"outlinewidth\": 0, \"ticks\": \"\"}}, \"type\": \"scatter\"}], \"scatter3d\": [{\"line\": {\"colorbar\": {\"outlinewidth\": 0, \"ticks\": \"\"}}, \"marker\": {\"colorbar\": {\"outlinewidth\": 0, \"ticks\": \"\"}}, \"type\": \"scatter3d\"}], \"scattercarpet\": [{\"marker\": {\"colorbar\": {\"outlinewidth\": 0, \"ticks\": \"\"}}, \"type\": \"scattercarpet\"}], \"scattergeo\": [{\"marker\": {\"colorbar\": {\"outlinewidth\": 0, \"ticks\": \"\"}}, \"type\": \"scattergeo\"}], \"scattergl\": [{\"marker\": {\"colorbar\": {\"outlinewidth\": 0, \"ticks\": \"\"}}, \"type\": \"scattergl\"}], \"scattermapbox\": [{\"marker\": {\"colorbar\": {\"outlinewidth\": 0, \"ticks\": \"\"}}, \"type\": \"scattermapbox\"}], \"scatterpolar\": [{\"marker\": {\"colorbar\": {\"outlinewidth\": 0, \"ticks\": \"\"}}, \"type\": \"scatterpolar\"}], \"scatterpolargl\": [{\"marker\": {\"colorbar\": {\"outlinewidth\": 0, \"ticks\": \"\"}}, \"type\": \"scatterpolargl\"}], \"scatterternary\": [{\"marker\": {\"colorbar\": {\"outlinewidth\": 0, \"ticks\": \"\"}}, \"type\": \"scatterternary\"}], \"surface\": [{\"colorbar\": {\"outlinewidth\": 0, \"ticks\": \"\"}, \"colorscale\": [[0.0, \"#0d0887\"], [0.1111111111111111, \"#46039f\"], [0.2222222222222222, \"#7201a8\"], [0.3333333333333333, \"#9c179e\"], [0.4444444444444444, \"#bd3786\"], [0.5555555555555556, \"#d8576b\"], [0.6666666666666666, \"#ed7953\"], [0.7777777777777778, \"#fb9f3a\"], [0.8888888888888888, \"#fdca26\"], [1.0, \"#f0f921\"]], \"type\": \"surface\"}], \"table\": [{\"cells\": {\"fill\": {\"color\": \"#EBF0F8\"}, \"line\": {\"color\": \"white\"}}, \"header\": {\"fill\": {\"color\": \"#C8D4E3\"}, \"line\": {\"color\": \"white\"}}, \"type\": \"table\"}]}, \"layout\": {\"annotationdefaults\": {\"arrowcolor\": \"#2a3f5f\", \"arrowhead\": 0, \"arrowwidth\": 1}, \"colorscale\": {\"diverging\": [[0, \"#8e0152\"], [0.1, \"#c51b7d\"], [0.2, \"#de77ae\"], [0.3, \"#f1b6da\"], [0.4, \"#fde0ef\"], [0.5, \"#f7f7f7\"], [0.6, \"#e6f5d0\"], [0.7, \"#b8e186\"], [0.8, \"#7fbc41\"], [0.9, \"#4d9221\"], [1, \"#276419\"]], \"sequential\": [[0.0, \"#0d0887\"], [0.1111111111111111, \"#46039f\"], [0.2222222222222222, \"#7201a8\"], [0.3333333333333333, \"#9c179e\"], [0.4444444444444444, \"#bd3786\"], [0.5555555555555556, \"#d8576b\"], [0.6666666666666666, \"#ed7953\"], [0.7777777777777778, \"#fb9f3a\"], [0.8888888888888888, \"#fdca26\"], [1.0, \"#f0f921\"]], \"sequentialminus\": [[0.0, \"#0d0887\"], [0.1111111111111111, \"#46039f\"], [0.2222222222222222, \"#7201a8\"], [0.3333333333333333, \"#9c179e\"], [0.4444444444444444, \"#bd3786\"], [0.5555555555555556, \"#d8576b\"], [0.6666666666666666, \"#ed7953\"], [0.7777777777777778, \"#fb9f3a\"], [0.8888888888888888, \"#fdca26\"], [1.0, \"#f0f921\"]]}, \"colorway\": [\"#636efa\", \"#EF553B\", \"#00cc96\", \"#ab63fa\", \"#FFA15A\", \"#19d3f3\", \"#FF6692\", \"#B6E880\", \"#FF97FF\", \"#FECB52\"], \"font\": {\"color\": \"#2a3f5f\"}, \"geo\": {\"bgcolor\": \"white\", \"lakecolor\": \"white\", \"landcolor\": \"#E5ECF6\", \"showlakes\": true, \"showland\": true, \"subunitcolor\": \"white\"}, \"hoverlabel\": {\"align\": \"left\"}, \"hovermode\": \"closest\", \"mapbox\": {\"style\": \"light\"}, \"paper_bgcolor\": \"white\", \"plot_bgcolor\": \"#E5ECF6\", \"polar\": {\"angularaxis\": {\"gridcolor\": \"white\", \"linecolor\": \"white\", \"ticks\": \"\"}, \"bgcolor\": \"#E5ECF6\", \"radialaxis\": {\"gridcolor\": \"white\", \"linecolor\": \"white\", \"ticks\": \"\"}}, \"scene\": {\"xaxis\": {\"backgroundcolor\": \"#E5ECF6\", \"gridcolor\": \"white\", \"gridwidth\": 2, \"linecolor\": \"white\", \"showbackground\": true, \"ticks\": \"\", \"zerolinecolor\": \"white\"}, \"yaxis\": {\"backgroundcolor\": \"#E5ECF6\", \"gridcolor\": \"white\", \"gridwidth\": 2, \"linecolor\": \"white\", \"showbackground\": true, \"ticks\": \"\", \"zerolinecolor\": \"white\"}, \"zaxis\": {\"backgroundcolor\": \"#E5ECF6\", \"gridcolor\": \"white\", \"gridwidth\": 2, \"linecolor\": \"white\", \"showbackground\": true, \"ticks\": \"\", \"zerolinecolor\": \"white\"}}, \"shapedefaults\": {\"line\": {\"color\": \"#2a3f5f\"}}, \"ternary\": {\"aaxis\": {\"gridcolor\": \"white\", \"linecolor\": \"white\", \"ticks\": \"\"}, \"baxis\": {\"gridcolor\": \"white\", \"linecolor\": \"white\", \"ticks\": \"\"}, \"bgcolor\": \"#E5ECF6\", \"caxis\": {\"gridcolor\": \"white\", \"linecolor\": \"white\", \"ticks\": \"\"}}, \"title\": {\"x\": 0.05}, \"xaxis\": {\"automargin\": true, \"gridcolor\": \"white\", \"linecolor\": \"white\", \"ticks\": \"\", \"zerolinecolor\": \"white\", \"zerolinewidth\": 2}, \"yaxis\": {\"automargin\": true, \"gridcolor\": \"white\", \"linecolor\": \"white\", \"ticks\": \"\", \"zerolinecolor\": \"white\", \"zerolinewidth\": 2}}}},\n",
       "                        {\"responsive\": true}\n",
       "                    ).then(function(){\n",
       "                            \n",
       "var gd = document.getElementById('acbb558d-bb58-4f9f-ae5c-361e9dae8ca4');\n",
       "var x = new MutationObserver(function (mutations, observer) {{\n",
       "        var display = window.getComputedStyle(gd).display;\n",
       "        if (!display || display === 'none') {{\n",
       "            console.log([gd, 'removed!']);\n",
       "            Plotly.purge(gd);\n",
       "            observer.disconnect();\n",
       "        }}\n",
       "}});\n",
       "\n",
       "// Listen for the removal of the full notebook cells\n",
       "var notebookContainer = gd.closest('#notebook-container');\n",
       "if (notebookContainer) {{\n",
       "    x.observe(notebookContainer, {childList: true});\n",
       "}}\n",
       "\n",
       "// Listen for the clearing of the current output cell\n",
       "var outputEl = gd.closest('.output');\n",
       "if (outputEl) {{\n",
       "    x.observe(outputEl, {childList: true});\n",
       "}}\n",
       "\n",
       "                        })\n",
       "                };\n",
       "                });\n",
       "            </script>\n",
       "        </div>"
      ]
     },
     "metadata": {},
     "output_type": "display_data"
    }
   ],
   "source": [
    "step_1 = ~users['CartScreenAppear'].isna()\n",
    "step_2 = step_1 & (users['PaymentScreenSuccessful'] > users['CartScreenAppear'])\n",
    "\n",
    "funnel_3 = pd.DataFrame(columns=['users'],\n",
    "                    index=['CartScreenAppear',\n",
    "                        'PaymentScreenSuccessful'])\n",
    "\n",
    "funnel_3['CartScreenAppear':] = users[step_1].shape[0]\n",
    "funnel_3['PaymentScreenSuccessful':] = users[step_2].shape[0]\n",
    "\n",
    "fig = go.Figure()\n",
    "\n",
    "fig.add_trace(go.Funnel(\n",
    "    y = funnel_3.index,\n",
    "    x = funnel_3['users'],\n",
    "    textinfo = 'value+percent initial'\n",
    "))\n",
    "\n",
    "fig.show()\n"
   ]
  },
  {
   "cell_type": "markdown",
   "id": "4d535aa5",
   "metadata": {},
   "source": [
    "Данная воронка отражает только пользователей прошедших путь 'CartScreenAppear' - 'PaymentScreenSuccessful'"
   ]
  },
  {
   "cell_type": "code",
   "execution_count": 40,
   "id": "c15da4fd",
   "metadata": {},
   "outputs": [
    {
     "data": {
      "application/vnd.plotly.v1+json": {
       "config": {
        "plotlyServerURL": "https://plot.ly"
       },
       "data": [
        {
         "textinfo": "value+percent initial",
         "type": "funnel",
         "x": [
          7419,
          3424,
          879
         ],
         "y": [
          "MainScreenAppear",
          "CartScreenAppear",
          "PaymentScreenSuccessful"
         ]
        }
       ],
       "layout": {
        "template": {
         "data": {
          "bar": [
           {
            "error_x": {
             "color": "#2a3f5f"
            },
            "error_y": {
             "color": "#2a3f5f"
            },
            "marker": {
             "line": {
              "color": "#E5ECF6",
              "width": 0.5
             }
            },
            "type": "bar"
           }
          ],
          "barpolar": [
           {
            "marker": {
             "line": {
              "color": "#E5ECF6",
              "width": 0.5
             }
            },
            "type": "barpolar"
           }
          ],
          "carpet": [
           {
            "aaxis": {
             "endlinecolor": "#2a3f5f",
             "gridcolor": "white",
             "linecolor": "white",
             "minorgridcolor": "white",
             "startlinecolor": "#2a3f5f"
            },
            "baxis": {
             "endlinecolor": "#2a3f5f",
             "gridcolor": "white",
             "linecolor": "white",
             "minorgridcolor": "white",
             "startlinecolor": "#2a3f5f"
            },
            "type": "carpet"
           }
          ],
          "choropleth": [
           {
            "colorbar": {
             "outlinewidth": 0,
             "ticks": ""
            },
            "type": "choropleth"
           }
          ],
          "contour": [
           {
            "colorbar": {
             "outlinewidth": 0,
             "ticks": ""
            },
            "colorscale": [
             [
              0,
              "#0d0887"
             ],
             [
              0.1111111111111111,
              "#46039f"
             ],
             [
              0.2222222222222222,
              "#7201a8"
             ],
             [
              0.3333333333333333,
              "#9c179e"
             ],
             [
              0.4444444444444444,
              "#bd3786"
             ],
             [
              0.5555555555555556,
              "#d8576b"
             ],
             [
              0.6666666666666666,
              "#ed7953"
             ],
             [
              0.7777777777777778,
              "#fb9f3a"
             ],
             [
              0.8888888888888888,
              "#fdca26"
             ],
             [
              1,
              "#f0f921"
             ]
            ],
            "type": "contour"
           }
          ],
          "contourcarpet": [
           {
            "colorbar": {
             "outlinewidth": 0,
             "ticks": ""
            },
            "type": "contourcarpet"
           }
          ],
          "heatmap": [
           {
            "colorbar": {
             "outlinewidth": 0,
             "ticks": ""
            },
            "colorscale": [
             [
              0,
              "#0d0887"
             ],
             [
              0.1111111111111111,
              "#46039f"
             ],
             [
              0.2222222222222222,
              "#7201a8"
             ],
             [
              0.3333333333333333,
              "#9c179e"
             ],
             [
              0.4444444444444444,
              "#bd3786"
             ],
             [
              0.5555555555555556,
              "#d8576b"
             ],
             [
              0.6666666666666666,
              "#ed7953"
             ],
             [
              0.7777777777777778,
              "#fb9f3a"
             ],
             [
              0.8888888888888888,
              "#fdca26"
             ],
             [
              1,
              "#f0f921"
             ]
            ],
            "type": "heatmap"
           }
          ],
          "heatmapgl": [
           {
            "colorbar": {
             "outlinewidth": 0,
             "ticks": ""
            },
            "colorscale": [
             [
              0,
              "#0d0887"
             ],
             [
              0.1111111111111111,
              "#46039f"
             ],
             [
              0.2222222222222222,
              "#7201a8"
             ],
             [
              0.3333333333333333,
              "#9c179e"
             ],
             [
              0.4444444444444444,
              "#bd3786"
             ],
             [
              0.5555555555555556,
              "#d8576b"
             ],
             [
              0.6666666666666666,
              "#ed7953"
             ],
             [
              0.7777777777777778,
              "#fb9f3a"
             ],
             [
              0.8888888888888888,
              "#fdca26"
             ],
             [
              1,
              "#f0f921"
             ]
            ],
            "type": "heatmapgl"
           }
          ],
          "histogram": [
           {
            "marker": {
             "colorbar": {
              "outlinewidth": 0,
              "ticks": ""
             }
            },
            "type": "histogram"
           }
          ],
          "histogram2d": [
           {
            "colorbar": {
             "outlinewidth": 0,
             "ticks": ""
            },
            "colorscale": [
             [
              0,
              "#0d0887"
             ],
             [
              0.1111111111111111,
              "#46039f"
             ],
             [
              0.2222222222222222,
              "#7201a8"
             ],
             [
              0.3333333333333333,
              "#9c179e"
             ],
             [
              0.4444444444444444,
              "#bd3786"
             ],
             [
              0.5555555555555556,
              "#d8576b"
             ],
             [
              0.6666666666666666,
              "#ed7953"
             ],
             [
              0.7777777777777778,
              "#fb9f3a"
             ],
             [
              0.8888888888888888,
              "#fdca26"
             ],
             [
              1,
              "#f0f921"
             ]
            ],
            "type": "histogram2d"
           }
          ],
          "histogram2dcontour": [
           {
            "colorbar": {
             "outlinewidth": 0,
             "ticks": ""
            },
            "colorscale": [
             [
              0,
              "#0d0887"
             ],
             [
              0.1111111111111111,
              "#46039f"
             ],
             [
              0.2222222222222222,
              "#7201a8"
             ],
             [
              0.3333333333333333,
              "#9c179e"
             ],
             [
              0.4444444444444444,
              "#bd3786"
             ],
             [
              0.5555555555555556,
              "#d8576b"
             ],
             [
              0.6666666666666666,
              "#ed7953"
             ],
             [
              0.7777777777777778,
              "#fb9f3a"
             ],
             [
              0.8888888888888888,
              "#fdca26"
             ],
             [
              1,
              "#f0f921"
             ]
            ],
            "type": "histogram2dcontour"
           }
          ],
          "mesh3d": [
           {
            "colorbar": {
             "outlinewidth": 0,
             "ticks": ""
            },
            "type": "mesh3d"
           }
          ],
          "parcoords": [
           {
            "line": {
             "colorbar": {
              "outlinewidth": 0,
              "ticks": ""
             }
            },
            "type": "parcoords"
           }
          ],
          "scatter": [
           {
            "marker": {
             "colorbar": {
              "outlinewidth": 0,
              "ticks": ""
             }
            },
            "type": "scatter"
           }
          ],
          "scatter3d": [
           {
            "line": {
             "colorbar": {
              "outlinewidth": 0,
              "ticks": ""
             }
            },
            "marker": {
             "colorbar": {
              "outlinewidth": 0,
              "ticks": ""
             }
            },
            "type": "scatter3d"
           }
          ],
          "scattercarpet": [
           {
            "marker": {
             "colorbar": {
              "outlinewidth": 0,
              "ticks": ""
             }
            },
            "type": "scattercarpet"
           }
          ],
          "scattergeo": [
           {
            "marker": {
             "colorbar": {
              "outlinewidth": 0,
              "ticks": ""
             }
            },
            "type": "scattergeo"
           }
          ],
          "scattergl": [
           {
            "marker": {
             "colorbar": {
              "outlinewidth": 0,
              "ticks": ""
             }
            },
            "type": "scattergl"
           }
          ],
          "scattermapbox": [
           {
            "marker": {
             "colorbar": {
              "outlinewidth": 0,
              "ticks": ""
             }
            },
            "type": "scattermapbox"
           }
          ],
          "scatterpolar": [
           {
            "marker": {
             "colorbar": {
              "outlinewidth": 0,
              "ticks": ""
             }
            },
            "type": "scatterpolar"
           }
          ],
          "scatterpolargl": [
           {
            "marker": {
             "colorbar": {
              "outlinewidth": 0,
              "ticks": ""
             }
            },
            "type": "scatterpolargl"
           }
          ],
          "scatterternary": [
           {
            "marker": {
             "colorbar": {
              "outlinewidth": 0,
              "ticks": ""
             }
            },
            "type": "scatterternary"
           }
          ],
          "surface": [
           {
            "colorbar": {
             "outlinewidth": 0,
             "ticks": ""
            },
            "colorscale": [
             [
              0,
              "#0d0887"
             ],
             [
              0.1111111111111111,
              "#46039f"
             ],
             [
              0.2222222222222222,
              "#7201a8"
             ],
             [
              0.3333333333333333,
              "#9c179e"
             ],
             [
              0.4444444444444444,
              "#bd3786"
             ],
             [
              0.5555555555555556,
              "#d8576b"
             ],
             [
              0.6666666666666666,
              "#ed7953"
             ],
             [
              0.7777777777777778,
              "#fb9f3a"
             ],
             [
              0.8888888888888888,
              "#fdca26"
             ],
             [
              1,
              "#f0f921"
             ]
            ],
            "type": "surface"
           }
          ],
          "table": [
           {
            "cells": {
             "fill": {
              "color": "#EBF0F8"
             },
             "line": {
              "color": "white"
             }
            },
            "header": {
             "fill": {
              "color": "#C8D4E3"
             },
             "line": {
              "color": "white"
             }
            },
            "type": "table"
           }
          ]
         },
         "layout": {
          "annotationdefaults": {
           "arrowcolor": "#2a3f5f",
           "arrowhead": 0,
           "arrowwidth": 1
          },
          "colorscale": {
           "diverging": [
            [
             0,
             "#8e0152"
            ],
            [
             0.1,
             "#c51b7d"
            ],
            [
             0.2,
             "#de77ae"
            ],
            [
             0.3,
             "#f1b6da"
            ],
            [
             0.4,
             "#fde0ef"
            ],
            [
             0.5,
             "#f7f7f7"
            ],
            [
             0.6,
             "#e6f5d0"
            ],
            [
             0.7,
             "#b8e186"
            ],
            [
             0.8,
             "#7fbc41"
            ],
            [
             0.9,
             "#4d9221"
            ],
            [
             1,
             "#276419"
            ]
           ],
           "sequential": [
            [
             0,
             "#0d0887"
            ],
            [
             0.1111111111111111,
             "#46039f"
            ],
            [
             0.2222222222222222,
             "#7201a8"
            ],
            [
             0.3333333333333333,
             "#9c179e"
            ],
            [
             0.4444444444444444,
             "#bd3786"
            ],
            [
             0.5555555555555556,
             "#d8576b"
            ],
            [
             0.6666666666666666,
             "#ed7953"
            ],
            [
             0.7777777777777778,
             "#fb9f3a"
            ],
            [
             0.8888888888888888,
             "#fdca26"
            ],
            [
             1,
             "#f0f921"
            ]
           ],
           "sequentialminus": [
            [
             0,
             "#0d0887"
            ],
            [
             0.1111111111111111,
             "#46039f"
            ],
            [
             0.2222222222222222,
             "#7201a8"
            ],
            [
             0.3333333333333333,
             "#9c179e"
            ],
            [
             0.4444444444444444,
             "#bd3786"
            ],
            [
             0.5555555555555556,
             "#d8576b"
            ],
            [
             0.6666666666666666,
             "#ed7953"
            ],
            [
             0.7777777777777778,
             "#fb9f3a"
            ],
            [
             0.8888888888888888,
             "#fdca26"
            ],
            [
             1,
             "#f0f921"
            ]
           ]
          },
          "colorway": [
           "#636efa",
           "#EF553B",
           "#00cc96",
           "#ab63fa",
           "#FFA15A",
           "#19d3f3",
           "#FF6692",
           "#B6E880",
           "#FF97FF",
           "#FECB52"
          ],
          "font": {
           "color": "#2a3f5f"
          },
          "geo": {
           "bgcolor": "white",
           "lakecolor": "white",
           "landcolor": "#E5ECF6",
           "showlakes": true,
           "showland": true,
           "subunitcolor": "white"
          },
          "hoverlabel": {
           "align": "left"
          },
          "hovermode": "closest",
          "mapbox": {
           "style": "light"
          },
          "paper_bgcolor": "white",
          "plot_bgcolor": "#E5ECF6",
          "polar": {
           "angularaxis": {
            "gridcolor": "white",
            "linecolor": "white",
            "ticks": ""
           },
           "bgcolor": "#E5ECF6",
           "radialaxis": {
            "gridcolor": "white",
            "linecolor": "white",
            "ticks": ""
           }
          },
          "scene": {
           "xaxis": {
            "backgroundcolor": "#E5ECF6",
            "gridcolor": "white",
            "gridwidth": 2,
            "linecolor": "white",
            "showbackground": true,
            "ticks": "",
            "zerolinecolor": "white"
           },
           "yaxis": {
            "backgroundcolor": "#E5ECF6",
            "gridcolor": "white",
            "gridwidth": 2,
            "linecolor": "white",
            "showbackground": true,
            "ticks": "",
            "zerolinecolor": "white"
           },
           "zaxis": {
            "backgroundcolor": "#E5ECF6",
            "gridcolor": "white",
            "gridwidth": 2,
            "linecolor": "white",
            "showbackground": true,
            "ticks": "",
            "zerolinecolor": "white"
           }
          },
          "shapedefaults": {
           "line": {
            "color": "#2a3f5f"
           }
          },
          "ternary": {
           "aaxis": {
            "gridcolor": "white",
            "linecolor": "white",
            "ticks": ""
           },
           "baxis": {
            "gridcolor": "white",
            "linecolor": "white",
            "ticks": ""
           },
           "bgcolor": "#E5ECF6",
           "caxis": {
            "gridcolor": "white",
            "linecolor": "white",
            "ticks": ""
           }
          },
          "title": {
           "x": 0.05
          },
          "xaxis": {
           "automargin": true,
           "gridcolor": "white",
           "linecolor": "white",
           "ticks": "",
           "zerolinecolor": "white",
           "zerolinewidth": 2
          },
          "yaxis": {
           "automargin": true,
           "gridcolor": "white",
           "linecolor": "white",
           "ticks": "",
           "zerolinecolor": "white",
           "zerolinewidth": 2
          }
         }
        }
       }
      },
      "text/html": [
       "<div>\n",
       "        \n",
       "        \n",
       "            <div id=\"478f4e98-6656-41cc-85a7-5da961a730c9\" class=\"plotly-graph-div\" style=\"height:525px; width:100%;\"></div>\n",
       "            <script type=\"text/javascript\">\n",
       "                require([\"plotly\"], function(Plotly) {\n",
       "                    window.PLOTLYENV=window.PLOTLYENV || {};\n",
       "                    \n",
       "                if (document.getElementById(\"478f4e98-6656-41cc-85a7-5da961a730c9\")) {\n",
       "                    Plotly.newPlot(\n",
       "                        '478f4e98-6656-41cc-85a7-5da961a730c9',\n",
       "                        [{\"textinfo\": \"value+percent initial\", \"type\": \"funnel\", \"x\": [7419, 3424, 879], \"y\": [\"MainScreenAppear\", \"CartScreenAppear\", \"PaymentScreenSuccessful\"]}],\n",
       "                        {\"template\": {\"data\": {\"bar\": [{\"error_x\": {\"color\": \"#2a3f5f\"}, \"error_y\": {\"color\": \"#2a3f5f\"}, \"marker\": {\"line\": {\"color\": \"#E5ECF6\", \"width\": 0.5}}, \"type\": \"bar\"}], \"barpolar\": [{\"marker\": {\"line\": {\"color\": \"#E5ECF6\", \"width\": 0.5}}, \"type\": \"barpolar\"}], \"carpet\": [{\"aaxis\": {\"endlinecolor\": \"#2a3f5f\", \"gridcolor\": \"white\", \"linecolor\": \"white\", \"minorgridcolor\": \"white\", \"startlinecolor\": \"#2a3f5f\"}, \"baxis\": {\"endlinecolor\": \"#2a3f5f\", \"gridcolor\": \"white\", \"linecolor\": \"white\", \"minorgridcolor\": \"white\", \"startlinecolor\": \"#2a3f5f\"}, \"type\": \"carpet\"}], \"choropleth\": [{\"colorbar\": {\"outlinewidth\": 0, \"ticks\": \"\"}, \"type\": \"choropleth\"}], \"contour\": [{\"colorbar\": {\"outlinewidth\": 0, \"ticks\": \"\"}, \"colorscale\": [[0.0, \"#0d0887\"], [0.1111111111111111, \"#46039f\"], [0.2222222222222222, \"#7201a8\"], [0.3333333333333333, \"#9c179e\"], [0.4444444444444444, \"#bd3786\"], [0.5555555555555556, \"#d8576b\"], [0.6666666666666666, \"#ed7953\"], [0.7777777777777778, \"#fb9f3a\"], [0.8888888888888888, \"#fdca26\"], [1.0, \"#f0f921\"]], \"type\": \"contour\"}], \"contourcarpet\": [{\"colorbar\": {\"outlinewidth\": 0, \"ticks\": \"\"}, \"type\": \"contourcarpet\"}], \"heatmap\": [{\"colorbar\": {\"outlinewidth\": 0, \"ticks\": \"\"}, \"colorscale\": [[0.0, \"#0d0887\"], [0.1111111111111111, \"#46039f\"], [0.2222222222222222, \"#7201a8\"], [0.3333333333333333, \"#9c179e\"], [0.4444444444444444, \"#bd3786\"], [0.5555555555555556, \"#d8576b\"], [0.6666666666666666, \"#ed7953\"], [0.7777777777777778, \"#fb9f3a\"], [0.8888888888888888, \"#fdca26\"], [1.0, \"#f0f921\"]], \"type\": \"heatmap\"}], \"heatmapgl\": [{\"colorbar\": {\"outlinewidth\": 0, \"ticks\": \"\"}, \"colorscale\": [[0.0, \"#0d0887\"], [0.1111111111111111, \"#46039f\"], [0.2222222222222222, \"#7201a8\"], [0.3333333333333333, \"#9c179e\"], [0.4444444444444444, \"#bd3786\"], [0.5555555555555556, \"#d8576b\"], [0.6666666666666666, \"#ed7953\"], [0.7777777777777778, \"#fb9f3a\"], [0.8888888888888888, \"#fdca26\"], [1.0, \"#f0f921\"]], \"type\": \"heatmapgl\"}], \"histogram\": [{\"marker\": {\"colorbar\": {\"outlinewidth\": 0, \"ticks\": \"\"}}, \"type\": \"histogram\"}], \"histogram2d\": [{\"colorbar\": {\"outlinewidth\": 0, \"ticks\": \"\"}, \"colorscale\": [[0.0, \"#0d0887\"], [0.1111111111111111, \"#46039f\"], [0.2222222222222222, \"#7201a8\"], [0.3333333333333333, \"#9c179e\"], [0.4444444444444444, \"#bd3786\"], [0.5555555555555556, \"#d8576b\"], [0.6666666666666666, \"#ed7953\"], [0.7777777777777778, \"#fb9f3a\"], [0.8888888888888888, \"#fdca26\"], [1.0, \"#f0f921\"]], \"type\": \"histogram2d\"}], \"histogram2dcontour\": [{\"colorbar\": {\"outlinewidth\": 0, \"ticks\": \"\"}, \"colorscale\": [[0.0, \"#0d0887\"], [0.1111111111111111, \"#46039f\"], [0.2222222222222222, \"#7201a8\"], [0.3333333333333333, \"#9c179e\"], [0.4444444444444444, \"#bd3786\"], [0.5555555555555556, \"#d8576b\"], [0.6666666666666666, \"#ed7953\"], [0.7777777777777778, \"#fb9f3a\"], [0.8888888888888888, \"#fdca26\"], [1.0, \"#f0f921\"]], \"type\": \"histogram2dcontour\"}], \"mesh3d\": [{\"colorbar\": {\"outlinewidth\": 0, \"ticks\": \"\"}, \"type\": \"mesh3d\"}], \"parcoords\": [{\"line\": {\"colorbar\": {\"outlinewidth\": 0, \"ticks\": \"\"}}, \"type\": \"parcoords\"}], \"scatter\": [{\"marker\": {\"colorbar\": {\"outlinewidth\": 0, \"ticks\": \"\"}}, \"type\": \"scatter\"}], \"scatter3d\": [{\"line\": {\"colorbar\": {\"outlinewidth\": 0, \"ticks\": \"\"}}, \"marker\": {\"colorbar\": {\"outlinewidth\": 0, \"ticks\": \"\"}}, \"type\": \"scatter3d\"}], \"scattercarpet\": [{\"marker\": {\"colorbar\": {\"outlinewidth\": 0, \"ticks\": \"\"}}, \"type\": \"scattercarpet\"}], \"scattergeo\": [{\"marker\": {\"colorbar\": {\"outlinewidth\": 0, \"ticks\": \"\"}}, \"type\": \"scattergeo\"}], \"scattergl\": [{\"marker\": {\"colorbar\": {\"outlinewidth\": 0, \"ticks\": \"\"}}, \"type\": \"scattergl\"}], \"scattermapbox\": [{\"marker\": {\"colorbar\": {\"outlinewidth\": 0, \"ticks\": \"\"}}, \"type\": \"scattermapbox\"}], \"scatterpolar\": [{\"marker\": {\"colorbar\": {\"outlinewidth\": 0, \"ticks\": \"\"}}, \"type\": \"scatterpolar\"}], \"scatterpolargl\": [{\"marker\": {\"colorbar\": {\"outlinewidth\": 0, \"ticks\": \"\"}}, \"type\": \"scatterpolargl\"}], \"scatterternary\": [{\"marker\": {\"colorbar\": {\"outlinewidth\": 0, \"ticks\": \"\"}}, \"type\": \"scatterternary\"}], \"surface\": [{\"colorbar\": {\"outlinewidth\": 0, \"ticks\": \"\"}, \"colorscale\": [[0.0, \"#0d0887\"], [0.1111111111111111, \"#46039f\"], [0.2222222222222222, \"#7201a8\"], [0.3333333333333333, \"#9c179e\"], [0.4444444444444444, \"#bd3786\"], [0.5555555555555556, \"#d8576b\"], [0.6666666666666666, \"#ed7953\"], [0.7777777777777778, \"#fb9f3a\"], [0.8888888888888888, \"#fdca26\"], [1.0, \"#f0f921\"]], \"type\": \"surface\"}], \"table\": [{\"cells\": {\"fill\": {\"color\": \"#EBF0F8\"}, \"line\": {\"color\": \"white\"}}, \"header\": {\"fill\": {\"color\": \"#C8D4E3\"}, \"line\": {\"color\": \"white\"}}, \"type\": \"table\"}]}, \"layout\": {\"annotationdefaults\": {\"arrowcolor\": \"#2a3f5f\", \"arrowhead\": 0, \"arrowwidth\": 1}, \"colorscale\": {\"diverging\": [[0, \"#8e0152\"], [0.1, \"#c51b7d\"], [0.2, \"#de77ae\"], [0.3, \"#f1b6da\"], [0.4, \"#fde0ef\"], [0.5, \"#f7f7f7\"], [0.6, \"#e6f5d0\"], [0.7, \"#b8e186\"], [0.8, \"#7fbc41\"], [0.9, \"#4d9221\"], [1, \"#276419\"]], \"sequential\": [[0.0, \"#0d0887\"], [0.1111111111111111, \"#46039f\"], [0.2222222222222222, \"#7201a8\"], [0.3333333333333333, \"#9c179e\"], [0.4444444444444444, \"#bd3786\"], [0.5555555555555556, \"#d8576b\"], [0.6666666666666666, \"#ed7953\"], [0.7777777777777778, \"#fb9f3a\"], [0.8888888888888888, \"#fdca26\"], [1.0, \"#f0f921\"]], \"sequentialminus\": [[0.0, \"#0d0887\"], [0.1111111111111111, \"#46039f\"], [0.2222222222222222, \"#7201a8\"], [0.3333333333333333, \"#9c179e\"], [0.4444444444444444, \"#bd3786\"], [0.5555555555555556, \"#d8576b\"], [0.6666666666666666, \"#ed7953\"], [0.7777777777777778, \"#fb9f3a\"], [0.8888888888888888, \"#fdca26\"], [1.0, \"#f0f921\"]]}, \"colorway\": [\"#636efa\", \"#EF553B\", \"#00cc96\", \"#ab63fa\", \"#FFA15A\", \"#19d3f3\", \"#FF6692\", \"#B6E880\", \"#FF97FF\", \"#FECB52\"], \"font\": {\"color\": \"#2a3f5f\"}, \"geo\": {\"bgcolor\": \"white\", \"lakecolor\": \"white\", \"landcolor\": \"#E5ECF6\", \"showlakes\": true, \"showland\": true, \"subunitcolor\": \"white\"}, \"hoverlabel\": {\"align\": \"left\"}, \"hovermode\": \"closest\", \"mapbox\": {\"style\": \"light\"}, \"paper_bgcolor\": \"white\", \"plot_bgcolor\": \"#E5ECF6\", \"polar\": {\"angularaxis\": {\"gridcolor\": \"white\", \"linecolor\": \"white\", \"ticks\": \"\"}, \"bgcolor\": \"#E5ECF6\", \"radialaxis\": {\"gridcolor\": \"white\", \"linecolor\": \"white\", \"ticks\": \"\"}}, \"scene\": {\"xaxis\": {\"backgroundcolor\": \"#E5ECF6\", \"gridcolor\": \"white\", \"gridwidth\": 2, \"linecolor\": \"white\", \"showbackground\": true, \"ticks\": \"\", \"zerolinecolor\": \"white\"}, \"yaxis\": {\"backgroundcolor\": \"#E5ECF6\", \"gridcolor\": \"white\", \"gridwidth\": 2, \"linecolor\": \"white\", \"showbackground\": true, \"ticks\": \"\", \"zerolinecolor\": \"white\"}, \"zaxis\": {\"backgroundcolor\": \"#E5ECF6\", \"gridcolor\": \"white\", \"gridwidth\": 2, \"linecolor\": \"white\", \"showbackground\": true, \"ticks\": \"\", \"zerolinecolor\": \"white\"}}, \"shapedefaults\": {\"line\": {\"color\": \"#2a3f5f\"}}, \"ternary\": {\"aaxis\": {\"gridcolor\": \"white\", \"linecolor\": \"white\", \"ticks\": \"\"}, \"baxis\": {\"gridcolor\": \"white\", \"linecolor\": \"white\", \"ticks\": \"\"}, \"bgcolor\": \"#E5ECF6\", \"caxis\": {\"gridcolor\": \"white\", \"linecolor\": \"white\", \"ticks\": \"\"}}, \"title\": {\"x\": 0.05}, \"xaxis\": {\"automargin\": true, \"gridcolor\": \"white\", \"linecolor\": \"white\", \"ticks\": \"\", \"zerolinecolor\": \"white\", \"zerolinewidth\": 2}, \"yaxis\": {\"automargin\": true, \"gridcolor\": \"white\", \"linecolor\": \"white\", \"ticks\": \"\", \"zerolinecolor\": \"white\", \"zerolinewidth\": 2}}}},\n",
       "                        {\"responsive\": true}\n",
       "                    ).then(function(){\n",
       "                            \n",
       "var gd = document.getElementById('478f4e98-6656-41cc-85a7-5da961a730c9');\n",
       "var x = new MutationObserver(function (mutations, observer) {{\n",
       "        var display = window.getComputedStyle(gd).display;\n",
       "        if (!display || display === 'none') {{\n",
       "            console.log([gd, 'removed!']);\n",
       "            Plotly.purge(gd);\n",
       "            observer.disconnect();\n",
       "        }}\n",
       "}});\n",
       "\n",
       "// Listen for the removal of the full notebook cells\n",
       "var notebookContainer = gd.closest('#notebook-container');\n",
       "if (notebookContainer) {{\n",
       "    x.observe(notebookContainer, {childList: true});\n",
       "}}\n",
       "\n",
       "// Listen for the clearing of the current output cell\n",
       "var outputEl = gd.closest('.output');\n",
       "if (outputEl) {{\n",
       "    x.observe(outputEl, {childList: true});\n",
       "}}\n",
       "\n",
       "                        })\n",
       "                };\n",
       "                });\n",
       "            </script>\n",
       "        </div>"
      ]
     },
     "metadata": {},
     "output_type": "display_data"
    }
   ],
   "source": [
    "step_1 = ~users['MainScreenAppear'].isna()\n",
    "step_2 = step_1 & (users['CartScreenAppear'] > users['MainScreenAppear'])\n",
    "step_3 = step_2 & (users['PaymentScreenSuccessful'] > users['CartScreenAppear'])\n",
    "\n",
    "funnel_4 = pd.DataFrame(columns=['users'],\n",
    "                    index=['MainScreenAppear',\n",
    "                        'CartScreenAppear',\n",
    "                        'PaymentScreenSuccessful'])\n",
    "\n",
    "funnel_4['MainScreenAppear':] = users[step_1].shape[0]\n",
    "funnel_4['CartScreenAppear':] = users[step_2].shape[0]\n",
    "funnel_4['PaymentScreenSuccessful':] = users[step_3].shape[0]\n",
    "\n",
    "fig = go.Figure()\n",
    "\n",
    "fig.add_trace(go.Funnel(\n",
    "    y = funnel_4.index,\n",
    "    x = funnel_4['users'],\n",
    "    textinfo = 'value+percent initial'\n",
    "))\n",
    "\n",
    "fig.show()"
   ]
  },
  {
   "cell_type": "markdown",
   "id": "9975735a",
   "metadata": {},
   "source": [
    "Данная воронка отражает только пользователей прошедших путь 'MainScreenAppear' - 'CartScreenAppear' -  'PaymentScreenSuccessful'"
   ]
  },
  {
   "cell_type": "markdown",
   "id": "ed814877",
   "metadata": {},
   "source": [
    "### Вывод"
   ]
  },
  {
   "cell_type": "markdown",
   "id": "5e7a8882",
   "metadata": {},
   "source": [
    "Мы видим что далеко не все пользователи проходят весь путь. Однако средняя конверсия около 6 процентов. Есть часть пользователей которые проходят путь корзина - оплата, что странно, так как это приложение нельзя зайти напрямую в корзину, скорее всего где-то есть ошибки при записи данных. Так как большая часть пользователей отваливается после главного экрана возможно стоит обратить внимание на другие метрики чтобы изучить пользовательский опыт и понять что именно не нравиться пользователям и как можно увеличить конверсию."
   ]
  },
  {
   "cell_type": "markdown",
   "id": "7e440df9",
   "metadata": {},
   "source": [
    "<a id='s4'> </a>"
   ]
  },
  {
   "cell_type": "markdown",
   "id": "dfcafd31",
   "metadata": {},
   "source": [
    "## Результаты эксперимента"
   ]
  },
  {
   "cell_type": "code",
   "execution_count": 41,
   "id": "d1e74546",
   "metadata": {},
   "outputs": [
    {
     "name": "stdout",
     "output_type": "stream",
     "text": [
      "Количество пользователей в группах: \n",
      "246: 2478 пользователей \n",
      "247: 2511 пользователей \n",
      "248: 2530 пользователей\n",
      "Итого: 7519\n"
     ]
    }
   ],
   "source": [
    "print('Количество пользователей в группах: \\n246: {} пользователей \\n247: {} пользователей \\n248: {} пользователей\\nИтого: {}'.format(\n",
    "    users_246.shape[0],\n",
    "    users_247.shape[0],\n",
    "    users_248.shape[0],\n",
    "    users.shape[0]\n",
    "))"
   ]
  },
  {
   "cell_type": "code",
   "execution_count": 42,
   "id": "ee21a9bf",
   "metadata": {},
   "outputs": [],
   "source": [
    "orders_246 = (data_clear[(data_clear['exp_id'] == 246) &\n",
    "    (data_clear['event_name'] == 'PaymentScreenSuccessful')]\n",
    "    .groupby('id', as_index=False)\n",
    "    .agg({'date': 'count'})\n",
    ")\n",
    "\n",
    "orders_247 = (data_clear[(data_clear['exp_id'] == 247) &\n",
    "    (data_clear['event_name'] == 'PaymentScreenSuccessful')]\n",
    "    .groupby('id', as_index=False)\n",
    "    .agg({'date': 'count'})\n",
    ")\n",
    "\n",
    "orders_248 = (data_clear[(data_clear['exp_id'] == 248) &\n",
    "    (data_clear['event_name'] == 'PaymentScreenSuccessful')]\n",
    "    .groupby('id', as_index=False)\n",
    "    .agg({'date': 'count'})\n",
    ")"
   ]
  },
  {
   "cell_type": "markdown",
   "id": "9bab7172",
   "metadata": {},
   "source": [
    "Проверим количество событий в группах."
   ]
  },
  {
   "cell_type": "code",
   "execution_count": 43,
   "id": "a27b4495",
   "metadata": {},
   "outputs": [
    {
     "data": {
      "text/plain": [
       "0"
      ]
     },
     "execution_count": 43,
     "metadata": {},
     "output_type": "execute_result"
    }
   ],
   "source": [
    "(orders_246['date'].sum() + orders_247['date'].sum() + orders_248['date'].sum())\\\n",
    "    - len(data_clear[data_clear['event_name'] == 'PaymentScreenSuccessful'])"
   ]
  },
  {
   "cell_type": "markdown",
   "id": "a86a1fb5",
   "metadata": {},
   "source": [
    "Количество событий совпадает."
   ]
  },
  {
   "cell_type": "markdown",
   "id": "17dfaccd",
   "metadata": {},
   "source": [
    "Проверим есть ли пользователи находяшиеся в нескольких группах."
   ]
  },
  {
   "cell_type": "code",
   "execution_count": 44,
   "id": "3d102b73",
   "metadata": {},
   "outputs": [
    {
     "data": {
      "text/plain": [
       "0"
      ]
     },
     "execution_count": 44,
     "metadata": {},
     "output_type": "execute_result"
    }
   ],
   "source": [
    "aab_users = data_clear.groupby('id', as_index=False).agg({'exp_id': 'nunique'})\n",
    "aab_users = aab_users[aab_users['exp_id'] > 1]['id']\n",
    "len(aab_users)"
   ]
  },
  {
   "cell_type": "code",
   "execution_count": 45,
   "id": "a5ec18d2",
   "metadata": {},
   "outputs": [],
   "source": [
    "def z_test(first, second):\n",
    "\n",
    "    # так как мы проводим 23 теста воспользуемся методом Шидака для расчета значения альфа\n",
    "    alpha = 1 - (1 - 0.05)**(1/23)\n",
    "\n",
    "    next = np.array(second)\n",
    "    privious = np.array(first)\n",
    "\n",
    "    p1 = next[0] / privious[0]\n",
    "    p2 = next[1] / privious[1]\n",
    "\n",
    "    p_combined = next.sum() / privious.sum()\n",
    "\n",
    "    difference = p1 - p2\n",
    "\n",
    "    z_value = difference / mth.sqrt(\n",
    "        p_combined * (1-p_combined) * (1/privious[0] + 1/privious[1]))\n",
    "\n",
    "    distr = st.norm(0, 1)\n",
    "\n",
    "    p_value = (1 - distr.cdf(abs(z_value))) * 2\n",
    "\n",
    "    print('p-value:', p_value)\n",
    "\n",
    "    if p_value < alpha:\n",
    "        print('Отвергаем нулевую гипотезу: между долями есть значимая разница')\n",
    "    else:\n",
    "        print('Не получилось отвергнуть нулевую гипотезу, нет оснований считать доли разными')\n"
   ]
  },
  {
   "cell_type": "markdown",
   "id": "61e6378f",
   "metadata": {},
   "source": [
    "Проверим есть ли статистически значимые различия между выборками. "
   ]
  },
  {
   "cell_type": "markdown",
   "id": "246b11cb",
   "metadata": {},
   "source": [
    "Н0 - статистически значимых различий между долями нет"
   ]
  },
  {
   "cell_type": "markdown",
   "id": "328ee2b8",
   "metadata": {},
   "source": [
    "Н1 - есть статистически значимая разница между долями"
   ]
  },
  {
   "cell_type": "markdown",
   "id": "4df00b8b",
   "metadata": {},
   "source": [
    "Проведем z-тест между для двух групп на каждом шаге воронки."
   ]
  },
  {
   "cell_type": "code",
   "execution_count": 46,
   "id": "68641865",
   "metadata": {},
   "outputs": [
    {
     "name": "stdout",
     "output_type": "stream",
     "text": [
      "p-value: 0.1791392160319234\n",
      "Не получилось отвергнуть нулевую гипотезу, нет оснований считать доли разными\n"
     ]
    }
   ],
   "source": [
    "z_test(\n",
    "    [funnel_246.loc['MainScreenAppear','users'], funnel_247.loc['MainScreenAppear','users']],\n",
    "    [funnel_246.loc['OffersScreenAppear','users'], funnel_247.loc['OffersScreenAppear','users']]\n",
    ")"
   ]
  },
  {
   "cell_type": "code",
   "execution_count": 47,
   "id": "b9c0b9c2",
   "metadata": {},
   "outputs": [
    {
     "name": "stdout",
     "output_type": "stream",
     "text": [
      "p-value: 0.2571602924470018\n",
      "Не получилось отвергнуть нулевую гипотезу, нет оснований считать доли разными\n"
     ]
    }
   ],
   "source": [
    "z_test(\n",
    "    [funnel_246.loc['OffersScreenAppear','users'], funnel_247.loc['OffersScreenAppear','users']],\n",
    "    [funnel_246.loc['CartScreenAppear','users'], funnel_247.loc['CartScreenAppear','users']]\n",
    ")"
   ]
  },
  {
   "cell_type": "code",
   "execution_count": 48,
   "id": "ec5d5dd2",
   "metadata": {},
   "outputs": [
    {
     "name": "stdout",
     "output_type": "stream",
     "text": [
      "p-value: 0.7399516568824782\n",
      "Не получилось отвергнуть нулевую гипотезу, нет оснований считать доли разными\n"
     ]
    }
   ],
   "source": [
    "z_test(\n",
    "    [funnel_246.loc['CartScreenAppear','users'], funnel_247.loc['CartScreenAppear','users']],\n",
    "    [funnel_246.loc['PaymentScreenSuccessful','users'], funnel_247.loc['PaymentScreenSuccessful','users']]\n",
    ")"
   ]
  },
  {
   "cell_type": "markdown",
   "id": "7ace5171",
   "metadata": {},
   "source": [
    "Исходя из результатов тестов мы не можем отвергнуть нулевую гипотезу о том что статистически значимой разницы между выборками 246 и 247 нет."
   ]
  },
  {
   "cell_type": "code",
   "execution_count": 49,
   "id": "4ec45959",
   "metadata": {},
   "outputs": [
    {
     "data": {
      "text/html": [
       "<div>\n",
       "<style scoped>\n",
       "    .dataframe tbody tr th:only-of-type {\n",
       "        vertical-align: middle;\n",
       "    }\n",
       "\n",
       "    .dataframe tbody tr th {\n",
       "        vertical-align: top;\n",
       "    }\n",
       "\n",
       "    .dataframe thead th {\n",
       "        text-align: right;\n",
       "    }\n",
       "</style>\n",
       "<table border=\"1\" class=\"dataframe\">\n",
       "  <thead>\n",
       "    <tr style=\"text-align: right;\">\n",
       "      <th></th>\n",
       "      <th>event_name</th>\n",
       "      <th>id</th>\n",
       "    </tr>\n",
       "  </thead>\n",
       "  <tbody>\n",
       "    <tr>\n",
       "      <td>1</td>\n",
       "      <td>MainScreenAppear</td>\n",
       "      <td>117328</td>\n",
       "    </tr>\n",
       "    <tr>\n",
       "      <td>2</td>\n",
       "      <td>OffersScreenAppear</td>\n",
       "      <td>46222</td>\n",
       "    </tr>\n",
       "    <tr>\n",
       "      <td>0</td>\n",
       "      <td>CartScreenAppear</td>\n",
       "      <td>42204</td>\n",
       "    </tr>\n",
       "    <tr>\n",
       "      <td>3</td>\n",
       "      <td>PaymentScreenSuccessful</td>\n",
       "      <td>33820</td>\n",
       "    </tr>\n",
       "    <tr>\n",
       "      <td>4</td>\n",
       "      <td>Tutorial</td>\n",
       "      <td>1001</td>\n",
       "    </tr>\n",
       "  </tbody>\n",
       "</table>\n",
       "</div>"
      ],
      "text/plain": [
       "                event_name      id\n",
       "1         MainScreenAppear  117328\n",
       "2       OffersScreenAppear   46222\n",
       "0         CartScreenAppear   42204\n",
       "3  PaymentScreenSuccessful   33820\n",
       "4                 Tutorial    1001"
      ]
     },
     "execution_count": 49,
     "metadata": {},
     "output_type": "execute_result"
    }
   ],
   "source": [
    "data_clear.groupby('event_name', as_index=False).agg({'id': 'count'}).sort_values('id', ascending=False)"
   ]
  },
  {
   "cell_type": "markdown",
   "id": "ae882840",
   "metadata": {},
   "source": [
    "Самое популярное событие MainScreenAppear. Узнаем число пользователей совршивших это событие в каждой из групп."
   ]
  },
  {
   "cell_type": "code",
   "execution_count": 50,
   "id": "729f9814",
   "metadata": {},
   "outputs": [],
   "source": [
    "def event_parts(event_name):\n",
    "    event_name = data_clear.query('event_name == @event_name')\\\n",
    "        .groupby('exp_id', as_index=False)\\\n",
    "        .agg({'id': 'nunique'})\n",
    "    event_name = event_name.rename(columns={'id': 'users_part'})\n",
    "\n",
    "    group_users = data_clear.groupby('exp_id', as_index=False)\\\n",
    "        .agg({'id': 'nunique'})\n",
    "    group_users = group_users.rename(columns={'id': 'all_users'})\n",
    "\n",
    "    event_name = group_users.merge(\n",
    "        event_name,\n",
    "        on='exp_id',\n",
    "        how='left')\n",
    "\n",
    "    event_name['ratio'] = event_name['users_part']\\\n",
    "        / event_name['all_users']\n",
    "\n",
    "    return event_name\n",
    "\n"
   ]
  },
  {
   "cell_type": "code",
   "execution_count": 51,
   "id": "877f417c",
   "metadata": {},
   "outputs": [
    {
     "data": {
      "text/html": [
       "<div>\n",
       "<style scoped>\n",
       "    .dataframe tbody tr th:only-of-type {\n",
       "        vertical-align: middle;\n",
       "    }\n",
       "\n",
       "    .dataframe tbody tr th {\n",
       "        vertical-align: top;\n",
       "    }\n",
       "\n",
       "    .dataframe thead th {\n",
       "        text-align: right;\n",
       "    }\n",
       "</style>\n",
       "<table border=\"1\" class=\"dataframe\">\n",
       "  <thead>\n",
       "    <tr style=\"text-align: right;\">\n",
       "      <th></th>\n",
       "      <th>exp_id</th>\n",
       "      <th>all_users</th>\n",
       "      <th>users_part</th>\n",
       "      <th>ratio</th>\n",
       "    </tr>\n",
       "  </thead>\n",
       "  <tbody>\n",
       "    <tr>\n",
       "      <td>0</td>\n",
       "      <td>246</td>\n",
       "      <td>2478</td>\n",
       "      <td>2450</td>\n",
       "      <td>0.988701</td>\n",
       "    </tr>\n",
       "    <tr>\n",
       "      <td>1</td>\n",
       "      <td>247</td>\n",
       "      <td>2511</td>\n",
       "      <td>2476</td>\n",
       "      <td>0.986061</td>\n",
       "    </tr>\n",
       "    <tr>\n",
       "      <td>2</td>\n",
       "      <td>248</td>\n",
       "      <td>2530</td>\n",
       "      <td>2493</td>\n",
       "      <td>0.985375</td>\n",
       "    </tr>\n",
       "  </tbody>\n",
       "</table>\n",
       "</div>"
      ],
      "text/plain": [
       "   exp_id  all_users  users_part     ratio\n",
       "0     246       2478        2450  0.988701\n",
       "1     247       2511        2476  0.986061\n",
       "2     248       2530        2493  0.985375"
      ]
     },
     "execution_count": 51,
     "metadata": {},
     "output_type": "execute_result"
    }
   ],
   "source": [
    "event_parts('MainScreenAppear')"
   ]
  },
  {
   "cell_type": "markdown",
   "id": "2c51d107",
   "metadata": {},
   "source": [
    "<a id='s5'> </a>"
   ]
  },
  {
   "cell_type": "markdown",
   "id": "a2895ff5",
   "metadata": {},
   "source": [
    "### Z-Тесты для событий"
   ]
  },
  {
   "cell_type": "markdown",
   "id": "2bf2c977",
   "metadata": {},
   "source": [
    "Посмотрим есть ли статистически значимая разница между долями."
   ]
  },
  {
   "cell_type": "markdown",
   "id": "ca8b4615",
   "metadata": {},
   "source": [
    "Н0 - статистически значимых различий между долями нет<br>\n",
    "Н1 - есть статистически значимая разница между долями\n"
   ]
  },
  {
   "cell_type": "code",
   "execution_count": 52,
   "id": "f9b39097",
   "metadata": {},
   "outputs": [],
   "source": [
    "def test(group_1, group_2, event_users):\n",
    "    z_test(\n",
    "        [\n",
    "            int(event_users[event_users['exp_id'] == group_1]['all_users']),\n",
    "            int(event_users[event_users['exp_id'] == group_2]['all_users'])\n",
    "        ],\n",
    "        [\n",
    "            int(event_users[event_users['exp_id'] == group_1]['users_part']),\n",
    "            int(event_users[event_users['exp_id'] == group_2]['users_part'])\n",
    "        ]\n",
    "    )"
   ]
  },
  {
   "cell_type": "markdown",
   "id": "31f001e7",
   "metadata": {},
   "source": [
    "#### MainScreenAppear"
   ]
  },
  {
   "cell_type": "code",
   "execution_count": 53,
   "id": "71485fff",
   "metadata": {},
   "outputs": [
    {
     "name": "stdout",
     "output_type": "stream",
     "text": [
      "p-value: 0.40387484283804476\n",
      "Не получилось отвергнуть нулевую гипотезу, нет оснований считать доли разными\n"
     ]
    }
   ],
   "source": [
    "test(246, 247, event_parts('MainScreenAppear'))"
   ]
  },
  {
   "cell_type": "code",
   "execution_count": 54,
   "id": "31a3ffcb",
   "metadata": {},
   "outputs": [
    {
     "name": "stdout",
     "output_type": "stream",
     "text": [
      "p-value: 0.29860841248209\n",
      "Не получилось отвергнуть нулевую гипотезу, нет оснований считать доли разными\n"
     ]
    }
   ],
   "source": [
    "test(246, 248, event_parts('MainScreenAppear'))"
   ]
  },
  {
   "cell_type": "code",
   "execution_count": 55,
   "id": "174bf95a",
   "metadata": {},
   "outputs": [
    {
     "name": "stdout",
     "output_type": "stream",
     "text": [
      "p-value: 0.8374217059128042\n",
      "Не получилось отвергнуть нулевую гипотезу, нет оснований считать доли разными\n"
     ]
    }
   ],
   "source": [
    "test(247, 248, event_parts('MainScreenAppear'))"
   ]
  },
  {
   "cell_type": "markdown",
   "id": "9661fd51",
   "metadata": {},
   "source": [
    "Исходя из результатов тестов мы не можем отвергнуть нулевую гипотезу о том что статистически значимой разницы между долями 246, 247 и 248 нет."
   ]
  },
  {
   "cell_type": "markdown",
   "id": "7c33ff2f",
   "metadata": {},
   "source": [
    "Сделаем тоже самое для других событий"
   ]
  },
  {
   "cell_type": "markdown",
   "id": "3f6efb8b",
   "metadata": {},
   "source": [
    "#### OffersScreenAppear"
   ]
  },
  {
   "cell_type": "code",
   "execution_count": 56,
   "id": "83f3435a",
   "metadata": {},
   "outputs": [
    {
     "data": {
      "text/html": [
       "<div>\n",
       "<style scoped>\n",
       "    .dataframe tbody tr th:only-of-type {\n",
       "        vertical-align: middle;\n",
       "    }\n",
       "\n",
       "    .dataframe tbody tr th {\n",
       "        vertical-align: top;\n",
       "    }\n",
       "\n",
       "    .dataframe thead th {\n",
       "        text-align: right;\n",
       "    }\n",
       "</style>\n",
       "<table border=\"1\" class=\"dataframe\">\n",
       "  <thead>\n",
       "    <tr style=\"text-align: right;\">\n",
       "      <th></th>\n",
       "      <th>exp_id</th>\n",
       "      <th>all_users</th>\n",
       "      <th>users_part</th>\n",
       "      <th>ratio</th>\n",
       "    </tr>\n",
       "  </thead>\n",
       "  <tbody>\n",
       "    <tr>\n",
       "      <td>0</td>\n",
       "      <td>246</td>\n",
       "      <td>2478</td>\n",
       "      <td>1537</td>\n",
       "      <td>0.620258</td>\n",
       "    </tr>\n",
       "    <tr>\n",
       "      <td>1</td>\n",
       "      <td>247</td>\n",
       "      <td>2511</td>\n",
       "      <td>1517</td>\n",
       "      <td>0.604142</td>\n",
       "    </tr>\n",
       "    <tr>\n",
       "      <td>2</td>\n",
       "      <td>248</td>\n",
       "      <td>2530</td>\n",
       "      <td>1524</td>\n",
       "      <td>0.602372</td>\n",
       "    </tr>\n",
       "  </tbody>\n",
       "</table>\n",
       "</div>"
      ],
      "text/plain": [
       "   exp_id  all_users  users_part     ratio\n",
       "0     246       2478        1537  0.620258\n",
       "1     247       2511        1517  0.604142\n",
       "2     248       2530        1524  0.602372"
      ]
     },
     "execution_count": 56,
     "metadata": {},
     "output_type": "execute_result"
    }
   ],
   "source": [
    "event_parts('OffersScreenAppear')"
   ]
  },
  {
   "cell_type": "code",
   "execution_count": 57,
   "id": "79233db6",
   "metadata": {},
   "outputs": [
    {
     "name": "stdout",
     "output_type": "stream",
     "text": [
      "p-value: 0.24277036195922763\n",
      "Не получилось отвергнуть нулевую гипотезу, нет оснований считать доли разными\n"
     ]
    }
   ],
   "source": [
    "test(246, 247, event_parts('OffersScreenAppear'))"
   ]
  },
  {
   "cell_type": "code",
   "execution_count": 58,
   "id": "4fb3040c",
   "metadata": {},
   "outputs": [
    {
     "name": "stdout",
     "output_type": "stream",
     "text": [
      "p-value: 0.19420032981963087\n",
      "Не получилось отвергнуть нулевую гипотезу, нет оснований считать доли разными\n"
     ]
    }
   ],
   "source": [
    "test(246, 248, event_parts('OffersScreenAppear'))"
   ]
  },
  {
   "cell_type": "code",
   "execution_count": 59,
   "id": "f6450a42",
   "metadata": {},
   "outputs": [
    {
     "name": "stdout",
     "output_type": "stream",
     "text": [
      "p-value: 0.8977892380394279\n",
      "Не получилось отвергнуть нулевую гипотезу, нет оснований считать доли разными\n"
     ]
    }
   ],
   "source": [
    "test(247, 248, event_parts('OffersScreenAppear'))"
   ]
  },
  {
   "cell_type": "markdown",
   "id": "215d7fcd",
   "metadata": {},
   "source": [
    "#### CartScreenAppear"
   ]
  },
  {
   "cell_type": "code",
   "execution_count": 60,
   "id": "af73c2b4",
   "metadata": {},
   "outputs": [
    {
     "data": {
      "text/html": [
       "<div>\n",
       "<style scoped>\n",
       "    .dataframe tbody tr th:only-of-type {\n",
       "        vertical-align: middle;\n",
       "    }\n",
       "\n",
       "    .dataframe tbody tr th {\n",
       "        vertical-align: top;\n",
       "    }\n",
       "\n",
       "    .dataframe thead th {\n",
       "        text-align: right;\n",
       "    }\n",
       "</style>\n",
       "<table border=\"1\" class=\"dataframe\">\n",
       "  <thead>\n",
       "    <tr style=\"text-align: right;\">\n",
       "      <th></th>\n",
       "      <th>exp_id</th>\n",
       "      <th>all_users</th>\n",
       "      <th>users_part</th>\n",
       "      <th>ratio</th>\n",
       "    </tr>\n",
       "  </thead>\n",
       "  <tbody>\n",
       "    <tr>\n",
       "      <td>0</td>\n",
       "      <td>246</td>\n",
       "      <td>2478</td>\n",
       "      <td>1257</td>\n",
       "      <td>0.507264</td>\n",
       "    </tr>\n",
       "    <tr>\n",
       "      <td>1</td>\n",
       "      <td>247</td>\n",
       "      <td>2511</td>\n",
       "      <td>1233</td>\n",
       "      <td>0.491039</td>\n",
       "    </tr>\n",
       "    <tr>\n",
       "      <td>2</td>\n",
       "      <td>248</td>\n",
       "      <td>2530</td>\n",
       "      <td>1224</td>\n",
       "      <td>0.483794</td>\n",
       "    </tr>\n",
       "  </tbody>\n",
       "</table>\n",
       "</div>"
      ],
      "text/plain": [
       "   exp_id  all_users  users_part     ratio\n",
       "0     246       2478        1257  0.507264\n",
       "1     247       2511        1233  0.491039\n",
       "2     248       2530        1224  0.483794"
      ]
     },
     "execution_count": 60,
     "metadata": {},
     "output_type": "execute_result"
    }
   ],
   "source": [
    "event_parts('CartScreenAppear')"
   ]
  },
  {
   "cell_type": "code",
   "execution_count": 61,
   "id": "c74bc01c",
   "metadata": {},
   "outputs": [
    {
     "name": "stdout",
     "output_type": "stream",
     "text": [
      "p-value: 0.2518120159282209\n",
      "Не получилось отвергнуть нулевую гипотезу, нет оснований считать доли разными\n"
     ]
    }
   ],
   "source": [
    "test(246, 247, event_parts('CartScreenAppear'))"
   ]
  },
  {
   "cell_type": "code",
   "execution_count": 62,
   "id": "c100d582",
   "metadata": {},
   "outputs": [
    {
     "name": "stdout",
     "output_type": "stream",
     "text": [
      "p-value: 0.09674381977715152\n",
      "Не получилось отвергнуть нулевую гипотезу, нет оснований считать доли разными\n"
     ]
    }
   ],
   "source": [
    "test(246, 248, event_parts('CartScreenAppear'))"
   ]
  },
  {
   "cell_type": "code",
   "execution_count": 63,
   "id": "b912e778",
   "metadata": {},
   "outputs": [
    {
     "name": "stdout",
     "output_type": "stream",
     "text": [
      "p-value: 0.6068662291594062\n",
      "Не получилось отвергнуть нулевую гипотезу, нет оснований считать доли разными\n"
     ]
    }
   ],
   "source": [
    "test(247, 248, event_parts('CartScreenAppear'))"
   ]
  },
  {
   "cell_type": "markdown",
   "id": "846c82ca",
   "metadata": {},
   "source": [
    "#### PaymentScreenSuccessful"
   ]
  },
  {
   "cell_type": "code",
   "execution_count": 64,
   "id": "e84fd207",
   "metadata": {},
   "outputs": [
    {
     "data": {
      "text/html": [
       "<div>\n",
       "<style scoped>\n",
       "    .dataframe tbody tr th:only-of-type {\n",
       "        vertical-align: middle;\n",
       "    }\n",
       "\n",
       "    .dataframe tbody tr th {\n",
       "        vertical-align: top;\n",
       "    }\n",
       "\n",
       "    .dataframe thead th {\n",
       "        text-align: right;\n",
       "    }\n",
       "</style>\n",
       "<table border=\"1\" class=\"dataframe\">\n",
       "  <thead>\n",
       "    <tr style=\"text-align: right;\">\n",
       "      <th></th>\n",
       "      <th>exp_id</th>\n",
       "      <th>all_users</th>\n",
       "      <th>users_part</th>\n",
       "      <th>ratio</th>\n",
       "    </tr>\n",
       "  </thead>\n",
       "  <tbody>\n",
       "    <tr>\n",
       "      <td>0</td>\n",
       "      <td>246</td>\n",
       "      <td>2478</td>\n",
       "      <td>1191</td>\n",
       "      <td>0.480630</td>\n",
       "    </tr>\n",
       "    <tr>\n",
       "      <td>1</td>\n",
       "      <td>247</td>\n",
       "      <td>2511</td>\n",
       "      <td>1151</td>\n",
       "      <td>0.458383</td>\n",
       "    </tr>\n",
       "    <tr>\n",
       "      <td>2</td>\n",
       "      <td>248</td>\n",
       "      <td>2530</td>\n",
       "      <td>1175</td>\n",
       "      <td>0.464427</td>\n",
       "    </tr>\n",
       "  </tbody>\n",
       "</table>\n",
       "</div>"
      ],
      "text/plain": [
       "   exp_id  all_users  users_part     ratio\n",
       "0     246       2478        1191  0.480630\n",
       "1     247       2511        1151  0.458383\n",
       "2     248       2530        1175  0.464427"
      ]
     },
     "execution_count": 64,
     "metadata": {},
     "output_type": "execute_result"
    }
   ],
   "source": [
    "event_parts('PaymentScreenSuccessful')"
   ]
  },
  {
   "cell_type": "code",
   "execution_count": 65,
   "id": "3ed8a956",
   "metadata": {},
   "outputs": [
    {
     "name": "stdout",
     "output_type": "stream",
     "text": [
      "p-value: 0.11543227441042037\n",
      "Не получилось отвергнуть нулевую гипотезу, нет оснований считать доли разными\n"
     ]
    }
   ],
   "source": [
    "test(246, 247, event_parts('PaymentScreenSuccessful'))"
   ]
  },
  {
   "cell_type": "code",
   "execution_count": 66,
   "id": "8d637c9b",
   "metadata": {},
   "outputs": [
    {
     "name": "stdout",
     "output_type": "stream",
     "text": [
      "p-value: 0.25084439500508626\n",
      "Не получилось отвергнуть нулевую гипотезу, нет оснований считать доли разными\n"
     ]
    }
   ],
   "source": [
    "test(246, 248, event_parts('PaymentScreenSuccessful'))"
   ]
  },
  {
   "cell_type": "code",
   "execution_count": 67,
   "id": "02cfd483",
   "metadata": {},
   "outputs": [
    {
     "name": "stdout",
     "output_type": "stream",
     "text": [
      "p-value: 0.6669137994898544\n",
      "Не получилось отвергнуть нулевую гипотезу, нет оснований считать доли разными\n"
     ]
    }
   ],
   "source": [
    "test(247, 248, event_parts('PaymentScreenSuccessful'))"
   ]
  },
  {
   "cell_type": "markdown",
   "id": "2a7ddcd6",
   "metadata": {},
   "source": [
    "#### Tutorial"
   ]
  },
  {
   "cell_type": "code",
   "execution_count": 68,
   "id": "bb656819",
   "metadata": {},
   "outputs": [
    {
     "data": {
      "text/html": [
       "<div>\n",
       "<style scoped>\n",
       "    .dataframe tbody tr th:only-of-type {\n",
       "        vertical-align: middle;\n",
       "    }\n",
       "\n",
       "    .dataframe tbody tr th {\n",
       "        vertical-align: top;\n",
       "    }\n",
       "\n",
       "    .dataframe thead th {\n",
       "        text-align: right;\n",
       "    }\n",
       "</style>\n",
       "<table border=\"1\" class=\"dataframe\">\n",
       "  <thead>\n",
       "    <tr style=\"text-align: right;\">\n",
       "      <th></th>\n",
       "      <th>exp_id</th>\n",
       "      <th>all_users</th>\n",
       "      <th>users_part</th>\n",
       "      <th>ratio</th>\n",
       "    </tr>\n",
       "  </thead>\n",
       "  <tbody>\n",
       "    <tr>\n",
       "      <td>0</td>\n",
       "      <td>246</td>\n",
       "      <td>2478</td>\n",
       "      <td>277</td>\n",
       "      <td>0.111784</td>\n",
       "    </tr>\n",
       "    <tr>\n",
       "      <td>1</td>\n",
       "      <td>247</td>\n",
       "      <td>2511</td>\n",
       "      <td>283</td>\n",
       "      <td>0.112704</td>\n",
       "    </tr>\n",
       "    <tr>\n",
       "      <td>2</td>\n",
       "      <td>248</td>\n",
       "      <td>2530</td>\n",
       "      <td>278</td>\n",
       "      <td>0.109881</td>\n",
       "    </tr>\n",
       "  </tbody>\n",
       "</table>\n",
       "</div>"
      ],
      "text/plain": [
       "   exp_id  all_users  users_part     ratio\n",
       "0     246       2478         277  0.111784\n",
       "1     247       2511         283  0.112704\n",
       "2     248       2530         278  0.109881"
      ]
     },
     "execution_count": 68,
     "metadata": {},
     "output_type": "execute_result"
    }
   ],
   "source": [
    "event_parts('Tutorial')"
   ]
  },
  {
   "cell_type": "code",
   "execution_count": 69,
   "id": "1d8f2230",
   "metadata": {},
   "outputs": [
    {
     "name": "stdout",
     "output_type": "stream",
     "text": [
      "p-value: 0.9179863365481813\n",
      "Не получилось отвергнуть нулевую гипотезу, нет оснований считать доли разными\n"
     ]
    }
   ],
   "source": [
    "test(246, 247, event_parts('Tutorial'))"
   ]
  },
  {
   "cell_type": "code",
   "execution_count": 70,
   "id": "10c57f70",
   "metadata": {},
   "outputs": [
    {
     "name": "stdout",
     "output_type": "stream",
     "text": [
      "p-value: 0.8302280456901241\n",
      "Не получилось отвергнуть нулевую гипотезу, нет оснований считать доли разными\n"
     ]
    }
   ],
   "source": [
    "test(246, 248, event_parts('Tutorial'))"
   ]
  },
  {
   "cell_type": "code",
   "execution_count": 71,
   "id": "4c0e6ef8",
   "metadata": {},
   "outputs": [
    {
     "name": "stdout",
     "output_type": "stream",
     "text": [
      "p-value: 0.7500091264489663\n",
      "Не получилось отвергнуть нулевую гипотезу, нет оснований считать доли разными\n"
     ]
    }
   ],
   "source": [
    "test(247, 248, event_parts('Tutorial'))"
   ]
  },
  {
   "cell_type": "markdown",
   "id": "81e76545",
   "metadata": {},
   "source": [
    "<a id='s6'> </a>"
   ]
  },
  {
   "cell_type": "markdown",
   "id": "a7729685",
   "metadata": {},
   "source": [
    "### Объединенная группа"
   ]
  },
  {
   "cell_type": "markdown",
   "id": "a9a0e00e",
   "metadata": {},
   "source": [
    "Проведем тесты для объединенной контрольной группы."
   ]
  },
  {
   "cell_type": "code",
   "execution_count": 72,
   "id": "c0aa04bf",
   "metadata": {},
   "outputs": [],
   "source": [
    "def grouped_parts(event_name):\n",
    "    data_def = data_clear.copy()\n",
    "    data_def.loc[data_def['exp_id'] == 246, 'exp_id'] = 'grouped'\n",
    "    data_def.loc[data_def['exp_id'] == 247, 'exp_id'] = 'grouped'\n",
    "    event_name = data_def.query('event_name == @event_name')\\\n",
    "        .groupby('exp_id', as_index=False)\\\n",
    "        .agg({'id': 'nunique'})\n",
    "    event_name = event_name.rename(columns={'id': 'users_part'})\n",
    "\n",
    "    group_users = data_def.groupby('exp_id', as_index=False)\\\n",
    "        .agg({'id': 'nunique'})\n",
    "    group_users = group_users.rename(columns={'id': 'all_users'})\n",
    "\n",
    "    event_name = group_users.merge(\n",
    "        event_name,\n",
    "        on='exp_id',\n",
    "        how='left')\n",
    "\n",
    "    event_name['ratio'] = event_name['users_part']\\\n",
    "        / event_name['all_users']\n",
    "\n",
    "    return event_name"
   ]
  },
  {
   "cell_type": "code",
   "execution_count": 73,
   "id": "b2a2a453",
   "metadata": {},
   "outputs": [
    {
     "data": {
      "text/html": [
       "<div>\n",
       "<style scoped>\n",
       "    .dataframe tbody tr th:only-of-type {\n",
       "        vertical-align: middle;\n",
       "    }\n",
       "\n",
       "    .dataframe tbody tr th {\n",
       "        vertical-align: top;\n",
       "    }\n",
       "\n",
       "    .dataframe thead th {\n",
       "        text-align: right;\n",
       "    }\n",
       "</style>\n",
       "<table border=\"1\" class=\"dataframe\">\n",
       "  <thead>\n",
       "    <tr style=\"text-align: right;\">\n",
       "      <th></th>\n",
       "      <th>exp_id</th>\n",
       "      <th>all_users</th>\n",
       "      <th>users_part</th>\n",
       "      <th>ratio</th>\n",
       "    </tr>\n",
       "  </thead>\n",
       "  <tbody>\n",
       "    <tr>\n",
       "      <td>0</td>\n",
       "      <td>248</td>\n",
       "      <td>2530</td>\n",
       "      <td>2493</td>\n",
       "      <td>0.985375</td>\n",
       "    </tr>\n",
       "    <tr>\n",
       "      <td>1</td>\n",
       "      <td>grouped</td>\n",
       "      <td>4989</td>\n",
       "      <td>4926</td>\n",
       "      <td>0.987372</td>\n",
       "    </tr>\n",
       "  </tbody>\n",
       "</table>\n",
       "</div>"
      ],
      "text/plain": [
       "    exp_id  all_users  users_part     ratio\n",
       "0      248       2530        2493  0.985375\n",
       "1  grouped       4989        4926  0.987372"
      ]
     },
     "execution_count": 73,
     "metadata": {},
     "output_type": "execute_result"
    }
   ],
   "source": [
    "grouped_parts('MainScreenAppear')"
   ]
  },
  {
   "cell_type": "code",
   "execution_count": 74,
   "id": "c600251d",
   "metadata": {},
   "outputs": [
    {
     "name": "stdout",
     "output_type": "stream",
     "text": [
      "p-value: 0.47513123512740707\n",
      "Не получилось отвергнуть нулевую гипотезу, нет оснований считать доли разными\n"
     ]
    }
   ],
   "source": [
    "test(248, 'grouped', grouped_parts('MainScreenAppear'))"
   ]
  },
  {
   "cell_type": "code",
   "execution_count": 75,
   "id": "2c4de276",
   "metadata": {},
   "outputs": [
    {
     "name": "stdout",
     "output_type": "stream",
     "text": [
      "p-value: 0.4118149791581025\n",
      "Не получилось отвергнуть нулевую гипотезу, нет оснований считать доли разными\n"
     ]
    }
   ],
   "source": [
    "test(248, 'grouped', grouped_parts('OffersScreenAppear'))"
   ]
  },
  {
   "cell_type": "code",
   "execution_count": 76,
   "id": "799da11a",
   "metadata": {},
   "outputs": [
    {
     "name": "stdout",
     "output_type": "stream",
     "text": [
      "p-value: 0.20979645472177788\n",
      "Не получилось отвергнуть нулевую гипотезу, нет оснований считать доли разными\n"
     ]
    }
   ],
   "source": [
    "test(248, 'grouped', grouped_parts('CartScreenAppear'))"
   ]
  },
  {
   "cell_type": "code",
   "execution_count": 77,
   "id": "4278771c",
   "metadata": {},
   "outputs": [
    {
     "name": "stdout",
     "output_type": "stream",
     "text": [
      "p-value: 0.6810305691739882\n",
      "Не получилось отвергнуть нулевую гипотезу, нет оснований считать доли разными\n"
     ]
    }
   ],
   "source": [
    "test(248, 'grouped', grouped_parts('PaymentScreenSuccessful'))"
   ]
  },
  {
   "cell_type": "code",
   "execution_count": 78,
   "id": "16098070",
   "metadata": {},
   "outputs": [
    {
     "name": "stdout",
     "output_type": "stream",
     "text": [
      "p-value: 0.7580929728849777\n",
      "Не получилось отвергнуть нулевую гипотезу, нет оснований считать доли разными\n"
     ]
    }
   ],
   "source": [
    "test(248, 'grouped', grouped_parts('Tutorial'))"
   ]
  },
  {
   "cell_type": "markdown",
   "id": "7e9d28d4",
   "metadata": {},
   "source": [
    "<a id='s7'> </a>"
   ]
  },
  {
   "cell_type": "markdown",
   "id": "965d20cd",
   "metadata": {},
   "source": [
    "# Вывод "
   ]
  },
  {
   "cell_type": "markdown",
   "id": "dc6573bd",
   "metadata": {},
   "source": [
    "Исходя из данных мы узнали что пользователи разняться в своем пути до успешной оплаты. Возможно некоторые по рекламным ресурсам напрямую в каталог. При этом у пользователей прошедших весь путь конверсия около 6% независимо от группы эксперемента.<br>\n",
    "<br>\n",
    "Так как большинство пользователей отваливается после гланого экрана следует обратить внимание на другие метрики чтобы изучить пользовательский опыт, понять как можно его улучшить и увеличить конверсию.<br> \n",
    "<br>\n",
    "Мы провели тесты для каждого события и группы и исходя из результатов тестов мы не можем отвергнуть нулевую гипотезу о том что статистически значимой разницы между долями 246, 247 и 248 нет.<br>\n",
    "<br>\n",
    "Исходя из этого мы можем предположить что изменение шрифта не влияет на конверсию."
   ]
  }
 ],
 "metadata": {
  "ExecuteTimeLog": [
   {
    "duration": 43051,
    "start_time": "2021-11-12T07:09:24.888Z"
   },
   {
    "duration": 164,
    "start_time": "2021-11-12T07:10:07.942Z"
   },
   {
    "duration": 23,
    "start_time": "2021-11-12T07:10:16.963Z"
   },
   {
    "duration": 6,
    "start_time": "2021-11-12T07:10:16.989Z"
   },
   {
    "duration": 30,
    "start_time": "2021-11-12T07:10:16.997Z"
   },
   {
    "duration": 41,
    "start_time": "2021-11-12T07:10:17.029Z"
   },
   {
    "duration": 97,
    "start_time": "2021-11-12T07:10:17.072Z"
   },
   {
    "duration": 115,
    "start_time": "2021-11-12T07:10:17.171Z"
   },
   {
    "duration": 112,
    "start_time": "2021-11-12T07:10:17.289Z"
   },
   {
    "duration": 11,
    "start_time": "2021-11-12T07:10:17.406Z"
   },
   {
    "duration": 188,
    "start_time": "2021-11-12T07:10:17.420Z"
   },
   {
    "duration": 13,
    "start_time": "2021-11-12T07:10:17.611Z"
   },
   {
    "duration": 55,
    "start_time": "2021-11-12T07:10:17.627Z"
   },
   {
    "duration": 43,
    "start_time": "2021-11-12T07:10:17.685Z"
   },
   {
    "duration": 37,
    "start_time": "2021-11-12T07:10:17.730Z"
   },
   {
    "duration": 7,
    "start_time": "2021-11-12T07:10:17.769Z"
   },
   {
    "duration": 30,
    "start_time": "2021-11-12T07:10:17.778Z"
   },
   {
    "duration": 13249,
    "start_time": "2021-11-12T07:10:17.810Z"
   },
   {
    "duration": 242,
    "start_time": "2021-11-12T07:10:31.061Z"
   },
   {
    "duration": 101,
    "start_time": "2021-11-12T07:10:31.306Z"
   },
   {
    "duration": 97,
    "start_time": "2021-11-12T07:10:31.409Z"
   },
   {
    "duration": 75,
    "start_time": "2021-11-12T07:10:31.508Z"
   },
   {
    "duration": 90,
    "start_time": "2021-11-12T07:10:31.585Z"
   },
   {
    "duration": 194,
    "start_time": "2021-11-12T07:10:31.678Z"
   },
   {
    "duration": 98,
    "start_time": "2021-11-12T07:10:31.882Z"
   },
   {
    "duration": 196,
    "start_time": "2021-11-12T07:10:31.986Z"
   },
   {
    "duration": 188,
    "start_time": "2021-11-12T07:10:32.185Z"
   },
   {
    "duration": 198,
    "start_time": "2021-11-12T07:10:32.376Z"
   },
   {
    "duration": 89,
    "start_time": "2021-11-12T07:10:32.578Z"
   },
   {
    "duration": 398,
    "start_time": "2021-11-12T07:10:32.669Z"
   },
   {
    "duration": 406,
    "start_time": "2021-11-12T07:10:33.070Z"
   },
   {
    "duration": 371,
    "start_time": "2021-11-12T07:10:33.479Z"
   },
   {
    "duration": 404,
    "start_time": "2021-11-12T07:10:33.853Z"
   },
   {
    "duration": 254,
    "start_time": "2021-11-12T07:10:34.267Z"
   },
   {
    "duration": 6,
    "start_time": "2021-11-12T07:10:34.526Z"
   },
   {
    "duration": 14,
    "start_time": "2021-11-12T07:10:34.534Z"
   },
   {
    "duration": 10228,
    "start_time": "2021-11-12T07:10:34.551Z"
   },
   {
    "duration": 8,
    "start_time": "2021-11-12T07:10:44.781Z"
   },
   {
    "duration": 13,
    "start_time": "2021-11-12T07:10:44.791Z"
   },
   {
    "duration": 61,
    "start_time": "2021-11-12T07:10:44.806Z"
   },
   {
    "duration": 10,
    "start_time": "2021-11-12T07:10:44.869Z"
   },
   {
    "duration": 13,
    "start_time": "2021-11-12T07:10:44.881Z"
   },
   {
    "duration": 96,
    "start_time": "2021-11-12T07:10:44.897Z"
   },
   {
    "duration": 7,
    "start_time": "2021-11-12T07:10:44.995Z"
   },
   {
    "duration": 48,
    "start_time": "2021-11-12T07:10:45.005Z"
   },
   {
    "duration": 12,
    "start_time": "2021-11-12T07:10:45.055Z"
   },
   {
    "duration": 13,
    "start_time": "2021-11-12T07:10:45.070Z"
   },
   {
    "duration": 16,
    "start_time": "2021-11-12T07:10:45.085Z"
   },
   {
    "duration": 14,
    "start_time": "2021-11-12T07:10:45.104Z"
   },
   {
    "duration": 69,
    "start_time": "2021-11-12T07:10:45.121Z"
   },
   {
    "duration": 7,
    "start_time": "2021-11-12T07:10:45.193Z"
   },
   {
    "duration": 113,
    "start_time": "2021-11-12T07:10:45.202Z"
   },
   {
    "duration": 6,
    "start_time": "2021-11-12T07:10:45.317Z"
   },
   {
    "duration": 113,
    "start_time": "2021-11-12T07:10:45.325Z"
   },
   {
    "duration": 103,
    "start_time": "2021-11-12T07:10:45.441Z"
   },
   {
    "duration": 99,
    "start_time": "2021-11-12T07:10:45.547Z"
   },
   {
    "duration": 85,
    "start_time": "2021-11-12T07:10:45.648Z"
   },
   {
    "duration": 88,
    "start_time": "2021-11-12T07:10:45.735Z"
   },
   {
    "duration": 88,
    "start_time": "2021-11-12T07:10:45.826Z"
   },
   {
    "duration": 85,
    "start_time": "2021-11-12T07:10:45.916Z"
   },
   {
    "duration": 79,
    "start_time": "2021-11-12T07:10:46.003Z"
   },
   {
    "duration": 86,
    "start_time": "2021-11-12T07:10:46.084Z"
   },
   {
    "duration": 73,
    "start_time": "2021-11-12T07:10:46.173Z"
   },
   {
    "duration": 72,
    "start_time": "2021-11-12T07:10:46.268Z"
   },
   {
    "duration": 81,
    "start_time": "2021-11-12T07:10:46.342Z"
   },
   {
    "duration": 84,
    "start_time": "2021-11-12T07:10:46.426Z"
   },
   {
    "duration": 82,
    "start_time": "2021-11-12T07:10:46.513Z"
   },
   {
    "duration": 75,
    "start_time": "2021-11-12T07:10:46.597Z"
   },
   {
    "duration": 61,
    "start_time": "2021-11-12T07:10:46.675Z"
   },
   {
    "duration": 81,
    "start_time": "2021-11-12T07:10:46.744Z"
   },
   {
    "duration": 77,
    "start_time": "2021-11-12T07:10:46.827Z"
   },
   {
    "duration": 75,
    "start_time": "2021-11-12T07:10:46.906Z"
   },
   {
    "duration": 7,
    "start_time": "2021-11-12T07:10:46.983Z"
   },
   {
    "duration": 293,
    "start_time": "2021-11-12T07:10:46.993Z"
   },
   {
    "duration": 170,
    "start_time": "2021-11-12T07:10:47.289Z"
   },
   {
    "duration": 155,
    "start_time": "2021-11-12T07:10:47.461Z"
   },
   {
    "duration": 149,
    "start_time": "2021-11-12T07:10:47.619Z"
   },
   {
    "duration": 147,
    "start_time": "2021-11-12T07:10:47.771Z"
   },
   {
    "duration": 139,
    "start_time": "2021-11-12T07:10:47.921Z"
   },
   {
    "duration": 135,
    "start_time": "2021-11-12T07:14:46.929Z"
   },
   {
    "duration": 113,
    "start_time": "2021-11-12T07:18:43.198Z"
   },
   {
    "duration": 126,
    "start_time": "2021-11-12T07:20:05.972Z"
   },
   {
    "duration": 108,
    "start_time": "2021-11-12T07:23:07.421Z"
   },
   {
    "duration": 113,
    "start_time": "2021-11-12T07:34:58.700Z"
   },
   {
    "duration": 1460,
    "start_time": "2021-11-12T10:55:58.005Z"
   },
   {
    "duration": 125,
    "start_time": "2021-11-12T10:55:59.467Z"
   },
   {
    "duration": 11,
    "start_time": "2021-11-12T10:55:59.594Z"
   },
   {
    "duration": 8,
    "start_time": "2021-11-12T10:55:59.606Z"
   },
   {
    "duration": 23,
    "start_time": "2021-11-12T10:55:59.616Z"
   },
   {
    "duration": 5,
    "start_time": "2021-11-12T10:55:59.641Z"
   },
   {
    "duration": 70,
    "start_time": "2021-11-12T10:55:59.648Z"
   },
   {
    "duration": 80,
    "start_time": "2021-11-12T10:55:59.721Z"
   },
   {
    "duration": 60,
    "start_time": "2021-11-12T10:55:59.804Z"
   },
   {
    "duration": 8,
    "start_time": "2021-11-12T10:55:59.866Z"
   },
   {
    "duration": 88,
    "start_time": "2021-11-12T10:55:59.876Z"
   },
   {
    "duration": 9,
    "start_time": "2021-11-12T10:55:59.966Z"
   },
   {
    "duration": 18,
    "start_time": "2021-11-12T10:55:59.977Z"
   },
   {
    "duration": 36,
    "start_time": "2021-11-12T10:55:59.997Z"
   },
   {
    "duration": 46,
    "start_time": "2021-11-12T10:56:00.034Z"
   },
   {
    "duration": 5,
    "start_time": "2021-11-12T10:56:00.082Z"
   },
   {
    "duration": 20,
    "start_time": "2021-11-12T10:56:00.089Z"
   },
   {
    "duration": 8114,
    "start_time": "2021-11-12T10:56:00.111Z"
   },
   {
    "duration": 165,
    "start_time": "2021-11-12T10:56:08.228Z"
   },
   {
    "duration": 93,
    "start_time": "2021-11-12T10:56:08.395Z"
   },
   {
    "duration": 85,
    "start_time": "2021-11-12T10:56:08.490Z"
   },
   {
    "duration": 21,
    "start_time": "2021-11-12T10:56:08.577Z"
   },
   {
    "duration": 77,
    "start_time": "2021-11-12T10:56:08.602Z"
   },
   {
    "duration": 106,
    "start_time": "2021-11-12T10:56:08.682Z"
   },
   {
    "duration": 78,
    "start_time": "2021-11-12T10:56:08.790Z"
   },
   {
    "duration": 98,
    "start_time": "2021-11-12T10:56:08.870Z"
   },
   {
    "duration": 98,
    "start_time": "2021-11-12T10:56:08.970Z"
   },
   {
    "duration": 102,
    "start_time": "2021-11-12T10:56:09.069Z"
   },
   {
    "duration": 18,
    "start_time": "2021-11-12T10:56:09.173Z"
   },
   {
    "duration": 287,
    "start_time": "2021-11-12T10:56:09.192Z"
   },
   {
    "duration": 223,
    "start_time": "2021-11-12T10:56:09.481Z"
   },
   {
    "duration": 272,
    "start_time": "2021-11-12T10:56:09.705Z"
   },
   {
    "duration": 312,
    "start_time": "2021-11-12T10:56:09.978Z"
   },
   {
    "duration": 132,
    "start_time": "2021-11-12T10:56:10.292Z"
   },
   {
    "duration": 3,
    "start_time": "2021-11-12T10:56:10.426Z"
   },
   {
    "duration": 8,
    "start_time": "2021-11-12T10:56:10.431Z"
   },
   {
    "duration": 7156,
    "start_time": "2021-11-12T10:56:10.441Z"
   },
   {
    "duration": 5,
    "start_time": "2021-11-12T10:56:17.599Z"
   },
   {
    "duration": 7,
    "start_time": "2021-11-12T10:56:17.606Z"
   },
   {
    "duration": 32,
    "start_time": "2021-11-12T10:56:17.615Z"
   },
   {
    "duration": 20,
    "start_time": "2021-11-12T10:56:17.649Z"
   },
   {
    "duration": 4,
    "start_time": "2021-11-12T10:56:17.671Z"
   },
   {
    "duration": 61,
    "start_time": "2021-11-12T10:56:17.677Z"
   },
   {
    "duration": 24,
    "start_time": "2021-11-12T10:56:17.740Z"
   },
   {
    "duration": 20,
    "start_time": "2021-11-12T10:56:17.766Z"
   },
   {
    "duration": 5,
    "start_time": "2021-11-12T10:56:17.787Z"
   },
   {
    "duration": 8,
    "start_time": "2021-11-12T10:56:17.794Z"
   },
   {
    "duration": 6,
    "start_time": "2021-11-12T10:56:17.804Z"
   },
   {
    "duration": 11,
    "start_time": "2021-11-12T10:56:17.812Z"
   },
   {
    "duration": 70,
    "start_time": "2021-11-12T10:56:17.825Z"
   },
   {
    "duration": 6,
    "start_time": "2021-11-12T10:56:17.897Z"
   },
   {
    "duration": 96,
    "start_time": "2021-11-12T10:56:17.904Z"
   },
   {
    "duration": 3,
    "start_time": "2021-11-12T10:56:18.001Z"
   },
   {
    "duration": 77,
    "start_time": "2021-11-12T10:56:18.006Z"
   },
   {
    "duration": 79,
    "start_time": "2021-11-12T10:56:18.085Z"
   },
   {
    "duration": 65,
    "start_time": "2021-11-12T10:56:18.166Z"
   },
   {
    "duration": 69,
    "start_time": "2021-11-12T10:56:18.233Z"
   },
   {
    "duration": 67,
    "start_time": "2021-11-12T10:56:18.304Z"
   },
   {
    "duration": 59,
    "start_time": "2021-11-12T10:56:18.372Z"
   },
   {
    "duration": 68,
    "start_time": "2021-11-12T10:56:18.432Z"
   },
   {
    "duration": 52,
    "start_time": "2021-11-12T10:56:18.501Z"
   },
   {
    "duration": 54,
    "start_time": "2021-11-12T10:56:18.563Z"
   },
   {
    "duration": 71,
    "start_time": "2021-11-12T10:56:18.619Z"
   },
   {
    "duration": 51,
    "start_time": "2021-11-12T10:56:18.692Z"
   },
   {
    "duration": 59,
    "start_time": "2021-11-12T10:56:18.745Z"
   },
   {
    "duration": 64,
    "start_time": "2021-11-12T10:56:18.805Z"
   },
   {
    "duration": 52,
    "start_time": "2021-11-12T10:56:18.872Z"
   },
   {
    "duration": 70,
    "start_time": "2021-11-12T10:56:18.929Z"
   },
   {
    "duration": 46,
    "start_time": "2021-11-12T10:56:19.001Z"
   },
   {
    "duration": 53,
    "start_time": "2021-11-12T10:56:19.048Z"
   },
   {
    "duration": 60,
    "start_time": "2021-11-12T10:56:19.103Z"
   },
   {
    "duration": 48,
    "start_time": "2021-11-12T10:56:19.165Z"
   },
   {
    "duration": 5,
    "start_time": "2021-11-12T10:56:19.214Z"
   },
   {
    "duration": 144,
    "start_time": "2021-11-12T10:56:19.221Z"
   },
   {
    "duration": 125,
    "start_time": "2021-11-12T10:56:19.367Z"
   },
   {
    "duration": 114,
    "start_time": "2021-11-12T10:56:19.494Z"
   },
   {
    "duration": 102,
    "start_time": "2021-11-12T10:56:19.610Z"
   },
   {
    "duration": 111,
    "start_time": "2021-11-12T10:56:19.713Z"
   },
   {
    "duration": 101,
    "start_time": "2021-11-12T10:56:19.825Z"
   },
   {
    "duration": 1505,
    "start_time": "2021-11-12T11:21:42.977Z"
   },
   {
    "duration": 125,
    "start_time": "2021-11-12T11:21:44.484Z"
   },
   {
    "duration": 11,
    "start_time": "2021-11-12T11:21:44.612Z"
   },
   {
    "duration": 4,
    "start_time": "2021-11-12T11:21:44.625Z"
   },
   {
    "duration": 19,
    "start_time": "2021-11-12T11:21:44.630Z"
   },
   {
    "duration": 16,
    "start_time": "2021-11-12T11:21:44.650Z"
   },
   {
    "duration": 71,
    "start_time": "2021-11-12T11:21:44.667Z"
   },
   {
    "duration": 85,
    "start_time": "2021-11-12T11:21:44.741Z"
   },
   {
    "duration": 68,
    "start_time": "2021-11-12T11:21:44.828Z"
   },
   {
    "duration": 8,
    "start_time": "2021-11-12T11:21:44.898Z"
   },
   {
    "duration": 86,
    "start_time": "2021-11-12T11:21:44.908Z"
   },
   {
    "duration": 14,
    "start_time": "2021-11-12T11:21:44.996Z"
   },
   {
    "duration": 29,
    "start_time": "2021-11-12T11:21:45.011Z"
   },
   {
    "duration": 38,
    "start_time": "2021-11-12T11:21:45.041Z"
   },
   {
    "duration": 20,
    "start_time": "2021-11-12T11:21:45.081Z"
   },
   {
    "duration": 5,
    "start_time": "2021-11-12T11:21:45.103Z"
   },
   {
    "duration": 26,
    "start_time": "2021-11-12T11:21:45.110Z"
   },
   {
    "duration": 8149,
    "start_time": "2021-11-12T11:21:45.138Z"
   },
   {
    "duration": 283,
    "start_time": "2021-11-12T11:21:53.289Z"
   },
   {
    "duration": 116,
    "start_time": "2021-11-12T11:21:53.575Z"
   },
   {
    "duration": 100,
    "start_time": "2021-11-12T11:21:53.693Z"
   },
   {
    "duration": 78,
    "start_time": "2021-11-12T11:21:53.796Z"
   },
   {
    "duration": 86,
    "start_time": "2021-11-12T11:21:53.879Z"
   },
   {
    "duration": 115,
    "start_time": "2021-11-12T11:21:53.969Z"
   },
   {
    "duration": 26,
    "start_time": "2021-11-12T11:21:54.086Z"
   },
   {
    "duration": 101,
    "start_time": "2021-11-12T11:21:54.164Z"
   },
   {
    "duration": 98,
    "start_time": "2021-11-12T11:21:54.267Z"
   },
   {
    "duration": 100,
    "start_time": "2021-11-12T11:21:54.367Z"
   },
   {
    "duration": 16,
    "start_time": "2021-11-12T11:21:54.469Z"
   },
   {
    "duration": 281,
    "start_time": "2021-11-12T11:21:54.487Z"
   },
   {
    "duration": 297,
    "start_time": "2021-11-12T11:21:54.770Z"
   },
   {
    "duration": 228,
    "start_time": "2021-11-12T11:21:55.068Z"
   },
   {
    "duration": 337,
    "start_time": "2021-11-12T11:21:55.298Z"
   },
   {
    "duration": 140,
    "start_time": "2021-11-12T11:21:55.637Z"
   },
   {
    "duration": 4,
    "start_time": "2021-11-12T11:21:55.778Z"
   },
   {
    "duration": 8,
    "start_time": "2021-11-12T11:21:55.784Z"
   },
   {
    "duration": 7546,
    "start_time": "2021-11-12T11:21:55.794Z"
   },
   {
    "duration": 6,
    "start_time": "2021-11-12T11:22:03.342Z"
   },
   {
    "duration": 18,
    "start_time": "2021-11-12T11:22:03.350Z"
   },
   {
    "duration": 31,
    "start_time": "2021-11-12T11:22:03.370Z"
   },
   {
    "duration": 7,
    "start_time": "2021-11-12T11:22:03.403Z"
   },
   {
    "duration": 11,
    "start_time": "2021-11-12T11:22:03.412Z"
   },
   {
    "duration": 78,
    "start_time": "2021-11-12T11:22:03.425Z"
   },
   {
    "duration": 5,
    "start_time": "2021-11-12T11:22:03.505Z"
   },
   {
    "duration": 25,
    "start_time": "2021-11-12T11:22:03.512Z"
   },
   {
    "duration": 6,
    "start_time": "2021-11-12T11:22:03.540Z"
   },
   {
    "duration": 19,
    "start_time": "2021-11-12T11:22:03.548Z"
   },
   {
    "duration": 7,
    "start_time": "2021-11-12T11:22:03.569Z"
   },
   {
    "duration": 10,
    "start_time": "2021-11-12T11:22:03.577Z"
   },
   {
    "duration": 33,
    "start_time": "2021-11-12T11:22:03.589Z"
   },
   {
    "duration": 4,
    "start_time": "2021-11-12T11:22:03.623Z"
   },
   {
    "duration": 99,
    "start_time": "2021-11-12T11:22:03.629Z"
   },
   {
    "duration": 4,
    "start_time": "2021-11-12T11:22:03.729Z"
   },
   {
    "duration": 88,
    "start_time": "2021-11-12T11:22:03.735Z"
   },
   {
    "duration": 79,
    "start_time": "2021-11-12T11:22:03.825Z"
   },
   {
    "duration": 76,
    "start_time": "2021-11-12T11:22:03.906Z"
   },
   {
    "duration": 60,
    "start_time": "2021-11-12T11:22:03.984Z"
   },
   {
    "duration": 73,
    "start_time": "2021-11-12T11:22:04.046Z"
   },
   {
    "duration": 76,
    "start_time": "2021-11-12T11:22:04.121Z"
   },
   {
    "duration": 69,
    "start_time": "2021-11-12T11:22:04.199Z"
   },
   {
    "duration": 59,
    "start_time": "2021-11-12T11:22:04.270Z"
   },
   {
    "duration": 72,
    "start_time": "2021-11-12T11:22:04.331Z"
   },
   {
    "duration": 68,
    "start_time": "2021-11-12T11:22:04.405Z"
   },
   {
    "duration": 59,
    "start_time": "2021-11-12T11:22:04.475Z"
   },
   {
    "duration": 74,
    "start_time": "2021-11-12T11:22:04.536Z"
   },
   {
    "duration": 72,
    "start_time": "2021-11-12T11:22:04.611Z"
   },
   {
    "duration": 59,
    "start_time": "2021-11-12T11:22:04.685Z"
   },
   {
    "duration": 72,
    "start_time": "2021-11-12T11:22:04.749Z"
   },
   {
    "duration": 60,
    "start_time": "2021-11-12T11:22:04.823Z"
   },
   {
    "duration": 46,
    "start_time": "2021-11-12T11:22:04.884Z"
   },
   {
    "duration": 59,
    "start_time": "2021-11-12T11:22:04.932Z"
   },
   {
    "duration": 48,
    "start_time": "2021-11-12T11:22:04.993Z"
   },
   {
    "duration": 21,
    "start_time": "2021-11-12T11:22:05.043Z"
   },
   {
    "duration": 152,
    "start_time": "2021-11-12T11:22:05.066Z"
   },
   {
    "duration": 131,
    "start_time": "2021-11-12T11:22:05.220Z"
   },
   {
    "duration": 113,
    "start_time": "2021-11-12T11:22:05.353Z"
   },
   {
    "duration": 123,
    "start_time": "2021-11-12T11:22:05.468Z"
   },
   {
    "duration": 124,
    "start_time": "2021-11-12T11:22:05.593Z"
   },
   {
    "duration": 109,
    "start_time": "2021-11-12T11:22:05.719Z"
   },
   {
    "duration": 421,
    "start_time": "2021-11-12T11:32:21.971Z"
   },
   {
    "duration": 8852,
    "start_time": "2021-11-12T11:32:52.455Z"
   },
   {
    "duration": 7827,
    "start_time": "2021-11-12T11:33:45.311Z"
   },
   {
    "duration": 2262,
    "start_time": "2021-11-12T11:34:14.101Z"
   },
   {
    "duration": 225,
    "start_time": "2021-11-12T11:34:16.365Z"
   },
   {
    "duration": 10,
    "start_time": "2021-11-12T11:34:16.592Z"
   },
   {
    "duration": 5,
    "start_time": "2021-11-12T11:34:16.604Z"
   },
   {
    "duration": 18,
    "start_time": "2021-11-12T11:34:16.664Z"
   },
   {
    "duration": 6,
    "start_time": "2021-11-12T11:34:16.684Z"
   },
   {
    "duration": 112,
    "start_time": "2021-11-12T11:34:16.692Z"
   },
   {
    "duration": 114,
    "start_time": "2021-11-12T11:34:16.807Z"
   },
   {
    "duration": 62,
    "start_time": "2021-11-12T11:34:16.924Z"
   },
   {
    "duration": 8,
    "start_time": "2021-11-12T11:34:16.988Z"
   },
   {
    "duration": 88,
    "start_time": "2021-11-12T11:34:16.997Z"
   },
   {
    "duration": 10,
    "start_time": "2021-11-12T11:34:17.086Z"
   },
   {
    "duration": 21,
    "start_time": "2021-11-12T11:34:17.097Z"
   },
   {
    "duration": 32,
    "start_time": "2021-11-12T11:34:17.120Z"
   },
   {
    "duration": 21,
    "start_time": "2021-11-12T11:34:17.154Z"
   },
   {
    "duration": 5,
    "start_time": "2021-11-12T11:34:17.177Z"
   },
   {
    "duration": 26,
    "start_time": "2021-11-12T11:34:17.184Z"
   },
   {
    "duration": 10238,
    "start_time": "2021-11-12T11:34:17.212Z"
   },
   {
    "duration": 140,
    "start_time": "2021-11-12T11:34:27.454Z"
   },
   {
    "duration": 94,
    "start_time": "2021-11-12T11:34:27.596Z"
   },
   {
    "duration": 83,
    "start_time": "2021-11-12T11:34:27.691Z"
   },
   {
    "duration": 19,
    "start_time": "2021-11-12T11:34:27.776Z"
   },
   {
    "duration": 75,
    "start_time": "2021-11-12T11:34:27.799Z"
   },
   {
    "duration": 100,
    "start_time": "2021-11-12T11:34:27.877Z"
   },
   {
    "duration": 26,
    "start_time": "2021-11-12T11:34:27.979Z"
   },
   {
    "duration": 167,
    "start_time": "2021-11-12T11:34:28.007Z"
   },
   {
    "duration": 110,
    "start_time": "2021-11-12T11:34:28.176Z"
   },
   {
    "duration": 96,
    "start_time": "2021-11-12T11:34:28.288Z"
   },
   {
    "duration": 77,
    "start_time": "2021-11-12T11:34:28.386Z"
   },
   {
    "duration": 228,
    "start_time": "2021-11-12T11:34:28.465Z"
   },
   {
    "duration": 298,
    "start_time": "2021-11-12T11:34:28.695Z"
   },
   {
    "duration": 279,
    "start_time": "2021-11-12T11:34:28.994Z"
   },
   {
    "duration": 366,
    "start_time": "2021-11-12T11:34:29.274Z"
   },
   {
    "duration": 156,
    "start_time": "2021-11-12T11:34:29.642Z"
   },
   {
    "duration": 4,
    "start_time": "2021-11-12T11:34:29.800Z"
   },
   {
    "duration": 7,
    "start_time": "2021-11-12T11:34:29.807Z"
   },
   {
    "duration": 7287,
    "start_time": "2021-11-12T11:34:29.816Z"
   },
   {
    "duration": 6,
    "start_time": "2021-11-12T11:34:37.105Z"
   },
   {
    "duration": 9,
    "start_time": "2021-11-12T11:34:37.113Z"
   },
   {
    "duration": 43,
    "start_time": "2021-11-12T11:34:37.124Z"
   },
   {
    "duration": 8,
    "start_time": "2021-11-12T11:34:37.169Z"
   },
   {
    "duration": 8,
    "start_time": "2021-11-12T11:34:37.178Z"
   },
   {
    "duration": 86,
    "start_time": "2021-11-12T11:34:37.188Z"
   },
   {
    "duration": 5,
    "start_time": "2021-11-12T11:34:37.276Z"
   },
   {
    "duration": 22,
    "start_time": "2021-11-12T11:34:37.283Z"
   },
   {
    "duration": 5,
    "start_time": "2021-11-12T11:34:37.307Z"
   },
   {
    "duration": 8,
    "start_time": "2021-11-12T11:34:37.314Z"
   },
   {
    "duration": 7,
    "start_time": "2021-11-12T11:34:37.324Z"
   },
   {
    "duration": 33,
    "start_time": "2021-11-12T11:34:37.332Z"
   },
   {
    "duration": 38,
    "start_time": "2021-11-12T11:34:37.367Z"
   },
   {
    "duration": 5,
    "start_time": "2021-11-12T11:34:37.408Z"
   },
   {
    "duration": 90,
    "start_time": "2021-11-12T11:34:37.415Z"
   },
   {
    "duration": 3,
    "start_time": "2021-11-12T11:34:37.507Z"
   },
   {
    "duration": 86,
    "start_time": "2021-11-12T11:34:37.512Z"
   },
   {
    "duration": 80,
    "start_time": "2021-11-12T11:34:37.600Z"
   },
   {
    "duration": 83,
    "start_time": "2021-11-12T11:34:37.682Z"
   },
   {
    "duration": 60,
    "start_time": "2021-11-12T11:34:37.767Z"
   },
   {
    "duration": 77,
    "start_time": "2021-11-12T11:34:37.828Z"
   },
   {
    "duration": 68,
    "start_time": "2021-11-12T11:34:37.907Z"
   },
   {
    "duration": 61,
    "start_time": "2021-11-12T11:34:37.976Z"
   },
   {
    "duration": 76,
    "start_time": "2021-11-12T11:34:38.039Z"
   },
   {
    "duration": 65,
    "start_time": "2021-11-12T11:34:38.117Z"
   },
   {
    "duration": 60,
    "start_time": "2021-11-12T11:34:38.183Z"
   },
   {
    "duration": 73,
    "start_time": "2021-11-12T11:34:38.245Z"
   },
   {
    "duration": 70,
    "start_time": "2021-11-12T11:34:38.320Z"
   },
   {
    "duration": 58,
    "start_time": "2021-11-12T11:34:38.392Z"
   },
   {
    "duration": 60,
    "start_time": "2021-11-12T11:34:38.464Z"
   },
   {
    "duration": 77,
    "start_time": "2021-11-12T11:34:38.529Z"
   },
   {
    "duration": 59,
    "start_time": "2021-11-12T11:34:38.608Z"
   },
   {
    "duration": 50,
    "start_time": "2021-11-12T11:34:38.669Z"
   },
   {
    "duration": 66,
    "start_time": "2021-11-12T11:34:38.720Z"
   },
   {
    "duration": 52,
    "start_time": "2021-11-12T11:34:38.788Z"
   },
   {
    "duration": 23,
    "start_time": "2021-11-12T11:34:38.842Z"
   },
   {
    "duration": 147,
    "start_time": "2021-11-12T11:34:38.867Z"
   },
   {
    "duration": 137,
    "start_time": "2021-11-12T11:34:39.016Z"
   },
   {
    "duration": 123,
    "start_time": "2021-11-12T11:34:39.156Z"
   },
   {
    "duration": 123,
    "start_time": "2021-11-12T11:34:39.281Z"
   },
   {
    "duration": 117,
    "start_time": "2021-11-12T11:34:39.405Z"
   },
   {
    "duration": 108,
    "start_time": "2021-11-12T11:34:39.524Z"
   },
   {
    "duration": 1480,
    "start_time": "2021-11-12T11:39:24.688Z"
   },
   {
    "duration": 124,
    "start_time": "2021-11-12T11:39:26.170Z"
   },
   {
    "duration": 11,
    "start_time": "2021-11-12T11:39:26.296Z"
   },
   {
    "duration": 9,
    "start_time": "2021-11-12T11:39:26.309Z"
   },
   {
    "duration": 20,
    "start_time": "2021-11-12T11:39:26.319Z"
   },
   {
    "duration": 5,
    "start_time": "2021-11-12T11:39:26.341Z"
   },
   {
    "duration": 72,
    "start_time": "2021-11-12T11:39:26.348Z"
   },
   {
    "duration": 81,
    "start_time": "2021-11-12T11:39:26.422Z"
   },
   {
    "duration": 80,
    "start_time": "2021-11-12T11:39:26.506Z"
   },
   {
    "duration": 8,
    "start_time": "2021-11-12T11:39:26.587Z"
   },
   {
    "duration": 86,
    "start_time": "2021-11-12T11:39:26.597Z"
   },
   {
    "duration": 11,
    "start_time": "2021-11-12T11:39:26.685Z"
   },
   {
    "duration": 16,
    "start_time": "2021-11-12T11:39:26.698Z"
   },
   {
    "duration": 32,
    "start_time": "2021-11-12T11:39:26.716Z"
   },
   {
    "duration": 22,
    "start_time": "2021-11-12T11:39:26.764Z"
   },
   {
    "duration": 5,
    "start_time": "2021-11-12T11:39:26.788Z"
   },
   {
    "duration": 25,
    "start_time": "2021-11-12T11:39:26.795Z"
   },
   {
    "duration": 8341,
    "start_time": "2021-11-12T11:39:26.822Z"
   },
   {
    "duration": 135,
    "start_time": "2021-11-12T11:39:35.165Z"
   },
   {
    "duration": 97,
    "start_time": "2021-11-12T11:39:35.302Z"
   },
   {
    "duration": 98,
    "start_time": "2021-11-12T11:39:35.401Z"
   },
   {
    "duration": 81,
    "start_time": "2021-11-12T11:39:35.502Z"
   },
   {
    "duration": 87,
    "start_time": "2021-11-12T11:39:35.589Z"
   },
   {
    "duration": 114,
    "start_time": "2021-11-12T11:39:35.679Z"
   },
   {
    "duration": 85,
    "start_time": "2021-11-12T11:39:35.795Z"
   },
   {
    "duration": 122,
    "start_time": "2021-11-12T11:39:35.882Z"
   },
   {
    "duration": 163,
    "start_time": "2021-11-12T11:39:36.006Z"
   },
   {
    "duration": 130,
    "start_time": "2021-11-12T11:39:36.172Z"
   },
   {
    "duration": 76,
    "start_time": "2021-11-12T11:39:36.304Z"
   },
   {
    "duration": 389,
    "start_time": "2021-11-12T11:39:36.382Z"
   },
   {
    "duration": 392,
    "start_time": "2021-11-12T11:39:36.772Z"
   },
   {
    "duration": 334,
    "start_time": "2021-11-12T11:39:37.167Z"
   },
   {
    "duration": 224,
    "start_time": "2021-11-12T11:39:37.504Z"
   },
   {
    "duration": 327,
    "start_time": "2021-11-12T11:39:37.730Z"
   },
   {
    "duration": 6,
    "start_time": "2021-11-12T11:39:38.059Z"
   },
   {
    "duration": 9,
    "start_time": "2021-11-12T11:39:38.066Z"
   },
   {
    "duration": 6813,
    "start_time": "2021-11-12T11:39:38.076Z"
   },
   {
    "duration": 6,
    "start_time": "2021-11-12T11:39:44.891Z"
   },
   {
    "duration": 7,
    "start_time": "2021-11-12T11:39:44.899Z"
   },
   {
    "duration": 25,
    "start_time": "2021-11-12T11:39:44.908Z"
   },
   {
    "duration": 29,
    "start_time": "2021-11-12T11:39:44.934Z"
   },
   {
    "duration": 4,
    "start_time": "2021-11-12T11:39:44.965Z"
   },
   {
    "duration": 62,
    "start_time": "2021-11-12T11:39:44.971Z"
   },
   {
    "duration": 5,
    "start_time": "2021-11-12T11:39:45.035Z"
   },
   {
    "duration": 41,
    "start_time": "2021-11-12T11:39:45.042Z"
   },
   {
    "duration": 5,
    "start_time": "2021-11-12T11:39:45.085Z"
   },
   {
    "duration": 8,
    "start_time": "2021-11-12T11:39:45.091Z"
   },
   {
    "duration": 6,
    "start_time": "2021-11-12T11:39:45.101Z"
   },
   {
    "duration": 9,
    "start_time": "2021-11-12T11:39:45.109Z"
   },
   {
    "duration": 55,
    "start_time": "2021-11-12T11:39:45.120Z"
   },
   {
    "duration": 4,
    "start_time": "2021-11-12T11:39:45.176Z"
   },
   {
    "duration": 85,
    "start_time": "2021-11-12T11:39:45.182Z"
   },
   {
    "duration": 4,
    "start_time": "2021-11-12T11:39:45.269Z"
   },
   {
    "duration": 72,
    "start_time": "2021-11-12T11:39:45.275Z"
   },
   {
    "duration": 80,
    "start_time": "2021-11-12T11:39:45.348Z"
   },
   {
    "duration": 76,
    "start_time": "2021-11-12T11:39:45.429Z"
   },
   {
    "duration": 65,
    "start_time": "2021-11-12T11:39:45.507Z"
   },
   {
    "duration": 57,
    "start_time": "2021-11-12T11:39:45.573Z"
   },
   {
    "duration": 164,
    "start_time": "2021-11-12T11:39:45.632Z"
   },
   {
    "duration": 64,
    "start_time": "2021-11-12T11:39:45.798Z"
   },
   {
    "duration": 55,
    "start_time": "2021-11-12T11:39:45.864Z"
   },
   {
    "duration": 70,
    "start_time": "2021-11-12T11:39:45.921Z"
   },
   {
    "duration": 54,
    "start_time": "2021-11-12T11:39:45.993Z"
   },
   {
    "duration": 68,
    "start_time": "2021-11-12T11:39:46.049Z"
   },
   {
    "duration": 67,
    "start_time": "2021-11-12T11:39:46.119Z"
   },
   {
    "duration": 54,
    "start_time": "2021-11-12T11:39:46.188Z"
   },
   {
    "duration": 72,
    "start_time": "2021-11-12T11:39:46.244Z"
   },
   {
    "duration": 63,
    "start_time": "2021-11-12T11:39:46.321Z"
   },
   {
    "duration": 46,
    "start_time": "2021-11-12T11:39:46.386Z"
   },
   {
    "duration": 62,
    "start_time": "2021-11-12T11:39:46.433Z"
   },
   {
    "duration": 44,
    "start_time": "2021-11-12T11:39:46.496Z"
   },
   {
    "duration": 58,
    "start_time": "2021-11-12T11:39:46.542Z"
   },
   {
    "duration": 5,
    "start_time": "2021-11-12T11:39:46.602Z"
   },
   {
    "duration": 146,
    "start_time": "2021-11-12T11:39:46.609Z"
   },
   {
    "duration": 122,
    "start_time": "2021-11-12T11:39:46.757Z"
   },
   {
    "duration": 125,
    "start_time": "2021-11-12T11:39:46.881Z"
   },
   {
    "duration": 112,
    "start_time": "2021-11-12T11:39:47.008Z"
   },
   {
    "duration": 116,
    "start_time": "2021-11-12T11:39:47.122Z"
   },
   {
    "duration": 98,
    "start_time": "2021-11-12T11:39:47.240Z"
   },
   {
    "duration": 31,
    "start_time": "2021-11-12T12:17:31.828Z"
   },
   {
    "duration": 31,
    "start_time": "2021-11-12T12:17:38.898Z"
   },
   {
    "duration": 29,
    "start_time": "2021-11-12T12:17:51.885Z"
   },
   {
    "duration": 31,
    "start_time": "2021-11-12T12:17:56.965Z"
   },
   {
    "duration": 32,
    "start_time": "2021-11-12T12:18:02.763Z"
   },
   {
    "duration": 30,
    "start_time": "2021-11-12T12:18:20.607Z"
   },
   {
    "duration": 33,
    "start_time": "2021-11-12T12:19:31.864Z"
   },
   {
    "duration": 22,
    "start_time": "2021-11-12T12:26:14.842Z"
   },
   {
    "duration": 21,
    "start_time": "2021-11-12T12:27:47.736Z"
   },
   {
    "duration": 89,
    "start_time": "2021-11-12T12:38:14.538Z"
   },
   {
    "duration": 428,
    "start_time": "2021-11-12T12:38:20.374Z"
   },
   {
    "duration": 308,
    "start_time": "2021-11-12T12:38:26.819Z"
   },
   {
    "duration": 269,
    "start_time": "2021-11-12T12:38:39.588Z"
   },
   {
    "duration": 301,
    "start_time": "2021-11-12T12:39:42.263Z"
   },
   {
    "duration": 24,
    "start_time": "2021-11-12T12:40:13.202Z"
   },
   {
    "duration": 275,
    "start_time": "2021-11-12T12:40:53.338Z"
   },
   {
    "duration": 25,
    "start_time": "2021-11-12T12:41:18.681Z"
   },
   {
    "duration": 85,
    "start_time": "2021-11-12T12:42:07.980Z"
   },
   {
    "duration": 280,
    "start_time": "2021-11-12T12:42:11.976Z"
   },
   {
    "duration": 24,
    "start_time": "2021-11-12T12:42:29.231Z"
   },
   {
    "duration": 24,
    "start_time": "2021-11-12T12:43:00.997Z"
   },
   {
    "duration": 25,
    "start_time": "2021-11-12T12:43:21.324Z"
   },
   {
    "duration": 128,
    "start_time": "2021-11-12T12:51:28.506Z"
   },
   {
    "duration": 24,
    "start_time": "2021-11-12T12:51:48.727Z"
   },
   {
    "duration": 22,
    "start_time": "2021-11-12T12:52:04.410Z"
   },
   {
    "duration": 22,
    "start_time": "2021-11-12T12:52:36.097Z"
   },
   {
    "duration": 5,
    "start_time": "2021-11-12T12:52:40.547Z"
   },
   {
    "duration": 7287,
    "start_time": "2021-11-12T12:52:42.092Z"
   },
   {
    "duration": 19,
    "start_time": "2021-11-12T12:53:49.211Z"
   },
   {
    "duration": 1452,
    "start_time": "2021-11-12T12:57:07.910Z"
   },
   {
    "duration": 127,
    "start_time": "2021-11-12T12:57:09.364Z"
   },
   {
    "duration": 11,
    "start_time": "2021-11-12T12:57:09.493Z"
   },
   {
    "duration": 6,
    "start_time": "2021-11-12T12:57:09.505Z"
   },
   {
    "duration": 23,
    "start_time": "2021-11-12T12:57:09.513Z"
   },
   {
    "duration": 5,
    "start_time": "2021-11-12T12:57:09.537Z"
   },
   {
    "duration": 60,
    "start_time": "2021-11-12T12:57:09.564Z"
   },
   {
    "duration": 86,
    "start_time": "2021-11-12T12:57:09.625Z"
   },
   {
    "duration": 59,
    "start_time": "2021-11-12T12:57:09.714Z"
   },
   {
    "duration": 8,
    "start_time": "2021-11-12T12:57:09.775Z"
   },
   {
    "duration": 86,
    "start_time": "2021-11-12T12:57:09.785Z"
   },
   {
    "duration": 9,
    "start_time": "2021-11-12T12:57:09.873Z"
   },
   {
    "duration": 19,
    "start_time": "2021-11-12T12:57:09.884Z"
   },
   {
    "duration": 33,
    "start_time": "2021-11-12T12:57:09.904Z"
   },
   {
    "duration": 41,
    "start_time": "2021-11-12T12:57:09.938Z"
   },
   {
    "duration": 5,
    "start_time": "2021-11-12T12:57:09.981Z"
   },
   {
    "duration": 22,
    "start_time": "2021-11-12T12:57:09.988Z"
   },
   {
    "duration": 8407,
    "start_time": "2021-11-12T12:57:10.012Z"
   },
   {
    "duration": 176,
    "start_time": "2021-11-12T12:57:18.422Z"
   },
   {
    "duration": 106,
    "start_time": "2021-11-12T12:57:18.599Z"
   },
   {
    "duration": 84,
    "start_time": "2021-11-12T12:57:18.707Z"
   },
   {
    "duration": 72,
    "start_time": "2021-11-12T12:57:18.793Z"
   },
   {
    "duration": 25,
    "start_time": "2021-11-12T12:57:18.866Z"
   },
   {
    "duration": 98,
    "start_time": "2021-11-12T12:57:18.893Z"
   },
   {
    "duration": 75,
    "start_time": "2021-11-12T12:57:18.993Z"
   },
   {
    "duration": 21,
    "start_time": "2021-11-12T12:57:19.070Z"
   },
   {
    "duration": 5,
    "start_time": "2021-11-12T12:57:19.095Z"
   },
   {
    "duration": 7376,
    "start_time": "2021-11-12T12:57:19.102Z"
   },
   {
    "duration": 22,
    "start_time": "2021-11-12T12:57:26.479Z"
   },
   {
    "duration": 45,
    "start_time": "2021-11-12T12:57:26.503Z"
   },
   {
    "duration": 44,
    "start_time": "2021-11-12T12:57:26.564Z"
   },
   {
    "duration": 62,
    "start_time": "2021-11-12T12:57:26.610Z"
   },
   {
    "duration": 124,
    "start_time": "2021-11-12T12:57:26.674Z"
   },
   {
    "duration": 127,
    "start_time": "2021-11-12T12:57:26.799Z"
   },
   {
    "duration": 124,
    "start_time": "2021-11-12T12:57:26.928Z"
   },
   {
    "duration": 120,
    "start_time": "2021-11-12T12:57:27.054Z"
   },
   {
    "duration": 311,
    "start_time": "2021-11-12T12:57:27.176Z"
   },
   {
    "duration": 3,
    "start_time": "2021-11-12T12:57:27.489Z"
   },
   {
    "duration": 91,
    "start_time": "2021-11-12T12:57:27.493Z"
   },
   {
    "duration": 5,
    "start_time": "2021-11-12T12:57:27.585Z"
   },
   {
    "duration": 33,
    "start_time": "2021-11-12T12:57:27.592Z"
   },
   {
    "duration": 8,
    "start_time": "2021-11-12T12:57:27.627Z"
   },
   {
    "duration": 18,
    "start_time": "2021-11-12T12:57:27.637Z"
   },
   {
    "duration": 25,
    "start_time": "2021-11-12T12:57:27.657Z"
   },
   {
    "duration": 18,
    "start_time": "2021-11-12T12:57:27.683Z"
   },
   {
    "duration": 29,
    "start_time": "2021-11-12T12:57:27.703Z"
   },
   {
    "duration": 4,
    "start_time": "2021-11-12T12:57:27.733Z"
   },
   {
    "duration": 83,
    "start_time": "2021-11-12T12:57:27.738Z"
   },
   {
    "duration": 4,
    "start_time": "2021-11-12T12:57:27.824Z"
   },
   {
    "duration": 82,
    "start_time": "2021-11-12T12:57:27.830Z"
   },
   {
    "duration": 85,
    "start_time": "2021-11-12T12:57:27.914Z"
   },
   {
    "duration": 85,
    "start_time": "2021-11-12T12:57:28.001Z"
   },
   {
    "duration": 76,
    "start_time": "2021-11-12T12:57:28.088Z"
   },
   {
    "duration": 81,
    "start_time": "2021-11-12T12:57:28.167Z"
   },
   {
    "duration": 55,
    "start_time": "2021-11-12T12:57:28.263Z"
   },
   {
    "duration": 67,
    "start_time": "2021-11-12T12:57:28.320Z"
   },
   {
    "duration": 56,
    "start_time": "2021-11-12T12:57:28.389Z"
   },
   {
    "duration": 71,
    "start_time": "2021-11-12T12:57:28.447Z"
   },
   {
    "duration": 70,
    "start_time": "2021-11-12T12:57:28.520Z"
   },
   {
    "duration": 52,
    "start_time": "2021-11-12T12:57:28.592Z"
   },
   {
    "duration": 69,
    "start_time": "2021-11-12T12:57:28.646Z"
   },
   {
    "duration": 66,
    "start_time": "2021-11-12T12:57:28.716Z"
   },
   {
    "duration": 53,
    "start_time": "2021-11-12T12:57:28.784Z"
   },
   {
    "duration": 68,
    "start_time": "2021-11-12T12:57:28.839Z"
   },
   {
    "duration": 43,
    "start_time": "2021-11-12T12:57:28.909Z"
   },
   {
    "duration": 45,
    "start_time": "2021-11-12T12:57:28.964Z"
   },
   {
    "duration": 63,
    "start_time": "2021-11-12T12:57:29.011Z"
   },
   {
    "duration": 45,
    "start_time": "2021-11-12T12:57:29.076Z"
   },
   {
    "duration": 5,
    "start_time": "2021-11-12T12:57:29.122Z"
   },
   {
    "duration": 136,
    "start_time": "2021-11-12T12:57:29.128Z"
   },
   {
    "duration": 122,
    "start_time": "2021-11-12T12:57:29.265Z"
   },
   {
    "duration": 109,
    "start_time": "2021-11-12T12:57:29.389Z"
   },
   {
    "duration": 105,
    "start_time": "2021-11-12T12:57:29.500Z"
   },
   {
    "duration": 115,
    "start_time": "2021-11-12T12:57:29.607Z"
   },
   {
    "duration": 105,
    "start_time": "2021-11-12T12:57:29.724Z"
   },
   {
    "duration": 45,
    "start_time": "2021-11-12T12:58:13.701Z"
   },
   {
    "duration": 49,
    "start_time": "2021-11-12T12:58:22.580Z"
   },
   {
    "duration": 592,
    "start_time": "2021-11-12T12:58:27.440Z"
   },
   {
    "duration": 49,
    "start_time": "2021-11-12T12:58:32.109Z"
   },
   {
    "duration": 57,
    "start_time": "2021-11-12T13:06:52.539Z"
   },
   {
    "duration": 65,
    "start_time": "2021-11-12T13:07:06.065Z"
   },
   {
    "duration": 15,
    "start_time": "2021-11-12T13:07:14.383Z"
   },
   {
    "duration": 47,
    "start_time": "2021-11-12T13:09:28.433Z"
   },
   {
    "duration": 13,
    "start_time": "2021-11-12T13:09:34.347Z"
   },
   {
    "duration": 1508,
    "start_time": "2021-11-12T13:10:50.768Z"
   },
   {
    "duration": 130,
    "start_time": "2021-11-12T13:10:52.278Z"
   },
   {
    "duration": 11,
    "start_time": "2021-11-12T13:10:52.410Z"
   },
   {
    "duration": 15,
    "start_time": "2021-11-12T13:10:52.423Z"
   },
   {
    "duration": 20,
    "start_time": "2021-11-12T13:10:52.440Z"
   },
   {
    "duration": 5,
    "start_time": "2021-11-12T13:10:52.464Z"
   },
   {
    "duration": 59,
    "start_time": "2021-11-12T13:10:52.471Z"
   },
   {
    "duration": 80,
    "start_time": "2021-11-12T13:10:52.532Z"
   },
   {
    "duration": 64,
    "start_time": "2021-11-12T13:10:52.614Z"
   },
   {
    "duration": 8,
    "start_time": "2021-11-12T13:10:52.679Z"
   },
   {
    "duration": 82,
    "start_time": "2021-11-12T13:10:52.689Z"
   },
   {
    "duration": 10,
    "start_time": "2021-11-12T13:10:52.773Z"
   },
   {
    "duration": 25,
    "start_time": "2021-11-12T13:10:52.785Z"
   },
   {
    "duration": 37,
    "start_time": "2021-11-12T13:10:52.812Z"
   },
   {
    "duration": 31,
    "start_time": "2021-11-12T13:10:52.851Z"
   },
   {
    "duration": 5,
    "start_time": "2021-11-12T13:10:52.884Z"
   },
   {
    "duration": 20,
    "start_time": "2021-11-12T13:10:52.890Z"
   },
   {
    "duration": 8529,
    "start_time": "2021-11-12T13:10:52.912Z"
   },
   {
    "duration": 152,
    "start_time": "2021-11-12T13:11:01.445Z"
   },
   {
    "duration": 98,
    "start_time": "2021-11-12T13:11:01.599Z"
   },
   {
    "duration": 92,
    "start_time": "2021-11-12T13:11:01.699Z"
   },
   {
    "duration": 78,
    "start_time": "2021-11-12T13:11:01.793Z"
   },
   {
    "duration": 27,
    "start_time": "2021-11-12T13:11:01.875Z"
   },
   {
    "duration": 158,
    "start_time": "2021-11-12T13:11:01.905Z"
   },
   {
    "duration": 29,
    "start_time": "2021-11-12T13:11:02.066Z"
   },
   {
    "duration": 73,
    "start_time": "2021-11-12T13:11:02.097Z"
   },
   {
    "duration": 23,
    "start_time": "2021-11-12T13:11:02.172Z"
   },
   {
    "duration": 7852,
    "start_time": "2021-11-12T13:11:02.197Z"
   },
   {
    "duration": 33,
    "start_time": "2021-11-12T13:11:10.051Z"
   },
   {
    "duration": 52,
    "start_time": "2021-11-12T13:11:10.085Z"
   },
   {
    "duration": 28,
    "start_time": "2021-11-12T13:11:10.139Z"
   },
   {
    "duration": 48,
    "start_time": "2021-11-12T13:11:10.169Z"
   },
   {
    "duration": 76,
    "start_time": "2021-11-12T13:11:10.219Z"
   },
   {
    "duration": 50,
    "start_time": "2021-11-12T13:11:10.297Z"
   },
   {
    "duration": 142,
    "start_time": "2021-11-12T13:11:10.349Z"
   },
   {
    "duration": 139,
    "start_time": "2021-11-12T13:11:10.493Z"
   },
   {
    "duration": 134,
    "start_time": "2021-11-12T13:11:10.633Z"
   },
   {
    "duration": 128,
    "start_time": "2021-11-12T13:11:10.768Z"
   },
   {
    "duration": 331,
    "start_time": "2021-11-12T13:11:10.898Z"
   },
   {
    "duration": 3,
    "start_time": "2021-11-12T13:11:11.231Z"
   },
   {
    "duration": 78,
    "start_time": "2021-11-12T13:11:11.236Z"
   },
   {
    "duration": 5,
    "start_time": "2021-11-12T13:11:11.316Z"
   },
   {
    "duration": 25,
    "start_time": "2021-11-12T13:11:11.323Z"
   },
   {
    "duration": 16,
    "start_time": "2021-11-12T13:11:11.350Z"
   },
   {
    "duration": 11,
    "start_time": "2021-11-12T13:11:11.368Z"
   },
   {
    "duration": 22,
    "start_time": "2021-11-12T13:11:11.381Z"
   },
   {
    "duration": 7,
    "start_time": "2021-11-12T13:11:11.405Z"
   },
   {
    "duration": 26,
    "start_time": "2021-11-12T13:11:11.413Z"
   },
   {
    "duration": 4,
    "start_time": "2021-11-12T13:11:11.441Z"
   },
   {
    "duration": 71,
    "start_time": "2021-11-12T13:11:11.463Z"
   },
   {
    "duration": 3,
    "start_time": "2021-11-12T13:11:11.536Z"
   },
   {
    "duration": 90,
    "start_time": "2021-11-12T13:11:11.541Z"
   },
   {
    "duration": 78,
    "start_time": "2021-11-12T13:11:11.633Z"
   },
   {
    "duration": 81,
    "start_time": "2021-11-12T13:11:11.713Z"
   },
   {
    "duration": 56,
    "start_time": "2021-11-12T13:11:11.796Z"
   },
   {
    "duration": 66,
    "start_time": "2021-11-12T13:11:11.854Z"
   },
   {
    "duration": 74,
    "start_time": "2021-11-12T13:11:11.921Z"
   },
   {
    "duration": 56,
    "start_time": "2021-11-12T13:11:11.996Z"
   },
   {
    "duration": 66,
    "start_time": "2021-11-12T13:11:12.053Z"
   },
   {
    "duration": 74,
    "start_time": "2021-11-12T13:11:12.121Z"
   },
   {
    "duration": 70,
    "start_time": "2021-11-12T13:11:12.196Z"
   },
   {
    "duration": 58,
    "start_time": "2021-11-12T13:11:12.268Z"
   },
   {
    "duration": 73,
    "start_time": "2021-11-12T13:11:12.328Z"
   },
   {
    "duration": 61,
    "start_time": "2021-11-12T13:11:12.402Z"
   },
   {
    "duration": 54,
    "start_time": "2021-11-12T13:11:12.465Z"
   },
   {
    "duration": 70,
    "start_time": "2021-11-12T13:11:12.521Z"
   },
   {
    "duration": 45,
    "start_time": "2021-11-12T13:11:12.593Z"
   },
   {
    "duration": 60,
    "start_time": "2021-11-12T13:11:12.643Z"
   },
   {
    "duration": 58,
    "start_time": "2021-11-12T13:11:12.705Z"
   },
   {
    "duration": 49,
    "start_time": "2021-11-12T13:11:12.765Z"
   },
   {
    "duration": 4,
    "start_time": "2021-11-12T13:11:12.816Z"
   },
   {
    "duration": 146,
    "start_time": "2021-11-12T13:11:12.822Z"
   },
   {
    "duration": 147,
    "start_time": "2021-11-12T13:11:12.969Z"
   },
   {
    "duration": 123,
    "start_time": "2021-11-12T13:11:13.119Z"
   },
   {
    "duration": 120,
    "start_time": "2021-11-12T13:11:13.244Z"
   },
   {
    "duration": 113,
    "start_time": "2021-11-12T13:11:13.365Z"
   },
   {
    "duration": 111,
    "start_time": "2021-11-12T13:11:13.480Z"
   },
   {
    "duration": 7,
    "start_time": "2021-11-12T13:12:54.184Z"
   },
   {
    "duration": 7248,
    "start_time": "2021-11-12T13:32:33.756Z"
   },
   {
    "duration": 42,
    "start_time": "2021-11-12T13:32:51.242Z"
   },
   {
    "duration": 59,
    "start_time": "2021-11-12T13:33:02.191Z"
   },
   {
    "duration": 40,
    "start_time": "2021-11-12T13:33:31.575Z"
   },
   {
    "duration": 23,
    "start_time": "2021-11-12T13:34:02.683Z"
   },
   {
    "duration": 20,
    "start_time": "2021-11-12T13:34:19.211Z"
   },
   {
    "duration": 1482,
    "start_time": "2021-11-12T13:40:17.416Z"
   },
   {
    "duration": 128,
    "start_time": "2021-11-12T13:40:18.900Z"
   },
   {
    "duration": 11,
    "start_time": "2021-11-12T13:40:19.030Z"
   },
   {
    "duration": 6,
    "start_time": "2021-11-12T13:40:19.043Z"
   },
   {
    "duration": 22,
    "start_time": "2021-11-12T13:40:19.051Z"
   },
   {
    "duration": 4,
    "start_time": "2021-11-12T13:40:19.075Z"
   },
   {
    "duration": 65,
    "start_time": "2021-11-12T13:40:19.080Z"
   },
   {
    "duration": 87,
    "start_time": "2021-11-12T13:40:19.147Z"
   },
   {
    "duration": 69,
    "start_time": "2021-11-12T13:40:19.236Z"
   },
   {
    "duration": 8,
    "start_time": "2021-11-12T13:40:19.307Z"
   },
   {
    "duration": 89,
    "start_time": "2021-11-12T13:40:19.317Z"
   },
   {
    "duration": 9,
    "start_time": "2021-11-12T13:40:19.408Z"
   },
   {
    "duration": 21,
    "start_time": "2021-11-12T13:40:19.419Z"
   },
   {
    "duration": 48,
    "start_time": "2021-11-12T13:40:19.442Z"
   },
   {
    "duration": 22,
    "start_time": "2021-11-12T13:40:19.492Z"
   },
   {
    "duration": 5,
    "start_time": "2021-11-12T13:40:19.516Z"
   },
   {
    "duration": 45,
    "start_time": "2021-11-12T13:40:19.523Z"
   },
   {
    "duration": 8707,
    "start_time": "2021-11-12T13:40:19.570Z"
   },
   {
    "duration": 202,
    "start_time": "2021-11-12T13:40:28.280Z"
   },
   {
    "duration": 95,
    "start_time": "2021-11-12T13:40:28.485Z"
   },
   {
    "duration": 89,
    "start_time": "2021-11-12T13:40:28.581Z"
   },
   {
    "duration": 22,
    "start_time": "2021-11-12T13:40:28.672Z"
   },
   {
    "duration": 73,
    "start_time": "2021-11-12T13:40:28.698Z"
   },
   {
    "duration": 104,
    "start_time": "2021-11-12T13:40:28.774Z"
   },
   {
    "duration": 27,
    "start_time": "2021-11-12T13:40:28.880Z"
   },
   {
    "duration": 64,
    "start_time": "2021-11-12T13:40:28.909Z"
   },
   {
    "duration": 17,
    "start_time": "2021-11-12T13:40:28.975Z"
   },
   {
    "duration": 7841,
    "start_time": "2021-11-12T13:40:28.994Z"
   },
   {
    "duration": 10,
    "start_time": "2021-11-12T13:40:36.838Z"
   },
   {
    "duration": 43,
    "start_time": "2021-11-12T13:40:36.851Z"
   },
   {
    "duration": 87,
    "start_time": "2021-11-12T13:40:36.897Z"
   },
   {
    "duration": 13,
    "start_time": "2021-11-12T13:40:36.985Z"
   },
   {
    "duration": 48,
    "start_time": "2021-11-12T13:40:37.000Z"
   },
   {
    "duration": 60,
    "start_time": "2021-11-12T13:40:37.049Z"
   },
   {
    "duration": 79,
    "start_time": "2021-11-12T13:40:37.111Z"
   },
   {
    "duration": 137,
    "start_time": "2021-11-12T13:40:37.192Z"
   },
   {
    "duration": 141,
    "start_time": "2021-11-12T13:40:37.331Z"
   },
   {
    "duration": 131,
    "start_time": "2021-11-12T13:40:37.474Z"
   },
   {
    "duration": 179,
    "start_time": "2021-11-12T13:40:37.607Z"
   },
   {
    "duration": 329,
    "start_time": "2021-11-12T13:40:37.788Z"
   },
   {
    "duration": 3,
    "start_time": "2021-11-12T13:40:38.119Z"
   },
   {
    "duration": 78,
    "start_time": "2021-11-12T13:40:38.124Z"
   },
   {
    "duration": 25,
    "start_time": "2021-11-12T13:40:38.204Z"
   },
   {
    "duration": 57,
    "start_time": "2021-11-12T13:40:38.232Z"
   },
   {
    "duration": 5,
    "start_time": "2021-11-12T13:40:38.291Z"
   },
   {
    "duration": 10,
    "start_time": "2021-11-12T13:40:38.297Z"
   },
   {
    "duration": 7,
    "start_time": "2021-11-12T13:40:38.309Z"
   },
   {
    "duration": 10,
    "start_time": "2021-11-12T13:40:38.318Z"
   },
   {
    "duration": 44,
    "start_time": "2021-11-12T13:40:38.329Z"
   },
   {
    "duration": 4,
    "start_time": "2021-11-12T13:40:38.375Z"
   },
   {
    "duration": 87,
    "start_time": "2021-11-12T13:40:38.381Z"
   },
   {
    "duration": 4,
    "start_time": "2021-11-12T13:40:38.470Z"
   },
   {
    "duration": 108,
    "start_time": "2021-11-12T13:40:38.475Z"
   },
   {
    "duration": 118,
    "start_time": "2021-11-12T13:40:38.586Z"
   },
   {
    "duration": 87,
    "start_time": "2021-11-12T13:40:38.707Z"
   },
   {
    "duration": 56,
    "start_time": "2021-11-12T13:40:38.796Z"
   },
   {
    "duration": 60,
    "start_time": "2021-11-12T13:40:38.864Z"
   },
   {
    "duration": 76,
    "start_time": "2021-11-12T13:40:38.926Z"
   },
   {
    "duration": 69,
    "start_time": "2021-11-12T13:40:39.004Z"
   },
   {
    "duration": 58,
    "start_time": "2021-11-12T13:40:39.075Z"
   },
   {
    "duration": 76,
    "start_time": "2021-11-12T13:40:39.135Z"
   },
   {
    "duration": 70,
    "start_time": "2021-11-12T13:40:39.213Z"
   },
   {
    "duration": 58,
    "start_time": "2021-11-12T13:40:39.286Z"
   },
   {
    "duration": 71,
    "start_time": "2021-11-12T13:40:39.346Z"
   },
   {
    "duration": 69,
    "start_time": "2021-11-12T13:40:39.420Z"
   },
   {
    "duration": 56,
    "start_time": "2021-11-12T13:40:39.492Z"
   },
   {
    "duration": 55,
    "start_time": "2021-11-12T13:40:39.564Z"
   },
   {
    "duration": 61,
    "start_time": "2021-11-12T13:40:39.624Z"
   },
   {
    "duration": 53,
    "start_time": "2021-11-12T13:40:39.687Z"
   },
   {
    "duration": 72,
    "start_time": "2021-11-12T13:40:39.743Z"
   },
   {
    "duration": 64,
    "start_time": "2021-11-12T13:40:39.817Z"
   },
   {
    "duration": 6,
    "start_time": "2021-11-12T13:40:39.884Z"
   },
   {
    "duration": 137,
    "start_time": "2021-11-12T13:40:39.892Z"
   },
   {
    "duration": 135,
    "start_time": "2021-11-12T13:40:40.031Z"
   },
   {
    "duration": 125,
    "start_time": "2021-11-12T13:40:40.168Z"
   },
   {
    "duration": 117,
    "start_time": "2021-11-12T13:40:40.295Z"
   },
   {
    "duration": 116,
    "start_time": "2021-11-12T13:40:40.414Z"
   },
   {
    "duration": 107,
    "start_time": "2021-11-12T13:40:40.532Z"
   },
   {
    "duration": 141,
    "start_time": "2021-11-13T04:49:33.056Z"
   },
   {
    "duration": 2026,
    "start_time": "2021-11-23T15:54:58.180Z"
   },
   {
    "duration": 176,
    "start_time": "2021-11-23T15:55:00.209Z"
   },
   {
    "duration": 15,
    "start_time": "2021-11-23T15:55:00.388Z"
   },
   {
    "duration": 10,
    "start_time": "2021-11-23T15:55:00.406Z"
   },
   {
    "duration": 39,
    "start_time": "2021-11-23T15:55:00.419Z"
   },
   {
    "duration": 24,
    "start_time": "2021-11-23T15:55:00.460Z"
   },
   {
    "duration": 105,
    "start_time": "2021-11-23T15:55:00.486Z"
   },
   {
    "duration": 110,
    "start_time": "2021-11-23T15:55:00.594Z"
   },
   {
    "duration": 98,
    "start_time": "2021-11-23T15:55:00.708Z"
   },
   {
    "duration": 9,
    "start_time": "2021-11-23T15:55:00.809Z"
   },
   {
    "duration": 160,
    "start_time": "2021-11-23T15:55:00.821Z"
   },
   {
    "duration": 28,
    "start_time": "2021-11-23T15:55:00.984Z"
   },
   {
    "duration": 38,
    "start_time": "2021-11-23T15:55:01.014Z"
   },
   {
    "duration": 56,
    "start_time": "2021-11-23T15:55:01.055Z"
   },
   {
    "duration": 32,
    "start_time": "2021-11-23T15:55:01.113Z"
   },
   {
    "duration": 26,
    "start_time": "2021-11-23T15:55:01.147Z"
   },
   {
    "duration": 54,
    "start_time": "2021-11-23T15:55:01.176Z"
   },
   {
    "duration": 14597,
    "start_time": "2021-11-23T15:55:01.236Z"
   },
   {
    "duration": 276,
    "start_time": "2021-11-23T15:55:15.836Z"
   },
   {
    "duration": 108,
    "start_time": "2021-11-23T15:55:16.169Z"
   },
   {
    "duration": 98,
    "start_time": "2021-11-23T15:55:16.281Z"
   },
   {
    "duration": 30,
    "start_time": "2021-11-23T15:55:16.381Z"
   },
   {
    "duration": 94,
    "start_time": "2021-11-23T15:55:16.413Z"
   },
   {
    "duration": 182,
    "start_time": "2021-11-23T15:55:16.510Z"
   },
   {
    "duration": 96,
    "start_time": "2021-11-23T15:55:16.694Z"
   },
   {
    "duration": 16,
    "start_time": "2021-11-23T15:55:16.793Z"
   },
   {
    "duration": 15,
    "start_time": "2021-11-23T15:55:16.866Z"
   },
   {
    "duration": 11416,
    "start_time": "2021-11-23T15:55:16.888Z"
   },
   {
    "duration": 8,
    "start_time": "2021-11-23T15:55:28.307Z"
   },
   {
    "duration": 67,
    "start_time": "2021-11-23T15:55:28.317Z"
   },
   {
    "duration": 82,
    "start_time": "2021-11-23T15:55:28.387Z"
   },
   {
    "duration": 28,
    "start_time": "2021-11-23T15:55:28.471Z"
   },
   {
    "duration": 89,
    "start_time": "2021-11-23T15:55:28.502Z"
   },
   {
    "duration": 84,
    "start_time": "2021-11-23T15:55:28.594Z"
   },
   {
    "duration": 74,
    "start_time": "2021-11-23T15:55:28.680Z"
   },
   {
    "duration": 212,
    "start_time": "2021-11-23T15:55:28.768Z"
   },
   {
    "duration": 210,
    "start_time": "2021-11-23T15:55:28.983Z"
   },
   {
    "duration": 204,
    "start_time": "2021-11-23T15:55:29.196Z"
   },
   {
    "duration": 203,
    "start_time": "2021-11-23T15:55:29.402Z"
   },
   {
    "duration": 380,
    "start_time": "2021-11-23T15:55:29.607Z"
   },
   {
    "duration": 5,
    "start_time": "2021-11-23T15:55:29.989Z"
   },
   {
    "duration": 104,
    "start_time": "2021-11-23T15:55:29.996Z"
   },
   {
    "duration": 26,
    "start_time": "2021-11-23T15:55:30.103Z"
   },
   {
    "duration": 66,
    "start_time": "2021-11-23T15:55:30.132Z"
   },
   {
    "duration": 9,
    "start_time": "2021-11-23T15:55:30.201Z"
   },
   {
    "duration": 38,
    "start_time": "2021-11-23T15:55:30.213Z"
   },
   {
    "duration": 22,
    "start_time": "2021-11-23T15:55:30.254Z"
   },
   {
    "duration": 18,
    "start_time": "2021-11-23T15:55:30.279Z"
   },
   {
    "duration": 49,
    "start_time": "2021-11-23T15:55:30.299Z"
   },
   {
    "duration": 6,
    "start_time": "2021-11-23T15:55:30.350Z"
   },
   {
    "duration": 123,
    "start_time": "2021-11-23T15:55:30.358Z"
   },
   {
    "duration": 6,
    "start_time": "2021-11-23T15:55:30.483Z"
   },
   {
    "duration": 125,
    "start_time": "2021-11-23T15:55:30.491Z"
   },
   {
    "duration": 101,
    "start_time": "2021-11-23T15:55:30.619Z"
   },
   {
    "duration": 106,
    "start_time": "2021-11-23T15:55:30.722Z"
   },
   {
    "duration": 90,
    "start_time": "2021-11-23T15:55:30.830Z"
   },
   {
    "duration": 88,
    "start_time": "2021-11-23T15:55:30.923Z"
   },
   {
    "duration": 92,
    "start_time": "2021-11-23T15:55:31.013Z"
   },
   {
    "duration": 96,
    "start_time": "2021-11-23T15:55:31.108Z"
   },
   {
    "duration": 88,
    "start_time": "2021-11-23T15:55:31.206Z"
   },
   {
    "duration": 88,
    "start_time": "2021-11-23T15:55:31.296Z"
   },
   {
    "duration": 85,
    "start_time": "2021-11-23T15:55:31.387Z"
   },
   {
    "duration": 74,
    "start_time": "2021-11-23T15:55:31.474Z"
   },
   {
    "duration": 88,
    "start_time": "2021-11-23T15:55:31.551Z"
   },
   {
    "duration": 100,
    "start_time": "2021-11-23T15:55:31.641Z"
   },
   {
    "duration": 87,
    "start_time": "2021-11-23T15:55:31.743Z"
   },
   {
    "duration": 82,
    "start_time": "2021-11-23T15:55:31.832Z"
   },
   {
    "duration": 78,
    "start_time": "2021-11-23T15:55:31.916Z"
   },
   {
    "duration": 74,
    "start_time": "2021-11-23T15:55:31.997Z"
   },
   {
    "duration": 65,
    "start_time": "2021-11-23T15:55:32.074Z"
   },
   {
    "duration": 90,
    "start_time": "2021-11-23T15:55:32.142Z"
   },
   {
    "duration": 7,
    "start_time": "2021-11-23T15:55:32.234Z"
   },
   {
    "duration": 187,
    "start_time": "2021-11-23T15:55:32.244Z"
   },
   {
    "duration": 194,
    "start_time": "2021-11-23T15:55:32.433Z"
   },
   {
    "duration": 179,
    "start_time": "2021-11-23T15:55:32.630Z"
   },
   {
    "duration": 163,
    "start_time": "2021-11-23T15:55:32.812Z"
   },
   {
    "duration": 165,
    "start_time": "2021-11-23T15:55:32.980Z"
   },
   {
    "duration": 157,
    "start_time": "2021-11-23T15:55:33.148Z"
   },
   {
    "duration": 2071,
    "start_time": "2021-12-02T22:33:44.824Z"
   },
   {
    "duration": 172,
    "start_time": "2021-12-02T22:33:46.898Z"
   },
   {
    "duration": 15,
    "start_time": "2021-12-02T22:33:47.073Z"
   },
   {
    "duration": 6,
    "start_time": "2021-12-02T22:33:47.092Z"
   },
   {
    "duration": 25,
    "start_time": "2021-12-02T22:33:47.101Z"
   },
   {
    "duration": 38,
    "start_time": "2021-12-02T22:33:47.129Z"
   },
   {
    "duration": 104,
    "start_time": "2021-12-02T22:33:47.170Z"
   },
   {
    "duration": 110,
    "start_time": "2021-12-02T22:33:47.279Z"
   },
   {
    "duration": 94,
    "start_time": "2021-12-02T22:33:47.393Z"
   },
   {
    "duration": 11,
    "start_time": "2021-12-02T22:33:47.490Z"
   },
   {
    "duration": 133,
    "start_time": "2021-12-02T22:33:47.504Z"
   },
   {
    "duration": 27,
    "start_time": "2021-12-02T22:33:47.640Z"
   },
   {
    "duration": 24,
    "start_time": "2021-12-02T22:33:47.670Z"
   },
   {
    "duration": 72,
    "start_time": "2021-12-02T22:33:47.697Z"
   },
   {
    "duration": 30,
    "start_time": "2021-12-02T22:33:47.771Z"
   },
   {
    "duration": 7,
    "start_time": "2021-12-02T22:33:47.803Z"
   },
   {
    "duration": 57,
    "start_time": "2021-12-02T22:33:47.812Z"
   },
   {
    "duration": 13769,
    "start_time": "2021-12-02T22:33:47.871Z"
   },
   {
    "duration": 241,
    "start_time": "2021-12-02T22:34:01.643Z"
   },
   {
    "duration": 109,
    "start_time": "2021-12-02T22:34:01.887Z"
   },
   {
    "duration": 101,
    "start_time": "2021-12-02T22:34:01.998Z"
   },
   {
    "duration": 90,
    "start_time": "2021-12-02T22:34:02.101Z"
   },
   {
    "duration": 91,
    "start_time": "2021-12-02T22:34:02.197Z"
   },
   {
    "duration": 175,
    "start_time": "2021-12-02T22:34:02.292Z"
   },
   {
    "duration": 35,
    "start_time": "2021-12-02T22:34:02.470Z"
   },
   {
    "duration": 72,
    "start_time": "2021-12-02T22:34:02.507Z"
   },
   {
    "duration": 14,
    "start_time": "2021-12-02T22:34:02.581Z"
   },
   {
    "duration": 10136,
    "start_time": "2021-12-02T22:34:02.597Z"
   },
   {
    "duration": 8,
    "start_time": "2021-12-02T22:34:12.735Z"
   },
   {
    "duration": 52,
    "start_time": "2021-12-02T22:34:12.745Z"
   },
   {
    "duration": 91,
    "start_time": "2021-12-02T22:34:12.800Z"
   },
   {
    "duration": 19,
    "start_time": "2021-12-02T22:34:12.894Z"
   },
   {
    "duration": 81,
    "start_time": "2021-12-02T22:34:12.915Z"
   },
   {
    "duration": 79,
    "start_time": "2021-12-02T22:34:12.998Z"
   },
   {
    "duration": 87,
    "start_time": "2021-12-02T22:34:13.080Z"
   },
   {
    "duration": 197,
    "start_time": "2021-12-02T22:34:13.170Z"
   },
   {
    "duration": 211,
    "start_time": "2021-12-02T22:34:13.370Z"
   },
   {
    "duration": 206,
    "start_time": "2021-12-02T22:34:13.584Z"
   },
   {
    "duration": 195,
    "start_time": "2021-12-02T22:34:13.792Z"
   },
   {
    "duration": 382,
    "start_time": "2021-12-02T22:34:13.989Z"
   },
   {
    "duration": 5,
    "start_time": "2021-12-02T22:34:14.373Z"
   },
   {
    "duration": 100,
    "start_time": "2021-12-02T22:34:14.381Z"
   },
   {
    "duration": 28,
    "start_time": "2021-12-02T22:34:14.483Z"
   },
   {
    "duration": 70,
    "start_time": "2021-12-02T22:34:14.513Z"
   },
   {
    "duration": 7,
    "start_time": "2021-12-02T22:34:14.586Z"
   },
   {
    "duration": 17,
    "start_time": "2021-12-02T22:34:14.596Z"
   },
   {
    "duration": 8,
    "start_time": "2021-12-02T22:34:14.615Z"
   },
   {
    "duration": 9,
    "start_time": "2021-12-02T22:34:14.626Z"
   },
   {
    "duration": 33,
    "start_time": "2021-12-02T22:34:14.667Z"
   },
   {
    "duration": 6,
    "start_time": "2021-12-02T22:34:14.703Z"
   },
   {
    "duration": 119,
    "start_time": "2021-12-02T22:34:14.712Z"
   },
   {
    "duration": 5,
    "start_time": "2021-12-02T22:34:14.834Z"
   },
   {
    "duration": 111,
    "start_time": "2021-12-02T22:34:14.841Z"
   },
   {
    "duration": 104,
    "start_time": "2021-12-02T22:34:14.954Z"
   },
   {
    "duration": 108,
    "start_time": "2021-12-02T22:34:15.060Z"
   },
   {
    "duration": 105,
    "start_time": "2021-12-02T22:34:15.171Z"
   },
   {
    "duration": 73,
    "start_time": "2021-12-02T22:34:15.278Z"
   },
   {
    "duration": 76,
    "start_time": "2021-12-02T22:34:15.368Z"
   },
   {
    "duration": 95,
    "start_time": "2021-12-02T22:34:15.446Z"
   },
   {
    "duration": 91,
    "start_time": "2021-12-02T22:34:15.543Z"
   },
   {
    "duration": 84,
    "start_time": "2021-12-02T22:34:15.637Z"
   },
   {
    "duration": 84,
    "start_time": "2021-12-02T22:34:15.723Z"
   },
   {
    "duration": 81,
    "start_time": "2021-12-02T22:34:15.810Z"
   },
   {
    "duration": 81,
    "start_time": "2021-12-02T22:34:15.894Z"
   },
   {
    "duration": 70,
    "start_time": "2021-12-02T22:34:15.978Z"
   },
   {
    "duration": 84,
    "start_time": "2021-12-02T22:34:16.050Z"
   },
   {
    "duration": 90,
    "start_time": "2021-12-02T22:34:16.136Z"
   },
   {
    "duration": 78,
    "start_time": "2021-12-02T22:34:16.233Z"
   },
   {
    "duration": 79,
    "start_time": "2021-12-02T22:34:16.314Z"
   },
   {
    "duration": 72,
    "start_time": "2021-12-02T22:34:16.395Z"
   },
   {
    "duration": 65,
    "start_time": "2021-12-02T22:34:16.469Z"
   },
   {
    "duration": 6,
    "start_time": "2021-12-02T22:34:16.536Z"
   },
   {
    "duration": 171,
    "start_time": "2021-12-02T22:34:16.566Z"
   },
   {
    "duration": 184,
    "start_time": "2021-12-02T22:34:16.739Z"
   },
   {
    "duration": 166,
    "start_time": "2021-12-02T22:34:16.925Z"
   },
   {
    "duration": 157,
    "start_time": "2021-12-02T22:34:17.093Z"
   },
   {
    "duration": 147,
    "start_time": "2021-12-02T22:34:17.253Z"
   },
   {
    "duration": 149,
    "start_time": "2021-12-02T22:34:17.402Z"
   },
   {
    "duration": 1888,
    "start_time": "2022-02-03T20:15:03.491Z"
   },
   {
    "duration": 158,
    "start_time": "2022-02-03T20:15:05.381Z"
   },
   {
    "duration": 16,
    "start_time": "2022-02-03T20:15:05.545Z"
   },
   {
    "duration": 6,
    "start_time": "2022-02-03T20:15:05.563Z"
   },
   {
    "duration": 23,
    "start_time": "2022-02-03T20:15:05.571Z"
   },
   {
    "duration": 9,
    "start_time": "2022-02-03T20:15:05.596Z"
   },
   {
    "duration": 109,
    "start_time": "2022-02-03T20:15:05.608Z"
   },
   {
    "duration": 102,
    "start_time": "2022-02-03T20:15:05.720Z"
   },
   {
    "duration": 79,
    "start_time": "2022-02-03T20:15:05.824Z"
   },
   {
    "duration": 9,
    "start_time": "2022-02-03T20:15:05.906Z"
   },
   {
    "duration": 113,
    "start_time": "2022-02-03T20:15:05.918Z"
   },
   {
    "duration": 22,
    "start_time": "2022-02-03T20:15:06.034Z"
   },
   {
    "duration": 24,
    "start_time": "2022-02-03T20:15:06.058Z"
   },
   {
    "duration": 65,
    "start_time": "2022-02-03T20:15:06.085Z"
   },
   {
    "duration": 31,
    "start_time": "2022-02-03T20:15:06.153Z"
   },
   {
    "duration": 8,
    "start_time": "2022-02-03T20:15:06.187Z"
   },
   {
    "duration": 57,
    "start_time": "2022-02-03T20:15:06.198Z"
   },
   {
    "duration": 12778,
    "start_time": "2022-02-03T20:15:06.257Z"
   },
   {
    "duration": 299,
    "start_time": "2022-02-03T20:15:19.050Z"
   },
   {
    "duration": 131,
    "start_time": "2022-02-03T20:15:19.353Z"
   },
   {
    "duration": 173,
    "start_time": "2022-02-03T20:15:19.487Z"
   },
   {
    "duration": 93,
    "start_time": "2022-02-03T20:15:19.671Z"
   },
   {
    "duration": 104,
    "start_time": "2022-02-03T20:15:19.770Z"
   },
   {
    "duration": 182,
    "start_time": "2022-02-03T20:15:19.878Z"
   },
   {
    "duration": 91,
    "start_time": "2022-02-03T20:15:20.063Z"
   },
   {
    "duration": 16,
    "start_time": "2022-02-03T20:15:20.157Z"
   },
   {
    "duration": 21,
    "start_time": "2022-02-03T20:15:20.176Z"
   },
   {
    "duration": 9690,
    "start_time": "2022-02-03T20:15:20.200Z"
   },
   {
    "duration": 8,
    "start_time": "2022-02-03T20:15:29.893Z"
   },
   {
    "duration": 61,
    "start_time": "2022-02-03T20:15:29.904Z"
   },
   {
    "duration": 85,
    "start_time": "2022-02-03T20:15:29.968Z"
   },
   {
    "duration": 19,
    "start_time": "2022-02-03T20:15:30.056Z"
   },
   {
    "duration": 126,
    "start_time": "2022-02-03T20:15:30.079Z"
   },
   {
    "duration": 106,
    "start_time": "2022-02-03T20:15:30.208Z"
   },
   {
    "duration": 114,
    "start_time": "2022-02-03T20:15:30.317Z"
   },
   {
    "duration": 196,
    "start_time": "2022-02-03T20:15:30.434Z"
   },
   {
    "duration": 199,
    "start_time": "2022-02-03T20:15:30.632Z"
   },
   {
    "duration": 191,
    "start_time": "2022-02-03T20:15:30.833Z"
   },
   {
    "duration": 201,
    "start_time": "2022-02-03T20:15:31.027Z"
   },
   {
    "duration": 371,
    "start_time": "2022-02-03T20:15:31.231Z"
   },
   {
    "duration": 5,
    "start_time": "2022-02-03T20:15:31.604Z"
   },
   {
    "duration": 103,
    "start_time": "2022-02-03T20:15:31.612Z"
   },
   {
    "duration": 34,
    "start_time": "2022-02-03T20:15:31.718Z"
   },
   {
    "duration": 48,
    "start_time": "2022-02-03T20:15:31.755Z"
   },
   {
    "duration": 7,
    "start_time": "2022-02-03T20:15:31.806Z"
   },
   {
    "duration": 43,
    "start_time": "2022-02-03T20:15:31.816Z"
   },
   {
    "duration": 15,
    "start_time": "2022-02-03T20:15:31.861Z"
   },
   {
    "duration": 9,
    "start_time": "2022-02-03T20:15:31.879Z"
   },
   {
    "duration": 59,
    "start_time": "2022-02-03T20:15:31.890Z"
   },
   {
    "duration": 7,
    "start_time": "2022-02-03T20:15:31.951Z"
   },
   {
    "duration": 108,
    "start_time": "2022-02-03T20:15:31.961Z"
   },
   {
    "duration": 6,
    "start_time": "2022-02-03T20:15:32.073Z"
   },
   {
    "duration": 115,
    "start_time": "2022-02-03T20:15:32.082Z"
   },
   {
    "duration": 108,
    "start_time": "2022-02-03T20:15:32.200Z"
   },
   {
    "duration": 104,
    "start_time": "2022-02-03T20:15:32.310Z"
   },
   {
    "duration": 87,
    "start_time": "2022-02-03T20:15:32.418Z"
   },
   {
    "duration": 87,
    "start_time": "2022-02-03T20:15:32.509Z"
   },
   {
    "duration": 89,
    "start_time": "2022-02-03T20:15:32.599Z"
   },
   {
    "duration": 87,
    "start_time": "2022-02-03T20:15:32.691Z"
   },
   {
    "duration": 87,
    "start_time": "2022-02-03T20:15:32.781Z"
   },
   {
    "duration": 87,
    "start_time": "2022-02-03T20:15:32.870Z"
   },
   {
    "duration": 90,
    "start_time": "2022-02-03T20:15:32.959Z"
   },
   {
    "duration": 75,
    "start_time": "2022-02-03T20:15:33.052Z"
   },
   {
    "duration": 67,
    "start_time": "2022-02-03T20:15:33.150Z"
   },
   {
    "duration": 87,
    "start_time": "2022-02-03T20:15:33.219Z"
   },
   {
    "duration": 84,
    "start_time": "2022-02-03T20:15:33.309Z"
   },
   {
    "duration": 116,
    "start_time": "2022-02-03T20:15:33.405Z"
   },
   {
    "duration": 103,
    "start_time": "2022-02-03T20:15:33.525Z"
   },
   {
    "duration": 98,
    "start_time": "2022-02-03T20:15:33.632Z"
   },
   {
    "duration": 99,
    "start_time": "2022-02-03T20:15:33.734Z"
   },
   {
    "duration": 71,
    "start_time": "2022-02-03T20:15:33.850Z"
   },
   {
    "duration": 25,
    "start_time": "2022-02-03T20:15:33.924Z"
   },
   {
    "duration": 188,
    "start_time": "2022-02-03T20:15:33.952Z"
   },
   {
    "duration": 173,
    "start_time": "2022-02-03T20:15:34.143Z"
   },
   {
    "duration": 147,
    "start_time": "2022-02-03T20:15:34.318Z"
   },
   {
    "duration": 156,
    "start_time": "2022-02-03T20:15:34.468Z"
   },
   {
    "duration": 135,
    "start_time": "2022-02-03T20:15:34.627Z"
   },
   {
    "duration": 127,
    "start_time": "2022-02-03T20:15:34.765Z"
   }
  ],
  "kernelspec": {
   "display_name": "Python 3",
   "language": "python",
   "name": "python3"
  },
  "language_info": {
   "codemirror_mode": {
    "name": "ipython",
    "version": 3
   },
   "file_extension": ".py",
   "mimetype": "text/x-python",
   "name": "python",
   "nbconvert_exporter": "python",
   "pygments_lexer": "ipython3",
   "version": "3.7.8"
  },
  "toc": {
   "base_numbering": 1,
   "nav_menu": {},
   "number_sections": true,
   "sideBar": true,
   "skip_h1_title": true,
   "title_cell": "Table of Contents",
   "title_sidebar": "Contents",
   "toc_cell": false,
   "toc_position": {},
   "toc_section_display": true,
   "toc_window_display": false
  },
  "widgets": {
   "application/vnd.jupyter.widget-state+json": {
    "state": {},
    "version_major": 2,
    "version_minor": 0
   }
  }
 },
 "nbformat": 4,
 "nbformat_minor": 5
}
