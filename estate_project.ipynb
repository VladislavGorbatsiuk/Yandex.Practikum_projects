{
 "cells": [
  {
   "cell_type": "markdown",
   "metadata": {
    "toc": true
   },
   "source": [
    "<h1>Содержание<span class=\"tocSkip\"></span></h1>\n",
    "<div class=\"toc\"><ul class=\"toc-item\"><li><span><a href=\"#Изучение-данных-из-файла\" data-toc-modified-id=\"Изучение-данных-из-файла-1\"><span class=\"toc-item-num\">1&nbsp;&nbsp;</span>Изучение данных из файла</a></span><ul class=\"toc-item\"><li><span><a href=\"#Вывод\" data-toc-modified-id=\"Вывод-1.1\"><span class=\"toc-item-num\">1.1&nbsp;&nbsp;</span>Вывод</a></span></li></ul></li><li><span><a href=\"#Предобработка-данных\" data-toc-modified-id=\"Предобработка-данных-2\"><span class=\"toc-item-num\">2&nbsp;&nbsp;</span>Предобработка данных</a></span></li><li><span><a href=\"#Расчёты-и-добавление-результатов-в-таблицу\" data-toc-modified-id=\"Расчёты-и-добавление-результатов-в-таблицу-3\"><span class=\"toc-item-num\">3&nbsp;&nbsp;</span>Расчёты и добавление результатов в таблицу</a></span></li><li><span><a href=\"#Исследовательский-анализ-данных\" data-toc-modified-id=\"Исследовательский-анализ-данных-4\"><span class=\"toc-item-num\">4&nbsp;&nbsp;</span>Исследовательский анализ данных</a></span><ul class=\"toc-item\"><li><span><a href=\"#Площадь\" data-toc-modified-id=\"Площадь-4.1\"><span class=\"toc-item-num\">4.1&nbsp;&nbsp;</span>Площадь</a></span></li><li><span><a href=\"#Цена\" data-toc-modified-id=\"Цена-4.2\"><span class=\"toc-item-num\">4.2&nbsp;&nbsp;</span>Цена</a></span></li><li><span><a href=\"#Количество-комнат\" data-toc-modified-id=\"Количество-комнат-4.3\"><span class=\"toc-item-num\">4.3&nbsp;&nbsp;</span>Количество комнат</a></span></li><li><span><a href=\"#Время-продажи-квартир\" data-toc-modified-id=\"Время-продажи-квартир-4.4\"><span class=\"toc-item-num\">4.4&nbsp;&nbsp;</span>Время продажи квартир</a></span></li><li><span><a href=\"#Поиск-зависимостей\" data-toc-modified-id=\"Поиск-зависимостей-4.5\"><span class=\"toc-item-num\">4.5&nbsp;&nbsp;</span>Поиск зависимостей</a></span></li></ul></li><li><span><a href=\"#Общий-вывод\" data-toc-modified-id=\"Общий-вывод-5\"><span class=\"toc-item-num\">5&nbsp;&nbsp;</span>Общий вывод</a></span></li></ul></div>"
   ]
  },
  {
   "cell_type": "markdown",
   "metadata": {},
   "source": [
    "# Исследование объявлений о продаже квартир\n",
    "\n",
    "Это данные сервиса Яндекс.Недвижимость — архив объявлений о продаже квартир в Санкт-Петербурге и соседних населённых пунктах за несколько лет. Нужно научиться определять рыночную стоимость объектов недвижимости. Ваша задача — установить параметры. Это позволит построить автоматизированную систему: она отследит аномалии и мошенническую деятельность. \n",
    "\n",
    "По каждой квартире на продажу доступны два вида данных. Первые вписаны пользователем, вторые получены автоматически на основе картографических данных. Например, расстояние до центра, аэропорта, ближайшего парка и водоёма. "
   ]
  },
  {
   "cell_type": "markdown",
   "metadata": {},
   "source": [
    "## Изучение данных из файла"
   ]
  },
  {
   "cell_type": "code",
   "execution_count": 15,
   "metadata": {},
   "outputs": [],
   "source": [
    "import pandas as pd\n",
    "import matplotlib.pyplot as plt\n",
    "%matplotlib inline"
   ]
  },
  {
   "cell_type": "code",
   "execution_count": 16,
   "metadata": {},
   "outputs": [
    {
     "name": "stdout",
     "output_type": "stream",
     "text": [
      "<class 'pandas.core.frame.DataFrame'>\n",
      "RangeIndex: 23699 entries, 0 to 23698\n",
      "Data columns (total 22 columns):\n",
      "total_images            23699 non-null int64\n",
      "last_price              23699 non-null float64\n",
      "total_area              23699 non-null float64\n",
      "first_day_exposition    23699 non-null object\n",
      "rooms                   23699 non-null int64\n",
      "ceiling_height          14504 non-null float64\n",
      "floors_total            23613 non-null float64\n",
      "living_area             21796 non-null float64\n",
      "floor                   23699 non-null int64\n",
      "is_apartment            2775 non-null object\n",
      "studio                  23699 non-null bool\n",
      "open_plan               23699 non-null bool\n",
      "kitchen_area            21421 non-null float64\n",
      "balcony                 12180 non-null float64\n",
      "locality_name           23650 non-null object\n",
      "airports_nearest        18157 non-null float64\n",
      "cityCenters_nearest     18180 non-null float64\n",
      "parks_around3000        18181 non-null float64\n",
      "parks_nearest           8079 non-null float64\n",
      "ponds_around3000        18181 non-null float64\n",
      "ponds_nearest           9110 non-null float64\n",
      "days_exposition         20518 non-null float64\n",
      "dtypes: bool(2), float64(14), int64(3), object(3)\n",
      "memory usage: 3.7+ MB\n"
     ]
    }
   ],
   "source": [
    "try:\n",
    "    data = pd.read_csv(--, sep='\\t')\n",
    "except:\n",
    "    data = pd.read_csv('/datasets/real_estate_data.csv', sep='\\t')\n",
    "data.info()"
   ]
  },
  {
   "cell_type": "code",
   "execution_count": 17,
   "metadata": {},
   "outputs": [
    {
     "data": {
      "text/html": [
       "<div>\n",
       "<style scoped>\n",
       "    .dataframe tbody tr th:only-of-type {\n",
       "        vertical-align: middle;\n",
       "    }\n",
       "\n",
       "    .dataframe tbody tr th {\n",
       "        vertical-align: top;\n",
       "    }\n",
       "\n",
       "    .dataframe thead th {\n",
       "        text-align: right;\n",
       "    }\n",
       "</style>\n",
       "<table border=\"1\" class=\"dataframe\">\n",
       "  <thead>\n",
       "    <tr style=\"text-align: right;\">\n",
       "      <th></th>\n",
       "      <th>total_images</th>\n",
       "      <th>last_price</th>\n",
       "      <th>total_area</th>\n",
       "      <th>first_day_exposition</th>\n",
       "      <th>rooms</th>\n",
       "      <th>ceiling_height</th>\n",
       "      <th>floors_total</th>\n",
       "      <th>living_area</th>\n",
       "      <th>floor</th>\n",
       "      <th>is_apartment</th>\n",
       "      <th>...</th>\n",
       "      <th>kitchen_area</th>\n",
       "      <th>balcony</th>\n",
       "      <th>locality_name</th>\n",
       "      <th>airports_nearest</th>\n",
       "      <th>cityCenters_nearest</th>\n",
       "      <th>parks_around3000</th>\n",
       "      <th>parks_nearest</th>\n",
       "      <th>ponds_around3000</th>\n",
       "      <th>ponds_nearest</th>\n",
       "      <th>days_exposition</th>\n",
       "    </tr>\n",
       "  </thead>\n",
       "  <tbody>\n",
       "    <tr>\n",
       "      <td>0</td>\n",
       "      <td>20</td>\n",
       "      <td>13000000.0</td>\n",
       "      <td>108.0</td>\n",
       "      <td>2019-03-07T00:00:00</td>\n",
       "      <td>3</td>\n",
       "      <td>2.70</td>\n",
       "      <td>16.0</td>\n",
       "      <td>51.0</td>\n",
       "      <td>8</td>\n",
       "      <td>NaN</td>\n",
       "      <td>...</td>\n",
       "      <td>25.0</td>\n",
       "      <td>NaN</td>\n",
       "      <td>Санкт-Петербург</td>\n",
       "      <td>18863.0</td>\n",
       "      <td>16028.0</td>\n",
       "      <td>1.0</td>\n",
       "      <td>482.0</td>\n",
       "      <td>2.0</td>\n",
       "      <td>755.0</td>\n",
       "      <td>NaN</td>\n",
       "    </tr>\n",
       "    <tr>\n",
       "      <td>1</td>\n",
       "      <td>7</td>\n",
       "      <td>3350000.0</td>\n",
       "      <td>40.4</td>\n",
       "      <td>2018-12-04T00:00:00</td>\n",
       "      <td>1</td>\n",
       "      <td>NaN</td>\n",
       "      <td>11.0</td>\n",
       "      <td>18.6</td>\n",
       "      <td>1</td>\n",
       "      <td>NaN</td>\n",
       "      <td>...</td>\n",
       "      <td>11.0</td>\n",
       "      <td>2.0</td>\n",
       "      <td>посёлок Шушары</td>\n",
       "      <td>12817.0</td>\n",
       "      <td>18603.0</td>\n",
       "      <td>0.0</td>\n",
       "      <td>NaN</td>\n",
       "      <td>0.0</td>\n",
       "      <td>NaN</td>\n",
       "      <td>81.0</td>\n",
       "    </tr>\n",
       "    <tr>\n",
       "      <td>2</td>\n",
       "      <td>10</td>\n",
       "      <td>5196000.0</td>\n",
       "      <td>56.0</td>\n",
       "      <td>2015-08-20T00:00:00</td>\n",
       "      <td>2</td>\n",
       "      <td>NaN</td>\n",
       "      <td>5.0</td>\n",
       "      <td>34.3</td>\n",
       "      <td>4</td>\n",
       "      <td>NaN</td>\n",
       "      <td>...</td>\n",
       "      <td>8.3</td>\n",
       "      <td>0.0</td>\n",
       "      <td>Санкт-Петербург</td>\n",
       "      <td>21741.0</td>\n",
       "      <td>13933.0</td>\n",
       "      <td>1.0</td>\n",
       "      <td>90.0</td>\n",
       "      <td>2.0</td>\n",
       "      <td>574.0</td>\n",
       "      <td>558.0</td>\n",
       "    </tr>\n",
       "    <tr>\n",
       "      <td>3</td>\n",
       "      <td>0</td>\n",
       "      <td>64900000.0</td>\n",
       "      <td>159.0</td>\n",
       "      <td>2015-07-24T00:00:00</td>\n",
       "      <td>3</td>\n",
       "      <td>NaN</td>\n",
       "      <td>14.0</td>\n",
       "      <td>NaN</td>\n",
       "      <td>9</td>\n",
       "      <td>NaN</td>\n",
       "      <td>...</td>\n",
       "      <td>NaN</td>\n",
       "      <td>0.0</td>\n",
       "      <td>Санкт-Петербург</td>\n",
       "      <td>28098.0</td>\n",
       "      <td>6800.0</td>\n",
       "      <td>2.0</td>\n",
       "      <td>84.0</td>\n",
       "      <td>3.0</td>\n",
       "      <td>234.0</td>\n",
       "      <td>424.0</td>\n",
       "    </tr>\n",
       "    <tr>\n",
       "      <td>4</td>\n",
       "      <td>2</td>\n",
       "      <td>10000000.0</td>\n",
       "      <td>100.0</td>\n",
       "      <td>2018-06-19T00:00:00</td>\n",
       "      <td>2</td>\n",
       "      <td>3.03</td>\n",
       "      <td>14.0</td>\n",
       "      <td>32.0</td>\n",
       "      <td>13</td>\n",
       "      <td>NaN</td>\n",
       "      <td>...</td>\n",
       "      <td>41.0</td>\n",
       "      <td>NaN</td>\n",
       "      <td>Санкт-Петербург</td>\n",
       "      <td>31856.0</td>\n",
       "      <td>8098.0</td>\n",
       "      <td>2.0</td>\n",
       "      <td>112.0</td>\n",
       "      <td>1.0</td>\n",
       "      <td>48.0</td>\n",
       "      <td>121.0</td>\n",
       "    </tr>\n",
       "  </tbody>\n",
       "</table>\n",
       "<p>5 rows × 22 columns</p>\n",
       "</div>"
      ],
      "text/plain": [
       "   total_images  last_price  total_area first_day_exposition  rooms  \\\n",
       "0            20  13000000.0       108.0  2019-03-07T00:00:00      3   \n",
       "1             7   3350000.0        40.4  2018-12-04T00:00:00      1   \n",
       "2            10   5196000.0        56.0  2015-08-20T00:00:00      2   \n",
       "3             0  64900000.0       159.0  2015-07-24T00:00:00      3   \n",
       "4             2  10000000.0       100.0  2018-06-19T00:00:00      2   \n",
       "\n",
       "   ceiling_height  floors_total  living_area  floor is_apartment  ...  \\\n",
       "0            2.70          16.0         51.0      8          NaN  ...   \n",
       "1             NaN          11.0         18.6      1          NaN  ...   \n",
       "2             NaN           5.0         34.3      4          NaN  ...   \n",
       "3             NaN          14.0          NaN      9          NaN  ...   \n",
       "4            3.03          14.0         32.0     13          NaN  ...   \n",
       "\n",
       "   kitchen_area  balcony    locality_name  airports_nearest  \\\n",
       "0          25.0      NaN  Санкт-Петербург           18863.0   \n",
       "1          11.0      2.0   посёлок Шушары           12817.0   \n",
       "2           8.3      0.0  Санкт-Петербург           21741.0   \n",
       "3           NaN      0.0  Санкт-Петербург           28098.0   \n",
       "4          41.0      NaN  Санкт-Петербург           31856.0   \n",
       "\n",
       "  cityCenters_nearest  parks_around3000  parks_nearest  ponds_around3000  \\\n",
       "0             16028.0               1.0          482.0               2.0   \n",
       "1             18603.0               0.0            NaN               0.0   \n",
       "2             13933.0               1.0           90.0               2.0   \n",
       "3              6800.0               2.0           84.0               3.0   \n",
       "4              8098.0               2.0          112.0               1.0   \n",
       "\n",
       "   ponds_nearest  days_exposition  \n",
       "0          755.0              NaN  \n",
       "1            NaN             81.0  \n",
       "2          574.0            558.0  \n",
       "3          234.0            424.0  \n",
       "4           48.0            121.0  \n",
       "\n",
       "[5 rows x 22 columns]"
      ]
     },
     "execution_count": 17,
     "metadata": {},
     "output_type": "execute_result"
    }
   ],
   "source": [
    "data.head()"
   ]
  },
  {
   "cell_type": "markdown",
   "metadata": {},
   "source": [
    "### Вывод\n",
    "Мы видим большое количество пропусков. В столбце first_day_exposition необходимо изменить тип данных на datetime. В столбце floors_total, balcony, parks_around3000, ponds_around3000, days_exposition  необходимо изменить тип на int64. "
   ]
  },
  {
   "cell_type": "markdown",
   "metadata": {},
   "source": [
    "## Предобработка данных"
   ]
  },
  {
   "cell_type": "markdown",
   "metadata": {},
   "source": [
    "Найдем дубликаты."
   ]
  },
  {
   "cell_type": "code",
   "execution_count": 18,
   "metadata": {},
   "outputs": [
    {
     "data": {
      "text/plain": [
       "0"
      ]
     },
     "execution_count": 18,
     "metadata": {},
     "output_type": "execute_result"
    }
   ],
   "source": [
    "data.duplicated().sum()"
   ]
  },
  {
   "cell_type": "code",
   "execution_count": 19,
   "metadata": {},
   "outputs": [
    {
     "data": {
      "text/html": [
       "<div>\n",
       "<style scoped>\n",
       "    .dataframe tbody tr th:only-of-type {\n",
       "        vertical-align: middle;\n",
       "    }\n",
       "\n",
       "    .dataframe tbody tr th {\n",
       "        vertical-align: top;\n",
       "    }\n",
       "\n",
       "    .dataframe thead th {\n",
       "        text-align: right;\n",
       "    }\n",
       "</style>\n",
       "<table border=\"1\" class=\"dataframe\">\n",
       "  <thead>\n",
       "    <tr style=\"text-align: right;\">\n",
       "      <th></th>\n",
       "      <th>total_images</th>\n",
       "      <th>last_price</th>\n",
       "      <th>total_area</th>\n",
       "      <th>first_day_exposition</th>\n",
       "      <th>rooms</th>\n",
       "      <th>ceiling_height</th>\n",
       "      <th>floors_total</th>\n",
       "      <th>living_area</th>\n",
       "      <th>floor</th>\n",
       "      <th>is_apartment</th>\n",
       "      <th>...</th>\n",
       "      <th>kitchen_area</th>\n",
       "      <th>balcony</th>\n",
       "      <th>locality_name</th>\n",
       "      <th>airports_nearest</th>\n",
       "      <th>cityCenters_nearest</th>\n",
       "      <th>parks_around3000</th>\n",
       "      <th>parks_nearest</th>\n",
       "      <th>ponds_around3000</th>\n",
       "      <th>ponds_nearest</th>\n",
       "      <th>days_exposition</th>\n",
       "    </tr>\n",
       "  </thead>\n",
       "  <tbody>\n",
       "    <tr>\n",
       "      <td>0</td>\n",
       "      <td>20</td>\n",
       "      <td>13000000.0</td>\n",
       "      <td>108.00</td>\n",
       "      <td>2019-03-07T00:00:00</td>\n",
       "      <td>3</td>\n",
       "      <td>2.70</td>\n",
       "      <td>16.0</td>\n",
       "      <td>51.0</td>\n",
       "      <td>8</td>\n",
       "      <td>NaN</td>\n",
       "      <td>...</td>\n",
       "      <td>25.00</td>\n",
       "      <td>NaN</td>\n",
       "      <td>Санкт-Петербург</td>\n",
       "      <td>18863.0</td>\n",
       "      <td>16028.0</td>\n",
       "      <td>1.0</td>\n",
       "      <td>482.0</td>\n",
       "      <td>2.0</td>\n",
       "      <td>755.0</td>\n",
       "      <td>NaN</td>\n",
       "    </tr>\n",
       "    <tr>\n",
       "      <td>1</td>\n",
       "      <td>7</td>\n",
       "      <td>3350000.0</td>\n",
       "      <td>40.40</td>\n",
       "      <td>2018-12-04T00:00:00</td>\n",
       "      <td>1</td>\n",
       "      <td>NaN</td>\n",
       "      <td>11.0</td>\n",
       "      <td>18.6</td>\n",
       "      <td>1</td>\n",
       "      <td>NaN</td>\n",
       "      <td>...</td>\n",
       "      <td>11.00</td>\n",
       "      <td>2.0</td>\n",
       "      <td>посёлок Шушары</td>\n",
       "      <td>12817.0</td>\n",
       "      <td>18603.0</td>\n",
       "      <td>0.0</td>\n",
       "      <td>NaN</td>\n",
       "      <td>0.0</td>\n",
       "      <td>NaN</td>\n",
       "      <td>81.0</td>\n",
       "    </tr>\n",
       "    <tr>\n",
       "      <td>2</td>\n",
       "      <td>10</td>\n",
       "      <td>5196000.0</td>\n",
       "      <td>56.00</td>\n",
       "      <td>2015-08-20T00:00:00</td>\n",
       "      <td>2</td>\n",
       "      <td>NaN</td>\n",
       "      <td>5.0</td>\n",
       "      <td>34.3</td>\n",
       "      <td>4</td>\n",
       "      <td>NaN</td>\n",
       "      <td>...</td>\n",
       "      <td>8.30</td>\n",
       "      <td>0.0</td>\n",
       "      <td>Санкт-Петербург</td>\n",
       "      <td>21741.0</td>\n",
       "      <td>13933.0</td>\n",
       "      <td>1.0</td>\n",
       "      <td>90.0</td>\n",
       "      <td>2.0</td>\n",
       "      <td>574.0</td>\n",
       "      <td>558.0</td>\n",
       "    </tr>\n",
       "    <tr>\n",
       "      <td>3</td>\n",
       "      <td>0</td>\n",
       "      <td>64900000.0</td>\n",
       "      <td>159.00</td>\n",
       "      <td>2015-07-24T00:00:00</td>\n",
       "      <td>3</td>\n",
       "      <td>NaN</td>\n",
       "      <td>14.0</td>\n",
       "      <td>NaN</td>\n",
       "      <td>9</td>\n",
       "      <td>NaN</td>\n",
       "      <td>...</td>\n",
       "      <td>NaN</td>\n",
       "      <td>0.0</td>\n",
       "      <td>Санкт-Петербург</td>\n",
       "      <td>28098.0</td>\n",
       "      <td>6800.0</td>\n",
       "      <td>2.0</td>\n",
       "      <td>84.0</td>\n",
       "      <td>3.0</td>\n",
       "      <td>234.0</td>\n",
       "      <td>424.0</td>\n",
       "    </tr>\n",
       "    <tr>\n",
       "      <td>4</td>\n",
       "      <td>2</td>\n",
       "      <td>10000000.0</td>\n",
       "      <td>100.00</td>\n",
       "      <td>2018-06-19T00:00:00</td>\n",
       "      <td>2</td>\n",
       "      <td>3.03</td>\n",
       "      <td>14.0</td>\n",
       "      <td>32.0</td>\n",
       "      <td>13</td>\n",
       "      <td>NaN</td>\n",
       "      <td>...</td>\n",
       "      <td>41.00</td>\n",
       "      <td>NaN</td>\n",
       "      <td>Санкт-Петербург</td>\n",
       "      <td>31856.0</td>\n",
       "      <td>8098.0</td>\n",
       "      <td>2.0</td>\n",
       "      <td>112.0</td>\n",
       "      <td>1.0</td>\n",
       "      <td>48.0</td>\n",
       "      <td>121.0</td>\n",
       "    </tr>\n",
       "    <tr>\n",
       "      <td>...</td>\n",
       "      <td>...</td>\n",
       "      <td>...</td>\n",
       "      <td>...</td>\n",
       "      <td>...</td>\n",
       "      <td>...</td>\n",
       "      <td>...</td>\n",
       "      <td>...</td>\n",
       "      <td>...</td>\n",
       "      <td>...</td>\n",
       "      <td>...</td>\n",
       "      <td>...</td>\n",
       "      <td>...</td>\n",
       "      <td>...</td>\n",
       "      <td>...</td>\n",
       "      <td>...</td>\n",
       "      <td>...</td>\n",
       "      <td>...</td>\n",
       "      <td>...</td>\n",
       "      <td>...</td>\n",
       "      <td>...</td>\n",
       "      <td>...</td>\n",
       "    </tr>\n",
       "    <tr>\n",
       "      <td>23694</td>\n",
       "      <td>9</td>\n",
       "      <td>9700000.0</td>\n",
       "      <td>133.81</td>\n",
       "      <td>2017-03-21T00:00:00</td>\n",
       "      <td>3</td>\n",
       "      <td>3.70</td>\n",
       "      <td>5.0</td>\n",
       "      <td>73.3</td>\n",
       "      <td>3</td>\n",
       "      <td>NaN</td>\n",
       "      <td>...</td>\n",
       "      <td>13.83</td>\n",
       "      <td>NaN</td>\n",
       "      <td>Санкт-Петербург</td>\n",
       "      <td>24665.0</td>\n",
       "      <td>4232.0</td>\n",
       "      <td>1.0</td>\n",
       "      <td>796.0</td>\n",
       "      <td>3.0</td>\n",
       "      <td>381.0</td>\n",
       "      <td>NaN</td>\n",
       "    </tr>\n",
       "    <tr>\n",
       "      <td>23695</td>\n",
       "      <td>14</td>\n",
       "      <td>3100000.0</td>\n",
       "      <td>59.00</td>\n",
       "      <td>2018-01-15T00:00:00</td>\n",
       "      <td>3</td>\n",
       "      <td>NaN</td>\n",
       "      <td>5.0</td>\n",
       "      <td>38.0</td>\n",
       "      <td>4</td>\n",
       "      <td>NaN</td>\n",
       "      <td>...</td>\n",
       "      <td>8.50</td>\n",
       "      <td>NaN</td>\n",
       "      <td>Тосно</td>\n",
       "      <td>NaN</td>\n",
       "      <td>NaN</td>\n",
       "      <td>NaN</td>\n",
       "      <td>NaN</td>\n",
       "      <td>NaN</td>\n",
       "      <td>NaN</td>\n",
       "      <td>45.0</td>\n",
       "    </tr>\n",
       "    <tr>\n",
       "      <td>23696</td>\n",
       "      <td>18</td>\n",
       "      <td>2500000.0</td>\n",
       "      <td>56.70</td>\n",
       "      <td>2018-02-11T00:00:00</td>\n",
       "      <td>2</td>\n",
       "      <td>NaN</td>\n",
       "      <td>3.0</td>\n",
       "      <td>29.7</td>\n",
       "      <td>1</td>\n",
       "      <td>NaN</td>\n",
       "      <td>...</td>\n",
       "      <td>NaN</td>\n",
       "      <td>NaN</td>\n",
       "      <td>село Рождествено</td>\n",
       "      <td>NaN</td>\n",
       "      <td>NaN</td>\n",
       "      <td>NaN</td>\n",
       "      <td>NaN</td>\n",
       "      <td>NaN</td>\n",
       "      <td>NaN</td>\n",
       "      <td>NaN</td>\n",
       "    </tr>\n",
       "    <tr>\n",
       "      <td>23697</td>\n",
       "      <td>13</td>\n",
       "      <td>11475000.0</td>\n",
       "      <td>76.75</td>\n",
       "      <td>2017-03-28T00:00:00</td>\n",
       "      <td>2</td>\n",
       "      <td>3.00</td>\n",
       "      <td>17.0</td>\n",
       "      <td>NaN</td>\n",
       "      <td>12</td>\n",
       "      <td>NaN</td>\n",
       "      <td>...</td>\n",
       "      <td>23.30</td>\n",
       "      <td>2.0</td>\n",
       "      <td>Санкт-Петербург</td>\n",
       "      <td>39140.0</td>\n",
       "      <td>10364.0</td>\n",
       "      <td>2.0</td>\n",
       "      <td>173.0</td>\n",
       "      <td>3.0</td>\n",
       "      <td>196.0</td>\n",
       "      <td>602.0</td>\n",
       "    </tr>\n",
       "    <tr>\n",
       "      <td>23698</td>\n",
       "      <td>4</td>\n",
       "      <td>1350000.0</td>\n",
       "      <td>32.30</td>\n",
       "      <td>2017-07-21T00:00:00</td>\n",
       "      <td>1</td>\n",
       "      <td>2.50</td>\n",
       "      <td>5.0</td>\n",
       "      <td>12.3</td>\n",
       "      <td>1</td>\n",
       "      <td>NaN</td>\n",
       "      <td>...</td>\n",
       "      <td>9.00</td>\n",
       "      <td>NaN</td>\n",
       "      <td>поселок Новый Учхоз</td>\n",
       "      <td>NaN</td>\n",
       "      <td>NaN</td>\n",
       "      <td>NaN</td>\n",
       "      <td>NaN</td>\n",
       "      <td>NaN</td>\n",
       "      <td>NaN</td>\n",
       "      <td>NaN</td>\n",
       "    </tr>\n",
       "  </tbody>\n",
       "</table>\n",
       "<p>23699 rows × 22 columns</p>\n",
       "</div>"
      ],
      "text/plain": [
       "       total_images  last_price  total_area first_day_exposition  rooms  \\\n",
       "0                20  13000000.0      108.00  2019-03-07T00:00:00      3   \n",
       "1                 7   3350000.0       40.40  2018-12-04T00:00:00      1   \n",
       "2                10   5196000.0       56.00  2015-08-20T00:00:00      2   \n",
       "3                 0  64900000.0      159.00  2015-07-24T00:00:00      3   \n",
       "4                 2  10000000.0      100.00  2018-06-19T00:00:00      2   \n",
       "...             ...         ...         ...                  ...    ...   \n",
       "23694             9   9700000.0      133.81  2017-03-21T00:00:00      3   \n",
       "23695            14   3100000.0       59.00  2018-01-15T00:00:00      3   \n",
       "23696            18   2500000.0       56.70  2018-02-11T00:00:00      2   \n",
       "23697            13  11475000.0       76.75  2017-03-28T00:00:00      2   \n",
       "23698             4   1350000.0       32.30  2017-07-21T00:00:00      1   \n",
       "\n",
       "       ceiling_height  floors_total  living_area  floor is_apartment  ...  \\\n",
       "0                2.70          16.0         51.0      8          NaN  ...   \n",
       "1                 NaN          11.0         18.6      1          NaN  ...   \n",
       "2                 NaN           5.0         34.3      4          NaN  ...   \n",
       "3                 NaN          14.0          NaN      9          NaN  ...   \n",
       "4                3.03          14.0         32.0     13          NaN  ...   \n",
       "...               ...           ...          ...    ...          ...  ...   \n",
       "23694            3.70           5.0         73.3      3          NaN  ...   \n",
       "23695             NaN           5.0         38.0      4          NaN  ...   \n",
       "23696             NaN           3.0         29.7      1          NaN  ...   \n",
       "23697            3.00          17.0          NaN     12          NaN  ...   \n",
       "23698            2.50           5.0         12.3      1          NaN  ...   \n",
       "\n",
       "       kitchen_area  balcony        locality_name  airports_nearest  \\\n",
       "0             25.00      NaN      Санкт-Петербург           18863.0   \n",
       "1             11.00      2.0       посёлок Шушары           12817.0   \n",
       "2              8.30      0.0      Санкт-Петербург           21741.0   \n",
       "3               NaN      0.0      Санкт-Петербург           28098.0   \n",
       "4             41.00      NaN      Санкт-Петербург           31856.0   \n",
       "...             ...      ...                  ...               ...   \n",
       "23694         13.83      NaN      Санкт-Петербург           24665.0   \n",
       "23695          8.50      NaN                Тосно               NaN   \n",
       "23696           NaN      NaN     село Рождествено               NaN   \n",
       "23697         23.30      2.0      Санкт-Петербург           39140.0   \n",
       "23698          9.00      NaN  поселок Новый Учхоз               NaN   \n",
       "\n",
       "      cityCenters_nearest  parks_around3000  parks_nearest  ponds_around3000  \\\n",
       "0                 16028.0               1.0          482.0               2.0   \n",
       "1                 18603.0               0.0            NaN               0.0   \n",
       "2                 13933.0               1.0           90.0               2.0   \n",
       "3                  6800.0               2.0           84.0               3.0   \n",
       "4                  8098.0               2.0          112.0               1.0   \n",
       "...                   ...               ...            ...               ...   \n",
       "23694              4232.0               1.0          796.0               3.0   \n",
       "23695                 NaN               NaN            NaN               NaN   \n",
       "23696                 NaN               NaN            NaN               NaN   \n",
       "23697             10364.0               2.0          173.0               3.0   \n",
       "23698                 NaN               NaN            NaN               NaN   \n",
       "\n",
       "       ponds_nearest  days_exposition  \n",
       "0              755.0              NaN  \n",
       "1                NaN             81.0  \n",
       "2              574.0            558.0  \n",
       "3              234.0            424.0  \n",
       "4               48.0            121.0  \n",
       "...              ...              ...  \n",
       "23694          381.0              NaN  \n",
       "23695            NaN             45.0  \n",
       "23696            NaN              NaN  \n",
       "23697          196.0            602.0  \n",
       "23698            NaN              NaN  \n",
       "\n",
       "[23699 rows x 22 columns]"
      ]
     },
     "execution_count": 19,
     "metadata": {},
     "output_type": "execute_result"
    }
   ],
   "source": [
    "data"
   ]
  },
  {
   "cell_type": "markdown",
   "metadata": {},
   "source": [
    "Изменим тип столбца first_day_exposition на datetime."
   ]
  },
  {
   "cell_type": "code",
   "execution_count": 20,
   "metadata": {},
   "outputs": [
    {
     "name": "stdout",
     "output_type": "stream",
     "text": [
      "<class 'pandas.core.frame.DataFrame'>\n",
      "RangeIndex: 23699 entries, 0 to 23698\n",
      "Data columns (total 22 columns):\n",
      "total_images            23699 non-null int64\n",
      "last_price              23699 non-null float64\n",
      "total_area              23699 non-null float64\n",
      "first_day_exposition    23699 non-null datetime64[ns]\n",
      "rooms                   23699 non-null int64\n",
      "ceiling_height          14504 non-null float64\n",
      "floors_total            23613 non-null float64\n",
      "living_area             21796 non-null float64\n",
      "floor                   23699 non-null int64\n",
      "is_apartment            2775 non-null object\n",
      "studio                  23699 non-null bool\n",
      "open_plan               23699 non-null bool\n",
      "kitchen_area            21421 non-null float64\n",
      "balcony                 12180 non-null float64\n",
      "locality_name           23650 non-null object\n",
      "airports_nearest        18157 non-null float64\n",
      "cityCenters_nearest     18180 non-null float64\n",
      "parks_around3000        18181 non-null float64\n",
      "parks_nearest           8079 non-null float64\n",
      "ponds_around3000        18181 non-null float64\n",
      "ponds_nearest           9110 non-null float64\n",
      "days_exposition         20518 non-null float64\n",
      "dtypes: bool(2), datetime64[ns](1), float64(14), int64(3), object(2)\n",
      "memory usage: 3.7+ MB\n"
     ]
    }
   ],
   "source": [
    "data['first_day_exposition'] = pd.to_datetime(data['first_day_exposition'], \n",
    "                                              format='%Y-%m-%dT%H:%M:%S')\n",
    "data.info()"
   ]
  },
  {
   "cell_type": "markdown",
   "metadata": {},
   "source": [
    "узнаем количество пропусков."
   ]
  },
  {
   "cell_type": "code",
   "execution_count": 21,
   "metadata": {},
   "outputs": [
    {
     "data": {
      "text/plain": [
       "total_images                0\n",
       "last_price                  0\n",
       "total_area                  0\n",
       "first_day_exposition        0\n",
       "rooms                       0\n",
       "ceiling_height           9195\n",
       "floors_total               86\n",
       "living_area              1903\n",
       "floor                       0\n",
       "is_apartment            20924\n",
       "studio                      0\n",
       "open_plan                   0\n",
       "kitchen_area             2278\n",
       "balcony                 11519\n",
       "locality_name              49\n",
       "airports_nearest         5542\n",
       "cityCenters_nearest      5519\n",
       "parks_around3000         5518\n",
       "parks_nearest           15620\n",
       "ponds_around3000         5518\n",
       "ponds_nearest           14589\n",
       "days_exposition          3181\n",
       "dtype: int64"
      ]
     },
     "execution_count": 21,
     "metadata": {},
     "output_type": "execute_result"
    }
   ],
   "source": [
    "data.isna().sum()"
   ]
  },
  {
   "cell_type": "markdown",
   "metadata": {},
   "source": [
    "Изменим столбец is_apartment так чтобы 1=True 0=False\n",
    "Строки с пропушенными значениями скорее всего не являются апартаментами. "
   ]
  },
  {
   "cell_type": "code",
   "execution_count": 22,
   "metadata": {},
   "outputs": [],
   "source": [
    "data['is_apartment'] = data['is_apartment'].fillna(0)\n",
    "data['is_apartment'] = data['is_apartment'].astype(int)"
   ]
  },
  {
   "cell_type": "code",
   "execution_count": 23,
   "metadata": {},
   "outputs": [
    {
     "data": {
      "text/plain": [
       "0"
      ]
     },
     "execution_count": 23,
     "metadata": {},
     "output_type": "execute_result"
    }
   ],
   "source": [
    "data['is_apartment'].isna().sum()"
   ]
  },
  {
   "cell_type": "code",
   "execution_count": 24,
   "metadata": {},
   "outputs": [
    {
     "data": {
      "text/plain": [
       "array([0, 1])"
      ]
     },
     "execution_count": 24,
     "metadata": {},
     "output_type": "execute_result"
    }
   ],
   "source": [
    "data['is_apartment'].unique()"
   ]
  },
  {
   "cell_type": "markdown",
   "metadata": {},
   "source": [
    "В столбце ceiling_height много пропусков. Узнаем от чего наиболее сильно зависит высота потолков."
   ]
  },
  {
   "cell_type": "code",
   "execution_count": 27,
   "metadata": {},
   "outputs": [
    {
     "data": {
      "text/html": [
       "<div>\n",
       "<style scoped>\n",
       "    .dataframe tbody tr th:only-of-type {\n",
       "        vertical-align: middle;\n",
       "    }\n",
       "\n",
       "    .dataframe tbody tr th {\n",
       "        vertical-align: top;\n",
       "    }\n",
       "\n",
       "    .dataframe thead th {\n",
       "        text-align: right;\n",
       "    }\n",
       "</style>\n",
       "<table border=\"1\" class=\"dataframe\">\n",
       "  <thead>\n",
       "    <tr style=\"text-align: right;\">\n",
       "      <th></th>\n",
       "      <th>total_images</th>\n",
       "      <th>last_price</th>\n",
       "      <th>total_area</th>\n",
       "      <th>rooms</th>\n",
       "      <th>ceiling_height</th>\n",
       "      <th>floors_total</th>\n",
       "      <th>living_area</th>\n",
       "      <th>floor</th>\n",
       "      <th>is_apartment</th>\n",
       "      <th>studio</th>\n",
       "      <th>open_plan</th>\n",
       "      <th>kitchen_area</th>\n",
       "      <th>balcony</th>\n",
       "      <th>airports_nearest</th>\n",
       "      <th>cityCenters_nearest</th>\n",
       "      <th>parks_around3000</th>\n",
       "      <th>parks_nearest</th>\n",
       "      <th>ponds_around3000</th>\n",
       "      <th>ponds_nearest</th>\n",
       "      <th>days_exposition</th>\n",
       "    </tr>\n",
       "  </thead>\n",
       "  <tbody>\n",
       "    <tr>\n",
       "      <td>total_images</td>\n",
       "      <td>1.000000</td>\n",
       "      <td>0.104473</td>\n",
       "      <td>0.115352</td>\n",
       "      <td>0.099288</td>\n",
       "      <td>-0.001987</td>\n",
       "      <td>0.010427</td>\n",
       "      <td>0.104780</td>\n",
       "      <td>0.031340</td>\n",
       "      <td>0.010532</td>\n",
       "      <td>-0.029303</td>\n",
       "      <td>-0.024407</td>\n",
       "      <td>0.104756</td>\n",
       "      <td>0.121693</td>\n",
       "      <td>-0.002298</td>\n",
       "      <td>-0.047666</td>\n",
       "      <td>0.021120</td>\n",
       "      <td>-0.008347</td>\n",
       "      <td>-0.011553</td>\n",
       "      <td>-0.003034</td>\n",
       "      <td>-0.026657</td>\n",
       "    </tr>\n",
       "    <tr>\n",
       "      <td>last_price</td>\n",
       "      <td>0.104473</td>\n",
       "      <td>1.000000</td>\n",
       "      <td>0.653675</td>\n",
       "      <td>0.363343</td>\n",
       "      <td>0.085430</td>\n",
       "      <td>-0.006984</td>\n",
       "      <td>0.566492</td>\n",
       "      <td>0.026576</td>\n",
       "      <td>0.026958</td>\n",
       "      <td>-0.025362</td>\n",
       "      <td>-0.008802</td>\n",
       "      <td>0.519869</td>\n",
       "      <td>0.029646</td>\n",
       "      <td>-0.026239</td>\n",
       "      <td>-0.206747</td>\n",
       "      <td>0.151058</td>\n",
       "      <td>-0.016414</td>\n",
       "      <td>0.159996</td>\n",
       "      <td>-0.084809</td>\n",
       "      <td>0.081146</td>\n",
       "    </tr>\n",
       "    <tr>\n",
       "      <td>total_area</td>\n",
       "      <td>0.115352</td>\n",
       "      <td>0.653675</td>\n",
       "      <td>1.000000</td>\n",
       "      <td>0.758344</td>\n",
       "      <td>0.095490</td>\n",
       "      <td>-0.075774</td>\n",
       "      <td>0.939537</td>\n",
       "      <td>-0.024754</td>\n",
       "      <td>0.029633</td>\n",
       "      <td>-0.072653</td>\n",
       "      <td>-0.034885</td>\n",
       "      <td>0.609121</td>\n",
       "      <td>0.047937</td>\n",
       "      <td>-0.030753</td>\n",
       "      <td>-0.231446</td>\n",
       "      <td>0.164689</td>\n",
       "      <td>-0.021497</td>\n",
       "      <td>0.162346</td>\n",
       "      <td>-0.097969</td>\n",
       "      <td>0.149675</td>\n",
       "    </tr>\n",
       "    <tr>\n",
       "      <td>rooms</td>\n",
       "      <td>0.099288</td>\n",
       "      <td>0.363343</td>\n",
       "      <td>0.758344</td>\n",
       "      <td>1.000000</td>\n",
       "      <td>0.054457</td>\n",
       "      <td>-0.228215</td>\n",
       "      <td>0.845977</td>\n",
       "      <td>-0.150862</td>\n",
       "      <td>0.000399</td>\n",
       "      <td>-0.147286</td>\n",
       "      <td>-0.087500</td>\n",
       "      <td>0.269945</td>\n",
       "      <td>0.017991</td>\n",
       "      <td>-0.061199</td>\n",
       "      <td>-0.184864</td>\n",
       "      <td>0.137257</td>\n",
       "      <td>-0.054549</td>\n",
       "      <td>0.092693</td>\n",
       "      <td>-0.057689</td>\n",
       "      <td>0.126961</td>\n",
       "    </tr>\n",
       "    <tr>\n",
       "      <td>ceiling_height</td>\n",
       "      <td>-0.001987</td>\n",
       "      <td>0.085430</td>\n",
       "      <td>0.095490</td>\n",
       "      <td>0.054457</td>\n",
       "      <td>1.000000</td>\n",
       "      <td>-0.028732</td>\n",
       "      <td>0.090650</td>\n",
       "      <td>-0.011798</td>\n",
       "      <td>0.154959</td>\n",
       "      <td>0.001674</td>\n",
       "      <td>0.042777</td>\n",
       "      <td>0.087641</td>\n",
       "      <td>0.040523</td>\n",
       "      <td>-0.023947</td>\n",
       "      <td>-0.091689</td>\n",
       "      <td>0.065915</td>\n",
       "      <td>-0.019167</td>\n",
       "      <td>0.078209</td>\n",
       "      <td>-0.059090</td>\n",
       "      <td>0.019091</td>\n",
       "    </tr>\n",
       "    <tr>\n",
       "      <td>floors_total</td>\n",
       "      <td>0.010427</td>\n",
       "      <td>-0.006984</td>\n",
       "      <td>-0.075774</td>\n",
       "      <td>-0.228215</td>\n",
       "      <td>-0.028732</td>\n",
       "      <td>1.000000</td>\n",
       "      <td>-0.169311</td>\n",
       "      <td>0.678059</td>\n",
       "      <td>-0.026351</td>\n",
       "      <td>0.070151</td>\n",
       "      <td>0.050791</td>\n",
       "      <td>0.163944</td>\n",
       "      <td>0.194065</td>\n",
       "      <td>0.108288</td>\n",
       "      <td>0.019774</td>\n",
       "      <td>-0.252833</td>\n",
       "      <td>0.097527</td>\n",
       "      <td>-0.122735</td>\n",
       "      <td>0.038864</td>\n",
       "      <td>-0.052234</td>\n",
       "    </tr>\n",
       "    <tr>\n",
       "      <td>living_area</td>\n",
       "      <td>0.104780</td>\n",
       "      <td>0.566492</td>\n",
       "      <td>0.939537</td>\n",
       "      <td>0.845977</td>\n",
       "      <td>0.090650</td>\n",
       "      <td>-0.169311</td>\n",
       "      <td>1.000000</td>\n",
       "      <td>-0.097210</td>\n",
       "      <td>0.026969</td>\n",
       "      <td>-0.056231</td>\n",
       "      <td>-0.033711</td>\n",
       "      <td>0.428674</td>\n",
       "      <td>0.018849</td>\n",
       "      <td>-0.057912</td>\n",
       "      <td>-0.231368</td>\n",
       "      <td>0.184453</td>\n",
       "      <td>-0.050167</td>\n",
       "      <td>0.148933</td>\n",
       "      <td>-0.081674</td>\n",
       "      <td>0.142454</td>\n",
       "    </tr>\n",
       "    <tr>\n",
       "      <td>floor</td>\n",
       "      <td>0.031340</td>\n",
       "      <td>0.026576</td>\n",
       "      <td>-0.024754</td>\n",
       "      <td>-0.150862</td>\n",
       "      <td>-0.011798</td>\n",
       "      <td>0.678059</td>\n",
       "      <td>-0.097210</td>\n",
       "      <td>1.000000</td>\n",
       "      <td>-0.013294</td>\n",
       "      <td>0.036940</td>\n",
       "      <td>0.035824</td>\n",
       "      <td>0.135531</td>\n",
       "      <td>0.168773</td>\n",
       "      <td>0.071597</td>\n",
       "      <td>0.009084</td>\n",
       "      <td>-0.163784</td>\n",
       "      <td>0.073045</td>\n",
       "      <td>-0.076312</td>\n",
       "      <td>0.024850</td>\n",
       "      <td>-0.039463</td>\n",
       "    </tr>\n",
       "    <tr>\n",
       "      <td>is_apartment</td>\n",
       "      <td>0.010532</td>\n",
       "      <td>0.026958</td>\n",
       "      <td>0.029633</td>\n",
       "      <td>0.000399</td>\n",
       "      <td>0.154959</td>\n",
       "      <td>-0.026351</td>\n",
       "      <td>0.026969</td>\n",
       "      <td>-0.013294</td>\n",
       "      <td>1.000000</td>\n",
       "      <td>-0.003657</td>\n",
       "      <td>-0.002448</td>\n",
       "      <td>0.049034</td>\n",
       "      <td>0.043119</td>\n",
       "      <td>0.016470</td>\n",
       "      <td>0.003732</td>\n",
       "      <td>0.020767</td>\n",
       "      <td>-0.033410</td>\n",
       "      <td>0.023989</td>\n",
       "      <td>0.003357</td>\n",
       "      <td>0.015262</td>\n",
       "    </tr>\n",
       "    <tr>\n",
       "      <td>studio</td>\n",
       "      <td>-0.029303</td>\n",
       "      <td>-0.025362</td>\n",
       "      <td>-0.072653</td>\n",
       "      <td>-0.147286</td>\n",
       "      <td>0.001674</td>\n",
       "      <td>0.070151</td>\n",
       "      <td>-0.056231</td>\n",
       "      <td>0.036940</td>\n",
       "      <td>-0.003657</td>\n",
       "      <td>1.000000</td>\n",
       "      <td>-0.004235</td>\n",
       "      <td>NaN</td>\n",
       "      <td>0.031455</td>\n",
       "      <td>-0.021876</td>\n",
       "      <td>-0.007029</td>\n",
       "      <td>-0.030202</td>\n",
       "      <td>0.009134</td>\n",
       "      <td>0.000939</td>\n",
       "      <td>0.002606</td>\n",
       "      <td>-0.022476</td>\n",
       "    </tr>\n",
       "    <tr>\n",
       "      <td>open_plan</td>\n",
       "      <td>-0.024407</td>\n",
       "      <td>-0.008802</td>\n",
       "      <td>-0.034885</td>\n",
       "      <td>-0.087500</td>\n",
       "      <td>0.042777</td>\n",
       "      <td>0.050791</td>\n",
       "      <td>-0.033711</td>\n",
       "      <td>0.035824</td>\n",
       "      <td>-0.002448</td>\n",
       "      <td>-0.004235</td>\n",
       "      <td>1.000000</td>\n",
       "      <td>NaN</td>\n",
       "      <td>0.019491</td>\n",
       "      <td>-0.013583</td>\n",
       "      <td>-0.004204</td>\n",
       "      <td>-0.010077</td>\n",
       "      <td>0.010612</td>\n",
       "      <td>0.008455</td>\n",
       "      <td>-0.003328</td>\n",
       "      <td>-0.024112</td>\n",
       "    </tr>\n",
       "    <tr>\n",
       "      <td>kitchen_area</td>\n",
       "      <td>0.104756</td>\n",
       "      <td>0.519869</td>\n",
       "      <td>0.609121</td>\n",
       "      <td>0.269945</td>\n",
       "      <td>0.087641</td>\n",
       "      <td>0.163944</td>\n",
       "      <td>0.428674</td>\n",
       "      <td>0.135531</td>\n",
       "      <td>0.049034</td>\n",
       "      <td>NaN</td>\n",
       "      <td>NaN</td>\n",
       "      <td>1.000000</td>\n",
       "      <td>0.098634</td>\n",
       "      <td>0.008200</td>\n",
       "      <td>-0.190049</td>\n",
       "      <td>0.087503</td>\n",
       "      <td>0.029641</td>\n",
       "      <td>0.150148</td>\n",
       "      <td>-0.105223</td>\n",
       "      <td>0.100586</td>\n",
       "    </tr>\n",
       "    <tr>\n",
       "      <td>balcony</td>\n",
       "      <td>0.121693</td>\n",
       "      <td>0.029646</td>\n",
       "      <td>0.047937</td>\n",
       "      <td>0.017991</td>\n",
       "      <td>0.040523</td>\n",
       "      <td>0.194065</td>\n",
       "      <td>0.018849</td>\n",
       "      <td>0.168773</td>\n",
       "      <td>0.043119</td>\n",
       "      <td>0.031455</td>\n",
       "      <td>0.019491</td>\n",
       "      <td>0.098634</td>\n",
       "      <td>1.000000</td>\n",
       "      <td>0.066834</td>\n",
       "      <td>0.051051</td>\n",
       "      <td>-0.082850</td>\n",
       "      <td>0.052328</td>\n",
       "      <td>-0.032709</td>\n",
       "      <td>0.010847</td>\n",
       "      <td>-0.032909</td>\n",
       "    </tr>\n",
       "    <tr>\n",
       "      <td>airports_nearest</td>\n",
       "      <td>-0.002298</td>\n",
       "      <td>-0.026239</td>\n",
       "      <td>-0.030753</td>\n",
       "      <td>-0.061199</td>\n",
       "      <td>-0.023947</td>\n",
       "      <td>0.108288</td>\n",
       "      <td>-0.057912</td>\n",
       "      <td>0.071597</td>\n",
       "      <td>0.016470</td>\n",
       "      <td>-0.021876</td>\n",
       "      <td>-0.013583</td>\n",
       "      <td>0.008200</td>\n",
       "      <td>0.066834</td>\n",
       "      <td>1.000000</td>\n",
       "      <td>0.272184</td>\n",
       "      <td>0.000759</td>\n",
       "      <td>-0.070058</td>\n",
       "      <td>-0.049583</td>\n",
       "      <td>0.014049</td>\n",
       "      <td>-0.018271</td>\n",
       "    </tr>\n",
       "    <tr>\n",
       "      <td>cityCenters_nearest</td>\n",
       "      <td>-0.047666</td>\n",
       "      <td>-0.206747</td>\n",
       "      <td>-0.231446</td>\n",
       "      <td>-0.184864</td>\n",
       "      <td>-0.091689</td>\n",
       "      <td>0.019774</td>\n",
       "      <td>-0.231368</td>\n",
       "      <td>0.009084</td>\n",
       "      <td>0.003732</td>\n",
       "      <td>-0.007029</td>\n",
       "      <td>-0.004204</td>\n",
       "      <td>-0.190049</td>\n",
       "      <td>0.051051</td>\n",
       "      <td>0.272184</td>\n",
       "      <td>1.000000</td>\n",
       "      <td>-0.161738</td>\n",
       "      <td>-0.040650</td>\n",
       "      <td>-0.074577</td>\n",
       "      <td>0.028903</td>\n",
       "      <td>-0.060714</td>\n",
       "    </tr>\n",
       "    <tr>\n",
       "      <td>parks_around3000</td>\n",
       "      <td>0.021120</td>\n",
       "      <td>0.151058</td>\n",
       "      <td>0.164689</td>\n",
       "      <td>0.137257</td>\n",
       "      <td>0.065915</td>\n",
       "      <td>-0.252833</td>\n",
       "      <td>0.184453</td>\n",
       "      <td>-0.163784</td>\n",
       "      <td>0.020767</td>\n",
       "      <td>-0.030202</td>\n",
       "      <td>-0.010077</td>\n",
       "      <td>0.087503</td>\n",
       "      <td>-0.082850</td>\n",
       "      <td>0.000759</td>\n",
       "      <td>-0.161738</td>\n",
       "      <td>1.000000</td>\n",
       "      <td>-0.259514</td>\n",
       "      <td>0.304316</td>\n",
       "      <td>-0.167103</td>\n",
       "      <td>0.060491</td>\n",
       "    </tr>\n",
       "    <tr>\n",
       "      <td>parks_nearest</td>\n",
       "      <td>-0.008347</td>\n",
       "      <td>-0.016414</td>\n",
       "      <td>-0.021497</td>\n",
       "      <td>-0.054549</td>\n",
       "      <td>-0.019167</td>\n",
       "      <td>0.097527</td>\n",
       "      <td>-0.050167</td>\n",
       "      <td>0.073045</td>\n",
       "      <td>-0.033410</td>\n",
       "      <td>0.009134</td>\n",
       "      <td>0.010612</td>\n",
       "      <td>0.029641</td>\n",
       "      <td>0.052328</td>\n",
       "      <td>-0.070058</td>\n",
       "      <td>-0.040650</td>\n",
       "      <td>-0.259514</td>\n",
       "      <td>1.000000</td>\n",
       "      <td>0.077280</td>\n",
       "      <td>0.000692</td>\n",
       "      <td>0.023254</td>\n",
       "    </tr>\n",
       "    <tr>\n",
       "      <td>ponds_around3000</td>\n",
       "      <td>-0.011553</td>\n",
       "      <td>0.159996</td>\n",
       "      <td>0.162346</td>\n",
       "      <td>0.092693</td>\n",
       "      <td>0.078209</td>\n",
       "      <td>-0.122735</td>\n",
       "      <td>0.148933</td>\n",
       "      <td>-0.076312</td>\n",
       "      <td>0.023989</td>\n",
       "      <td>0.000939</td>\n",
       "      <td>0.008455</td>\n",
       "      <td>0.150148</td>\n",
       "      <td>-0.032709</td>\n",
       "      <td>-0.049583</td>\n",
       "      <td>-0.074577</td>\n",
       "      <td>0.304316</td>\n",
       "      <td>0.077280</td>\n",
       "      <td>1.000000</td>\n",
       "      <td>-0.341840</td>\n",
       "      <td>0.073162</td>\n",
       "    </tr>\n",
       "    <tr>\n",
       "      <td>ponds_nearest</td>\n",
       "      <td>-0.003034</td>\n",
       "      <td>-0.084809</td>\n",
       "      <td>-0.097969</td>\n",
       "      <td>-0.057689</td>\n",
       "      <td>-0.059090</td>\n",
       "      <td>0.038864</td>\n",
       "      <td>-0.081674</td>\n",
       "      <td>0.024850</td>\n",
       "      <td>0.003357</td>\n",
       "      <td>0.002606</td>\n",
       "      <td>-0.003328</td>\n",
       "      <td>-0.105223</td>\n",
       "      <td>0.010847</td>\n",
       "      <td>0.014049</td>\n",
       "      <td>0.028903</td>\n",
       "      <td>-0.167103</td>\n",
       "      <td>0.000692</td>\n",
       "      <td>-0.341840</td>\n",
       "      <td>1.000000</td>\n",
       "      <td>-0.077879</td>\n",
       "    </tr>\n",
       "    <tr>\n",
       "      <td>days_exposition</td>\n",
       "      <td>-0.026657</td>\n",
       "      <td>0.081146</td>\n",
       "      <td>0.149675</td>\n",
       "      <td>0.126961</td>\n",
       "      <td>0.019091</td>\n",
       "      <td>-0.052234</td>\n",
       "      <td>0.142454</td>\n",
       "      <td>-0.039463</td>\n",
       "      <td>0.015262</td>\n",
       "      <td>-0.022476</td>\n",
       "      <td>-0.024112</td>\n",
       "      <td>0.100586</td>\n",
       "      <td>-0.032909</td>\n",
       "      <td>-0.018271</td>\n",
       "      <td>-0.060714</td>\n",
       "      <td>0.060491</td>\n",
       "      <td>0.023254</td>\n",
       "      <td>0.073162</td>\n",
       "      <td>-0.077879</td>\n",
       "      <td>1.000000</td>\n",
       "    </tr>\n",
       "  </tbody>\n",
       "</table>\n",
       "</div>"
      ],
      "text/plain": [
       "                     total_images  last_price  total_area     rooms  \\\n",
       "total_images             1.000000    0.104473    0.115352  0.099288   \n",
       "last_price               0.104473    1.000000    0.653675  0.363343   \n",
       "total_area               0.115352    0.653675    1.000000  0.758344   \n",
       "rooms                    0.099288    0.363343    0.758344  1.000000   \n",
       "ceiling_height          -0.001987    0.085430    0.095490  0.054457   \n",
       "floors_total             0.010427   -0.006984   -0.075774 -0.228215   \n",
       "living_area              0.104780    0.566492    0.939537  0.845977   \n",
       "floor                    0.031340    0.026576   -0.024754 -0.150862   \n",
       "is_apartment             0.010532    0.026958    0.029633  0.000399   \n",
       "studio                  -0.029303   -0.025362   -0.072653 -0.147286   \n",
       "open_plan               -0.024407   -0.008802   -0.034885 -0.087500   \n",
       "kitchen_area             0.104756    0.519869    0.609121  0.269945   \n",
       "balcony                  0.121693    0.029646    0.047937  0.017991   \n",
       "airports_nearest        -0.002298   -0.026239   -0.030753 -0.061199   \n",
       "cityCenters_nearest     -0.047666   -0.206747   -0.231446 -0.184864   \n",
       "parks_around3000         0.021120    0.151058    0.164689  0.137257   \n",
       "parks_nearest           -0.008347   -0.016414   -0.021497 -0.054549   \n",
       "ponds_around3000        -0.011553    0.159996    0.162346  0.092693   \n",
       "ponds_nearest           -0.003034   -0.084809   -0.097969 -0.057689   \n",
       "days_exposition         -0.026657    0.081146    0.149675  0.126961   \n",
       "\n",
       "                     ceiling_height  floors_total  living_area     floor  \\\n",
       "total_images              -0.001987      0.010427     0.104780  0.031340   \n",
       "last_price                 0.085430     -0.006984     0.566492  0.026576   \n",
       "total_area                 0.095490     -0.075774     0.939537 -0.024754   \n",
       "rooms                      0.054457     -0.228215     0.845977 -0.150862   \n",
       "ceiling_height             1.000000     -0.028732     0.090650 -0.011798   \n",
       "floors_total              -0.028732      1.000000    -0.169311  0.678059   \n",
       "living_area                0.090650     -0.169311     1.000000 -0.097210   \n",
       "floor                     -0.011798      0.678059    -0.097210  1.000000   \n",
       "is_apartment               0.154959     -0.026351     0.026969 -0.013294   \n",
       "studio                     0.001674      0.070151    -0.056231  0.036940   \n",
       "open_plan                  0.042777      0.050791    -0.033711  0.035824   \n",
       "kitchen_area               0.087641      0.163944     0.428674  0.135531   \n",
       "balcony                    0.040523      0.194065     0.018849  0.168773   \n",
       "airports_nearest          -0.023947      0.108288    -0.057912  0.071597   \n",
       "cityCenters_nearest       -0.091689      0.019774    -0.231368  0.009084   \n",
       "parks_around3000           0.065915     -0.252833     0.184453 -0.163784   \n",
       "parks_nearest             -0.019167      0.097527    -0.050167  0.073045   \n",
       "ponds_around3000           0.078209     -0.122735     0.148933 -0.076312   \n",
       "ponds_nearest             -0.059090      0.038864    -0.081674  0.024850   \n",
       "days_exposition            0.019091     -0.052234     0.142454 -0.039463   \n",
       "\n",
       "                     is_apartment    studio  open_plan  kitchen_area  \\\n",
       "total_images             0.010532 -0.029303  -0.024407      0.104756   \n",
       "last_price               0.026958 -0.025362  -0.008802      0.519869   \n",
       "total_area               0.029633 -0.072653  -0.034885      0.609121   \n",
       "rooms                    0.000399 -0.147286  -0.087500      0.269945   \n",
       "ceiling_height           0.154959  0.001674   0.042777      0.087641   \n",
       "floors_total            -0.026351  0.070151   0.050791      0.163944   \n",
       "living_area              0.026969 -0.056231  -0.033711      0.428674   \n",
       "floor                   -0.013294  0.036940   0.035824      0.135531   \n",
       "is_apartment             1.000000 -0.003657  -0.002448      0.049034   \n",
       "studio                  -0.003657  1.000000  -0.004235           NaN   \n",
       "open_plan               -0.002448 -0.004235   1.000000           NaN   \n",
       "kitchen_area             0.049034       NaN        NaN      1.000000   \n",
       "balcony                  0.043119  0.031455   0.019491      0.098634   \n",
       "airports_nearest         0.016470 -0.021876  -0.013583      0.008200   \n",
       "cityCenters_nearest      0.003732 -0.007029  -0.004204     -0.190049   \n",
       "parks_around3000         0.020767 -0.030202  -0.010077      0.087503   \n",
       "parks_nearest           -0.033410  0.009134   0.010612      0.029641   \n",
       "ponds_around3000         0.023989  0.000939   0.008455      0.150148   \n",
       "ponds_nearest            0.003357  0.002606  -0.003328     -0.105223   \n",
       "days_exposition          0.015262 -0.022476  -0.024112      0.100586   \n",
       "\n",
       "                      balcony  airports_nearest  cityCenters_nearest  \\\n",
       "total_images         0.121693         -0.002298            -0.047666   \n",
       "last_price           0.029646         -0.026239            -0.206747   \n",
       "total_area           0.047937         -0.030753            -0.231446   \n",
       "rooms                0.017991         -0.061199            -0.184864   \n",
       "ceiling_height       0.040523         -0.023947            -0.091689   \n",
       "floors_total         0.194065          0.108288             0.019774   \n",
       "living_area          0.018849         -0.057912            -0.231368   \n",
       "floor                0.168773          0.071597             0.009084   \n",
       "is_apartment         0.043119          0.016470             0.003732   \n",
       "studio               0.031455         -0.021876            -0.007029   \n",
       "open_plan            0.019491         -0.013583            -0.004204   \n",
       "kitchen_area         0.098634          0.008200            -0.190049   \n",
       "balcony              1.000000          0.066834             0.051051   \n",
       "airports_nearest     0.066834          1.000000             0.272184   \n",
       "cityCenters_nearest  0.051051          0.272184             1.000000   \n",
       "parks_around3000    -0.082850          0.000759            -0.161738   \n",
       "parks_nearest        0.052328         -0.070058            -0.040650   \n",
       "ponds_around3000    -0.032709         -0.049583            -0.074577   \n",
       "ponds_nearest        0.010847          0.014049             0.028903   \n",
       "days_exposition     -0.032909         -0.018271            -0.060714   \n",
       "\n",
       "                     parks_around3000  parks_nearest  ponds_around3000  \\\n",
       "total_images                 0.021120      -0.008347         -0.011553   \n",
       "last_price                   0.151058      -0.016414          0.159996   \n",
       "total_area                   0.164689      -0.021497          0.162346   \n",
       "rooms                        0.137257      -0.054549          0.092693   \n",
       "ceiling_height               0.065915      -0.019167          0.078209   \n",
       "floors_total                -0.252833       0.097527         -0.122735   \n",
       "living_area                  0.184453      -0.050167          0.148933   \n",
       "floor                       -0.163784       0.073045         -0.076312   \n",
       "is_apartment                 0.020767      -0.033410          0.023989   \n",
       "studio                      -0.030202       0.009134          0.000939   \n",
       "open_plan                   -0.010077       0.010612          0.008455   \n",
       "kitchen_area                 0.087503       0.029641          0.150148   \n",
       "balcony                     -0.082850       0.052328         -0.032709   \n",
       "airports_nearest             0.000759      -0.070058         -0.049583   \n",
       "cityCenters_nearest         -0.161738      -0.040650         -0.074577   \n",
       "parks_around3000             1.000000      -0.259514          0.304316   \n",
       "parks_nearest               -0.259514       1.000000          0.077280   \n",
       "ponds_around3000             0.304316       0.077280          1.000000   \n",
       "ponds_nearest               -0.167103       0.000692         -0.341840   \n",
       "days_exposition              0.060491       0.023254          0.073162   \n",
       "\n",
       "                     ponds_nearest  days_exposition  \n",
       "total_images             -0.003034        -0.026657  \n",
       "last_price               -0.084809         0.081146  \n",
       "total_area               -0.097969         0.149675  \n",
       "rooms                    -0.057689         0.126961  \n",
       "ceiling_height           -0.059090         0.019091  \n",
       "floors_total              0.038864        -0.052234  \n",
       "living_area              -0.081674         0.142454  \n",
       "floor                     0.024850        -0.039463  \n",
       "is_apartment              0.003357         0.015262  \n",
       "studio                    0.002606        -0.022476  \n",
       "open_plan                -0.003328        -0.024112  \n",
       "kitchen_area             -0.105223         0.100586  \n",
       "balcony                   0.010847        -0.032909  \n",
       "airports_nearest          0.014049        -0.018271  \n",
       "cityCenters_nearest       0.028903        -0.060714  \n",
       "parks_around3000         -0.167103         0.060491  \n",
       "parks_nearest             0.000692         0.023254  \n",
       "ponds_around3000         -0.341840         0.073162  \n",
       "ponds_nearest             1.000000        -0.077879  \n",
       "days_exposition          -0.077879         1.000000  "
      ]
     },
     "execution_count": 27,
     "metadata": {},
     "output_type": "execute_result"
    }
   ],
   "source": [
    "data.corr()"
   ]
  },
  {
   "cell_type": "markdown",
   "metadata": {},
   "source": [
    "Не один из факторов не оказывает сильного влияния, однако самая большая зависимость от общей площади."
   ]
  },
  {
   "cell_type": "code",
   "execution_count": 28,
   "metadata": {},
   "outputs": [
    {
     "data": {
      "text/plain": [
       "count    14504.000000\n",
       "mean         2.771499\n",
       "std          1.261056\n",
       "min          1.000000\n",
       "25%          2.520000\n",
       "50%          2.650000\n",
       "75%          2.800000\n",
       "max        100.000000\n",
       "Name: ceiling_height, dtype: float64"
      ]
     },
     "execution_count": 28,
     "metadata": {},
     "output_type": "execute_result"
    }
   ],
   "source": [
    "data['ceiling_height'].describe()"
   ]
  },
  {
   "cell_type": "markdown",
   "metadata": {},
   "source": [
    "Явно присутствуют некорректные значения."
   ]
  },
  {
   "cell_type": "code",
   "execution_count": 29,
   "metadata": {},
   "outputs": [
    {
     "data": {
      "image/png": "[encoded data removed]",
      "text/plain": [
       "<Figure size 432x288 with 1 Axes>"
      ]
     },
     "metadata": {
      "needs_background": "light"
     },
     "output_type": "display_data"
    }
   ],
   "source": [
    "data['ceiling_height'] = data['ceiling_height'].fillna(0)\n",
    "plt.ylim(-5,40)\n",
    "plt.boxplot(data['ceiling_height'])\n",
    "plt.show()"
   ]
  },
  {
   "cell_type": "markdown",
   "metadata": {},
   "source": [
    "Значения больше 6 являются выбросами."
   ]
  },
  {
   "cell_type": "code",
   "execution_count": 30,
   "metadata": {},
   "outputs": [
    {
     "data": {
      "text/plain": [
       "29"
      ]
     },
     "execution_count": 30,
     "metadata": {},
     "output_type": "execute_result"
    }
   ],
   "source": [
    "data[data['ceiling_height'] > 6]['ceiling_height'].count()"
   ]
  },
  {
   "cell_type": "code",
   "execution_count": 31,
   "metadata": {},
   "outputs": [
    {
     "data": {
      "text/plain": [
       "3"
      ]
     },
     "execution_count": 31,
     "metadata": {},
     "output_type": "execute_result"
    }
   ],
   "source": [
    "data[(data['ceiling_height'] < 2) & (data['ceiling_height'] != 0)]['ceiling_height'].count()"
   ]
  },
  {
   "cell_type": "markdown",
   "metadata": {},
   "source": [
    "Их удаление не повляет на рзультаты."
   ]
  },
  {
   "cell_type": "code",
   "execution_count": 32,
   "metadata": {},
   "outputs": [],
   "source": [
    "data = data.query('(ceiling_height < 6) & (ceiling_height > 2 | ceiling_height == 0)')"
   ]
  },
  {
   "cell_type": "code",
   "execution_count": 33,
   "metadata": {},
   "outputs": [
    {
     "data": {
      "text/plain": [
       "0"
      ]
     },
     "execution_count": 33,
     "metadata": {},
     "output_type": "execute_result"
    }
   ],
   "source": [
    "data[data['ceiling_height'] > 6]['ceiling_height'].count()"
   ]
  },
  {
   "cell_type": "code",
   "execution_count": 34,
   "metadata": {},
   "outputs": [
    {
     "data": {
      "text/plain": [
       "0"
      ]
     },
     "execution_count": 34,
     "metadata": {},
     "output_type": "execute_result"
    }
   ],
   "source": [
    "data[(data['ceiling_height'] < 2) & (data['ceiling_height'] != 0)]['ceiling_height'].count()"
   ]
  },
  {
   "cell_type": "markdown",
   "metadata": {},
   "source": [
    "Проверим изменения"
   ]
  },
  {
   "cell_type": "code",
   "execution_count": 35,
   "metadata": {},
   "outputs": [
    {
     "data": {
      "text/plain": [
       "count    23655.000000\n",
       "mean         1.667054\n",
       "std          1.346880\n",
       "min          0.000000\n",
       "25%          0.000000\n",
       "50%          2.500000\n",
       "75%          2.700000\n",
       "max          5.800000\n",
       "Name: ceiling_height, dtype: float64"
      ]
     },
     "execution_count": 35,
     "metadata": {},
     "output_type": "execute_result"
    }
   ],
   "source": [
    "data['ceiling_height'].describe()"
   ]
  },
  {
   "cell_type": "markdown",
   "metadata": {},
   "source": [
    "Посмотрим на данные об общей площади"
   ]
  },
  {
   "cell_type": "code",
   "execution_count": 36,
   "metadata": {},
   "outputs": [
    {
     "data": {
      "text/plain": [
       "count    23655.000000\n",
       "mean        60.360987\n",
       "std         35.666877\n",
       "min         12.000000\n",
       "25%         40.000000\n",
       "50%         52.000000\n",
       "75%         69.950000\n",
       "max        900.000000\n",
       "Name: total_area, dtype: float64"
      ]
     },
     "execution_count": 36,
     "metadata": {},
     "output_type": "execute_result"
    }
   ],
   "source": [
    "data['total_area'].describe()"
   ]
  },
  {
   "cell_type": "markdown",
   "metadata": {},
   "source": [
    "Напишем функцию разделющие недвижимость на категории исхоя из их площади. А так же создадим отдельную таблицу для расчета медианных значений."
   ]
  },
  {
   "cell_type": "code",
   "execution_count": 37,
   "metadata": {},
   "outputs": [
    {
     "data": {
      "text/html": [
       "<div>\n",
       "<style scoped>\n",
       "    .dataframe tbody tr th:only-of-type {\n",
       "        vertical-align: middle;\n",
       "    }\n",
       "\n",
       "    .dataframe tbody tr th {\n",
       "        vertical-align: top;\n",
       "    }\n",
       "\n",
       "    .dataframe thead th {\n",
       "        text-align: right;\n",
       "    }\n",
       "</style>\n",
       "<table border=\"1\" class=\"dataframe\">\n",
       "  <thead>\n",
       "    <tr style=\"text-align: right;\">\n",
       "      <th></th>\n",
       "      <th>median</th>\n",
       "      <th>mean</th>\n",
       "    </tr>\n",
       "    <tr>\n",
       "      <th>type</th>\n",
       "      <th></th>\n",
       "      <th></th>\n",
       "    </tr>\n",
       "  </thead>\n",
       "  <tbody>\n",
       "    <tr>\n",
       "      <td>Большая</td>\n",
       "      <td>2.6</td>\n",
       "      <td>1.846948</td>\n",
       "    </tr>\n",
       "    <tr>\n",
       "      <td>Больше среднего</td>\n",
       "      <td>2.5</td>\n",
       "      <td>1.637791</td>\n",
       "    </tr>\n",
       "    <tr>\n",
       "      <td>Маленькая</td>\n",
       "      <td>2.5</td>\n",
       "      <td>1.483930</td>\n",
       "    </tr>\n",
       "    <tr>\n",
       "      <td>Меньше среднего</td>\n",
       "      <td>2.5</td>\n",
       "      <td>1.459361</td>\n",
       "    </tr>\n",
       "    <tr>\n",
       "      <td>Средняя</td>\n",
       "      <td>2.5</td>\n",
       "      <td>1.610812</td>\n",
       "    </tr>\n",
       "  </tbody>\n",
       "</table>\n",
       "</div>"
      ],
      "text/plain": [
       "                 median      mean\n",
       "type                             \n",
       "Большая             2.6  1.846948\n",
       "Больше среднего     2.5  1.637791\n",
       "Маленькая           2.5  1.483930\n",
       "Меньше среднего     2.5  1.459361\n",
       "Средняя             2.5  1.610812"
      ]
     },
     "execution_count": 37,
     "metadata": {},
     "output_type": "execute_result"
    }
   ],
   "source": [
    "def area_type(area_value):\n",
    "    if (area_value < 40):\n",
    "        return 'Маленькая'\n",
    "    if (area_value <= 40) and (area_value < 52):\n",
    "        return 'Меньше среднего'\n",
    "    if (area_value <= 52) and (area_value < 60):\n",
    "        return 'Средняя'\n",
    "    if (area_value <= 60) and (area_value < 70):\n",
    "        return 'Больше среднего'\n",
    "    return 'Большая'\n",
    "\n",
    "area= pd.DataFrame(data['total_area'])\n",
    "area['type'] = area['total_area'].apply(area_type)\n",
    "area['ceiling_height'] = data['ceiling_height']\n",
    "area_pivot_ceiling = area.pivot_table(index='type',\n",
    "                                      values='ceiling_height',\n",
    "                                      aggfunc=['median','mean'])\n",
    "area_pivot_ceiling.columns = ['median','mean']\n",
    "area_pivot_ceiling"
   ]
  },
  {
   "cell_type": "markdown",
   "metadata": {},
   "source": [
    "Нулевые значения сильно влияют на среднее поэтому возьмём медиану и присвоим её значение исходя из группы."
   ]
  },
  {
   "cell_type": "code",
   "execution_count": 38,
   "metadata": {},
   "outputs": [
    {
     "data": {
      "text/plain": [
       "0"
      ]
     },
     "execution_count": 38,
     "metadata": {},
     "output_type": "execute_result"
    }
   ],
   "source": [
    "area.loc[(area['ceiling_height'] == 0) & (area['type'] == 'Большая'), 'ceiling_height'] = 2.6\n",
    "area.loc[area['ceiling_height'] == 0, 'ceiling_height'] = 2.6\n",
    "area.loc[area['ceiling_height'] == 0]['ceiling_height'].count()"
   ]
  },
  {
   "cell_type": "markdown",
   "metadata": {},
   "source": [
    "Заменим значение столбца в data на аналогичный в area но с уже убранными пропусками."
   ]
  },
  {
   "cell_type": "code",
   "execution_count": 39,
   "metadata": {},
   "outputs": [
    {
     "name": "stderr",
     "output_type": "stream",
     "text": [
      "/opt/conda/lib/python3.7/site-packages/ipykernel_launcher.py:1: SettingWithCopyWarning: \n",
      "A value is trying to be set on a copy of a slice from a DataFrame.\n",
      "Try using .loc[row_indexer,col_indexer] = value instead\n",
      "\n",
      "See the caveats in the documentation: http://pandas.pydata.org/pandas-docs/stable/user_guide/indexing.html#returning-a-view-versus-a-copy\n",
      "  \"\"\"Entry point for launching an IPython kernel.\n"
     ]
    }
   ],
   "source": [
    "data['ceiling_height'] = area['ceiling_height']"
   ]
  },
  {
   "cell_type": "markdown",
   "metadata": {},
   "source": [
    "Узнаем количество пропусков в столбце floors_total"
   ]
  },
  {
   "cell_type": "code",
   "execution_count": 40,
   "metadata": {},
   "outputs": [
    {
     "data": {
      "text/plain": [
       "86"
      ]
     },
     "execution_count": 40,
     "metadata": {},
     "output_type": "execute_result"
    }
   ],
   "source": [
    "data['floors_total'].isna().sum()"
   ]
  },
  {
   "cell_type": "markdown",
   "metadata": {},
   "source": [
    "Для этих пропусков нет подходяшей замены и их количество слишком мало что бы повлиять на данные. Удалим их."
   ]
  },
  {
   "cell_type": "code",
   "execution_count": 41,
   "metadata": {},
   "outputs": [],
   "source": [
    "data = data.dropna(subset=['floors_total'])"
   ]
  },
  {
   "cell_type": "code",
   "execution_count": 42,
   "metadata": {},
   "outputs": [
    {
     "data": {
      "text/plain": [
       "1868"
      ]
     },
     "execution_count": 42,
     "metadata": {},
     "output_type": "execute_result"
    }
   ],
   "source": [
    "data['living_area'].isna().sum()"
   ]
  },
  {
   "cell_type": "code",
   "execution_count": 43,
   "metadata": {},
   "outputs": [
    {
     "data": {
      "text/plain": [
       "2223"
      ]
     },
     "execution_count": 43,
     "metadata": {},
     "output_type": "execute_result"
    }
   ],
   "source": [
    "data['kitchen_area'].isna().sum()"
   ]
  },
  {
   "cell_type": "markdown",
   "metadata": {},
   "source": [
    "Заменим пропуски в столбце living_area и kitchen_area. Добавим в таблицу area данные о жилой площади и кухни."
   ]
  },
  {
   "cell_type": "code",
   "execution_count": 44,
   "metadata": {},
   "outputs": [],
   "source": [
    "area['kitchen_area'] = data['kitchen_area']\n",
    "area['living_area'] = data['living_area']"
   ]
  },
  {
   "cell_type": "markdown",
   "metadata": {},
   "source": [
    "Расчитаем соотношение жилой площади и кухни к общей."
   ]
  },
  {
   "cell_type": "code",
   "execution_count": 45,
   "metadata": {},
   "outputs": [
    {
     "name": "stdout",
     "output_type": "stream",
     "text": [
      "<class 'pandas.core.frame.DataFrame'>\n",
      "Int64Index: 23655 entries, 0 to 23698\n",
      "Data columns (total 7 columns):\n",
      "total_area        23655 non-null float64\n",
      "type              23655 non-null object\n",
      "ceiling_height    23655 non-null float64\n",
      "kitchen_area      21346 non-null float64\n",
      "living_area       21701 non-null float64\n",
      "kitchen_ratio     21346 non-null float64\n",
      "living_ratio      21701 non-null float64\n",
      "dtypes: float64(6), object(1)\n",
      "memory usage: 1.4+ MB\n"
     ]
    }
   ],
   "source": [
    "area['kitchen_ratio'] = area['kitchen_area'] / area['total_area']\n",
    "area['living_ratio'] = area['living_area'] / area['total_area']\n",
    "area.info()"
   ]
  },
  {
   "cell_type": "markdown",
   "metadata": {},
   "source": [
    "Заменим пропуски исходя из группы."
   ]
  },
  {
   "cell_type": "code",
   "execution_count": 46,
   "metadata": {},
   "outputs": [],
   "source": [
    "def non_nan_val(data, value, cat, ratio):\n",
    "    for unique_type in data[cat].unique():\n",
    "        data.loc[(data[value].isna()) & (data[cat] == unique_type), value] =\\\n",
    "        data['total_area'] * data.loc[data[cat] == unique_type, ratio].median()\n",
    "    return data"
   ]
  },
  {
   "cell_type": "code",
   "execution_count": 47,
   "metadata": {},
   "outputs": [],
   "source": [
    "area = non_nan_val(area, 'kitchen_area', 'type', 'kitchen_ratio')\n",
    "area = non_nan_val(area, 'living_area', 'type', 'living_ratio')"
   ]
  },
  {
   "cell_type": "markdown",
   "metadata": {},
   "source": [
    "Проверим наличие пропусков в столбцах living_area и kitchen_area."
   ]
  },
  {
   "cell_type": "code",
   "execution_count": 48,
   "metadata": {},
   "outputs": [
    {
     "data": {
      "text/plain": [
       "total_area           0\n",
       "type                 0\n",
       "ceiling_height       0\n",
       "kitchen_area         0\n",
       "living_area          0\n",
       "kitchen_ratio     2309\n",
       "living_ratio      1954\n",
       "dtype: int64"
      ]
     },
     "execution_count": 48,
     "metadata": {},
     "output_type": "execute_result"
    }
   ],
   "source": [
    "area.isna().sum()"
   ]
  },
  {
   "cell_type": "code",
   "execution_count": 49,
   "metadata": {},
   "outputs": [],
   "source": [
    "data['kitchen_area'] = area['kitchen_area']\n",
    "data['living_area'] = area['living_area']"
   ]
  },
  {
   "cell_type": "markdown",
   "metadata": {},
   "source": [
    "Отсутствие значений в столбце balcony вероятнее всего указывает на их отсутствие. Заменим их на 0."
   ]
  },
  {
   "cell_type": "code",
   "execution_count": 50,
   "metadata": {},
   "outputs": [],
   "source": [
    "data['balcony'] = data['balcony'].fillna(0)"
   ]
  },
  {
   "cell_type": "markdown",
   "metadata": {},
   "source": [
    "Проспусков в столбце всего 49 удалим их так как это не повлияет на результаты"
   ]
  },
  {
   "cell_type": "code",
   "execution_count": 51,
   "metadata": {},
   "outputs": [
    {
     "data": {
      "text/plain": [
       "48"
      ]
     },
     "execution_count": 51,
     "metadata": {},
     "output_type": "execute_result"
    }
   ],
   "source": [
    "data['locality_name'].isna().sum()"
   ]
  },
  {
   "cell_type": "code",
   "execution_count": 52,
   "metadata": {},
   "outputs": [],
   "source": [
    "data = data.dropna(subset=['locality_name'])"
   ]
  },
  {
   "cell_type": "markdown",
   "metadata": {},
   "source": [
    "Оставим только названия населенных пунктов."
   ]
  },
  {
   "cell_type": "code",
   "execution_count": 53,
   "metadata": {},
   "outputs": [],
   "source": [
    "def locality(data):\n",
    "    loc_split = data.split()\n",
    "    for word in loc_split:\n",
    "        if word != word.lower():\n",
    "            return word\n",
    "        loc_join = word\n",
    "    return loc_join\n",
    "data['locality_name'] = data['locality_name'].apply(locality)"
   ]
  },
  {
   "cell_type": "code",
   "execution_count": 54,
   "metadata": {},
   "outputs": [
    {
     "data": {
      "text/plain": [
       "total_images                0\n",
       "last_price                  0\n",
       "total_area                  0\n",
       "first_day_exposition        0\n",
       "rooms                       0\n",
       "ceiling_height              0\n",
       "floors_total                0\n",
       "living_area                 0\n",
       "floor                       0\n",
       "is_apartment                0\n",
       "studio                      0\n",
       "open_plan                   0\n",
       "kitchen_area                0\n",
       "balcony                     0\n",
       "locality_name               0\n",
       "airports_nearest         5505\n",
       "cityCenters_nearest      5482\n",
       "parks_around3000         5481\n",
       "parks_nearest           15504\n",
       "ponds_around3000         5481\n",
       "ponds_nearest           14499\n",
       "days_exposition          3162\n",
       "dtype: int64"
      ]
     },
     "execution_count": 54,
     "metadata": {},
     "output_type": "execute_result"
    }
   ],
   "source": [
    "data.isna().sum()"
   ]
  },
  {
   "cell_type": "markdown",
   "metadata": {},
   "source": [
    "Узнаем сколько пропусков мы сможем заменить исходя из населенного пункта."
   ]
  },
  {
   "cell_type": "code",
   "execution_count": 55,
   "metadata": {},
   "outputs": [
    {
     "data": {
      "text/plain": [
       "25"
      ]
     },
     "execution_count": 55,
     "metadata": {},
     "output_type": "execute_result"
    }
   ],
   "source": [
    "air_gr = data.groupby('locality_name', as_index=False)[['airports_nearest']].median()\n",
    "air_gr = air_gr.dropna()\n",
    "len(air_gr)"
   ]
  },
  {
   "cell_type": "code",
   "execution_count": 56,
   "metadata": {},
   "outputs": [
    {
     "data": {
      "text/plain": [
       "25"
      ]
     },
     "execution_count": 56,
     "metadata": {},
     "output_type": "execute_result"
    }
   ],
   "source": [
    "cent_gr = data.groupby('locality_name', as_index=False)[['cityCenters_nearest']].median()\n",
    "cent_gr = cent_gr.dropna()\n",
    "len(cent_gr)"
   ]
  },
  {
   "cell_type": "markdown",
   "metadata": {},
   "source": [
    "Проверим одни и те же это насеселенные пункты или нет."
   ]
  },
  {
   "cell_type": "code",
   "execution_count": 57,
   "metadata": {},
   "outputs": [
    {
     "name": "stdout",
     "output_type": "stream",
     "text": [
      "1\n"
     ]
    }
   ],
   "source": [
    "total = 0\n",
    "for i in air_gr['locality_name']:\n",
    "    for y in cent_gr['locality_name']:\n",
    "        if i == y:\n",
    "            total += 1\n",
    "if total == len(air_gr):\n",
    "    print(1)"
   ]
  },
  {
   "cell_type": "markdown",
   "metadata": {},
   "source": [
    "Есть данные о близости до аэропорта и центра в всего в 27 населенных пунктах, к сожалению они не позволят нам заменить все пропуски."
   ]
  },
  {
   "cell_type": "code",
   "execution_count": 58,
   "metadata": {},
   "outputs": [],
   "source": [
    "def nearest(data, nan_val):\n",
    "    for loc_name in data['locality_name'].unique():\n",
    "        data.loc[(data[nan_val].isna()) & (data['locality_name'] == loc_name), nan_val] =\\\n",
    "        data.loc[data['locality_name'] == loc_name, nan_val].median()\n",
    "    return data"
   ]
  },
  {
   "cell_type": "code",
   "execution_count": 59,
   "metadata": {},
   "outputs": [
    {
     "name": "stderr",
     "output_type": "stream",
     "text": [
      "/opt/conda/lib/python3.7/site-packages/numpy/lib/nanfunctions.py:1111: RuntimeWarning: Mean of empty slice\n",
      "  return np.nanmean(a, axis, out=out, keepdims=keepdims)\n"
     ]
    }
   ],
   "source": [
    "data = nearest(data, 'airports_nearest')"
   ]
  },
  {
   "cell_type": "code",
   "execution_count": 60,
   "metadata": {},
   "outputs": [],
   "source": [
    "data = nearest(data, 'cityCenters_nearest')"
   ]
  },
  {
   "cell_type": "markdown",
   "metadata": {},
   "source": [
    "Данные о парках и водоёмах не играют роли в этом проекте их заменять не будем. А для столбца нет подходящей замены поэтому просто заменим пропуски на медиану."
   ]
  },
  {
   "cell_type": "code",
   "execution_count": 61,
   "metadata": {},
   "outputs": [],
   "source": [
    "data.loc[data['days_exposition'].isna(), 'days_exposition'] = data['days_exposition'].median()\n"
   ]
  },
  {
   "cell_type": "markdown",
   "metadata": {},
   "source": [
    "Изменим тип данных"
   ]
  },
  {
   "cell_type": "code",
   "execution_count": 62,
   "metadata": {},
   "outputs": [],
   "source": [
    "data['balcony'] = data['balcony'].astype(int)"
   ]
  },
  {
   "cell_type": "markdown",
   "metadata": {},
   "source": [
    "## Расчёты и добавление результатов в таблицу"
   ]
  },
  {
   "cell_type": "markdown",
   "metadata": {},
   "source": [
    "Расчитаем цену квадратного метра"
   ]
  },
  {
   "cell_type": "code",
   "execution_count": 63,
   "metadata": {},
   "outputs": [],
   "source": [
    "data['price_per_meter'] = data['last_price'] / data['total_area']"
   ]
  },
  {
   "cell_type": "markdown",
   "metadata": {},
   "source": [
    "Узнаем день недели, месяц, год публикации и создадим столбцы с ними."
   ]
  },
  {
   "cell_type": "code",
   "execution_count": 64,
   "metadata": {},
   "outputs": [],
   "source": [
    "data['weekday_exposition'] = data['first_day_exposition'].dt.weekday\n",
    "def weekday(day):\n",
    "    if day == 0 :\n",
    "        return 'Понедельник'\n",
    "    if day == 1 :\n",
    "        return 'Вторник'\n",
    "    if day == 2 :\n",
    "        return 'Среда'\n",
    "    if day == 3 :\n",
    "        return 'Четверг'\n",
    "    if day == 4 :\n",
    "        return 'Пятница'\n",
    "    if day == 5 :\n",
    "        return 'Суббота'\n",
    "    return 'Воскресенье'\n",
    "data['weekday_exposition'] = data['weekday_exposition'].apply(weekday)"
   ]
  },
  {
   "cell_type": "code",
   "execution_count": 65,
   "metadata": {},
   "outputs": [],
   "source": [
    "data['year_exposition'] = data['first_day_exposition'].dt.year\n",
    "data['month_exposition'] = data['first_day_exposition'].dt.month"
   ]
  },
  {
   "cell_type": "markdown",
   "metadata": {},
   "source": [
    "Создадим столбец с названиями этажей"
   ]
  },
  {
   "cell_type": "code",
   "execution_count": 66,
   "metadata": {},
   "outputs": [],
   "source": [
    "def floor_name(floor, total):\n",
    "    if floor == 1:\n",
    "        return 'Первый'\n",
    "    if floor == total:\n",
    "        return 'Последний'\n",
    "    return 'Другой'\n",
    "data['floor_name'] = data.apply(lambda row: floor_name(row['floor'], row['floors_total']), axis=1)"
   ]
  },
  {
   "cell_type": "markdown",
   "metadata": {},
   "source": [
    "Добавим к data столбцы с соотношением жилой площади и кухни к общей. "
   ]
  },
  {
   "cell_type": "code",
   "execution_count": 67,
   "metadata": {},
   "outputs": [],
   "source": [
    "data['living_ratio'] = data['living_area'] / data['total_area']\n",
    "data['kitchen_ratio'] = data['kitchen_area'] / data['total_area']"
   ]
  },
  {
   "cell_type": "markdown",
   "metadata": {},
   "source": [
    "Проверим наличие дубликатов."
   ]
  },
  {
   "cell_type": "code",
   "execution_count": 68,
   "metadata": {},
   "outputs": [
    {
     "data": {
      "text/plain": [
       "0"
      ]
     },
     "execution_count": 68,
     "metadata": {},
     "output_type": "execute_result"
    }
   ],
   "source": [
    "data.duplicated().sum()"
   ]
  },
  {
   "cell_type": "code",
   "execution_count": 69,
   "metadata": {},
   "outputs": [
    {
     "name": "stdout",
     "output_type": "stream",
     "text": [
      "<class 'pandas.core.frame.DataFrame'>\n",
      "Int64Index: 23521 entries, 0 to 23698\n",
      "Data columns (total 29 columns):\n",
      "total_images            23521 non-null int64\n",
      "last_price              23521 non-null float64\n",
      "total_area              23521 non-null float64\n",
      "first_day_exposition    23521 non-null datetime64[ns]\n",
      "rooms                   23521 non-null int64\n",
      "ceiling_height          23521 non-null float64\n",
      "floors_total            23521 non-null float64\n",
      "living_area             23521 non-null float64\n",
      "floor                   23521 non-null int64\n",
      "is_apartment            23521 non-null int64\n",
      "studio                  23521 non-null bool\n",
      "open_plan               23521 non-null bool\n",
      "kitchen_area            23521 non-null float64\n",
      "balcony                 23521 non-null int64\n",
      "locality_name           23521 non-null object\n",
      "airports_nearest        18108 non-null float64\n",
      "cityCenters_nearest     18108 non-null float64\n",
      "parks_around3000        18040 non-null float64\n",
      "parks_nearest           8017 non-null float64\n",
      "ponds_around3000        18040 non-null float64\n",
      "ponds_nearest           9022 non-null float64\n",
      "days_exposition         23521 non-null float64\n",
      "price_per_meter         23521 non-null float64\n",
      "weekday_exposition      23521 non-null object\n",
      "year_exposition         23521 non-null int64\n",
      "month_exposition        23521 non-null int64\n",
      "floor_name              23521 non-null object\n",
      "living_ratio            23521 non-null float64\n",
      "kitchen_ratio           23521 non-null float64\n",
      "dtypes: bool(2), datetime64[ns](1), float64(16), int64(7), object(3)\n",
      "memory usage: 5.1+ MB\n"
     ]
    }
   ],
   "source": [
    "data.info()"
   ]
  },
  {
   "cell_type": "markdown",
   "metadata": {},
   "source": [
    "## Исследовательский анализ данных"
   ]
  },
  {
   "cell_type": "markdown",
   "metadata": {},
   "source": [
    "Посмотрим на данный о цене, площади , количестве комнат и высоте потолков. А так же переведём цены в доллары а большего понимания цен на международном рынке."
   ]
  },
  {
   "cell_type": "code",
   "execution_count": 54,
   "metadata": {},
   "outputs": [],
   "source": [
    "data['last_price']= data['last_price'] * 0.014\n",
    "data['price_per_meter'] = data['price_per_meter'] * 0.014"
   ]
  },
  {
   "cell_type": "code",
   "execution_count": 55,
   "metadata": {},
   "outputs": [
    {
     "data": {
      "text/html": [
       "<div>\n",
       "<style scoped>\n",
       "    .dataframe tbody tr th:only-of-type {\n",
       "        vertical-align: middle;\n",
       "    }\n",
       "\n",
       "    .dataframe tbody tr th {\n",
       "        vertical-align: top;\n",
       "    }\n",
       "\n",
       "    .dataframe thead th {\n",
       "        text-align: right;\n",
       "    }\n",
       "</style>\n",
       "<table border=\"1\" class=\"dataframe\">\n",
       "  <thead>\n",
       "    <tr style=\"text-align: right;\">\n",
       "      <th></th>\n",
       "      <th>total_area</th>\n",
       "      <th>last_price</th>\n",
       "      <th>rooms</th>\n",
       "      <th>ceiling_height</th>\n",
       "    </tr>\n",
       "  </thead>\n",
       "  <tbody>\n",
       "    <tr>\n",
       "      <td>count</td>\n",
       "      <td>23521.000000</td>\n",
       "      <td>23521.0</td>\n",
       "      <td>23521.000000</td>\n",
       "      <td>23521.00000</td>\n",
       "    </tr>\n",
       "    <tr>\n",
       "      <td>mean</td>\n",
       "      <td>60.335182</td>\n",
       "      <td>91549.0</td>\n",
       "      <td>2.071043</td>\n",
       "      <td>2.67785</td>\n",
       "    </tr>\n",
       "    <tr>\n",
       "      <td>std</td>\n",
       "      <td>35.669940</td>\n",
       "      <td>152536.0</td>\n",
       "      <td>1.078869</td>\n",
       "      <td>0.22533</td>\n",
       "    </tr>\n",
       "    <tr>\n",
       "      <td>min</td>\n",
       "      <td>12.000000</td>\n",
       "      <td>171.0</td>\n",
       "      <td>0.000000</td>\n",
       "      <td>2.20000</td>\n",
       "    </tr>\n",
       "    <tr>\n",
       "      <td>25%</td>\n",
       "      <td>40.000000</td>\n",
       "      <td>47670.0</td>\n",
       "      <td>1.000000</td>\n",
       "      <td>2.60000</td>\n",
       "    </tr>\n",
       "    <tr>\n",
       "      <td>50%</td>\n",
       "      <td>52.000000</td>\n",
       "      <td>65100.0</td>\n",
       "      <td>2.000000</td>\n",
       "      <td>2.60000</td>\n",
       "    </tr>\n",
       "    <tr>\n",
       "      <td>75%</td>\n",
       "      <td>69.700000</td>\n",
       "      <td>95186.0</td>\n",
       "      <td>3.000000</td>\n",
       "      <td>2.70000</td>\n",
       "    </tr>\n",
       "    <tr>\n",
       "      <td>max</td>\n",
       "      <td>900.000000</td>\n",
       "      <td>10682000.0</td>\n",
       "      <td>19.000000</td>\n",
       "      <td>5.80000</td>\n",
       "    </tr>\n",
       "  </tbody>\n",
       "</table>\n",
       "</div>"
      ],
      "text/plain": [
       "         total_area  last_price         rooms  ceiling_height\n",
       "count  23521.000000     23521.0  23521.000000     23521.00000\n",
       "mean      60.335182     91549.0      2.071043         2.67785\n",
       "std       35.669940    152536.0      1.078869         0.22533\n",
       "min       12.000000       171.0      0.000000         2.20000\n",
       "25%       40.000000     47670.0      1.000000         2.60000\n",
       "50%       52.000000     65100.0      2.000000         2.60000\n",
       "75%       69.700000     95186.0      3.000000         2.70000\n",
       "max      900.000000  10682000.0     19.000000         5.80000"
      ]
     },
     "execution_count": 55,
     "metadata": {},
     "output_type": "execute_result"
    }
   ],
   "source": [
    "describe = data.loc[:,['total_area','last_price','rooms','ceiling_height']].describe()\n",
    "describe['last_price'] = describe['last_price'].round()\n",
    "describe"
   ]
  },
  {
   "cell_type": "markdown",
   "metadata": {},
   "source": [
    "### Площадь"
   ]
  },
  {
   "cell_type": "code",
   "execution_count": 56,
   "metadata": {},
   "outputs": [
    {
     "data": {
      "image/png": "[encoded data removed]",
      "text/plain": [
       "<Figure size 432x288 with 1 Axes>"
      ]
     },
     "metadata": {
      "needs_background": "light"
     },
     "output_type": "display_data"
    },
    {
     "data": {
      "text/plain": [
       "<function matplotlib.pyplot.show(*args, **kw)>"
      ]
     },
     "execution_count": 56,
     "metadata": {},
     "output_type": "execute_result"
    },
    {
     "data": {
      "image/png": "[encoded data removed]",
      "text/plain": [
       "<Figure size 432x288 with 1 Axes>"
      ]
     },
     "metadata": {
      "needs_background": "light"
     },
     "output_type": "display_data"
    }
   ],
   "source": [
    "plt.boxplot(data['total_area'],)\n",
    "plt.ylim(0,1000)\n",
    "plt.show()\n",
    "\n",
    "plt.hist(data['total_area'], bins=100, range=(0,200))\n",
    "plt.show"
   ]
  },
  {
   "cell_type": "code",
   "execution_count": 57,
   "metadata": {},
   "outputs": [
    {
     "data": {
      "text/html": [
       "<div>\n",
       "<style scoped>\n",
       "    .dataframe tbody tr th:only-of-type {\n",
       "        vertical-align: middle;\n",
       "    }\n",
       "\n",
       "    .dataframe tbody tr th {\n",
       "        vertical-align: top;\n",
       "    }\n",
       "\n",
       "    .dataframe thead th {\n",
       "        text-align: right;\n",
       "    }\n",
       "</style>\n",
       "<table border=\"1\" class=\"dataframe\">\n",
       "  <thead>\n",
       "    <tr style=\"text-align: right;\">\n",
       "      <th></th>\n",
       "      <th>total_area</th>\n",
       "    </tr>\n",
       "  </thead>\n",
       "  <tbody>\n",
       "    <tr>\n",
       "      <td>count</td>\n",
       "      <td>22431.000000</td>\n",
       "    </tr>\n",
       "    <tr>\n",
       "      <td>mean</td>\n",
       "      <td>54.738632</td>\n",
       "    </tr>\n",
       "    <tr>\n",
       "      <td>std</td>\n",
       "      <td>19.920525</td>\n",
       "    </tr>\n",
       "    <tr>\n",
       "      <td>min</td>\n",
       "      <td>12.000000</td>\n",
       "    </tr>\n",
       "    <tr>\n",
       "      <td>25%</td>\n",
       "      <td>39.500000</td>\n",
       "    </tr>\n",
       "    <tr>\n",
       "      <td>50%</td>\n",
       "      <td>50.400000</td>\n",
       "    </tr>\n",
       "    <tr>\n",
       "      <td>75%</td>\n",
       "      <td>66.000000</td>\n",
       "    </tr>\n",
       "    <tr>\n",
       "      <td>max</td>\n",
       "      <td>119.800000</td>\n",
       "    </tr>\n",
       "  </tbody>\n",
       "</table>\n",
       "</div>"
      ],
      "text/plain": [
       "         total_area\n",
       "count  22431.000000\n",
       "mean      54.738632\n",
       "std       19.920525\n",
       "min       12.000000\n",
       "25%       39.500000\n",
       "50%       50.400000\n",
       "75%       66.000000\n",
       "max      119.800000"
      ]
     },
     "execution_count": 57,
     "metadata": {},
     "output_type": "execute_result"
    }
   ],
   "source": [
    "data[['total_area']].query('total_area < 120').describe()"
   ]
  },
  {
   "cell_type": "markdown",
   "metadata": {},
   "source": [
    "Значения больше 115 можно считать выбросами но они вполне возможны. Так что стелаем отсечку на 200 и 20."
   ]
  },
  {
   "cell_type": "code",
   "execution_count": 58,
   "metadata": {},
   "outputs": [],
   "source": [
    "data = data.query('(total_area > 20) & (total_area < 200)')"
   ]
  },
  {
   "cell_type": "markdown",
   "metadata": {},
   "source": [
    "###  Цена"
   ]
  },
  {
   "cell_type": "code",
   "execution_count": 59,
   "metadata": {},
   "outputs": [
    {
     "data": {
      "text/plain": [
       "<function matplotlib.pyplot.show(*args, **kw)>"
      ]
     },
     "execution_count": 59,
     "metadata": {},
     "output_type": "execute_result"
    },
    {
     "data": {
      "image/png": "[encoded data removed]",
      "text/plain": [
       "<Figure size 432x288 with 1 Axes>"
      ]
     },
     "metadata": {
      "needs_background": "light"
     },
     "output_type": "display_data"
    }
   ],
   "source": [
    "plt.hist(data['last_price'], bins=100, range=(0,500000))\n",
    "plt.show"
   ]
  },
  {
   "cell_type": "markdown",
   "metadata": {},
   "source": [
    " Очень большое стандартное отклонение по цене, посмотрим на график."
   ]
  },
  {
   "cell_type": "code",
   "execution_count": 60,
   "metadata": {},
   "outputs": [
    {
     "data": {
      "image/png": "[encoded data removed]",
      "text/plain": [
       "<Figure size 432x288 with 1 Axes>"
      ]
     },
     "metadata": {
      "needs_background": "light"
     },
     "output_type": "display_data"
    }
   ],
   "source": [
    "plt.boxplot(data['last_price'])\n",
    "plt.show()"
   ]
  },
  {
   "cell_type": "code",
   "execution_count": 61,
   "metadata": {},
   "outputs": [
    {
     "data": {
      "image/png": "[encoded data removed]",
      "text/plain": [
       "<Figure size 432x288 with 1 Axes>"
      ]
     },
     "metadata": {
      "needs_background": "light"
     },
     "output_type": "display_data"
    }
   ],
   "source": [
    "plt.boxplot(data['last_price'])\n",
    "plt.ylim(-10000,500000)\n",
    "plt.show()"
   ]
  },
  {
   "cell_type": "code",
   "execution_count": 62,
   "metadata": {},
   "outputs": [
    {
     "data": {
      "text/plain": [
       "locality_name\n",
       "Бокситогорск       8610.000000\n",
       "Бор                7000.000000\n",
       "Будогощь           6300.000000\n",
       "Вахнова            6300.000000\n",
       "Вещево             8400.000000\n",
       "Выборг             9030.000000\n",
       "Выскатка           8190.000000\n",
       "Гаврилово          9100.000000\n",
       "Глажево            9800.000000\n",
       "Коркино            9100.000000\n",
       "Луга               7700.000000\n",
       "Никольский         8400.000000\n",
       "Пикалёво           8656.666667\n",
       "Санкт-Петербург     170.660000\n",
       "Свирь              6020.000000\n",
       "Серебрянский       8190.000000\n",
       "Сланцы             8517.894737\n",
       "Совхозный          7245.000000\n",
       "Старополье         6440.000000\n",
       "Фалилеево          9100.000000\n",
       "Цвылёво            9100.000000\n",
       "Чудской            7000.000000\n",
       "Ям-Тесово          6300.000000\n",
       "Name: last_price, dtype: float64"
      ]
     },
     "execution_count": 62,
     "metadata": {},
     "output_type": "execute_result"
    }
   ],
   "source": [
    "data.query('last_price < 10000').groupby('locality_name')['last_price'].mean()"
   ]
  },
  {
   "cell_type": "markdown",
   "metadata": {},
   "source": [
    "Удалим зачения меньше тысячи."
   ]
  },
  {
   "cell_type": "code",
   "execution_count": 63,
   "metadata": {},
   "outputs": [],
   "source": [
    "data = data.query('last_price > 1000')"
   ]
  },
  {
   "cell_type": "code",
   "execution_count": 64,
   "metadata": {},
   "outputs": [
    {
     "data": {
      "text/plain": [
       "1684"
      ]
     },
     "execution_count": 64,
     "metadata": {},
     "output_type": "execute_result"
    }
   ],
   "source": [
    "len(data.query('last_price > 170000'))"
   ]
  },
  {
   "cell_type": "code",
   "execution_count": 65,
   "metadata": {},
   "outputs": [
    {
     "data": {
      "text/html": [
       "<div>\n",
       "<style scoped>\n",
       "    .dataframe tbody tr th:only-of-type {\n",
       "        vertical-align: middle;\n",
       "    }\n",
       "\n",
       "    .dataframe tbody tr th {\n",
       "        vertical-align: top;\n",
       "    }\n",
       "\n",
       "    .dataframe thead th {\n",
       "        text-align: right;\n",
       "    }\n",
       "</style>\n",
       "<table border=\"1\" class=\"dataframe\">\n",
       "  <thead>\n",
       "    <tr style=\"text-align: right;\">\n",
       "      <th></th>\n",
       "      <th>last_price</th>\n",
       "    </tr>\n",
       "  </thead>\n",
       "  <tbody>\n",
       "    <tr>\n",
       "      <td>count</td>\n",
       "      <td>21571.000000</td>\n",
       "    </tr>\n",
       "    <tr>\n",
       "      <td>mean</td>\n",
       "      <td>68412.343867</td>\n",
       "    </tr>\n",
       "    <tr>\n",
       "      <td>std</td>\n",
       "      <td>31861.647461</td>\n",
       "    </tr>\n",
       "    <tr>\n",
       "      <td>min</td>\n",
       "      <td>6020.000000</td>\n",
       "    </tr>\n",
       "    <tr>\n",
       "      <td>25%</td>\n",
       "      <td>46284.665000</td>\n",
       "    </tr>\n",
       "    <tr>\n",
       "      <td>50%</td>\n",
       "      <td>62300.000000</td>\n",
       "    </tr>\n",
       "    <tr>\n",
       "      <td>75%</td>\n",
       "      <td>84000.000000</td>\n",
       "    </tr>\n",
       "    <tr>\n",
       "      <td>max</td>\n",
       "      <td>169400.000000</td>\n",
       "    </tr>\n",
       "  </tbody>\n",
       "</table>\n",
       "</div>"
      ],
      "text/plain": [
       "          last_price\n",
       "count   21571.000000\n",
       "mean    68412.343867\n",
       "std     31861.647461\n",
       "min      6020.000000\n",
       "25%     46284.665000\n",
       "50%     62300.000000\n",
       "75%     84000.000000\n",
       "max    169400.000000"
      ]
     },
     "execution_count": 65,
     "metadata": {},
     "output_type": "execute_result"
    }
   ],
   "source": [
    "data[['last_price']].query('last_price < 170000').describe()\n"
   ]
  },
  {
   "cell_type": "markdown",
   "metadata": {},
   "source": [
    "Выбросы сильно влияют на среднее и стандартное отклонение посмотрим не связана ли цена с местоположением."
   ]
  },
  {
   "cell_type": "code",
   "execution_count": 66,
   "metadata": {},
   "outputs": [
    {
     "data": {
      "text/html": [
       "<div>\n",
       "<style scoped>\n",
       "    .dataframe tbody tr th:only-of-type {\n",
       "        vertical-align: middle;\n",
       "    }\n",
       "\n",
       "    .dataframe tbody tr th {\n",
       "        vertical-align: top;\n",
       "    }\n",
       "\n",
       "    .dataframe thead th {\n",
       "        text-align: right;\n",
       "    }\n",
       "</style>\n",
       "<table border=\"1\" class=\"dataframe\">\n",
       "  <thead>\n",
       "    <tr style=\"text-align: right;\">\n",
       "      <th></th>\n",
       "      <th>locality_name</th>\n",
       "      <th>last_price</th>\n",
       "    </tr>\n",
       "  </thead>\n",
       "  <tbody>\n",
       "    <tr>\n",
       "      <td>13</td>\n",
       "      <td>Репино</td>\n",
       "      <td>392000.000000</td>\n",
       "    </tr>\n",
       "    <tr>\n",
       "      <td>2</td>\n",
       "      <td>Всеволожск</td>\n",
       "      <td>341780.600000</td>\n",
       "    </tr>\n",
       "    <tr>\n",
       "      <td>14</td>\n",
       "      <td>Санкт-Петербург</td>\n",
       "      <td>290052.278763</td>\n",
       "    </tr>\n",
       "    <tr>\n",
       "      <td>1</td>\n",
       "      <td>Бор</td>\n",
       "      <td>284132.800000</td>\n",
       "    </tr>\n",
       "    <tr>\n",
       "      <td>5</td>\n",
       "      <td>Зеленогорск</td>\n",
       "      <td>281487.500000</td>\n",
       "    </tr>\n",
       "    <tr>\n",
       "      <td>3</td>\n",
       "      <td>Выборг</td>\n",
       "      <td>279860.000000</td>\n",
       "    </tr>\n",
       "    <tr>\n",
       "      <td>11</td>\n",
       "      <td>Петергоф</td>\n",
       "      <td>265020.000000</td>\n",
       "    </tr>\n",
       "    <tr>\n",
       "      <td>7</td>\n",
       "      <td>Кронштадт</td>\n",
       "      <td>246820.000000</td>\n",
       "    </tr>\n",
       "    <tr>\n",
       "      <td>12</td>\n",
       "      <td>Пушкин</td>\n",
       "      <td>237963.600000</td>\n",
       "    </tr>\n",
       "    <tr>\n",
       "      <td>15</td>\n",
       "      <td>Сестрорецк</td>\n",
       "      <td>219634.800000</td>\n",
       "    </tr>\n",
       "    <tr>\n",
       "      <td>10</td>\n",
       "      <td>Павловск</td>\n",
       "      <td>203000.000000</td>\n",
       "    </tr>\n",
       "    <tr>\n",
       "      <td>9</td>\n",
       "      <td>Новое</td>\n",
       "      <td>196000.000000</td>\n",
       "    </tr>\n",
       "    <tr>\n",
       "      <td>0</td>\n",
       "      <td>Александровская</td>\n",
       "      <td>191800.000000</td>\n",
       "    </tr>\n",
       "    <tr>\n",
       "      <td>4</td>\n",
       "      <td>Гатчина</td>\n",
       "      <td>186200.000000</td>\n",
       "    </tr>\n",
       "    <tr>\n",
       "      <td>16</td>\n",
       "      <td>Стрельна</td>\n",
       "      <td>181860.000000</td>\n",
       "    </tr>\n",
       "    <tr>\n",
       "      <td>8</td>\n",
       "      <td>Кудрово</td>\n",
       "      <td>180600.000000</td>\n",
       "    </tr>\n",
       "    <tr>\n",
       "      <td>6</td>\n",
       "      <td>Колпино</td>\n",
       "      <td>178500.000000</td>\n",
       "    </tr>\n",
       "  </tbody>\n",
       "</table>\n",
       "</div>"
      ],
      "text/plain": [
       "      locality_name     last_price\n",
       "13           Репино  392000.000000\n",
       "2        Всеволожск  341780.600000\n",
       "14  Санкт-Петербург  290052.278763\n",
       "1               Бор  284132.800000\n",
       "5       Зеленогорск  281487.500000\n",
       "3            Выборг  279860.000000\n",
       "11         Петергоф  265020.000000\n",
       "7         Кронштадт  246820.000000\n",
       "12           Пушкин  237963.600000\n",
       "15       Сестрорецк  219634.800000\n",
       "10         Павловск  203000.000000\n",
       "9             Новое  196000.000000\n",
       "0   Александровская  191800.000000\n",
       "4           Гатчина  186200.000000\n",
       "16         Стрельна  181860.000000\n",
       "8           Кудрово  180600.000000\n",
       "6           Колпино  178500.000000"
      ]
     },
     "execution_count": 66,
     "metadata": {},
     "output_type": "execute_result"
    }
   ],
   "source": [
    "price_gr = data.query('last_price > 170000').groupby(\n",
    "    'locality_name', as_index=False)[\n",
    "    ['last_price']].mean().sort_values('last_price', ascending=False)\n",
    "price_gr"
   ]
  },
  {
   "cell_type": "markdown",
   "metadata": {},
   "source": [
    "В данных с выбросами самые высокие цены в Репино И Санк-Петербрге."
   ]
  },
  {
   "cell_type": "code",
   "execution_count": 67,
   "metadata": {},
   "outputs": [
    {
     "data": {
      "image/png": "[encoded data removed]",
      "text/plain": [
       "<Figure size 432x288 with 1 Axes>"
      ]
     },
     "metadata": {
      "needs_background": "light"
     },
     "output_type": "display_data"
    }
   ],
   "source": [
    "plt.barh(price_gr['locality_name'], price_gr['last_price'])\n",
    "plt.show()"
   ]
  },
  {
   "cell_type": "code",
   "execution_count": 68,
   "metadata": {},
   "outputs": [
    {
     "data": {
      "image/png": "[encoded data removed]",
      "text/plain": [
       "<Figure size 432x288 with 1 Axes>"
      ]
     },
     "metadata": {
      "needs_background": "light"
     },
     "output_type": "display_data"
    }
   ],
   "source": [
    "price_gr_clear = data.query('last_price < 170000').groupby(\n",
    "    'locality_name', as_index=False)[\n",
    "    ['last_price']].mean().sort_values('last_price', ascending=False)\n",
    "\n",
    "price_gr_clear = price_gr_clear.query(\n",
    "    'locality_name in @price_gr.locality_name').sort_values(\n",
    "    'last_price',\n",
    "    ascending=False)\n",
    "plt.barh(price_gr_clear['locality_name'], price_gr_clear['last_price'])\n",
    "plt.show()"
   ]
  },
  {
   "cell_type": "markdown",
   "metadata": {},
   "source": [
    "Распределение сильно изменилось. Сравним данные с выбросами и без."
   ]
  },
  {
   "cell_type": "code",
   "execution_count": 69,
   "metadata": {},
   "outputs": [],
   "source": [
    "data_price = data.query(\n",
    "    'locality_name in @price_gr.locality_name').sort_values(\n",
    "    'last_price',\n",
    "    ascending=False)"
   ]
  },
  {
   "cell_type": "code",
   "execution_count": 70,
   "metadata": {},
   "outputs": [
    {
     "data": {
      "image/png": "[encoded data removed]",
      "text/plain": [
       "<Figure size 576x576 with 1 Axes>"
      ]
     },
     "metadata": {
      "needs_background": "light"
     },
     "output_type": "display_data"
    }
   ],
   "source": [
    "plt.subplots(figsize=(8, 8))\n",
    "bw=0.7\n",
    "plt.title('Распрелеление цен', fontsize=20)\n",
    "plt.barh(data_price['locality_name'], data_price['last_price'], bw, color='b', label='С выбросами')\n",
    "plt.barh(price_gr_clear['locality_name'] , price_gr_clear['last_price'], bw, color='c', label='Без выбросов')\n",
    "plt.legend()\n",
    "plt.show()"
   ]
  },
  {
   "cell_type": "markdown",
   "metadata": {},
   "source": [
    "Выбросы крайне сильно влияют на результаты. Но дорогие квартиры сами по себе редкость, что бы не потерять даные о них оставим значения не более 200 000."
   ]
  },
  {
   "cell_type": "code",
   "execution_count": 71,
   "metadata": {},
   "outputs": [],
   "source": [
    "data = data.query('last_price < 200000')"
   ]
  },
  {
   "cell_type": "markdown",
   "metadata": {},
   "source": [
    "### Количество комнат"
   ]
  },
  {
   "cell_type": "code",
   "execution_count": 72,
   "metadata": {},
   "outputs": [
    {
     "data": {
      "image/png": "[encoded data removed]",
      "text/plain": [
       "<Figure size 432x288 with 1 Axes>"
      ]
     },
     "metadata": {
      "needs_background": "light"
     },
     "output_type": "display_data"
    }
   ],
   "source": [
    "plt.boxplot(data['rooms'])\n",
    "plt.show()"
   ]
  },
  {
   "cell_type": "code",
   "execution_count": 73,
   "metadata": {},
   "outputs": [
    {
     "data": {
      "text/plain": [
       "5"
      ]
     },
     "execution_count": 73,
     "metadata": {},
     "output_type": "execute_result"
    }
   ],
   "source": [
    "len(data.query('rooms > 6'))"
   ]
  },
  {
   "cell_type": "code",
   "execution_count": 74,
   "metadata": {},
   "outputs": [
    {
     "data": {
      "text/plain": [
       "181"
      ]
     },
     "execution_count": 74,
     "metadata": {},
     "output_type": "execute_result"
    }
   ],
   "source": [
    "len(data.query('rooms < 1'))"
   ]
  },
  {
   "cell_type": "markdown",
   "metadata": {},
   "source": [
    "Квартиры с комнотами более 6 являются выбросами, удалим их. Так же отсутствуют данные о количестве комнат, их удаление не повлияет на результаты."
   ]
  },
  {
   "cell_type": "code",
   "execution_count": 75,
   "metadata": {},
   "outputs": [],
   "source": [
    "data = data.query('(rooms >= 1) & (rooms <= 6)')"
   ]
  },
  {
   "cell_type": "code",
   "execution_count": null,
   "metadata": {},
   "outputs": [],
   "source": []
  },
  {
   "cell_type": "markdown",
   "metadata": {},
   "source": [
    "### Время продажи квартир"
   ]
  },
  {
   "cell_type": "code",
   "execution_count": 76,
   "metadata": {},
   "outputs": [
    {
     "data": {
      "image/png": "[encoded data removed]",
      "text/plain": [
       "<Figure size 432x288 with 1 Axes>"
      ]
     },
     "metadata": {
      "needs_background": "light"
     },
     "output_type": "display_data"
    },
    {
     "data": {
      "image/png": "[encoded data removed]",
      "text/plain": [
       "<Figure size 432x288 with 1 Axes>"
      ]
     },
     "metadata": {
      "needs_background": "light"
     },
     "output_type": "display_data"
    }
   ],
   "source": [
    "plt.boxplot(data['days_exposition'])\n",
    "plt.ylim(-10,600)\n",
    "plt.show()\n",
    "\n",
    "plt.hist(data['days_exposition'], bins=100, range=(0, 800))\n",
    "plt.show()"
   ]
  },
  {
   "cell_type": "code",
   "execution_count": 77,
   "metadata": {},
   "outputs": [
    {
     "data": {
      "text/plain": [
       "count    21931.000000\n",
       "mean       166.111212\n",
       "std        202.694348\n",
       "min          1.000000\n",
       "25%         45.000000\n",
       "50%         95.000000\n",
       "75%        195.000000\n",
       "max       1580.000000\n",
       "Name: days_exposition, dtype: float64"
      ]
     },
     "execution_count": 77,
     "metadata": {},
     "output_type": "execute_result"
    }
   ],
   "source": [
    "data['days_exposition'].describe()"
   ]
  },
  {
   "cell_type": "markdown",
   "metadata": {},
   "source": [
    "Сроки продажи очень разняться. Если продажа произошла в течении 45 дней то можно считать что она прошла быстро, а если более 200 то наоборот. Большинство квартир продается в течении 100 дней, однако среднее время продажи сильно отличается. Проверим как цена влияет на время продажи. "
   ]
  },
  {
   "cell_type": "code",
   "execution_count": 78,
   "metadata": {},
   "outputs": [
    {
     "data": {
      "image/png": "[encoded data removed]",
      "text/plain": [
       "<Figure size 432x432 with 2 Axes>"
      ]
     },
     "metadata": {
      "needs_background": "light"
     },
     "output_type": "display_data"
    }
   ],
   "source": [
    "data.query('(last_price < 200000) & (days_exposition < 200)').plot(\n",
    "    x='days_exposition',\n",
    "    y='last_price',\n",
    "    kind='hexbin',\n",
    "    gridsize=30,\n",
    "    figsize=(6, 6),\n",
    "    sharex=False,\n",
    "    grid=True) \n",
    "\n",
    "plt.show()"
   ]
  },
  {
   "cell_type": "markdown",
   "metadata": {},
   "source": [
    "<div style=\"border:solid green 2px; padding: 20px\"> \n",
    "    \n",
    "**Комментарий ревьюера**\n",
    "\n",
    "В целом в этой части все отлично сделано, ты достаточно внимательно все рассмотрел, построил очень наглядные диаграммы, молодец\n",
    "    \n",
    "</div>"
   ]
  },
  {
   "cell_type": "markdown",
   "metadata": {},
   "source": [
    "### Поиск зависимостей"
   ]
  },
  {
   "cell_type": "markdown",
   "metadata": {},
   "source": [
    "Быстрее всего продаются квартиры стоимость от 45 000 до 80 000. При этом явные пики продаж около 45  и 95 дней. "
   ]
  },
  {
   "cell_type": "code",
   "execution_count": 79,
   "metadata": {},
   "outputs": [
    {
     "data": {
      "image/png": "[encoded data removed]",
      "text/plain": [
       "<Figure size 648x648 with 9 Axes>"
      ]
     },
     "metadata": {
      "needs_background": "light"
     },
     "output_type": "display_data"
    }
   ],
   "source": [
    "price_corr = data.pivot_table(index=data.index, \n",
    "                             values=['last_price','rooms','cityCenters_nearest'],\n",
    "                             aggfunc='mean')\n",
    "price_corr.corr()\n",
    "pd.plotting.scatter_matrix(price_corr, figsize=(9, 9))\n",
    "plt.show()"
   ]
  },
  {
   "cell_type": "markdown",
   "metadata": {},
   "source": [
    "Мы видим что есть зависимость цены от близости к центру,а так же от количества комнат."
   ]
  },
  {
   "cell_type": "code",
   "execution_count": 80,
   "metadata": {},
   "outputs": [
    {
     "data": {
      "image/png": "[encoded data removed]",
      "text/plain": [
       "<Figure size 432x288 with 1 Axes>"
      ]
     },
     "metadata": {
      "needs_background": "light"
     },
     "output_type": "display_data"
    }
   ],
   "source": [
    "data.groupby('floor_name', as_index=False)['last_price'].median().plot(x='floor_name',\n",
    "         y='last_price',\n",
    "         kind='bar')\n",
    "plt.show()"
   ]
  },
  {
   "cell_type": "markdown",
   "metadata": {},
   "source": [
    "Мы видим небольшую разницу в цене между первым и последним этажем, но в большенстве своем квартиры на других этажах стоят дороже. "
   ]
  },
  {
   "cell_type": "code",
   "execution_count": 81,
   "metadata": {},
   "outputs": [
    {
     "data": {
      "image/png": "[encoded data removed]",
      "text/plain": [
       "<Figure size 432x288 with 1 Axes>"
      ]
     },
     "metadata": {
      "needs_background": "light"
     },
     "output_type": "display_data"
    },
    {
     "data": {
      "image/png": "[encoded data removed]",
      "text/plain": [
       "<Figure size 432x288 with 1 Axes>"
      ]
     },
     "metadata": {
      "needs_background": "light"
     },
     "output_type": "display_data"
    },
    {
     "data": {
      "image/png": "[encoded data removed]",
      "text/plain": [
       "<Figure size 432x288 with 1 Axes>"
      ]
     },
     "metadata": {
      "needs_background": "light"
     },
     "output_type": "display_data"
    }
   ],
   "source": [
    "data.groupby('weekday_exposition')['last_price'].median().plot(x='weekday_exposition',\n",
    "                                                               y='last_price',\n",
    "                                                               title='Weekday')\n",
    "plt.show()\n",
    "\n",
    "data.groupby('month_exposition')['last_price'].median().plot(x='month_exposition',\n",
    "                                                               y='last_price',\n",
    "                                                               title='Month')\n",
    "plt.show()\n",
    "\n",
    "data.groupby('year_exposition')['last_price'].median().plot(x='year_exposition',\n",
    "                                                               y='last_price',\n",
    "                                                               title='Year')\n",
    "plt.show()"
   ]
  },
  {
   "cell_type": "markdown",
   "metadata": {},
   "source": [
    "Исходя из времени подачи объявления, весомые различия в цене есть только от года подачи объявления. Однако ближе к лету квартиры потеряли около 10 процентов от цены, но к середие лета цены вернулись на прежний уровень."
   ]
  },
  {
   "cell_type": "markdown",
   "metadata": {},
   "source": [
    "Узнаем населенные пункты с самым большим количеством обхъявлений. Так же посчитаем среднюю цену квадратного метра в них."
   ]
  },
  {
   "cell_type": "code",
   "execution_count": 82,
   "metadata": {},
   "outputs": [
    {
     "data": {
      "text/html": [
       "<div>\n",
       "<style scoped>\n",
       "    .dataframe tbody tr th:only-of-type {\n",
       "        vertical-align: middle;\n",
       "    }\n",
       "\n",
       "    .dataframe tbody tr th {\n",
       "        vertical-align: top;\n",
       "    }\n",
       "\n",
       "    .dataframe thead th {\n",
       "        text-align: right;\n",
       "    }\n",
       "</style>\n",
       "<table border=\"1\" class=\"dataframe\">\n",
       "  <thead>\n",
       "    <tr style=\"text-align: right;\">\n",
       "      <th></th>\n",
       "      <th>price_per_meter</th>\n",
       "    </tr>\n",
       "    <tr>\n",
       "      <th>locality_name</th>\n",
       "      <th></th>\n",
       "    </tr>\n",
       "  </thead>\n",
       "  <tbody>\n",
       "    <tr>\n",
       "      <td>Санкт-Петербург</td>\n",
       "      <td>1492.934555</td>\n",
       "    </tr>\n",
       "    <tr>\n",
       "      <td>Пушкин</td>\n",
       "      <td>1409.864937</td>\n",
       "    </tr>\n",
       "    <tr>\n",
       "      <td>Кудрово</td>\n",
       "      <td>1331.174274</td>\n",
       "    </tr>\n",
       "    <tr>\n",
       "      <td>Парголово</td>\n",
       "      <td>1266.277933</td>\n",
       "    </tr>\n",
       "    <tr>\n",
       "      <td>Мурино</td>\n",
       "      <td>1197.021415</td>\n",
       "    </tr>\n",
       "    <tr>\n",
       "      <td>Шушары</td>\n",
       "      <td>1095.891097</td>\n",
       "    </tr>\n",
       "    <tr>\n",
       "      <td>Колпино</td>\n",
       "      <td>1054.666141</td>\n",
       "    </tr>\n",
       "    <tr>\n",
       "      <td>Гатчина</td>\n",
       "      <td>962.607501</td>\n",
       "    </tr>\n",
       "    <tr>\n",
       "      <td>Всеволожск</td>\n",
       "      <td>941.398458</td>\n",
       "    </tr>\n",
       "    <tr>\n",
       "      <td>Выборг</td>\n",
       "      <td>812.388322</td>\n",
       "    </tr>\n",
       "  </tbody>\n",
       "</table>\n",
       "</div>"
      ],
      "text/plain": [
       "                 price_per_meter\n",
       "locality_name                   \n",
       "Санкт-Петербург      1492.934555\n",
       "Пушкин               1409.864937\n",
       "Кудрово              1331.174274\n",
       "Парголово            1266.277933\n",
       "Мурино               1197.021415\n",
       "Шушары               1095.891097\n",
       "Колпино              1054.666141\n",
       "Гатчина               962.607501\n",
       "Всеволожск            941.398458\n",
       "Выборг                812.388322"
      ]
     },
     "execution_count": 82,
     "metadata": {},
     "output_type": "execute_result"
    }
   ],
   "source": [
    "top_ten = data.groupby('locality_name', as_index=False)['studio'].count().sort_values('studio', ascending=False).head(10)\n",
    "top_ten_price_per_meter = data.query(\n",
    "    'locality_name in @top_ten.locality_name').groupby(\n",
    "    'locality_name')[['price_per_meter']].mean(\n",
    "    ).sort_values('price_per_meter', ascending=False)\n",
    "top_ten_price_per_meter"
   ]
  },
  {
   "cell_type": "markdown",
   "metadata": {},
   "source": [
    "Самая высокая цена за метр оказалась в Санкт-Петербурге, самая дешевая в Выборге почти в два раза дороже."
   ]
  },
  {
   "cell_type": "markdown",
   "metadata": {},
   "source": [
    "Посчитаем расстояние до центра в километрах. Посмотрим как изменяется цена исходя из этого показателя в Петербурге. "
   ]
  },
  {
   "cell_type": "code",
   "execution_count": 83,
   "metadata": {},
   "outputs": [
    {
     "data": {
      "image/png": "[encoded data removed]",
      "text/plain": [
       "<Figure size 432x288 with 1 Axes>"
      ]
     },
     "metadata": {
      "needs_background": "light"
     },
     "output_type": "display_data"
    },
    {
     "data": {
      "image/png": "[encoded data removed]",
      "text/plain": [
       "<Figure size 432x288 with 1 Axes>"
      ]
     },
     "metadata": {
      "needs_background": "light"
     },
     "output_type": "display_data"
    }
   ],
   "source": [
    "data['cityCenters_km'] = (data['cityCenters_nearest'] / 1000).round()\n",
    "saint_p = data.query('locality_name == \"Санкт-Петербург\" ')\n",
    "\n",
    "saint_p.groupby('cityCenters_km')[['price_per_meter']].mean().plot(grid=True)\n",
    "plt.show()\n",
    "\n",
    "saint_p.groupby('cityCenters_km')[['last_price']].mean().plot(grid=True)\n",
    "plt.show()"
   ]
  },
  {
   "cell_type": "markdown",
   "metadata": {},
   "source": [
    "Цена начинает сильно расти начиная с 10 километров до центра."
   ]
  },
  {
   "cell_type": "code",
   "execution_count": 84,
   "metadata": {},
   "outputs": [
    {
     "data": {
      "text/html": [
       "<div>\n",
       "<style scoped>\n",
       "    .dataframe tbody tr th:only-of-type {\n",
       "        vertical-align: middle;\n",
       "    }\n",
       "\n",
       "    .dataframe tbody tr th {\n",
       "        vertical-align: top;\n",
       "    }\n",
       "\n",
       "    .dataframe thead th {\n",
       "        text-align: right;\n",
       "    }\n",
       "</style>\n",
       "<table border=\"1\" class=\"dataframe\">\n",
       "  <thead>\n",
       "    <tr style=\"text-align: right;\">\n",
       "      <th></th>\n",
       "      <th>total_area</th>\n",
       "      <th>last_price</th>\n",
       "      <th>rooms</th>\n",
       "      <th>ceiling_height</th>\n",
       "    </tr>\n",
       "  </thead>\n",
       "  <tbody>\n",
       "    <tr>\n",
       "      <td>count</td>\n",
       "      <td>3642.000000</td>\n",
       "      <td>3642.000000</td>\n",
       "      <td>3642.000000</td>\n",
       "      <td>3642.00000</td>\n",
       "    </tr>\n",
       "    <tr>\n",
       "      <td>mean</td>\n",
       "      <td>68.088957</td>\n",
       "      <td>107835.814614</td>\n",
       "      <td>2.372597</td>\n",
       "      <td>2.83525</td>\n",
       "    </tr>\n",
       "    <tr>\n",
       "      <td>std</td>\n",
       "      <td>26.560876</td>\n",
       "      <td>39592.607870</td>\n",
       "      <td>1.059009</td>\n",
       "      <td>0.32055</td>\n",
       "    </tr>\n",
       "    <tr>\n",
       "      <td>min</td>\n",
       "      <td>20.300000</td>\n",
       "      <td>22400.000000</td>\n",
       "      <td>1.000000</td>\n",
       "      <td>2.40000</td>\n",
       "    </tr>\n",
       "    <tr>\n",
       "      <td>25%</td>\n",
       "      <td>47.000000</td>\n",
       "      <td>77000.000000</td>\n",
       "      <td>2.000000</td>\n",
       "      <td>2.60000</td>\n",
       "    </tr>\n",
       "    <tr>\n",
       "      <td>50%</td>\n",
       "      <td>64.200000</td>\n",
       "      <td>102235.000000</td>\n",
       "      <td>2.000000</td>\n",
       "      <td>2.70000</td>\n",
       "    </tr>\n",
       "    <tr>\n",
       "      <td>75%</td>\n",
       "      <td>84.000000</td>\n",
       "      <td>134400.000000</td>\n",
       "      <td>3.000000</td>\n",
       "      <td>3.00000</td>\n",
       "    </tr>\n",
       "    <tr>\n",
       "      <td>max</td>\n",
       "      <td>190.000000</td>\n",
       "      <td>199500.000000</td>\n",
       "      <td>6.000000</td>\n",
       "      <td>5.30000</td>\n",
       "    </tr>\n",
       "  </tbody>\n",
       "</table>\n",
       "</div>"
      ],
      "text/plain": [
       "        total_area     last_price        rooms  ceiling_height\n",
       "count  3642.000000    3642.000000  3642.000000      3642.00000\n",
       "mean     68.088957  107835.814614     2.372597         2.83525\n",
       "std      26.560876   39592.607870     1.059009         0.32055\n",
       "min      20.300000   22400.000000     1.000000         2.40000\n",
       "25%      47.000000   77000.000000     2.000000         2.60000\n",
       "50%      64.200000  102235.000000     2.000000         2.70000\n",
       "75%      84.000000  134400.000000     3.000000         3.00000\n",
       "max     190.000000  199500.000000     6.000000         5.30000"
      ]
     },
     "execution_count": 84,
     "metadata": {},
     "output_type": "execute_result"
    }
   ],
   "source": [
    "saint_p_center = saint_p.query('cityCenters_km < 10')\n",
    "saint_p_center.loc[:,['total_area','last_price','rooms','ceiling_height']].describe()"
   ]
  },
  {
   "cell_type": "code",
   "execution_count": 85,
   "metadata": {},
   "outputs": [
    {
     "data": {
      "text/html": [
       "<div>\n",
       "<style scoped>\n",
       "    .dataframe tbody tr th:only-of-type {\n",
       "        vertical-align: middle;\n",
       "    }\n",
       "\n",
       "    .dataframe tbody tr th {\n",
       "        vertical-align: top;\n",
       "    }\n",
       "\n",
       "    .dataframe thead th {\n",
       "        text-align: right;\n",
       "    }\n",
       "</style>\n",
       "<table border=\"1\" class=\"dataframe\">\n",
       "  <thead>\n",
       "    <tr style=\"text-align: right;\">\n",
       "      <th></th>\n",
       "      <th>total_area</th>\n",
       "      <th>last_price</th>\n",
       "      <th>rooms</th>\n",
       "      <th>ceiling_height</th>\n",
       "    </tr>\n",
       "  </thead>\n",
       "  <tbody>\n",
       "    <tr>\n",
       "      <td>count</td>\n",
       "      <td>14179.000000</td>\n",
       "      <td>14179.000000</td>\n",
       "      <td>14179.000000</td>\n",
       "      <td>14179.000000</td>\n",
       "    </tr>\n",
       "    <tr>\n",
       "      <td>mean</td>\n",
       "      <td>57.056661</td>\n",
       "      <td>84218.847922</td>\n",
       "      <td>2.043515</td>\n",
       "      <td>2.680786</td>\n",
       "    </tr>\n",
       "    <tr>\n",
       "      <td>std</td>\n",
       "      <td>21.964960</td>\n",
       "      <td>35562.549836</td>\n",
       "      <td>0.952540</td>\n",
       "      <td>0.215669</td>\n",
       "    </tr>\n",
       "    <tr>\n",
       "      <td>min</td>\n",
       "      <td>20.100000</td>\n",
       "      <td>16800.000000</td>\n",
       "      <td>1.000000</td>\n",
       "      <td>2.300000</td>\n",
       "    </tr>\n",
       "    <tr>\n",
       "      <td>25%</td>\n",
       "      <td>41.000000</td>\n",
       "      <td>58100.000000</td>\n",
       "      <td>1.000000</td>\n",
       "      <td>2.600000</td>\n",
       "    </tr>\n",
       "    <tr>\n",
       "      <td>50%</td>\n",
       "      <td>52.000000</td>\n",
       "      <td>74186.000000</td>\n",
       "      <td>2.000000</td>\n",
       "      <td>2.600000</td>\n",
       "    </tr>\n",
       "    <tr>\n",
       "      <td>75%</td>\n",
       "      <td>68.155000</td>\n",
       "      <td>100825.578000</td>\n",
       "      <td>3.000000</td>\n",
       "      <td>2.700000</td>\n",
       "    </tr>\n",
       "    <tr>\n",
       "      <td>max</td>\n",
       "      <td>190.000000</td>\n",
       "      <td>199500.000000</td>\n",
       "      <td>6.000000</td>\n",
       "      <td>5.300000</td>\n",
       "    </tr>\n",
       "  </tbody>\n",
       "</table>\n",
       "</div>"
      ],
      "text/plain": [
       "         total_area     last_price         rooms  ceiling_height\n",
       "count  14179.000000   14179.000000  14179.000000    14179.000000\n",
       "mean      57.056661   84218.847922      2.043515        2.680786\n",
       "std       21.964960   35562.549836      0.952540        0.215669\n",
       "min       20.100000   16800.000000      1.000000        2.300000\n",
       "25%       41.000000   58100.000000      1.000000        2.600000\n",
       "50%       52.000000   74186.000000      2.000000        2.600000\n",
       "75%       68.155000  100825.578000      3.000000        2.700000\n",
       "max      190.000000  199500.000000      6.000000        5.300000"
      ]
     },
     "execution_count": 85,
     "metadata": {},
     "output_type": "execute_result"
    }
   ],
   "source": [
    "saint_p.loc[:,['total_area','last_price','rooms','ceiling_height']].describe()"
   ]
  },
  {
   "cell_type": "markdown",
   "metadata": {},
   "source": [
    "В среднем в центре площадь квартир больше при равном количестве комнат, а так же выше потолки, как и цены."
   ]
  },
  {
   "cell_type": "code",
   "execution_count": 86,
   "metadata": {},
   "outputs": [
    {
     "data": {
      "text/html": [
       "<div>\n",
       "<style scoped>\n",
       "    .dataframe tbody tr th:only-of-type {\n",
       "        vertical-align: middle;\n",
       "    }\n",
       "\n",
       "    .dataframe tbody tr th {\n",
       "        vertical-align: top;\n",
       "    }\n",
       "\n",
       "    .dataframe thead th {\n",
       "        text-align: right;\n",
       "    }\n",
       "</style>\n",
       "<table border=\"1\" class=\"dataframe\">\n",
       "  <thead>\n",
       "    <tr style=\"text-align: right;\">\n",
       "      <th></th>\n",
       "      <th>correlation</th>\n",
       "    </tr>\n",
       "  </thead>\n",
       "  <tbody>\n",
       "    <tr>\n",
       "      <td>last_price</td>\n",
       "      <td>1</td>\n",
       "    </tr>\n",
       "    <tr>\n",
       "      <td>total_area</td>\n",
       "      <td>0.810644</td>\n",
       "    </tr>\n",
       "    <tr>\n",
       "      <td>living_area</td>\n",
       "      <td>0.697761</td>\n",
       "    </tr>\n",
       "    <tr>\n",
       "      <td>kitchen_area</td>\n",
       "      <td>0.564351</td>\n",
       "    </tr>\n",
       "    <tr>\n",
       "      <td>rooms</td>\n",
       "      <td>0.541515</td>\n",
       "    </tr>\n",
       "  </tbody>\n",
       "</table>\n",
       "</div>"
      ],
      "text/plain": [
       "             correlation\n",
       "last_price             1\n",
       "total_area      0.810644\n",
       "living_area     0.697761\n",
       "kitchen_area    0.564351\n",
       "rooms           0.541515"
      ]
     },
     "execution_count": 86,
     "metadata": {},
     "output_type": "execute_result"
    }
   ],
   "source": [
    "saint_p_corr = saint_p.corr()\n",
    "saint_p_corr = saint_p_corr.where(saint_p_corr > 0.5 , None)\n",
    "saint_p_corr = saint_p_corr[['last_price']].dropna().sort_values('last_price', ascending=False)\n",
    "saint_p_corr.columns = ['correlation']\n",
    "saint_p_corr"
   ]
  },
  {
   "cell_type": "code",
   "execution_count": 87,
   "metadata": {},
   "outputs": [
    {
     "data": {
      "text/html": [
       "<div>\n",
       "<style scoped>\n",
       "    .dataframe tbody tr th:only-of-type {\n",
       "        vertical-align: middle;\n",
       "    }\n",
       "\n",
       "    .dataframe tbody tr th {\n",
       "        vertical-align: top;\n",
       "    }\n",
       "\n",
       "    .dataframe thead th {\n",
       "        text-align: right;\n",
       "    }\n",
       "</style>\n",
       "<table border=\"1\" class=\"dataframe\">\n",
       "  <thead>\n",
       "    <tr style=\"text-align: right;\">\n",
       "      <th></th>\n",
       "      <th>correlation</th>\n",
       "    </tr>\n",
       "  </thead>\n",
       "  <tbody>\n",
       "    <tr>\n",
       "      <td>last_price</td>\n",
       "      <td>1</td>\n",
       "    </tr>\n",
       "    <tr>\n",
       "      <td>total_area</td>\n",
       "      <td>0.747537</td>\n",
       "    </tr>\n",
       "    <tr>\n",
       "      <td>living_area</td>\n",
       "      <td>0.64963</td>\n",
       "    </tr>\n",
       "    <tr>\n",
       "      <td>rooms</td>\n",
       "      <td>0.533173</td>\n",
       "    </tr>\n",
       "  </tbody>\n",
       "</table>\n",
       "</div>"
      ],
      "text/plain": [
       "            correlation\n",
       "last_price            1\n",
       "total_area     0.747537\n",
       "living_area     0.64963\n",
       "rooms          0.533173"
      ]
     },
     "execution_count": 87,
     "metadata": {},
     "output_type": "execute_result"
    }
   ],
   "source": [
    "saint_p_corr_center = saint_p_center.corr()\n",
    "saint_p_corr_center = saint_p_corr_center.where(saint_p_corr_center > 0.5 , None)\n",
    "saint_p_corr_center = saint_p_corr_center[['last_price']].dropna().sort_values('last_price', ascending=False)\n",
    "saint_p_corr_center.columns = ['correlation']\n",
    "saint_p_corr_center"
   ]
  },
  {
   "cell_type": "markdown",
   "metadata": {},
   "source": [
    "Как мы видим в центре и по всему городу на цену влияют одни и те же факторы, такие как: площадь(общая и жилая), количество комнат. За исключением площади кухни она не влияет серьезно на цену квартиры в центре."
   ]
  },
  {
   "cell_type": "markdown",
   "metadata": {},
   "source": [
    "## Общий вывод"
   ]
  },
  {
   "cell_type": "markdown",
   "metadata": {},
   "source": [
    "   На основе этих данных мы видим что сроки продажи очень разнятся. Так например если продажа произошла в течении 45 дней то можно считать что она прошла быстро, а если более 200 то наоборот. При этом большинство квартир продается в течении 100 дней.\n",
    "Быстрее всего продаются квартиры стоимость от 45 000 до 80 000 долларов.\n",
    "   В цене квартир между первым и последним этажем большой разницы нет, однако первый этаж немного дешевле, но в большенстве своем квартиры на других этажах стоят дороже.\n",
    "   Квартиры сильно дешевели начиная с 2014 и до 2016, после начался умеренный рост цен. \n",
    "   Самая высокая цена за метр оказалась в Санкт-Петербурге. Цена начинает сильно расти если квартира находится ближе 10 километров от центра.\n",
    "   В среднем в центре площадь квартир больше при равном количестве комнат, а так же выше потолки, как и цены.\n",
    "   Как мы видим в центре и по всему Санкт-Петербургу на цену влияют одни и те же факторы, такие как: площадь(общая и жилая), количество комнат. За исключением площади кухни она не оказывает такого влияния на цену квартиры в центре как по всему городу."
   ]
  }
 ],
 "metadata": {
  "ExecuteTimeLog": [
   {
    "duration": 39963,
    "start_time": "2021-08-20T06:40:26.030Z"
   },
   {
    "duration": 40017,
    "start_time": "2021-08-20T06:40:26.038Z"
   },
   {
    "duration": 40010,
    "start_time": "2021-08-20T06:40:26.046Z"
   },
   {
    "duration": 40005,
    "start_time": "2021-08-20T06:40:26.052Z"
   },
   {
    "duration": 40002,
    "start_time": "2021-08-20T06:40:26.057Z"
   },
   {
    "duration": 39988,
    "start_time": "2021-08-20T06:40:26.072Z"
   },
   {
    "duration": 39981,
    "start_time": "2021-08-20T06:40:26.080Z"
   },
   {
    "duration": 39968,
    "start_time": "2021-08-20T06:40:26.094Z"
   },
   {
    "duration": 39961,
    "start_time": "2021-08-20T06:40:26.102Z"
   },
   {
    "duration": 39952,
    "start_time": "2021-08-20T06:40:26.112Z"
   },
   {
    "duration": 876,
    "start_time": "2021-08-20T06:41:12.874Z"
   },
   {
    "duration": 292,
    "start_time": "2021-08-20T06:41:13.755Z"
   },
   {
    "duration": 15,
    "start_time": "2021-08-20T06:41:14.050Z"
   },
   {
    "duration": 40,
    "start_time": "2021-08-20T06:41:15.007Z"
   },
   {
    "duration": 6895,
    "start_time": "2021-08-20T06:41:15.553Z"
   },
   {
    "duration": 39878,
    "start_time": "2021-08-20T06:40:42.573Z"
   },
   {
    "duration": 39873,
    "start_time": "2021-08-20T06:40:42.580Z"
   },
   {
    "duration": 39867,
    "start_time": "2021-08-20T06:40:42.587Z"
   },
   {
    "duration": 39863,
    "start_time": "2021-08-20T06:40:42.593Z"
   },
   {
    "duration": 39856,
    "start_time": "2021-08-20T06:40:42.602Z"
   },
   {
    "duration": 39853,
    "start_time": "2021-08-20T06:40:42.607Z"
   },
   {
    "duration": 39849,
    "start_time": "2021-08-20T06:40:42.613Z"
   },
   {
    "duration": 39847,
    "start_time": "2021-08-20T06:40:42.618Z"
   },
   {
    "duration": 39843,
    "start_time": "2021-08-20T06:40:42.624Z"
   },
   {
    "duration": 39839,
    "start_time": "2021-08-20T06:40:42.630Z"
   },
   {
    "duration": 39835,
    "start_time": "2021-08-20T06:40:42.636Z"
   },
   {
    "duration": 39830,
    "start_time": "2021-08-20T06:40:42.642Z"
   },
   {
    "duration": 39825,
    "start_time": "2021-08-20T06:40:42.649Z"
   },
   {
    "duration": 39761,
    "start_time": "2021-08-20T06:40:42.715Z"
   },
   {
    "duration": 39754,
    "start_time": "2021-08-20T06:40:42.723Z"
   },
   {
    "duration": 39750,
    "start_time": "2021-08-20T06:40:42.729Z"
   },
   {
    "duration": 39746,
    "start_time": "2021-08-20T06:40:42.735Z"
   },
   {
    "duration": 39743,
    "start_time": "2021-08-20T06:40:42.740Z"
   },
   {
    "duration": 39739,
    "start_time": "2021-08-20T06:40:42.746Z"
   },
   {
    "duration": 39735,
    "start_time": "2021-08-20T06:40:42.751Z"
   },
   {
    "duration": 39731,
    "start_time": "2021-08-20T06:40:42.757Z"
   },
   {
    "duration": 39726,
    "start_time": "2021-08-20T06:40:42.763Z"
   },
   {
    "duration": 272,
    "start_time": "2021-08-20T06:41:22.652Z"
   },
   {
    "duration": 5,
    "start_time": "2021-08-20T06:41:22.974Z"
   },
   {
    "duration": 269,
    "start_time": "2021-08-20T06:41:23.196Z"
   },
   {
    "duration": 260,
    "start_time": "2021-08-20T06:41:23.548Z"
   },
   {
    "duration": 39887,
    "start_time": "2021-08-20T06:40:43.923Z"
   },
   {
    "duration": 7090,
    "start_time": "2021-08-20T06:41:24.055Z"
   },
   {
    "duration": 6634,
    "start_time": "2021-08-20T06:41:49.485Z"
   },
   {
    "duration": 12,
    "start_time": "2021-08-20T06:42:18.010Z"
   },
   {
    "duration": 89,
    "start_time": "2021-08-20T06:43:21.027Z"
   },
   {
    "duration": 905,
    "start_time": "2021-08-20T07:24:23.809Z"
   },
   {
    "duration": 610,
    "start_time": "2021-08-20T07:24:24.716Z"
   },
   {
    "duration": 41,
    "start_time": "2021-08-20T07:24:25.330Z"
   },
   {
    "duration": 61,
    "start_time": "2021-08-20T07:24:25.375Z"
   },
   {
    "duration": 78,
    "start_time": "2021-08-20T07:24:25.438Z"
   },
   {
    "duration": 23,
    "start_time": "2021-08-20T07:24:25.519Z"
   },
   {
    "duration": 11,
    "start_time": "2021-08-20T07:24:25.545Z"
   },
   {
    "duration": 51,
    "start_time": "2021-08-20T07:24:25.560Z"
   },
   {
    "duration": 7,
    "start_time": "2021-08-20T07:24:25.614Z"
   },
   {
    "duration": 8,
    "start_time": "2021-08-20T07:24:25.624Z"
   },
   {
    "duration": 158,
    "start_time": "2021-08-20T07:24:25.635Z"
   },
   {
    "duration": 15,
    "start_time": "2021-08-20T07:24:25.800Z"
   },
   {
    "duration": 241,
    "start_time": "2021-08-20T07:24:25.817Z"
   },
   {
    "duration": 10,
    "start_time": "2021-08-20T07:24:26.062Z"
   },
   {
    "duration": 32,
    "start_time": "2021-08-20T07:24:26.074Z"
   },
   {
    "duration": 19,
    "start_time": "2021-08-20T07:24:26.108Z"
   },
   {
    "duration": 8,
    "start_time": "2021-08-20T07:24:26.129Z"
   },
   {
    "duration": 10,
    "start_time": "2021-08-20T07:24:26.139Z"
   },
   {
    "duration": 11,
    "start_time": "2021-08-20T07:24:26.152Z"
   },
   {
    "duration": 13,
    "start_time": "2021-08-20T07:24:26.200Z"
   },
   {
    "duration": 52,
    "start_time": "2021-08-20T07:24:26.215Z"
   },
   {
    "duration": 43,
    "start_time": "2021-08-20T07:24:26.270Z"
   },
   {
    "duration": 6,
    "start_time": "2021-08-20T07:24:26.322Z"
   },
   {
    "duration": 8,
    "start_time": "2021-08-20T07:24:26.334Z"
   },
   {
    "duration": 56,
    "start_time": "2021-08-20T07:24:26.345Z"
   },
   {
    "duration": 8,
    "start_time": "2021-08-20T07:24:26.404Z"
   },
   {
    "duration": 10,
    "start_time": "2021-08-20T07:24:26.415Z"
   },
   {
    "duration": 11,
    "start_time": "2021-08-20T07:24:26.427Z"
   },
   {
    "duration": 15,
    "start_time": "2021-08-20T07:24:26.441Z"
   },
   {
    "duration": 42,
    "start_time": "2021-08-20T07:24:26.459Z"
   },
   {
    "duration": 106,
    "start_time": "2021-08-20T07:24:26.504Z"
   },
   {
    "duration": 8,
    "start_time": "2021-08-20T07:24:26.613Z"
   },
   {
    "duration": 8,
    "start_time": "2021-08-20T07:24:26.624Z"
   },
   {
    "duration": 7,
    "start_time": "2021-08-20T07:24:26.634Z"
   },
   {
    "duration": 10,
    "start_time": "2021-08-20T07:24:26.643Z"
   },
   {
    "duration": 46,
    "start_time": "2021-08-20T07:24:26.655Z"
   },
   {
    "duration": 24,
    "start_time": "2021-08-20T07:24:26.704Z"
   },
   {
    "duration": 17,
    "start_time": "2021-08-20T07:24:26.731Z"
   },
   {
    "duration": 21,
    "start_time": "2021-08-20T07:24:26.751Z"
   },
   {
    "duration": 38,
    "start_time": "2021-08-20T07:24:26.775Z"
   },
   {
    "duration": 6,
    "start_time": "2021-08-20T07:24:26.815Z"
   },
   {
    "duration": 8,
    "start_time": "2021-08-20T07:24:26.823Z"
   },
   {
    "duration": 1967,
    "start_time": "2021-08-20T07:24:26.834Z"
   },
   {
    "duration": 1924,
    "start_time": "2021-08-20T07:24:28.803Z"
   },
   {
    "duration": 8,
    "start_time": "2021-08-20T07:24:30.729Z"
   },
   {
    "duration": 18,
    "start_time": "2021-08-20T07:24:30.740Z"
   },
   {
    "duration": 21,
    "start_time": "2021-08-20T07:24:30.761Z"
   },
   {
    "duration": 27,
    "start_time": "2021-08-20T07:24:30.785Z"
   },
   {
    "duration": 13,
    "start_time": "2021-08-20T07:24:30.815Z"
   },
   {
    "duration": 854,
    "start_time": "2021-08-20T07:24:30.831Z"
   },
   {
    "duration": 16,
    "start_time": "2021-08-20T07:24:31.687Z"
   },
   {
    "duration": 55,
    "start_time": "2021-08-20T07:24:31.705Z"
   },
   {
    "duration": 40,
    "start_time": "2021-08-20T07:24:31.763Z"
   },
   {
    "duration": 9,
    "start_time": "2021-08-20T07:24:31.806Z"
   },
   {
    "duration": 43,
    "start_time": "2021-08-20T07:24:31.817Z"
   },
   {
    "duration": 857,
    "start_time": "2021-08-20T07:24:31.862Z"
   },
   {
    "duration": 22,
    "start_time": "2021-08-20T07:24:32.722Z"
   },
   {
    "duration": 14,
    "start_time": "2021-08-20T07:24:32.746Z"
   },
   {
    "duration": 660,
    "start_time": "2021-08-20T07:24:32.762Z"
   },
   {
    "duration": 218,
    "start_time": "2021-08-20T07:24:33.425Z"
   },
   {
    "duration": 224,
    "start_time": "2021-08-20T07:24:33.645Z"
   },
   {
    "duration": 28,
    "start_time": "2021-08-20T07:24:33.872Z"
   },
   {
    "duration": 12,
    "start_time": "2021-08-20T07:24:33.903Z"
   },
   {
    "duration": 11,
    "start_time": "2021-08-20T07:24:33.918Z"
   },
   {
    "duration": 22,
    "start_time": "2021-08-20T07:24:33.932Z"
   },
   {
    "duration": 52,
    "start_time": "2021-08-20T07:24:33.957Z"
   },
   {
    "duration": 357,
    "start_time": "2021-08-20T07:24:34.012Z"
   },
   {
    "duration": 355,
    "start_time": "2021-08-20T07:24:34.377Z"
   },
   {
    "duration": 19,
    "start_time": "2021-08-20T07:24:34.735Z"
   },
   {
    "duration": 69204,
    "start_time": "2021-08-20T07:24:34.757Z"
   },
   {
    "duration": 11,
    "start_time": "2021-08-20T07:25:43.964Z"
   },
   {
    "duration": 209,
    "start_time": "2021-08-20T07:25:43.978Z"
   },
   {
    "duration": 18,
    "start_time": "2021-08-20T07:25:44.190Z"
   },
   {
    "duration": 18,
    "start_time": "2021-08-20T07:25:44.210Z"
   },
   {
    "duration": 15,
    "start_time": "2021-08-20T07:25:44.230Z"
   },
   {
    "duration": 764,
    "start_time": "2021-08-20T07:25:44.248Z"
   },
   {
    "duration": 12,
    "start_time": "2021-08-20T07:25:45.015Z"
   },
   {
    "duration": 525,
    "start_time": "2021-08-20T07:25:45.029Z"
   },
   {
    "duration": 3769,
    "start_time": "2021-08-20T07:25:45.557Z"
   },
   {
    "duration": 255,
    "start_time": "2021-08-20T07:25:49.328Z"
   },
   {
    "duration": 779,
    "start_time": "2021-08-20T07:25:49.586Z"
   },
   {
    "duration": 46,
    "start_time": "2021-08-20T07:25:50.368Z"
   },
   {
    "duration": 616,
    "start_time": "2021-08-20T07:25:50.416Z"
   },
   {
    "duration": 39,
    "start_time": "2021-08-20T07:25:51.035Z"
   },
   {
    "duration": 55,
    "start_time": "2021-08-20T07:25:51.077Z"
   },
   {
    "duration": 103,
    "start_time": "2021-08-20T07:25:51.134Z"
   },
   {
    "duration": 43,
    "start_time": "2021-08-20T07:25:51.240Z"
   },
   {
    "duration": 389,
    "start_time": "2021-08-20T07:29:27.301Z"
   },
   {
    "duration": 432,
    "start_time": "2021-08-20T07:29:53.245Z"
   },
   {
    "duration": 94,
    "start_time": "2021-08-20T07:30:31.466Z"
   },
   {
    "duration": 883,
    "start_time": "2021-08-20T07:30:45.031Z"
   },
   {
    "duration": 97,
    "start_time": "2021-08-20T07:30:45.916Z"
   },
   {
    "duration": 38,
    "start_time": "2021-08-20T07:30:46.017Z"
   },
   {
    "duration": 60,
    "start_time": "2021-08-20T07:30:46.058Z"
   },
   {
    "duration": 61,
    "start_time": "2021-08-20T07:30:46.121Z"
   },
   {
    "duration": 22,
    "start_time": "2021-08-20T07:30:46.201Z"
   },
   {
    "duration": 11,
    "start_time": "2021-08-20T07:30:46.226Z"
   },
   {
    "duration": 17,
    "start_time": "2021-08-20T07:30:46.241Z"
   },
   {
    "duration": 43,
    "start_time": "2021-08-20T07:30:46.262Z"
   },
   {
    "duration": 8,
    "start_time": "2021-08-20T07:30:46.307Z"
   },
   {
    "duration": 148,
    "start_time": "2021-08-20T07:30:46.317Z"
   },
   {
    "duration": 12,
    "start_time": "2021-08-20T07:30:46.467Z"
   },
   {
    "duration": 227,
    "start_time": "2021-08-20T07:30:46.482Z"
   },
   {
    "duration": 7,
    "start_time": "2021-08-20T07:30:46.712Z"
   },
   {
    "duration": 13,
    "start_time": "2021-08-20T07:30:46.722Z"
   },
   {
    "duration": 19,
    "start_time": "2021-08-20T07:30:46.738Z"
   },
   {
    "duration": 8,
    "start_time": "2021-08-20T07:30:46.759Z"
   },
   {
    "duration": 39,
    "start_time": "2021-08-20T07:30:46.769Z"
   },
   {
    "duration": 13,
    "start_time": "2021-08-20T07:30:46.811Z"
   },
   {
    "duration": 11,
    "start_time": "2021-08-20T07:30:46.826Z"
   },
   {
    "duration": 93,
    "start_time": "2021-08-20T07:30:46.839Z"
   },
   {
    "duration": 17,
    "start_time": "2021-08-20T07:30:46.934Z"
   },
   {
    "duration": 5,
    "start_time": "2021-08-20T07:30:46.957Z"
   },
   {
    "duration": 39,
    "start_time": "2021-08-20T07:30:46.966Z"
   },
   {
    "duration": 16,
    "start_time": "2021-08-20T07:30:47.007Z"
   },
   {
    "duration": 7,
    "start_time": "2021-08-20T07:30:47.025Z"
   },
   {
    "duration": 7,
    "start_time": "2021-08-20T07:30:47.034Z"
   },
   {
    "duration": 9,
    "start_time": "2021-08-20T07:30:47.044Z"
   },
   {
    "duration": 55,
    "start_time": "2021-08-20T07:30:47.057Z"
   },
   {
    "duration": 4,
    "start_time": "2021-08-20T07:30:47.115Z"
   },
   {
    "duration": 104,
    "start_time": "2021-08-20T07:30:47.121Z"
   },
   {
    "duration": 8,
    "start_time": "2021-08-20T07:30:47.228Z"
   },
   {
    "duration": 7,
    "start_time": "2021-08-20T07:30:47.239Z"
   },
   {
    "duration": 5,
    "start_time": "2021-08-20T07:30:47.248Z"
   },
   {
    "duration": 8,
    "start_time": "2021-08-20T07:30:47.255Z"
   },
   {
    "duration": 41,
    "start_time": "2021-08-20T07:30:47.266Z"
   },
   {
    "duration": 26,
    "start_time": "2021-08-20T07:30:47.309Z"
   },
   {
    "duration": 16,
    "start_time": "2021-08-20T07:30:47.337Z"
   },
   {
    "duration": 48,
    "start_time": "2021-08-20T07:30:47.355Z"
   },
   {
    "duration": 16,
    "start_time": "2021-08-20T07:30:47.406Z"
   },
   {
    "duration": 6,
    "start_time": "2021-08-20T07:30:47.424Z"
   },
   {
    "duration": 8,
    "start_time": "2021-08-20T07:30:47.432Z"
   },
   {
    "duration": 1997,
    "start_time": "2021-08-20T07:30:47.442Z"
   },
   {
    "duration": 1866,
    "start_time": "2021-08-20T07:30:49.442Z"
   },
   {
    "duration": 10,
    "start_time": "2021-08-20T07:30:51.310Z"
   },
   {
    "duration": 7,
    "start_time": "2021-08-20T07:30:51.323Z"
   },
   {
    "duration": 7,
    "start_time": "2021-08-20T07:30:51.333Z"
   },
   {
    "duration": 65,
    "start_time": "2021-08-20T07:30:51.342Z"
   },
   {
    "duration": 13,
    "start_time": "2021-08-20T07:30:51.410Z"
   },
   {
    "duration": 813,
    "start_time": "2021-08-20T07:30:51.426Z"
   },
   {
    "duration": 7,
    "start_time": "2021-08-20T07:30:52.242Z"
   },
   {
    "duration": 63,
    "start_time": "2021-08-20T07:30:52.251Z"
   },
   {
    "duration": 20,
    "start_time": "2021-08-20T07:30:52.316Z"
   },
   {
    "duration": 6,
    "start_time": "2021-08-20T07:30:52.338Z"
   },
   {
    "duration": 59,
    "start_time": "2021-08-20T07:30:52.346Z"
   },
   {
    "duration": 803,
    "start_time": "2021-08-20T07:30:52.408Z"
   },
   {
    "duration": 23,
    "start_time": "2021-08-20T07:30:53.213Z"
   },
   {
    "duration": 13,
    "start_time": "2021-08-20T07:30:53.238Z"
   },
   {
    "duration": 619,
    "start_time": "2021-08-20T07:30:53.253Z"
   },
   {
    "duration": 200,
    "start_time": "2021-08-20T07:30:53.874Z"
   },
   {
    "duration": 203,
    "start_time": "2021-08-20T07:30:54.077Z"
   },
   {
    "duration": 23,
    "start_time": "2021-08-20T07:30:54.282Z"
   },
   {
    "duration": 9,
    "start_time": "2021-08-20T07:30:54.308Z"
   },
   {
    "duration": 16,
    "start_time": "2021-08-20T07:30:54.320Z"
   },
   {
    "duration": 21,
    "start_time": "2021-08-20T07:30:54.338Z"
   },
   {
    "duration": 54,
    "start_time": "2021-08-20T07:30:54.361Z"
   },
   {
    "duration": 347,
    "start_time": "2021-08-20T07:30:54.418Z"
   },
   {
    "duration": 335,
    "start_time": "2021-08-20T07:30:54.773Z"
   },
   {
    "duration": 18,
    "start_time": "2021-08-20T07:30:55.111Z"
   },
   {
    "duration": 67261,
    "start_time": "2021-08-20T07:30:55.132Z"
   },
   {
    "duration": 13,
    "start_time": "2021-08-20T07:32:02.396Z"
   },
   {
    "duration": 214,
    "start_time": "2021-08-20T07:32:02.412Z"
   },
   {
    "duration": 10,
    "start_time": "2021-08-20T07:32:02.629Z"
   },
   {
    "duration": 13,
    "start_time": "2021-08-20T07:32:02.641Z"
   },
   {
    "duration": 12,
    "start_time": "2021-08-20T07:32:02.656Z"
   },
   {
    "duration": 755,
    "start_time": "2021-08-20T07:32:02.670Z"
   },
   {
    "duration": 12,
    "start_time": "2021-08-20T07:32:03.428Z"
   },
   {
    "duration": 516,
    "start_time": "2021-08-20T07:32:03.442Z"
   },
   {
    "duration": 3779,
    "start_time": "2021-08-20T07:32:03.960Z"
   },
   {
    "duration": 243,
    "start_time": "2021-08-20T07:32:07.742Z"
   },
   {
    "duration": 732,
    "start_time": "2021-08-20T07:32:07.987Z"
   },
   {
    "duration": 28,
    "start_time": "2021-08-20T07:32:08.722Z"
   },
   {
    "duration": 592,
    "start_time": "2021-08-20T07:32:08.753Z"
   },
   {
    "duration": 36,
    "start_time": "2021-08-20T07:32:09.348Z"
   },
   {
    "duration": 33,
    "start_time": "2021-08-20T07:32:09.401Z"
   },
   {
    "duration": 107,
    "start_time": "2021-08-20T07:32:09.436Z"
   },
   {
    "duration": 38,
    "start_time": "2021-08-20T07:32:09.546Z"
   },
   {
    "duration": 5,
    "start_time": "2021-08-20T07:50:19.575Z"
   },
   {
    "duration": 244,
    "start_time": "2021-08-20T07:50:19.794Z"
   },
   {
    "duration": 36,
    "start_time": "2021-08-20T07:50:20.648Z"
   },
   {
    "duration": 39,
    "start_time": "2021-08-20T07:50:25.124Z"
   },
   {
    "duration": 58,
    "start_time": "2021-08-20T07:50:26.262Z"
   },
   {
    "duration": 22,
    "start_time": "2021-08-20T07:50:27.678Z"
   },
   {
    "duration": 12,
    "start_time": "2021-08-20T07:50:28.427Z"
   },
   {
    "duration": 19,
    "start_time": "2021-08-20T07:50:29.015Z"
   },
   {
    "duration": 6,
    "start_time": "2021-08-20T07:50:29.408Z"
   },
   {
    "duration": 7,
    "start_time": "2021-08-20T07:50:29.601Z"
   },
   {
    "duration": 89,
    "start_time": "2021-08-20T07:51:11.735Z"
   },
   {
    "duration": 14,
    "start_time": "2021-08-20T07:51:25.103Z"
   },
   {
    "duration": 119,
    "start_time": "2021-08-20T07:51:32.881Z"
   },
   {
    "duration": 14,
    "start_time": "2021-08-20T07:51:34.177Z"
   },
   {
    "duration": 259,
    "start_time": "2021-08-20T07:51:34.968Z"
   },
   {
    "duration": 8,
    "start_time": "2021-08-20T07:51:35.721Z"
   },
   {
    "duration": 9,
    "start_time": "2021-08-20T07:51:35.927Z"
   },
   {
    "duration": 19,
    "start_time": "2021-08-20T07:51:36.281Z"
   },
   {
    "duration": 9,
    "start_time": "2021-08-20T07:51:36.673Z"
   },
   {
    "duration": 10,
    "start_time": "2021-08-20T07:51:36.863Z"
   },
   {
    "duration": 11,
    "start_time": "2021-08-20T07:51:38.276Z"
   },
   {
    "duration": 12,
    "start_time": "2021-08-20T07:51:38.930Z"
   },
   {
    "duration": 57,
    "start_time": "2021-08-20T07:51:39.869Z"
   },
   {
    "duration": 19,
    "start_time": "2021-08-20T07:51:41.218Z"
   },
   {
    "duration": 5,
    "start_time": "2021-08-20T07:51:41.666Z"
   },
   {
    "duration": 6,
    "start_time": "2021-08-20T07:51:42.231Z"
   },
   {
    "duration": 11,
    "start_time": "2021-08-20T07:51:42.759Z"
   },
   {
    "duration": 6,
    "start_time": "2021-08-20T07:51:42.928Z"
   },
   {
    "duration": 7,
    "start_time": "2021-08-20T07:51:43.104Z"
   },
   {
    "duration": 8,
    "start_time": "2021-08-20T07:51:43.459Z"
   },
   {
    "duration": 17,
    "start_time": "2021-08-20T07:51:43.852Z"
   },
   {
    "duration": 4,
    "start_time": "2021-08-20T07:51:44.703Z"
   },
   {
    "duration": 87,
    "start_time": "2021-08-20T07:51:44.892Z"
   },
   {
    "duration": 10,
    "start_time": "2021-08-20T07:51:45.490Z"
   },
   {
    "duration": 7,
    "start_time": "2021-08-20T07:51:46.073Z"
   },
   {
    "duration": 6,
    "start_time": "2021-08-20T07:51:46.366Z"
   },
   {
    "duration": 8,
    "start_time": "2021-08-20T07:51:46.760Z"
   },
   {
    "duration": 13,
    "start_time": "2021-08-20T07:51:46.941Z"
   },
   {
    "duration": 26,
    "start_time": "2021-08-20T07:51:47.959Z"
   },
   {
    "duration": 10,
    "start_time": "2021-08-20T07:51:48.287Z"
   },
   {
    "duration": 17,
    "start_time": "2021-08-20T07:51:50.129Z"
   },
   {
    "duration": 15,
    "start_time": "2021-08-20T07:51:50.348Z"
   },
   {
    "duration": 6,
    "start_time": "2021-08-20T07:51:50.681Z"
   },
   {
    "duration": 5,
    "start_time": "2021-08-20T07:51:51.045Z"
   },
   {
    "duration": 1908,
    "start_time": "2021-08-20T07:51:51.232Z"
   },
   {
    "duration": 2050,
    "start_time": "2021-08-20T07:51:53.143Z"
   },
   {
    "duration": 7,
    "start_time": "2021-08-20T07:51:55.196Z"
   },
   {
    "duration": 10,
    "start_time": "2021-08-20T07:51:55.206Z"
   },
   {
    "duration": 20,
    "start_time": "2021-08-20T07:51:55.218Z"
   },
   {
    "duration": 32,
    "start_time": "2021-08-20T07:51:55.240Z"
   },
   {
    "duration": 12,
    "start_time": "2021-08-20T07:51:55.441Z"
   },
   {
    "duration": 761,
    "start_time": "2021-08-20T07:51:55.735Z"
   },
   {
    "duration": 7,
    "start_time": "2021-08-20T07:51:56.570Z"
   },
   {
    "duration": 47,
    "start_time": "2021-08-20T07:51:56.882Z"
   },
   {
    "duration": 19,
    "start_time": "2021-08-20T07:51:59.897Z"
   },
   {
    "duration": 98,
    "start_time": "2021-08-20T07:54:27.660Z"
   }
  ],
  "kernelspec": {
   "display_name": "Python 3",
   "language": "python",
   "name": "python3"
  },
  "language_info": {
   "codemirror_mode": {
    "name": "ipython",
    "version": 3
   },
   "file_extension": ".py",
   "mimetype": "text/x-python",
   "name": "python",
   "nbconvert_exporter": "python",
   "pygments_lexer": "ipython3",
   "version": "3.7.8"
  },
  "toc": {
   "base_numbering": 1,
   "nav_menu": {},
   "number_sections": true,
   "sideBar": true,
   "skip_h1_title": true,
   "title_cell": "Содержание",
   "title_sidebar": "Contents",
   "toc_cell": true,
   "toc_position": {},
   "toc_section_display": true,
   "toc_window_display": false
  }
 },
 "nbformat": 4,
 "nbformat_minor": 2
}
