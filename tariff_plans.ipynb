{
 "cells": [
  {
   "cell_type": "markdown",
   "metadata": {},
   "source": [
    "# Анализ тарифных планов\n",
    "Клиентам предлагают два тарифных плана: «Смарт» и «Ультра». Чтобы скорректировать рекламный бюджет, коммерческий департамент хочет понять, какой тариф приносит больше денег.\n",
    "Необходимо сделать предварительный анализ тарифов на небольшой выборке клиентов. В нашеи распоряжении данные 500 пользователей «Мегалайна»: кто они, откуда, каким тарифом пользуются, сколько звонков и сообщений каждый отправил за 2018 год. Нужно проанализировать поведение клиентов и сделать вывод — какой тариф лучше."
   ]
  },
  {
   "cell_type": "markdown",
   "metadata": {},
   "source": [
    "## Предобработка данных"
   ]
  },
  {
   "cell_type": "markdown",
   "metadata": {},
   "source": [
    "Импортируем библиотеки"
   ]
  },
  {
   "cell_type": "code",
   "execution_count": 1,
   "metadata": {},
   "outputs": [],
   "source": [
    "import pandas as pd\n",
    "import numpy as np\n",
    "from scipy import stats as st\n",
    "import matplotlib.pyplot as plt\n",
    "import seaborn as sns\n",
    "import math"
   ]
  },
  {
   "cell_type": "code",
   "execution_count": 2,
   "metadata": {},
   "outputs": [],
   "source": [
    "try:\n",
    "    calls = pd.read_csv(--)\n",
    "except:\n",
    "    calls = pd.read_csv('/datasets/calls.csv.')\n",
    "    \n",
    "try:\n",
    "    internet = pd.read_csv(--)\n",
    "except:\n",
    "    internet = pd.read_csv('/datasets/internet.csv.')\n",
    "    \n",
    "try:\n",
    "    messages = pd.read_csv(--)\n",
    "except:\n",
    "    messages = pd.read_csv('/datasets/messages.csv.')\n",
    "    \n",
    "try:\n",
    "    tariffs = pd.read_csv(--)\n",
    "except:\n",
    "    tariffs = pd.read_csv('/datasets/tariffs.csv.')\n",
    "    \n",
    "try:\n",
    "    users = pd.read_csv(--)\n",
    "except:\n",
    "    users = pd.read_csv('/datasets/users.csv.')"
   ]
  },
  {
   "cell_type": "code",
   "execution_count": 3,
   "metadata": {},
   "outputs": [
    {
     "name": "stdout",
     "output_type": "stream",
     "text": [
      "<class 'pandas.core.frame.DataFrame'>\n",
      "RangeIndex: 202607 entries, 0 to 202606\n",
      "Data columns (total 4 columns):\n",
      "id           202607 non-null object\n",
      "call_date    202607 non-null object\n",
      "duration     202607 non-null float64\n",
      "user_id      202607 non-null int64\n",
      "dtypes: float64(1), int64(1), object(2)\n",
      "memory usage: 6.2+ MB\n"
     ]
    }
   ],
   "source": [
    "calls.info()"
   ]
  },
  {
   "cell_type": "code",
   "execution_count": 4,
   "metadata": {},
   "outputs": [
    {
     "data": {
      "text/html": [
       "<div>\n",
       "<style scoped>\n",
       "    .dataframe tbody tr th:only-of-type {\n",
       "        vertical-align: middle;\n",
       "    }\n",
       "\n",
       "    .dataframe tbody tr th {\n",
       "        vertical-align: top;\n",
       "    }\n",
       "\n",
       "    .dataframe thead th {\n",
       "        text-align: right;\n",
       "    }\n",
       "</style>\n",
       "<table border=\"1\" class=\"dataframe\">\n",
       "  <thead>\n",
       "    <tr style=\"text-align: right;\">\n",
       "      <th></th>\n",
       "      <th>id</th>\n",
       "      <th>call_date</th>\n",
       "      <th>duration</th>\n",
       "      <th>user_id</th>\n",
       "    </tr>\n",
       "  </thead>\n",
       "  <tbody>\n",
       "    <tr>\n",
       "      <td>0</td>\n",
       "      <td>1000_0</td>\n",
       "      <td>2018-07-25</td>\n",
       "      <td>0.00</td>\n",
       "      <td>1000</td>\n",
       "    </tr>\n",
       "    <tr>\n",
       "      <td>1</td>\n",
       "      <td>1000_1</td>\n",
       "      <td>2018-08-17</td>\n",
       "      <td>0.00</td>\n",
       "      <td>1000</td>\n",
       "    </tr>\n",
       "    <tr>\n",
       "      <td>2</td>\n",
       "      <td>1000_2</td>\n",
       "      <td>2018-06-11</td>\n",
       "      <td>2.85</td>\n",
       "      <td>1000</td>\n",
       "    </tr>\n",
       "  </tbody>\n",
       "</table>\n",
       "</div>"
      ],
      "text/plain": [
       "       id   call_date  duration  user_id\n",
       "0  1000_0  2018-07-25      0.00     1000\n",
       "1  1000_1  2018-08-17      0.00     1000\n",
       "2  1000_2  2018-06-11      2.85     1000"
      ]
     },
     "execution_count": 4,
     "metadata": {},
     "output_type": "execute_result"
    }
   ],
   "source": [
    "calls.head(3)"
   ]
  },
  {
   "cell_type": "code",
   "execution_count": 5,
   "metadata": {},
   "outputs": [
    {
     "data": {
      "image/png": "[encoded data removed]",
      "text/plain": [
       "<Figure size 432x288 with 1 Axes>"
      ]
     },
     "metadata": {
      "needs_background": "light"
     },
     "output_type": "display_data"
    }
   ],
   "source": [
    "plt.boxplot(calls['duration'])\n",
    "plt.show()"
   ]
  },
  {
   "cell_type": "code",
   "execution_count": 6,
   "metadata": {},
   "outputs": [
    {
     "data": {
      "text/plain": [
       "0"
      ]
     },
     "execution_count": 6,
     "metadata": {},
     "output_type": "execute_result"
    }
   ],
   "source": [
    "calls.duplicated().sum()"
   ]
  },
  {
   "cell_type": "code",
   "execution_count": 7,
   "metadata": {},
   "outputs": [
    {
     "name": "stdout",
     "output_type": "stream",
     "text": [
      "<class 'pandas.core.frame.DataFrame'>\n",
      "RangeIndex: 149396 entries, 0 to 149395\n",
      "Data columns (total 5 columns):\n",
      "Unnamed: 0      149396 non-null int64\n",
      "id              149396 non-null object\n",
      "mb_used         149396 non-null float64\n",
      "session_date    149396 non-null object\n",
      "user_id         149396 non-null int64\n",
      "dtypes: float64(1), int64(2), object(2)\n",
      "memory usage: 5.7+ MB\n"
     ]
    }
   ],
   "source": [
    "internet.info()"
   ]
  },
  {
   "cell_type": "code",
   "execution_count": 8,
   "metadata": {},
   "outputs": [
    {
     "data": {
      "text/html": [
       "<div>\n",
       "<style scoped>\n",
       "    .dataframe tbody tr th:only-of-type {\n",
       "        vertical-align: middle;\n",
       "    }\n",
       "\n",
       "    .dataframe tbody tr th {\n",
       "        vertical-align: top;\n",
       "    }\n",
       "\n",
       "    .dataframe thead th {\n",
       "        text-align: right;\n",
       "    }\n",
       "</style>\n",
       "<table border=\"1\" class=\"dataframe\">\n",
       "  <thead>\n",
       "    <tr style=\"text-align: right;\">\n",
       "      <th></th>\n",
       "      <th>Unnamed: 0</th>\n",
       "      <th>id</th>\n",
       "      <th>mb_used</th>\n",
       "      <th>session_date</th>\n",
       "      <th>user_id</th>\n",
       "    </tr>\n",
       "  </thead>\n",
       "  <tbody>\n",
       "    <tr>\n",
       "      <td>0</td>\n",
       "      <td>0</td>\n",
       "      <td>1000_0</td>\n",
       "      <td>112.95</td>\n",
       "      <td>2018-11-25</td>\n",
       "      <td>1000</td>\n",
       "    </tr>\n",
       "    <tr>\n",
       "      <td>1</td>\n",
       "      <td>1</td>\n",
       "      <td>1000_1</td>\n",
       "      <td>1052.81</td>\n",
       "      <td>2018-09-07</td>\n",
       "      <td>1000</td>\n",
       "    </tr>\n",
       "    <tr>\n",
       "      <td>2</td>\n",
       "      <td>2</td>\n",
       "      <td>1000_2</td>\n",
       "      <td>1197.26</td>\n",
       "      <td>2018-06-25</td>\n",
       "      <td>1000</td>\n",
       "    </tr>\n",
       "  </tbody>\n",
       "</table>\n",
       "</div>"
      ],
      "text/plain": [
       "   Unnamed: 0      id  mb_used session_date  user_id\n",
       "0           0  1000_0   112.95   2018-11-25     1000\n",
       "1           1  1000_1  1052.81   2018-09-07     1000\n",
       "2           2  1000_2  1197.26   2018-06-25     1000"
      ]
     },
     "execution_count": 8,
     "metadata": {},
     "output_type": "execute_result"
    }
   ],
   "source": [
    "internet.head(3)"
   ]
  },
  {
   "cell_type": "code",
   "execution_count": 9,
   "metadata": {},
   "outputs": [
    {
     "data": {
      "image/png": "[encoded data removed]",
      "text/plain": [
       "<Figure size 432x288 with 1 Axes>"
      ]
     },
     "metadata": {
      "needs_background": "light"
     },
     "output_type": "display_data"
    }
   ],
   "source": [
    "plt.boxplot(internet['mb_used'])\n",
    "plt.show()"
   ]
  },
  {
   "cell_type": "code",
   "execution_count": 10,
   "metadata": {},
   "outputs": [
    {
     "data": {
      "text/plain": [
       "0"
      ]
     },
     "execution_count": 10,
     "metadata": {},
     "output_type": "execute_result"
    }
   ],
   "source": [
    "internet.duplicated().sum()"
   ]
  },
  {
   "cell_type": "code",
   "execution_count": 11,
   "metadata": {},
   "outputs": [
    {
     "name": "stdout",
     "output_type": "stream",
     "text": [
      "<class 'pandas.core.frame.DataFrame'>\n",
      "RangeIndex: 123036 entries, 0 to 123035\n",
      "Data columns (total 3 columns):\n",
      "id              123036 non-null object\n",
      "message_date    123036 non-null object\n",
      "user_id         123036 non-null int64\n",
      "dtypes: int64(1), object(2)\n",
      "memory usage: 2.8+ MB\n"
     ]
    }
   ],
   "source": [
    "messages.info()"
   ]
  },
  {
   "cell_type": "code",
   "execution_count": 12,
   "metadata": {},
   "outputs": [
    {
     "data": {
      "text/html": [
       "<div>\n",
       "<style scoped>\n",
       "    .dataframe tbody tr th:only-of-type {\n",
       "        vertical-align: middle;\n",
       "    }\n",
       "\n",
       "    .dataframe tbody tr th {\n",
       "        vertical-align: top;\n",
       "    }\n",
       "\n",
       "    .dataframe thead th {\n",
       "        text-align: right;\n",
       "    }\n",
       "</style>\n",
       "<table border=\"1\" class=\"dataframe\">\n",
       "  <thead>\n",
       "    <tr style=\"text-align: right;\">\n",
       "      <th></th>\n",
       "      <th>id</th>\n",
       "      <th>message_date</th>\n",
       "      <th>user_id</th>\n",
       "    </tr>\n",
       "  </thead>\n",
       "  <tbody>\n",
       "    <tr>\n",
       "      <td>0</td>\n",
       "      <td>1000_0</td>\n",
       "      <td>2018-06-27</td>\n",
       "      <td>1000</td>\n",
       "    </tr>\n",
       "    <tr>\n",
       "      <td>1</td>\n",
       "      <td>1000_1</td>\n",
       "      <td>2018-10-08</td>\n",
       "      <td>1000</td>\n",
       "    </tr>\n",
       "    <tr>\n",
       "      <td>2</td>\n",
       "      <td>1000_2</td>\n",
       "      <td>2018-08-04</td>\n",
       "      <td>1000</td>\n",
       "    </tr>\n",
       "  </tbody>\n",
       "</table>\n",
       "</div>"
      ],
      "text/plain": [
       "       id message_date  user_id\n",
       "0  1000_0   2018-06-27     1000\n",
       "1  1000_1   2018-10-08     1000\n",
       "2  1000_2   2018-08-04     1000"
      ]
     },
     "execution_count": 12,
     "metadata": {},
     "output_type": "execute_result"
    }
   ],
   "source": [
    "messages.head(3)"
   ]
  },
  {
   "cell_type": "code",
   "execution_count": 13,
   "metadata": {},
   "outputs": [
    {
     "data": {
      "image/png": "[encoded data removed]",
      "text/plain": [
       "<Figure size 432x288 with 1 Axes>"
      ]
     },
     "metadata": {
      "needs_background": "light"
     },
     "output_type": "display_data"
    }
   ],
   "source": [
    "messages_gr = messages.groupby('user_id')['id'].count()\n",
    "plt.boxplot(messages_gr)\n",
    "plt.show()"
   ]
  },
  {
   "cell_type": "code",
   "execution_count": 14,
   "metadata": {},
   "outputs": [
    {
     "data": {
      "text/plain": [
       "0"
      ]
     },
     "execution_count": 14,
     "metadata": {},
     "output_type": "execute_result"
    }
   ],
   "source": [
    "messages.duplicated().sum()"
   ]
  },
  {
   "cell_type": "code",
   "execution_count": 15,
   "metadata": {},
   "outputs": [
    {
     "name": "stdout",
     "output_type": "stream",
     "text": [
      "<class 'pandas.core.frame.DataFrame'>\n",
      "RangeIndex: 2 entries, 0 to 1\n",
      "Data columns (total 8 columns):\n",
      "messages_included        2 non-null int64\n",
      "mb_per_month_included    2 non-null int64\n",
      "minutes_included         2 non-null int64\n",
      "rub_monthly_fee          2 non-null int64\n",
      "rub_per_gb               2 non-null int64\n",
      "rub_per_message          2 non-null int64\n",
      "rub_per_minute           2 non-null int64\n",
      "tariff_name              2 non-null object\n",
      "dtypes: int64(7), object(1)\n",
      "memory usage: 256.0+ bytes\n"
     ]
    }
   ],
   "source": [
    "tariffs.info()"
   ]
  },
  {
   "cell_type": "code",
   "execution_count": 16,
   "metadata": {},
   "outputs": [
    {
     "data": {
      "text/html": [
       "<div>\n",
       "<style scoped>\n",
       "    .dataframe tbody tr th:only-of-type {\n",
       "        vertical-align: middle;\n",
       "    }\n",
       "\n",
       "    .dataframe tbody tr th {\n",
       "        vertical-align: top;\n",
       "    }\n",
       "\n",
       "    .dataframe thead th {\n",
       "        text-align: right;\n",
       "    }\n",
       "</style>\n",
       "<table border=\"1\" class=\"dataframe\">\n",
       "  <thead>\n",
       "    <tr style=\"text-align: right;\">\n",
       "      <th></th>\n",
       "      <th>messages_included</th>\n",
       "      <th>mb_per_month_included</th>\n",
       "      <th>minutes_included</th>\n",
       "      <th>rub_monthly_fee</th>\n",
       "      <th>rub_per_gb</th>\n",
       "      <th>rub_per_message</th>\n",
       "      <th>rub_per_minute</th>\n",
       "      <th>tariff_name</th>\n",
       "    </tr>\n",
       "  </thead>\n",
       "  <tbody>\n",
       "    <tr>\n",
       "      <td>0</td>\n",
       "      <td>50</td>\n",
       "      <td>15360</td>\n",
       "      <td>500</td>\n",
       "      <td>550</td>\n",
       "      <td>200</td>\n",
       "      <td>3</td>\n",
       "      <td>3</td>\n",
       "      <td>smart</td>\n",
       "    </tr>\n",
       "    <tr>\n",
       "      <td>1</td>\n",
       "      <td>1000</td>\n",
       "      <td>30720</td>\n",
       "      <td>3000</td>\n",
       "      <td>1950</td>\n",
       "      <td>150</td>\n",
       "      <td>1</td>\n",
       "      <td>1</td>\n",
       "      <td>ultra</td>\n",
       "    </tr>\n",
       "  </tbody>\n",
       "</table>\n",
       "</div>"
      ],
      "text/plain": [
       "   messages_included  mb_per_month_included  minutes_included  \\\n",
       "0                 50                  15360               500   \n",
       "1               1000                  30720              3000   \n",
       "\n",
       "   rub_monthly_fee  rub_per_gb  rub_per_message  rub_per_minute tariff_name  \n",
       "0              550         200                3               3       smart  \n",
       "1             1950         150                1               1       ultra  "
      ]
     },
     "execution_count": 16,
     "metadata": {},
     "output_type": "execute_result"
    }
   ],
   "source": [
    "tariffs"
   ]
  },
  {
   "cell_type": "code",
   "execution_count": 17,
   "metadata": {},
   "outputs": [
    {
     "name": "stdout",
     "output_type": "stream",
     "text": [
      "<class 'pandas.core.frame.DataFrame'>\n",
      "RangeIndex: 500 entries, 0 to 499\n",
      "Data columns (total 8 columns):\n",
      "user_id       500 non-null int64\n",
      "age           500 non-null int64\n",
      "churn_date    38 non-null object\n",
      "city          500 non-null object\n",
      "first_name    500 non-null object\n",
      "last_name     500 non-null object\n",
      "reg_date      500 non-null object\n",
      "tariff        500 non-null object\n",
      "dtypes: int64(2), object(6)\n",
      "memory usage: 31.4+ KB\n"
     ]
    }
   ],
   "source": [
    "users.info()"
   ]
  },
  {
   "cell_type": "code",
   "execution_count": 18,
   "metadata": {},
   "outputs": [
    {
     "data": {
      "text/html": [
       "<div>\n",
       "<style scoped>\n",
       "    .dataframe tbody tr th:only-of-type {\n",
       "        vertical-align: middle;\n",
       "    }\n",
       "\n",
       "    .dataframe tbody tr th {\n",
       "        vertical-align: top;\n",
       "    }\n",
       "\n",
       "    .dataframe thead th {\n",
       "        text-align: right;\n",
       "    }\n",
       "</style>\n",
       "<table border=\"1\" class=\"dataframe\">\n",
       "  <thead>\n",
       "    <tr style=\"text-align: right;\">\n",
       "      <th></th>\n",
       "      <th>user_id</th>\n",
       "      <th>age</th>\n",
       "      <th>churn_date</th>\n",
       "      <th>city</th>\n",
       "      <th>first_name</th>\n",
       "      <th>last_name</th>\n",
       "      <th>reg_date</th>\n",
       "      <th>tariff</th>\n",
       "    </tr>\n",
       "  </thead>\n",
       "  <tbody>\n",
       "    <tr>\n",
       "      <td>0</td>\n",
       "      <td>1000</td>\n",
       "      <td>52</td>\n",
       "      <td>NaN</td>\n",
       "      <td>Краснодар</td>\n",
       "      <td>Рафаил</td>\n",
       "      <td>Верещагин</td>\n",
       "      <td>2018-05-25</td>\n",
       "      <td>ultra</td>\n",
       "    </tr>\n",
       "    <tr>\n",
       "      <td>1</td>\n",
       "      <td>1001</td>\n",
       "      <td>41</td>\n",
       "      <td>NaN</td>\n",
       "      <td>Москва</td>\n",
       "      <td>Иван</td>\n",
       "      <td>Ежов</td>\n",
       "      <td>2018-11-01</td>\n",
       "      <td>smart</td>\n",
       "    </tr>\n",
       "    <tr>\n",
       "      <td>2</td>\n",
       "      <td>1002</td>\n",
       "      <td>59</td>\n",
       "      <td>NaN</td>\n",
       "      <td>Стерлитамак</td>\n",
       "      <td>Евгений</td>\n",
       "      <td>Абрамович</td>\n",
       "      <td>2018-06-17</td>\n",
       "      <td>smart</td>\n",
       "    </tr>\n",
       "  </tbody>\n",
       "</table>\n",
       "</div>"
      ],
      "text/plain": [
       "   user_id  age churn_date         city first_name  last_name    reg_date  \\\n",
       "0     1000   52        NaN    Краснодар     Рафаил  Верещагин  2018-05-25   \n",
       "1     1001   41        NaN       Москва       Иван       Ежов  2018-11-01   \n",
       "2     1002   59        NaN  Стерлитамак    Евгений  Абрамович  2018-06-17   \n",
       "\n",
       "  tariff  \n",
       "0  ultra  \n",
       "1  smart  \n",
       "2  smart  "
      ]
     },
     "execution_count": 18,
     "metadata": {},
     "output_type": "execute_result"
    }
   ],
   "source": [
    "users.head(3)"
   ]
  },
  {
   "cell_type": "code",
   "execution_count": 19,
   "metadata": {},
   "outputs": [
    {
     "data": {
      "image/png": "[encoded data removed]",
      "text/plain": [
       "<Figure size 432x288 with 1 Axes>"
      ]
     },
     "metadata": {
      "needs_background": "light"
     },
     "output_type": "display_data"
    }
   ],
   "source": [
    "plt.boxplot(users['age'])\n",
    "plt.show()"
   ]
  },
  {
   "cell_type": "code",
   "execution_count": 20,
   "metadata": {},
   "outputs": [
    {
     "data": {
      "text/plain": [
       "array(['Краснодар', 'Москва', 'Стерлитамак', 'Новокузнецк',\n",
       "       'Набережные Челны', 'Ульяновск', 'Челябинск', 'Пермь', 'Тюмень',\n",
       "       'Самара', 'Санкт-Петербург', 'Иваново', 'Чебоксары', 'Омск', 'Уфа',\n",
       "       'Томск', 'Чита', 'Мурманск', 'Петрозаводск', 'Тверь',\n",
       "       'Екатеринбург', 'Махачкала', 'Вологда', 'Череповец', 'Ярославль',\n",
       "       'Сочи', 'Хабаровск', 'Ставрополь', 'Рязань', 'Улан-Удэ', 'Тула',\n",
       "       'Саратов', 'Ростов-на-Дону', 'Казань', 'Иркутск', 'Курск',\n",
       "       'Калуга', 'Якутск', 'Астрахань', 'Химки', 'Владикавказ',\n",
       "       'Волгоград', 'Саранск', 'Ижевск', 'Новосибирск', 'Брянск',\n",
       "       'Тольятти', 'Нижний Тагил', 'Орёл', 'Белгород', 'Воронеж',\n",
       "       'Волжский', 'Курган', 'Барнаул', 'Красноярск', 'Архангельск',\n",
       "       'Липецк', 'Кемерово', 'Киров', 'Сургут', 'Пенза', 'Магнитогорск',\n",
       "       'Нижний Новгород', 'Кострома', 'Владивосток', 'Тамбов', 'Балашиха',\n",
       "       'Севастополь', 'Калининград', 'Оренбург', 'Смоленск',\n",
       "       'Нижневартовск', 'Владимир', 'Новороссийск', 'Грозный', 'Подольск'],\n",
       "      dtype=object)"
      ]
     },
     "execution_count": 20,
     "metadata": {},
     "output_type": "execute_result"
    }
   ],
   "source": [
    "users['city'].unique()"
   ]
  },
  {
   "cell_type": "code",
   "execution_count": 21,
   "metadata": {},
   "outputs": [
    {
     "data": {
      "text/plain": [
       "0"
      ]
     },
     "execution_count": 21,
     "metadata": {},
     "output_type": "execute_result"
    }
   ],
   "source": [
    "users.duplicated().sum()"
   ]
  },
  {
   "cell_type": "markdown",
   "metadata": {},
   "source": [
    "В данных есть значения отклоняющиеся от нормы но они вполне вероятны."
   ]
  },
  {
   "cell_type": "markdown",
   "metadata": {},
   "source": [
    "В internet есть лишний столбец 'Unnamed: 0', удалим его. Так же заменим где необходимо тип на datetime "
   ]
  },
  {
   "cell_type": "code",
   "execution_count": 22,
   "metadata": {},
   "outputs": [],
   "source": [
    "del internet['Unnamed: 0']"
   ]
  },
  {
   "cell_type": "code",
   "execution_count": 23,
   "metadata": {},
   "outputs": [],
   "source": [
    "calls['call_date'] = pd.to_datetime(calls['call_date'])\n",
    "calls['month'] = calls['call_date'].dt.month\n",
    "\n",
    "internet['session_date'] = pd.to_datetime(internet['session_date'])\n",
    "internet['month'] = internet['session_date'].dt.month\n",
    "\n",
    "messages['message_date'] = pd.to_datetime(messages['message_date'])\n",
    "messages['month'] = messages['message_date'].dt.month\n",
    "\n",
    "users['churn_date'] = pd.to_datetime(users['churn_date'])"
   ]
  },
  {
   "cell_type": "markdown",
   "metadata": {},
   "source": [
    "## Расчеты"
   ]
  },
  {
   "cell_type": "markdown",
   "metadata": {},
   "source": [
    "Посчитаем для каждого пользователя израсходованных: минут, сообщений трафика. "
   ]
  },
  {
   "cell_type": "code",
   "execution_count": 24,
   "metadata": {},
   "outputs": [],
   "source": [
    "def math_ceil(col):\n",
    "    col = math.ceil(col)\n",
    "    return col\n",
    "#округлим значения к большему согласно правилам(минуты округляются сразу)\n",
    "calls['duration'] = calls['duration'].apply(math_ceil)\n",
    "calls_user_gr = calls.groupby(['user_id','month'], as_index=False)[['duration']].sum()\n",
    "calls_count_gr = calls.groupby(['user_id','month'], as_index=False)[['id']].count()\n",
    "calls_user_gr = pd.merge(calls_user_gr, calls_count_gr, how='outer', on=['user_id','month'])\n",
    "calls_user_gr.columns = ['user_id','month','duration','calls_count']\n",
    "\n",
    "internet_user_gr = internet.groupby(['user_id','month'], as_index=False)[['mb_used']].sum()\n",
    "#переведем мегабайты в гигабайты\n",
    "internet_user_gr['mb_used'] = internet_user_gr['mb_used'].apply(math_ceil)\n",
    "\n",
    "messages_user_gr = messages.groupby(['user_id','month'], as_index=False)[['id']].count()\n",
    "messages_user_gr.columns = ['user_id','month','messages_count']"
   ]
  },
  {
   "cell_type": "code",
   "execution_count": 25,
   "metadata": {},
   "outputs": [
    {
     "data": {
      "text/html": [
       "<div>\n",
       "<style scoped>\n",
       "    .dataframe tbody tr th:only-of-type {\n",
       "        vertical-align: middle;\n",
       "    }\n",
       "\n",
       "    .dataframe tbody tr th {\n",
       "        vertical-align: top;\n",
       "    }\n",
       "\n",
       "    .dataframe thead th {\n",
       "        text-align: right;\n",
       "    }\n",
       "</style>\n",
       "<table border=\"1\" class=\"dataframe\">\n",
       "  <thead>\n",
       "    <tr style=\"text-align: right;\">\n",
       "      <th></th>\n",
       "      <th>user_id</th>\n",
       "      <th>month</th>\n",
       "      <th>duration</th>\n",
       "      <th>calls_count</th>\n",
       "    </tr>\n",
       "  </thead>\n",
       "  <tbody>\n",
       "    <tr>\n",
       "      <td>0</td>\n",
       "      <td>1000</td>\n",
       "      <td>5</td>\n",
       "      <td>159</td>\n",
       "      <td>22</td>\n",
       "    </tr>\n",
       "    <tr>\n",
       "      <td>1</td>\n",
       "      <td>1000</td>\n",
       "      <td>6</td>\n",
       "      <td>172</td>\n",
       "      <td>43</td>\n",
       "    </tr>\n",
       "    <tr>\n",
       "      <td>2</td>\n",
       "      <td>1000</td>\n",
       "      <td>7</td>\n",
       "      <td>340</td>\n",
       "      <td>47</td>\n",
       "    </tr>\n",
       "    <tr>\n",
       "      <td>3</td>\n",
       "      <td>1000</td>\n",
       "      <td>8</td>\n",
       "      <td>408</td>\n",
       "      <td>52</td>\n",
       "    </tr>\n",
       "    <tr>\n",
       "      <td>4</td>\n",
       "      <td>1000</td>\n",
       "      <td>9</td>\n",
       "      <td>466</td>\n",
       "      <td>58</td>\n",
       "    </tr>\n",
       "    <tr>\n",
       "      <td>...</td>\n",
       "      <td>...</td>\n",
       "      <td>...</td>\n",
       "      <td>...</td>\n",
       "      <td>...</td>\n",
       "    </tr>\n",
       "    <tr>\n",
       "      <td>3169</td>\n",
       "      <td>1498</td>\n",
       "      <td>10</td>\n",
       "      <td>247</td>\n",
       "      <td>41</td>\n",
       "    </tr>\n",
       "    <tr>\n",
       "      <td>3170</td>\n",
       "      <td>1499</td>\n",
       "      <td>9</td>\n",
       "      <td>70</td>\n",
       "      <td>9</td>\n",
       "    </tr>\n",
       "    <tr>\n",
       "      <td>3171</td>\n",
       "      <td>1499</td>\n",
       "      <td>10</td>\n",
       "      <td>449</td>\n",
       "      <td>68</td>\n",
       "    </tr>\n",
       "    <tr>\n",
       "      <td>3172</td>\n",
       "      <td>1499</td>\n",
       "      <td>11</td>\n",
       "      <td>612</td>\n",
       "      <td>74</td>\n",
       "    </tr>\n",
       "    <tr>\n",
       "      <td>3173</td>\n",
       "      <td>1499</td>\n",
       "      <td>12</td>\n",
       "      <td>492</td>\n",
       "      <td>69</td>\n",
       "    </tr>\n",
       "  </tbody>\n",
       "</table>\n",
       "<p>3174 rows × 4 columns</p>\n",
       "</div>"
      ],
      "text/plain": [
       "      user_id  month  duration  calls_count\n",
       "0        1000      5       159           22\n",
       "1        1000      6       172           43\n",
       "2        1000      7       340           47\n",
       "3        1000      8       408           52\n",
       "4        1000      9       466           58\n",
       "...       ...    ...       ...          ...\n",
       "3169     1498     10       247           41\n",
       "3170     1499      9        70            9\n",
       "3171     1499     10       449           68\n",
       "3172     1499     11       612           74\n",
       "3173     1499     12       492           69\n",
       "\n",
       "[3174 rows x 4 columns]"
      ]
     },
     "execution_count": 25,
     "metadata": {},
     "output_type": "execute_result"
    }
   ],
   "source": [
    "calls_user_gr"
   ]
  },
  {
   "cell_type": "markdown",
   "metadata": {},
   "source": [
    "Соеденим данные в одну таблицу"
   ]
  },
  {
   "cell_type": "code",
   "execution_count": 26,
   "metadata": {},
   "outputs": [
    {
     "data": {
      "text/html": [
       "<div>\n",
       "<style scoped>\n",
       "    .dataframe tbody tr th:only-of-type {\n",
       "        vertical-align: middle;\n",
       "    }\n",
       "\n",
       "    .dataframe tbody tr th {\n",
       "        vertical-align: top;\n",
       "    }\n",
       "\n",
       "    .dataframe thead th {\n",
       "        text-align: right;\n",
       "    }\n",
       "</style>\n",
       "<table border=\"1\" class=\"dataframe\">\n",
       "  <thead>\n",
       "    <tr style=\"text-align: right;\">\n",
       "      <th></th>\n",
       "      <th>user_id</th>\n",
       "      <th>month</th>\n",
       "      <th>duration</th>\n",
       "      <th>calls_count</th>\n",
       "      <th>mb_used</th>\n",
       "      <th>messages_count</th>\n",
       "      <th>tariff_name</th>\n",
       "      <th>city</th>\n",
       "    </tr>\n",
       "  </thead>\n",
       "  <tbody>\n",
       "    <tr>\n",
       "      <td>0</td>\n",
       "      <td>1000</td>\n",
       "      <td>5</td>\n",
       "      <td>159.0</td>\n",
       "      <td>22.0</td>\n",
       "      <td>2254.0</td>\n",
       "      <td>22.0</td>\n",
       "      <td>ultra</td>\n",
       "      <td>Краснодар</td>\n",
       "    </tr>\n",
       "    <tr>\n",
       "      <td>1</td>\n",
       "      <td>1000</td>\n",
       "      <td>6</td>\n",
       "      <td>172.0</td>\n",
       "      <td>43.0</td>\n",
       "      <td>23234.0</td>\n",
       "      <td>60.0</td>\n",
       "      <td>ultra</td>\n",
       "      <td>Краснодар</td>\n",
       "    </tr>\n",
       "    <tr>\n",
       "      <td>2</td>\n",
       "      <td>1000</td>\n",
       "      <td>7</td>\n",
       "      <td>340.0</td>\n",
       "      <td>47.0</td>\n",
       "      <td>14004.0</td>\n",
       "      <td>75.0</td>\n",
       "      <td>ultra</td>\n",
       "      <td>Краснодар</td>\n",
       "    </tr>\n",
       "    <tr>\n",
       "      <td>3</td>\n",
       "      <td>1000</td>\n",
       "      <td>8</td>\n",
       "      <td>408.0</td>\n",
       "      <td>52.0</td>\n",
       "      <td>14056.0</td>\n",
       "      <td>81.0</td>\n",
       "      <td>ultra</td>\n",
       "      <td>Краснодар</td>\n",
       "    </tr>\n",
       "    <tr>\n",
       "      <td>4</td>\n",
       "      <td>1000</td>\n",
       "      <td>9</td>\n",
       "      <td>466.0</td>\n",
       "      <td>58.0</td>\n",
       "      <td>14569.0</td>\n",
       "      <td>57.0</td>\n",
       "      <td>ultra</td>\n",
       "      <td>Краснодар</td>\n",
       "    </tr>\n",
       "    <tr>\n",
       "      <td>...</td>\n",
       "      <td>...</td>\n",
       "      <td>...</td>\n",
       "      <td>...</td>\n",
       "      <td>...</td>\n",
       "      <td>...</td>\n",
       "      <td>...</td>\n",
       "      <td>...</td>\n",
       "      <td>...</td>\n",
       "    </tr>\n",
       "    <tr>\n",
       "      <td>3209</td>\n",
       "      <td>1489</td>\n",
       "      <td>8</td>\n",
       "      <td>NaN</td>\n",
       "      <td>NaN</td>\n",
       "      <td>11051.0</td>\n",
       "      <td>17.0</td>\n",
       "      <td>smart</td>\n",
       "      <td>Санкт-Петербург</td>\n",
       "    </tr>\n",
       "    <tr>\n",
       "      <td>3210</td>\n",
       "      <td>1489</td>\n",
       "      <td>9</td>\n",
       "      <td>NaN</td>\n",
       "      <td>NaN</td>\n",
       "      <td>17207.0</td>\n",
       "      <td>32.0</td>\n",
       "      <td>smart</td>\n",
       "      <td>Санкт-Петербург</td>\n",
       "    </tr>\n",
       "    <tr>\n",
       "      <td>3211</td>\n",
       "      <td>1489</td>\n",
       "      <td>10</td>\n",
       "      <td>NaN</td>\n",
       "      <td>NaN</td>\n",
       "      <td>19560.0</td>\n",
       "      <td>21.0</td>\n",
       "      <td>smart</td>\n",
       "      <td>Санкт-Петербург</td>\n",
       "    </tr>\n",
       "    <tr>\n",
       "      <td>3212</td>\n",
       "      <td>1489</td>\n",
       "      <td>11</td>\n",
       "      <td>NaN</td>\n",
       "      <td>NaN</td>\n",
       "      <td>17492.0</td>\n",
       "      <td>20.0</td>\n",
       "      <td>smart</td>\n",
       "      <td>Санкт-Петербург</td>\n",
       "    </tr>\n",
       "    <tr>\n",
       "      <td>3213</td>\n",
       "      <td>1489</td>\n",
       "      <td>12</td>\n",
       "      <td>NaN</td>\n",
       "      <td>NaN</td>\n",
       "      <td>17323.0</td>\n",
       "      <td>35.0</td>\n",
       "      <td>smart</td>\n",
       "      <td>Санкт-Петербург</td>\n",
       "    </tr>\n",
       "  </tbody>\n",
       "</table>\n",
       "<p>3214 rows × 8 columns</p>\n",
       "</div>"
      ],
      "text/plain": [
       "      user_id  month  duration  calls_count  mb_used  messages_count  \\\n",
       "0        1000      5     159.0         22.0   2254.0            22.0   \n",
       "1        1000      6     172.0         43.0  23234.0            60.0   \n",
       "2        1000      7     340.0         47.0  14004.0            75.0   \n",
       "3        1000      8     408.0         52.0  14056.0            81.0   \n",
       "4        1000      9     466.0         58.0  14569.0            57.0   \n",
       "...       ...    ...       ...          ...      ...             ...   \n",
       "3209     1489      8       NaN          NaN  11051.0            17.0   \n",
       "3210     1489      9       NaN          NaN  17207.0            32.0   \n",
       "3211     1489     10       NaN          NaN  19560.0            21.0   \n",
       "3212     1489     11       NaN          NaN  17492.0            20.0   \n",
       "3213     1489     12       NaN          NaN  17323.0            35.0   \n",
       "\n",
       "     tariff_name             city  \n",
       "0          ultra        Краснодар  \n",
       "1          ultra        Краснодар  \n",
       "2          ultra        Краснодар  \n",
       "3          ultra        Краснодар  \n",
       "4          ultra        Краснодар  \n",
       "...          ...              ...  \n",
       "3209       smart  Санкт-Петербург  \n",
       "3210       smart  Санкт-Петербург  \n",
       "3211       smart  Санкт-Петербург  \n",
       "3212       smart  Санкт-Петербург  \n",
       "3213       smart  Санкт-Петербург  \n",
       "\n",
       "[3214 rows x 8 columns]"
      ]
     },
     "execution_count": 26,
     "metadata": {},
     "output_type": "execute_result"
    }
   ],
   "source": [
    "user_spending = pd.merge(calls_user_gr, internet_user_gr, on=['user_id','month'], how='outer')\n",
    "user_spending = user_spending.merge(messages_user_gr, on=['user_id','month'], how='outer')\n",
    "user_spending = user_spending.merge(users.loc[:,['user_id','tariff','city']], on='user_id', how='left')\n",
    "user_spending = user_spending.rename({'tariff': 'tariff_name'}, axis=1)\n",
    "user_spending"
   ]
  },
  {
   "cell_type": "code",
   "execution_count": 27,
   "metadata": {},
   "outputs": [
    {
     "data": {
      "text/plain": [
       "user_id             0\n",
       "month               0\n",
       "duration           40\n",
       "calls_count        40\n",
       "mb_used            11\n",
       "messages_count    497\n",
       "tariff_name         0\n",
       "city                0\n",
       "dtype: int64"
      ]
     },
     "execution_count": 27,
     "metadata": {},
     "output_type": "execute_result"
    }
   ],
   "source": [
    "user_spending.isna().sum()"
   ]
  },
  {
   "cell_type": "code",
   "execution_count": 28,
   "metadata": {},
   "outputs": [],
   "source": [
    "user_spending = user_spending.fillna(0)"
   ]
  },
  {
   "cell_type": "code",
   "execution_count": 29,
   "metadata": {},
   "outputs": [
    {
     "data": {
      "text/plain": [
       "user_id           0\n",
       "month             0\n",
       "duration          0\n",
       "calls_count       0\n",
       "mb_used           0\n",
       "messages_count    0\n",
       "tariff_name       0\n",
       "city              0\n",
       "dtype: int64"
      ]
     },
     "execution_count": 29,
     "metadata": {},
     "output_type": "execute_result"
    }
   ],
   "source": [
    "user_spending.isna().sum()"
   ]
  },
  {
   "cell_type": "markdown",
   "metadata": {},
   "source": [
    "Напишем функцию расчитывающую значения превышаюшие значения включенные в тариф, и расчитаем их."
   ]
  },
  {
   "cell_type": "code",
   "execution_count": 30,
   "metadata": {},
   "outputs": [],
   "source": [
    "def value_over_tariff(data, column, need_column, tariff_column):\n",
    "    for tariff_n in data['tariff_name'].unique():\n",
    "        for tariff_value in tariffs.loc[tariffs['tariff_name'] == tariff_n, tariff_column].unique():\n",
    "            data.loc[data['tariff_name'] == tariff_n, need_column] = data.loc[data['tariff_name'] == tariff_n, column] - tariff_value   \n",
    "    return data   "
   ]
  },
  {
   "cell_type": "code",
   "execution_count": 31,
   "metadata": {},
   "outputs": [],
   "source": [
    "user_spending = value_over_tariff(user_spending, 'messages_count', 'messages_over_tariff', 'messages_included')\n",
    "user_spending = value_over_tariff(user_spending, 'mb_used', 'gb_over_tariff', 'mb_per_month_included')\n",
    "user_spending['gb_over_tariff'] = (user_spending['gb_over_tariff'] / 1024)\n",
    "user_spending['gb_over_tariff'] = user_spending['gb_over_tariff'].apply(math_ceil)\n",
    "user_spending = value_over_tariff(user_spending, 'duration', 'minutes_over_tariff', 'minutes_included')"
   ]
  },
  {
   "cell_type": "code",
   "execution_count": 32,
   "metadata": {},
   "outputs": [],
   "source": [
    "user_spending.loc[user_spending['messages_over_tariff'] < 0, 'messages_over_tariff'] = 0\n",
    "user_spending.loc[user_spending['gb_over_tariff'] < 0, 'gb_over_tariff'] = 0\n",
    "user_spending.loc[user_spending['minutes_over_tariff'] < 0, 'minutes_over_tariff'] = 0"
   ]
  },
  {
   "cell_type": "code",
   "execution_count": 33,
   "metadata": {},
   "outputs": [
    {
     "data": {
      "text/html": [
       "<div>\n",
       "<style scoped>\n",
       "    .dataframe tbody tr th:only-of-type {\n",
       "        vertical-align: middle;\n",
       "    }\n",
       "\n",
       "    .dataframe tbody tr th {\n",
       "        vertical-align: top;\n",
       "    }\n",
       "\n",
       "    .dataframe thead th {\n",
       "        text-align: right;\n",
       "    }\n",
       "</style>\n",
       "<table border=\"1\" class=\"dataframe\">\n",
       "  <thead>\n",
       "    <tr style=\"text-align: right;\">\n",
       "      <th></th>\n",
       "      <th>user_id</th>\n",
       "      <th>month</th>\n",
       "      <th>duration</th>\n",
       "      <th>calls_count</th>\n",
       "      <th>mb_used</th>\n",
       "      <th>messages_count</th>\n",
       "      <th>tariff_name</th>\n",
       "      <th>city</th>\n",
       "      <th>messages_over_tariff</th>\n",
       "      <th>gb_over_tariff</th>\n",
       "      <th>minutes_over_tariff</th>\n",
       "    </tr>\n",
       "  </thead>\n",
       "  <tbody>\n",
       "    <tr>\n",
       "      <td>0</td>\n",
       "      <td>1000</td>\n",
       "      <td>5</td>\n",
       "      <td>159.0</td>\n",
       "      <td>22.0</td>\n",
       "      <td>2254.0</td>\n",
       "      <td>22.0</td>\n",
       "      <td>ultra</td>\n",
       "      <td>Краснодар</td>\n",
       "      <td>0.0</td>\n",
       "      <td>0</td>\n",
       "      <td>0.0</td>\n",
       "    </tr>\n",
       "    <tr>\n",
       "      <td>1</td>\n",
       "      <td>1000</td>\n",
       "      <td>6</td>\n",
       "      <td>172.0</td>\n",
       "      <td>43.0</td>\n",
       "      <td>23234.0</td>\n",
       "      <td>60.0</td>\n",
       "      <td>ultra</td>\n",
       "      <td>Краснодар</td>\n",
       "      <td>0.0</td>\n",
       "      <td>0</td>\n",
       "      <td>0.0</td>\n",
       "    </tr>\n",
       "    <tr>\n",
       "      <td>2</td>\n",
       "      <td>1000</td>\n",
       "      <td>7</td>\n",
       "      <td>340.0</td>\n",
       "      <td>47.0</td>\n",
       "      <td>14004.0</td>\n",
       "      <td>75.0</td>\n",
       "      <td>ultra</td>\n",
       "      <td>Краснодар</td>\n",
       "      <td>0.0</td>\n",
       "      <td>0</td>\n",
       "      <td>0.0</td>\n",
       "    </tr>\n",
       "    <tr>\n",
       "      <td>3</td>\n",
       "      <td>1000</td>\n",
       "      <td>8</td>\n",
       "      <td>408.0</td>\n",
       "      <td>52.0</td>\n",
       "      <td>14056.0</td>\n",
       "      <td>81.0</td>\n",
       "      <td>ultra</td>\n",
       "      <td>Краснодар</td>\n",
       "      <td>0.0</td>\n",
       "      <td>0</td>\n",
       "      <td>0.0</td>\n",
       "    </tr>\n",
       "    <tr>\n",
       "      <td>4</td>\n",
       "      <td>1000</td>\n",
       "      <td>9</td>\n",
       "      <td>466.0</td>\n",
       "      <td>58.0</td>\n",
       "      <td>14569.0</td>\n",
       "      <td>57.0</td>\n",
       "      <td>ultra</td>\n",
       "      <td>Краснодар</td>\n",
       "      <td>0.0</td>\n",
       "      <td>0</td>\n",
       "      <td>0.0</td>\n",
       "    </tr>\n",
       "    <tr>\n",
       "      <td>...</td>\n",
       "      <td>...</td>\n",
       "      <td>...</td>\n",
       "      <td>...</td>\n",
       "      <td>...</td>\n",
       "      <td>...</td>\n",
       "      <td>...</td>\n",
       "      <td>...</td>\n",
       "      <td>...</td>\n",
       "      <td>...</td>\n",
       "      <td>...</td>\n",
       "      <td>...</td>\n",
       "    </tr>\n",
       "    <tr>\n",
       "      <td>3209</td>\n",
       "      <td>1489</td>\n",
       "      <td>8</td>\n",
       "      <td>0.0</td>\n",
       "      <td>0.0</td>\n",
       "      <td>11051.0</td>\n",
       "      <td>17.0</td>\n",
       "      <td>smart</td>\n",
       "      <td>Санкт-Петербург</td>\n",
       "      <td>0.0</td>\n",
       "      <td>0</td>\n",
       "      <td>0.0</td>\n",
       "    </tr>\n",
       "    <tr>\n",
       "      <td>3210</td>\n",
       "      <td>1489</td>\n",
       "      <td>9</td>\n",
       "      <td>0.0</td>\n",
       "      <td>0.0</td>\n",
       "      <td>17207.0</td>\n",
       "      <td>32.0</td>\n",
       "      <td>smart</td>\n",
       "      <td>Санкт-Петербург</td>\n",
       "      <td>0.0</td>\n",
       "      <td>2</td>\n",
       "      <td>0.0</td>\n",
       "    </tr>\n",
       "    <tr>\n",
       "      <td>3211</td>\n",
       "      <td>1489</td>\n",
       "      <td>10</td>\n",
       "      <td>0.0</td>\n",
       "      <td>0.0</td>\n",
       "      <td>19560.0</td>\n",
       "      <td>21.0</td>\n",
       "      <td>smart</td>\n",
       "      <td>Санкт-Петербург</td>\n",
       "      <td>0.0</td>\n",
       "      <td>5</td>\n",
       "      <td>0.0</td>\n",
       "    </tr>\n",
       "    <tr>\n",
       "      <td>3212</td>\n",
       "      <td>1489</td>\n",
       "      <td>11</td>\n",
       "      <td>0.0</td>\n",
       "      <td>0.0</td>\n",
       "      <td>17492.0</td>\n",
       "      <td>20.0</td>\n",
       "      <td>smart</td>\n",
       "      <td>Санкт-Петербург</td>\n",
       "      <td>0.0</td>\n",
       "      <td>3</td>\n",
       "      <td>0.0</td>\n",
       "    </tr>\n",
       "    <tr>\n",
       "      <td>3213</td>\n",
       "      <td>1489</td>\n",
       "      <td>12</td>\n",
       "      <td>0.0</td>\n",
       "      <td>0.0</td>\n",
       "      <td>17323.0</td>\n",
       "      <td>35.0</td>\n",
       "      <td>smart</td>\n",
       "      <td>Санкт-Петербург</td>\n",
       "      <td>0.0</td>\n",
       "      <td>2</td>\n",
       "      <td>0.0</td>\n",
       "    </tr>\n",
       "  </tbody>\n",
       "</table>\n",
       "<p>3214 rows × 11 columns</p>\n",
       "</div>"
      ],
      "text/plain": [
       "      user_id  month  duration  calls_count  mb_used  messages_count  \\\n",
       "0        1000      5     159.0         22.0   2254.0            22.0   \n",
       "1        1000      6     172.0         43.0  23234.0            60.0   \n",
       "2        1000      7     340.0         47.0  14004.0            75.0   \n",
       "3        1000      8     408.0         52.0  14056.0            81.0   \n",
       "4        1000      9     466.0         58.0  14569.0            57.0   \n",
       "...       ...    ...       ...          ...      ...             ...   \n",
       "3209     1489      8       0.0          0.0  11051.0            17.0   \n",
       "3210     1489      9       0.0          0.0  17207.0            32.0   \n",
       "3211     1489     10       0.0          0.0  19560.0            21.0   \n",
       "3212     1489     11       0.0          0.0  17492.0            20.0   \n",
       "3213     1489     12       0.0          0.0  17323.0            35.0   \n",
       "\n",
       "     tariff_name             city  messages_over_tariff  gb_over_tariff  \\\n",
       "0          ultra        Краснодар                   0.0               0   \n",
       "1          ultra        Краснодар                   0.0               0   \n",
       "2          ultra        Краснодар                   0.0               0   \n",
       "3          ultra        Краснодар                   0.0               0   \n",
       "4          ultra        Краснодар                   0.0               0   \n",
       "...          ...              ...                   ...             ...   \n",
       "3209       smart  Санкт-Петербург                   0.0               0   \n",
       "3210       smart  Санкт-Петербург                   0.0               2   \n",
       "3211       smart  Санкт-Петербург                   0.0               5   \n",
       "3212       smart  Санкт-Петербург                   0.0               3   \n",
       "3213       smart  Санкт-Петербург                   0.0               2   \n",
       "\n",
       "      minutes_over_tariff  \n",
       "0                     0.0  \n",
       "1                     0.0  \n",
       "2                     0.0  \n",
       "3                     0.0  \n",
       "4                     0.0  \n",
       "...                   ...  \n",
       "3209                  0.0  \n",
       "3210                  0.0  \n",
       "3211                  0.0  \n",
       "3212                  0.0  \n",
       "3213                  0.0  \n",
       "\n",
       "[3214 rows x 11 columns]"
      ]
     },
     "execution_count": 33,
     "metadata": {},
     "output_type": "execute_result"
    }
   ],
   "source": [
    "user_spending"
   ]
  },
  {
   "cell_type": "markdown",
   "metadata": {},
   "source": [
    "Напишем функцию которая расчитывает во сколько обошлось превышения значений включенных в тариф. "
   ]
  },
  {
   "cell_type": "code",
   "execution_count": 34,
   "metadata": {},
   "outputs": [],
   "source": [
    "def price_over_tariff(data, column, need_column, tariff_column):\n",
    "    for tariff_n in data['tariff_name'].unique():\n",
    "        for tariff_value in tariffs.loc[tariffs['tariff_name'] == tariff_n, tariff_column].unique():\n",
    "                data.loc[data['tariff_name'] == tariff_n, need_column] = data.loc[\n",
    "                    data['tariff_name'] == tariff_n, column] * tariff_value\n",
    "    return data   "
   ]
  },
  {
   "cell_type": "code",
   "execution_count": 35,
   "metadata": {},
   "outputs": [],
   "source": [
    "user_spending = price_over_tariff(user_spending, 'messages_over_tariff', 'mes_over_t_price', 'rub_per_message')\n",
    "user_spending = price_over_tariff(user_spending, 'gb_over_tariff', 'gb_over_t_price', 'rub_per_gb')\n",
    "user_spending = price_over_tariff(user_spending, 'minutes_over_tariff', 'min_over_t_price', 'rub_per_minute')"
   ]
  },
  {
   "cell_type": "markdown",
   "metadata": {},
   "source": [
    "Посчитаем общую выручку с каждого пользователя включая абонетскую плату."
   ]
  },
  {
   "cell_type": "code",
   "execution_count": 36,
   "metadata": {},
   "outputs": [],
   "source": [
    "user_spending['cost_per_month'] = \\\n",
    "    user_spending['mes_over_t_price']\\\n",
    "    + user_spending['gb_over_t_price']\\\n",
    "    + user_spending['min_over_t_price']\n",
    "\n",
    "user_spending = pd.merge(user_spending, tariffs, on='tariff_name', how='left')\n",
    "\n",
    "user_spending.loc[user_spending['tariff_name'] == 'ultra', 'cost_per_month'] =\\\n",
    "    user_spending.loc[user_spending['tariff_name'] == 'ultra', 'cost_per_month'] + user_spending.loc[\n",
    "    user_spending['tariff_name'] == 'ultra', 'rub_monthly_fee']\n",
    "\n",
    "user_spending.loc[user_spending['tariff_name'] == 'smart', 'cost_per_month'] =\\\n",
    "    user_spending.loc[user_spending['tariff_name'] == 'smart', 'cost_per_month'] + user_spending.loc[\n",
    "    user_spending['tariff_name'] == 'smart', 'rub_monthly_fee']"
   ]
  },
  {
   "cell_type": "code",
   "execution_count": 37,
   "metadata": {},
   "outputs": [
    {
     "name": "stdout",
     "output_type": "stream",
     "text": [
      "<class 'pandas.core.frame.DataFrame'>\n",
      "Int64Index: 3214 entries, 0 to 3213\n",
      "Data columns (total 22 columns):\n",
      "user_id                  3214 non-null int64\n",
      "month                    3214 non-null int64\n",
      "duration                 3214 non-null float64\n",
      "calls_count              3214 non-null float64\n",
      "mb_used                  3214 non-null float64\n",
      "messages_count           3214 non-null float64\n",
      "tariff_name              3214 non-null object\n",
      "city                     3214 non-null object\n",
      "messages_over_tariff     3214 non-null float64\n",
      "gb_over_tariff           3214 non-null int64\n",
      "minutes_over_tariff      3214 non-null float64\n",
      "mes_over_t_price         3214 non-null float64\n",
      "gb_over_t_price          3214 non-null float64\n",
      "min_over_t_price         3214 non-null float64\n",
      "cost_per_month           3214 non-null float64\n",
      "messages_included        3214 non-null int64\n",
      "mb_per_month_included    3214 non-null int64\n",
      "minutes_included         3214 non-null int64\n",
      "rub_monthly_fee          3214 non-null int64\n",
      "rub_per_gb               3214 non-null int64\n",
      "rub_per_message          3214 non-null int64\n",
      "rub_per_minute           3214 non-null int64\n",
      "dtypes: float64(10), int64(10), object(2)\n",
      "memory usage: 577.5+ KB\n"
     ]
    }
   ],
   "source": [
    "user_spending.info()"
   ]
  },
  {
   "cell_type": "code",
   "execution_count": 73,
   "metadata": {},
   "outputs": [
    {
     "data": {
      "text/plain": [
       "count    3214.000000\n",
       "mean     1529.076229\n",
       "std       798.251091\n",
       "min       550.000000\n",
       "25%       750.000000\n",
       "50%      1653.500000\n",
       "75%      1950.000000\n",
       "max      6770.000000\n",
       "Name: cost_per_month, dtype: float64"
      ]
     },
     "execution_count": 73,
     "metadata": {},
     "output_type": "execute_result"
    }
   ],
   "source": [
    "user_spending.cost_per_month.describe()"
   ]
  },
  {
   "cell_type": "code",
   "execution_count": 38,
   "metadata": {},
   "outputs": [
    {
     "data": {
      "text/html": [
       "<div>\n",
       "<style scoped>\n",
       "    .dataframe tbody tr th:only-of-type {\n",
       "        vertical-align: middle;\n",
       "    }\n",
       "\n",
       "    .dataframe tbody tr th {\n",
       "        vertical-align: top;\n",
       "    }\n",
       "\n",
       "    .dataframe thead th {\n",
       "        text-align: right;\n",
       "    }\n",
       "</style>\n",
       "<table border=\"1\" class=\"dataframe\">\n",
       "  <thead>\n",
       "    <tr style=\"text-align: right;\">\n",
       "      <th></th>\n",
       "      <th>user_id</th>\n",
       "      <th>month</th>\n",
       "      <th>duration</th>\n",
       "      <th>calls_count</th>\n",
       "      <th>mb_used</th>\n",
       "      <th>messages_count</th>\n",
       "      <th>tariff_name</th>\n",
       "      <th>city</th>\n",
       "      <th>messages_over_tariff</th>\n",
       "      <th>gb_over_tariff</th>\n",
       "      <th>...</th>\n",
       "      <th>gb_over_t_price</th>\n",
       "      <th>min_over_t_price</th>\n",
       "      <th>cost_per_month</th>\n",
       "      <th>messages_included</th>\n",
       "      <th>mb_per_month_included</th>\n",
       "      <th>minutes_included</th>\n",
       "      <th>rub_monthly_fee</th>\n",
       "      <th>rub_per_gb</th>\n",
       "      <th>rub_per_message</th>\n",
       "      <th>rub_per_minute</th>\n",
       "    </tr>\n",
       "  </thead>\n",
       "  <tbody>\n",
       "    <tr>\n",
       "      <td>0</td>\n",
       "      <td>1000</td>\n",
       "      <td>5</td>\n",
       "      <td>159.0</td>\n",
       "      <td>22.0</td>\n",
       "      <td>2254.0</td>\n",
       "      <td>22.0</td>\n",
       "      <td>ultra</td>\n",
       "      <td>Краснодар</td>\n",
       "      <td>0.0</td>\n",
       "      <td>0</td>\n",
       "      <td>...</td>\n",
       "      <td>0.0</td>\n",
       "      <td>0.0</td>\n",
       "      <td>1950.0</td>\n",
       "      <td>1000</td>\n",
       "      <td>30720</td>\n",
       "      <td>3000</td>\n",
       "      <td>1950</td>\n",
       "      <td>150</td>\n",
       "      <td>1</td>\n",
       "      <td>1</td>\n",
       "    </tr>\n",
       "    <tr>\n",
       "      <td>1</td>\n",
       "      <td>1000</td>\n",
       "      <td>6</td>\n",
       "      <td>172.0</td>\n",
       "      <td>43.0</td>\n",
       "      <td>23234.0</td>\n",
       "      <td>60.0</td>\n",
       "      <td>ultra</td>\n",
       "      <td>Краснодар</td>\n",
       "      <td>0.0</td>\n",
       "      <td>0</td>\n",
       "      <td>...</td>\n",
       "      <td>0.0</td>\n",
       "      <td>0.0</td>\n",
       "      <td>1950.0</td>\n",
       "      <td>1000</td>\n",
       "      <td>30720</td>\n",
       "      <td>3000</td>\n",
       "      <td>1950</td>\n",
       "      <td>150</td>\n",
       "      <td>1</td>\n",
       "      <td>1</td>\n",
       "    </tr>\n",
       "    <tr>\n",
       "      <td>2</td>\n",
       "      <td>1000</td>\n",
       "      <td>7</td>\n",
       "      <td>340.0</td>\n",
       "      <td>47.0</td>\n",
       "      <td>14004.0</td>\n",
       "      <td>75.0</td>\n",
       "      <td>ultra</td>\n",
       "      <td>Краснодар</td>\n",
       "      <td>0.0</td>\n",
       "      <td>0</td>\n",
       "      <td>...</td>\n",
       "      <td>0.0</td>\n",
       "      <td>0.0</td>\n",
       "      <td>1950.0</td>\n",
       "      <td>1000</td>\n",
       "      <td>30720</td>\n",
       "      <td>3000</td>\n",
       "      <td>1950</td>\n",
       "      <td>150</td>\n",
       "      <td>1</td>\n",
       "      <td>1</td>\n",
       "    </tr>\n",
       "    <tr>\n",
       "      <td>3</td>\n",
       "      <td>1000</td>\n",
       "      <td>8</td>\n",
       "      <td>408.0</td>\n",
       "      <td>52.0</td>\n",
       "      <td>14056.0</td>\n",
       "      <td>81.0</td>\n",
       "      <td>ultra</td>\n",
       "      <td>Краснодар</td>\n",
       "      <td>0.0</td>\n",
       "      <td>0</td>\n",
       "      <td>...</td>\n",
       "      <td>0.0</td>\n",
       "      <td>0.0</td>\n",
       "      <td>1950.0</td>\n",
       "      <td>1000</td>\n",
       "      <td>30720</td>\n",
       "      <td>3000</td>\n",
       "      <td>1950</td>\n",
       "      <td>150</td>\n",
       "      <td>1</td>\n",
       "      <td>1</td>\n",
       "    </tr>\n",
       "    <tr>\n",
       "      <td>4</td>\n",
       "      <td>1000</td>\n",
       "      <td>9</td>\n",
       "      <td>466.0</td>\n",
       "      <td>58.0</td>\n",
       "      <td>14569.0</td>\n",
       "      <td>57.0</td>\n",
       "      <td>ultra</td>\n",
       "      <td>Краснодар</td>\n",
       "      <td>0.0</td>\n",
       "      <td>0</td>\n",
       "      <td>...</td>\n",
       "      <td>0.0</td>\n",
       "      <td>0.0</td>\n",
       "      <td>1950.0</td>\n",
       "      <td>1000</td>\n",
       "      <td>30720</td>\n",
       "      <td>3000</td>\n",
       "      <td>1950</td>\n",
       "      <td>150</td>\n",
       "      <td>1</td>\n",
       "      <td>1</td>\n",
       "    </tr>\n",
       "  </tbody>\n",
       "</table>\n",
       "<p>5 rows × 22 columns</p>\n",
       "</div>"
      ],
      "text/plain": [
       "   user_id  month  duration  calls_count  mb_used  messages_count tariff_name  \\\n",
       "0     1000      5     159.0         22.0   2254.0            22.0       ultra   \n",
       "1     1000      6     172.0         43.0  23234.0            60.0       ultra   \n",
       "2     1000      7     340.0         47.0  14004.0            75.0       ultra   \n",
       "3     1000      8     408.0         52.0  14056.0            81.0       ultra   \n",
       "4     1000      9     466.0         58.0  14569.0            57.0       ultra   \n",
       "\n",
       "        city  messages_over_tariff  gb_over_tariff  ...  gb_over_t_price  \\\n",
       "0  Краснодар                   0.0               0  ...              0.0   \n",
       "1  Краснодар                   0.0               0  ...              0.0   \n",
       "2  Краснодар                   0.0               0  ...              0.0   \n",
       "3  Краснодар                   0.0               0  ...              0.0   \n",
       "4  Краснодар                   0.0               0  ...              0.0   \n",
       "\n",
       "   min_over_t_price  cost_per_month  messages_included  mb_per_month_included  \\\n",
       "0               0.0          1950.0               1000                  30720   \n",
       "1               0.0          1950.0               1000                  30720   \n",
       "2               0.0          1950.0               1000                  30720   \n",
       "3               0.0          1950.0               1000                  30720   \n",
       "4               0.0          1950.0               1000                  30720   \n",
       "\n",
       "   minutes_included  rub_monthly_fee  rub_per_gb  rub_per_message  \\\n",
       "0              3000             1950         150                1   \n",
       "1              3000             1950         150                1   \n",
       "2              3000             1950         150                1   \n",
       "3              3000             1950         150                1   \n",
       "4              3000             1950         150                1   \n",
       "\n",
       "   rub_per_minute  \n",
       "0               1  \n",
       "1               1  \n",
       "2               1  \n",
       "3               1  \n",
       "4               1  \n",
       "\n",
       "[5 rows x 22 columns]"
      ]
     },
     "execution_count": 38,
     "metadata": {},
     "output_type": "execute_result"
    }
   ],
   "source": [
    "user_spending.head()"
   ]
  },
  {
   "cell_type": "markdown",
   "metadata": {},
   "source": [
    "## Анализ"
   ]
  },
  {
   "cell_type": "markdown",
   "metadata": {},
   "source": [
    "### Данные о звонках"
   ]
  },
  {
   "cell_type": "code",
   "execution_count": 39,
   "metadata": {},
   "outputs": [
    {
     "data": {
      "image/png": "[encoded data removed]",
      "text/plain": [
       "<Figure size 432x288 with 1 Axes>"
      ]
     },
     "metadata": {
      "needs_background": "light"
     },
     "output_type": "display_data"
    }
   ],
   "source": [
    "plt.hist(user_spending['duration'], bins=100)\n",
    "plt.title('Длительность звонков')\n",
    "plt.show()"
   ]
  },
  {
   "cell_type": "markdown",
   "metadata": {},
   "source": [
    "Сравним графики для каждого тарифа."
   ]
  },
  {
   "cell_type": "code",
   "execution_count": 40,
   "metadata": {},
   "outputs": [
    {
     "data": {
      "image/png": "[encoded data removed]",
      "text/plain": [
       "<Figure size 432x288 with 1 Axes>"
      ]
     },
     "metadata": {
      "needs_background": "light"
     },
     "output_type": "display_data"
    }
   ],
   "source": [
    "sns.kdeplot(user_spending.loc[user_spending['tariff_name'] == 'ultra','duration'],\n",
    "            color='blue',\n",
    "            shade=True,\n",
    "            alpha = 0.5,\n",
    "            label = 'ultra')\n",
    "sns.kdeplot(user_spending.loc[user_spending['tariff_name'] == 'smart','duration'], color='deeppink',\n",
    "            shade=True, \n",
    "            alpha = 0.5,\n",
    "            label = 'smart')\n",
    "plt.legend()\n",
    "plt.title('Длительность звонков')\n",
    "plt.show()"
   ]
  },
  {
   "cell_type": "markdown",
   "metadata": {},
   "source": [
    "Исходя из графика мы видим что пользователи тарифа 'ultra' в среднем тратят больше минут, но длительность разговоров крайне редко превышает 1500 соответственно пользователи редко использую хотя бы половину включенных в тариф минут. С пользователями тарифа 'smart' другая ситуация по большей части они гораздо ближе к предельному значению включенных в тариф минут."
   ]
  },
  {
   "cell_type": "code",
   "execution_count": 41,
   "metadata": {},
   "outputs": [
    {
     "data": {
      "image/png": "[encoded data removed]",
      "text/plain": [
       "<Figure size 432x288 with 1 Axes>"
      ]
     },
     "metadata": {
      "needs_background": "light"
     },
     "output_type": "display_data"
    }
   ],
   "source": [
    "ultra_duration_mean_gr = user_spending.loc[\n",
    "    user_spending['tariff_name'] == 'ultra'].groupby('month', as_index=False)[['duration']].mean()\n",
    "smart_duration_mean_gr = user_spending.loc[\n",
    "    user_spending['tariff_name'] == 'smart'].groupby('month', as_index=False)[['duration']].mean()\n",
    "\n",
    "plt.plot(smart_duration_mean_gr['duration'], label='smart')\n",
    "plt.plot(ultra_duration_mean_gr['duration'], label='ultra')\n",
    "plt.xlabel('Месяц')\n",
    "plt.ylabel('Длительность')\n",
    "plt.title('Длительность звонков в течении года')\n",
    "plt.legend()\n",
    "plt.show()"
   ]
  },
  {
   "cell_type": "markdown",
   "metadata": {},
   "source": [
    "Исходя из графика мы видим что длительность разговоров пользователей обоих тарифов постепенно увеличивается к концу года"
   ]
  },
  {
   "cell_type": "code",
   "execution_count": 42,
   "metadata": {},
   "outputs": [
    {
     "data": {
      "text/plain": [
       "count     985.000000\n",
       "mean      526.623350\n",
       "std       317.606098\n",
       "min         0.000000\n",
       "25%       284.000000\n",
       "50%       518.000000\n",
       "75%       752.000000\n",
       "max      1673.000000\n",
       "Name: duration, dtype: float64"
      ]
     },
     "execution_count": 42,
     "metadata": {},
     "output_type": "execute_result"
    }
   ],
   "source": [
    "user_spending.loc[user_spending['tariff_name'] == 'ultra','duration'].describe()"
   ]
  },
  {
   "cell_type": "code",
   "execution_count": 43,
   "metadata": {},
   "outputs": [
    {
     "data": {
      "text/plain": [
       "count    2229.000000\n",
       "mean      417.934948\n",
       "std       190.313730\n",
       "min         0.000000\n",
       "25%       282.000000\n",
       "50%       422.000000\n",
       "75%       545.000000\n",
       "max      1435.000000\n",
       "Name: duration, dtype: float64"
      ]
     },
     "execution_count": 43,
     "metadata": {},
     "output_type": "execute_result"
    }
   ],
   "source": [
    "user_spending.loc[user_spending['tariff_name'] == 'smart','duration'].describe()"
   ]
  },
  {
   "cell_type": "code",
   "execution_count": 44,
   "metadata": {},
   "outputs": [
    {
     "name": "stdout",
     "output_type": "stream",
     "text": [
      "Дисперсия: 100873.63\n"
     ]
    }
   ],
   "source": [
    "print('Дисперсия: {:.2f}'.format(np.var(user_spending.loc[user_spending['tariff_name'] == 'ultra','duration'], ddof=1)))"
   ]
  },
  {
   "cell_type": "code",
   "execution_count": 45,
   "metadata": {},
   "outputs": [
    {
     "name": "stdout",
     "output_type": "stream",
     "text": [
      "Дисперсия: 36219.32\n"
     ]
    }
   ],
   "source": [
    "print('Дисперсия: {:.2f}'.format(np.var(user_spending.loc[user_spending['tariff_name'] == 'smart','duration'], ddof=1)))"
   ]
  },
  {
   "cell_type": "markdown",
   "metadata": {},
   "source": [
    "#### Вывод"
   ]
  },
  {
   "cell_type": "markdown",
   "metadata": {},
   "source": [
    "В большинстве своем в зависимости от тарифа люди разговаривают от 420 до 520 минут. При этом среднее не сильно отличается от медианы, а стандартное отклонение и дисперсия достаточно велики. Следовательно можно сказать что количество потраченых минут сильно отличается от пользователя к пользователю."
   ]
  },
  {
   "cell_type": "markdown",
   "metadata": {},
   "source": [
    "### Данные об интернет трафике"
   ]
  },
  {
   "cell_type": "code",
   "execution_count": 46,
   "metadata": {},
   "outputs": [
    {
     "data": {
      "image/png": "[encoded data removed]",
      "text/plain": [
       "<Figure size 432x288 with 1 Axes>"
      ]
     },
     "metadata": {
      "needs_background": "light"
     },
     "output_type": "display_data"
    }
   ],
   "source": [
    "plt.hist(user_spending['mb_used'], bins=50)\n",
    "plt.title('Количество использованных мегабайт')\n",
    "plt.show()"
   ]
  },
  {
   "cell_type": "code",
   "execution_count": 47,
   "metadata": {},
   "outputs": [
    {
     "data": {
      "image/png": "[encoded data removed]",
      "text/plain": [
       "<Figure size 432x288 with 1 Axes>"
      ]
     },
     "metadata": {
      "needs_background": "light"
     },
     "output_type": "display_data"
    }
   ],
   "source": [
    "sns.kdeplot(user_spending.loc[user_spending['tariff_name'] == 'ultra','mb_used'],\n",
    "            color='blue',\n",
    "            shade=True,\n",
    "            alpha = 0.5,\n",
    "            label = 'ultra')\n",
    "sns.kdeplot(user_spending.loc[user_spending['tariff_name'] == 'smart','mb_used'], color='deeppink',\n",
    "            shade=True, \n",
    "            alpha = 0.5,\n",
    "            label = 'smart')\n",
    "plt.legend()\n",
    "plt.title('Количество использованных мегабайт')\n",
    "plt.show()"
   ]
  },
  {
   "cell_type": "markdown",
   "metadata": {},
   "source": [
    "Более чем 75% пользователей тарифа 'ultra' хватает трафика который входит в тариф при этом самую большую плотность мы наблюдаем от 19 до 28 гб. С пользователями тарифа смарт обратная ситуация и большая часть пользователей превышает трафик включенный в тариф, наобольшая частота наблюдается около 17 гб."
   ]
  },
  {
   "cell_type": "code",
   "execution_count": 48,
   "metadata": {},
   "outputs": [
    {
     "data": {
      "image/png": "[encoded data removed]",
      "text/plain": [
       "<Figure size 432x288 with 1 Axes>"
      ]
     },
     "metadata": {
      "needs_background": "light"
     },
     "output_type": "display_data"
    }
   ],
   "source": [
    "ultra_trafic_mean_gr = user_spending.loc[\n",
    "    user_spending['tariff_name'] == 'ultra'].groupby('month', as_index=False)[['mb_used']].mean()\n",
    "smart_trafic_mean_gr = user_spending.loc[\n",
    "    user_spending['tariff_name'] == 'smart'].groupby('month', as_index=False)[['mb_used']].mean()\n",
    "\n",
    "plt.plot(smart_trafic_mean_gr['mb_used'], label='smart')\n",
    "plt.plot(ultra_trafic_mean_gr['mb_used'], label='ultra')\n",
    "plt.xlabel('Месяц')\n",
    "plt.ylabel('Мегабайты')\n",
    "plt.title('Расход трафика в течении года')\n",
    "plt.legend()\n",
    "plt.show()"
   ]
  },
  {
   "cell_type": "markdown",
   "metadata": {},
   "source": [
    "Исходя из графика мы видим что количество использованного трафика пользователей обоих тарифов постепенно увеличивается к концу года"
   ]
  },
  {
   "cell_type": "code",
   "execution_count": 49,
   "metadata": {},
   "outputs": [
    {
     "data": {
      "text/plain": [
       "count      985.000000\n",
       "mean     19469.308629\n",
       "std      10087.197726\n",
       "min          0.000000\n",
       "25%      11771.000000\n",
       "50%      19309.000000\n",
       "75%      26838.000000\n",
       "max      49746.000000\n",
       "Name: mb_used, dtype: float64"
      ]
     },
     "execution_count": 49,
     "metadata": {},
     "output_type": "execute_result"
    }
   ],
   "source": [
    "user_spending.loc[user_spending['tariff_name'] == 'ultra','mb_used'].describe()"
   ]
  },
  {
   "cell_type": "code",
   "execution_count": 50,
   "metadata": {},
   "outputs": [
    {
     "data": {
      "text/plain": [
       "count     2229.000000\n",
       "mean     16208.873486\n",
       "std       5870.482332\n",
       "min          0.000000\n",
       "25%      12644.000000\n",
       "50%      16507.000000\n",
       "75%      20043.000000\n",
       "max      38553.000000\n",
       "Name: mb_used, dtype: float64"
      ]
     },
     "execution_count": 50,
     "metadata": {},
     "output_type": "execute_result"
    }
   ],
   "source": [
    "user_spending.loc[user_spending['tariff_name'] == 'smart','mb_used'].describe()"
   ]
  },
  {
   "cell_type": "code",
   "execution_count": 51,
   "metadata": {},
   "outputs": [
    {
     "name": "stdout",
     "output_type": "stream",
     "text": [
      "Дисперсия: 101751557.97\n"
     ]
    }
   ],
   "source": [
    "print('Дисперсия: {:.2f}'.format(np.var(user_spending.loc[user_spending['tariff_name'] == 'ultra','mb_used'], ddof=1)))"
   ]
  },
  {
   "cell_type": "code",
   "execution_count": 52,
   "metadata": {},
   "outputs": [
    {
     "name": "stdout",
     "output_type": "stream",
     "text": [
      "Дисперсия: 34462562.81\n"
     ]
    }
   ],
   "source": [
    "print('Дисперсия: {:.2f}'.format(np.var(user_spending.loc[user_spending['tariff_name'] == 'smart','mb_used'], ddof=1)))"
   ]
  },
  {
   "cell_type": "markdown",
   "metadata": {},
   "source": [
    "#### Вывод"
   ]
  },
  {
   "cell_type": "markdown",
   "metadata": {},
   "source": [
    "В обоих случаях среднее почти равно медиане, но при этом достаточно большое стандартное отклонение говорит нам о том что пользователи достаточно по разному расходуют трафик. В большинстве своем людям требуется от 17 до 19 гигабайт в зависивости от тарифа."
   ]
  },
  {
   "cell_type": "markdown",
   "metadata": {},
   "source": [
    "### Данные о сообщениях"
   ]
  },
  {
   "cell_type": "code",
   "execution_count": 53,
   "metadata": {},
   "outputs": [
    {
     "data": {
      "image/png": "[encoded data removed]",
      "text/plain": [
       "<Figure size 432x288 with 1 Axes>"
      ]
     },
     "metadata": {
      "needs_background": "light"
     },
     "output_type": "display_data"
    }
   ],
   "source": [
    "plt.hist(user_spending['messages_count'], bins=30)\n",
    "plt.title('Количество сообщений')\n",
    "plt.show()"
   ]
  },
  {
   "cell_type": "code",
   "execution_count": 54,
   "metadata": {},
   "outputs": [
    {
     "data": {
      "image/png": "[encoded data removed]",
      "text/plain": [
       "<Figure size 432x288 with 1 Axes>"
      ]
     },
     "metadata": {
      "needs_background": "light"
     },
     "output_type": "display_data"
    }
   ],
   "source": [
    "sns.kdeplot(user_spending.loc[user_spending['tariff_name'] == 'ultra','messages_count'],\n",
    "            color='blue',\n",
    "            shade=True,\n",
    "            alpha = 0.5,\n",
    "            label = 'ultra')\n",
    "sns.kdeplot(user_spending.loc[user_spending['tariff_name'] == 'smart','messages_count'], color='deeppink',\n",
    "            shade=True, \n",
    "            alpha = 0.5,\n",
    "            label = 'smart')\n",
    "plt.legend()\n",
    "plt.title('Количество сообщений')\n",
    "plt.show()"
   ]
  },
  {
   "cell_type": "markdown",
   "metadata": {},
   "source": [
    "Около 70% пользователей тарифа 'smart' вкладываются в лимит влюченных в тариф сообщений, при этом наибольшую плотности мы наблюдаем около 35 сообщений. Последнее верно и для пользователей тарифа ультра однако здесь график скошен вправо что говорит на о том что срееднее больше медианы."
   ]
  },
  {
   "cell_type": "code",
   "execution_count": 55,
   "metadata": {},
   "outputs": [
    {
     "data": {
      "image/png": "[encoded data removed]",
      "text/plain": [
       "<Figure size 432x288 with 1 Axes>"
      ]
     },
     "metadata": {
      "needs_background": "light"
     },
     "output_type": "display_data"
    }
   ],
   "source": [
    "ultra_mes_mean_gr = user_spending.loc[\n",
    "    user_spending['tariff_name'] == 'ultra'].groupby('month', as_index=False)[['messages_count']].mean()\n",
    "smart_mes_mean_gr = user_spending.loc[\n",
    "    user_spending['tariff_name'] == 'smart'].groupby('month', as_index=False)[['messages_count']].mean()\n",
    "\n",
    "plt.plot(smart_mes_mean_gr['messages_count'], label='smart')\n",
    "plt.plot(ultra_mes_mean_gr['messages_count'], label='ultra')\n",
    "plt.xlabel('Месяц')\n",
    "plt.ylabel('Количество сообщений')\n",
    "plt.title('Количество сообщений в течении года')\n",
    "plt.legend()\n",
    "plt.show()"
   ]
  },
  {
   "cell_type": "markdown",
   "metadata": {},
   "source": [
    "Количество сообщений так же постепенно увеличивается к концу года"
   ]
  },
  {
   "cell_type": "code",
   "execution_count": 56,
   "metadata": {},
   "outputs": [
    {
     "data": {
      "text/plain": [
       "count    985.000000\n",
       "mean      49.363452\n",
       "std       47.804457\n",
       "min        0.000000\n",
       "25%        6.000000\n",
       "50%       38.000000\n",
       "75%       79.000000\n",
       "max      224.000000\n",
       "Name: messages_count, dtype: float64"
      ]
     },
     "execution_count": 56,
     "metadata": {},
     "output_type": "execute_result"
    }
   ],
   "source": [
    "user_spending.loc[user_spending['tariff_name'] == 'ultra','messages_count'].describe()"
   ]
  },
  {
   "cell_type": "code",
   "execution_count": 57,
   "metadata": {},
   "outputs": [
    {
     "data": {
      "text/plain": [
       "count    2229.000000\n",
       "mean       33.384029\n",
       "std        28.227876\n",
       "min         0.000000\n",
       "25%        10.000000\n",
       "50%        28.000000\n",
       "75%        51.000000\n",
       "max       143.000000\n",
       "Name: messages_count, dtype: float64"
      ]
     },
     "execution_count": 57,
     "metadata": {},
     "output_type": "execute_result"
    }
   ],
   "source": [
    "user_spending.loc[user_spending['tariff_name'] == 'smart','messages_count'].describe()"
   ]
  },
  {
   "cell_type": "code",
   "execution_count": 58,
   "metadata": {},
   "outputs": [
    {
     "name": "stdout",
     "output_type": "stream",
     "text": [
      "Дисперсия: 2285.27\n"
     ]
    }
   ],
   "source": [
    "print('Дисперсия: {:.2f}'.format(np.var(user_spending.loc[user_spending['tariff_name'] == 'ultra','messages_count'], ddof=1)))"
   ]
  },
  {
   "cell_type": "code",
   "execution_count": 59,
   "metadata": {},
   "outputs": [
    {
     "name": "stdout",
     "output_type": "stream",
     "text": [
      "Дисперсия: 796.81\n"
     ]
    }
   ],
   "source": [
    "print('Дисперсия: {:.2f}'.format(np.var(user_spending.loc[user_spending['tariff_name'] == 'smart','messages_count'], ddof=1)))"
   ]
  },
  {
   "cell_type": "markdown",
   "metadata": {},
   "source": [
    "#### Вывод"
   ]
  },
  {
   "cell_type": "markdown",
   "metadata": {},
   "source": [
    "Среднее достаточно сильно отличается от медианы в данных пользователей тарифа 'ultra' а так же присутствует большое стандартное отклонение о чем нам так же говорит график скошенный вправо. В ситуации с тарифом 'smart' отсутствует такой сильй скос однако среднее всеже чуть болше медианы. Исходя данных мы можем сделать вывод что люди редно пишут более 60 сообщений в месяц. При это наибольшая плотность от 1 до 50."
   ]
  },
  {
   "cell_type": "markdown",
   "metadata": {},
   "source": [
    "### Выручка"
   ]
  },
  {
   "cell_type": "code",
   "execution_count": 60,
   "metadata": {},
   "outputs": [
    {
     "data": {
      "image/png": "[encoded data removed]",
      "text/plain": [
       "<Figure size 432x288 with 1 Axes>"
      ]
     },
     "metadata": {
      "needs_background": "light"
     },
     "output_type": "display_data"
    }
   ],
   "source": [
    "plt.hist(user_spending['cost_per_month'], bins=50)\n",
    "plt.title('Выручка')\n",
    "plt.show()"
   ]
  },
  {
   "cell_type": "code",
   "execution_count": 61,
   "metadata": {},
   "outputs": [
    {
     "data": {
      "image/png": "[encoded data removed]",
      "text/plain": [
       "<Figure size 432x288 with 1 Axes>"
      ]
     },
     "metadata": {
      "needs_background": "light"
     },
     "output_type": "display_data"
    }
   ],
   "source": [
    "sns.kdeplot(user_spending.loc[user_spending['tariff_name'] == 'ultra','cost_per_month'],\n",
    "            color='blue',\n",
    "            shade=True,\n",
    "            alpha = 0.5,\n",
    "            label = 'ultra')\n",
    "sns.kdeplot(user_spending.loc[user_spending['tariff_name'] == 'smart','cost_per_month'], color='deeppink',\n",
    "            shade=True, \n",
    "            alpha = 0.5,\n",
    "            label = 'smart')\n",
    "plt.legend()\n",
    "plt.title('Выручка')\n",
    "plt.show()"
   ]
  },
  {
   "cell_type": "markdown",
   "metadata": {},
   "source": [
    "Высокая плотность около 2000 тысяч говорит нам о том что 75% всех пользователей тарифа ультра не выходят за рамки тарифа и платят только абонентскую плату. А выскоя плотность от 500 до 1000 говорит нам о том что большая часть всех абонентав тарифа смарт преввышает включенный в тариф пакет."
   ]
  },
  {
   "cell_type": "code",
   "execution_count": 62,
   "metadata": {},
   "outputs": [
    {
     "data": {
      "image/png": "[encoded data removed]",
      "text/plain": [
       "<Figure size 432x288 with 1 Axes>"
      ]
     },
     "metadata": {
      "needs_background": "light"
     },
     "output_type": "display_data"
    }
   ],
   "source": [
    "ultra_cost_mean_gr = user_spending.loc[\n",
    "    user_spending['tariff_name'] == 'ultra'].groupby('month', as_index=False)[['cost_per_month']].mean()\n",
    "smart_cost_mean_gr = user_spending.loc[\n",
    "    user_spending['tariff_name'] == 'smart'].groupby('month', as_index=False)[['cost_per_month']].mean()\n",
    "\n",
    "plt.plot(smart_cost_mean_gr['cost_per_month'], label='smart')\n",
    "plt.plot(ultra_cost_mean_gr['cost_per_month'], label='ultra')\n",
    "plt.xlabel('Месяц')\n",
    "plt.ylabel('Выручка')\n",
    "plt.title('Выручка в течении года')\n",
    "plt.legend()\n",
    "plt.show()"
   ]
  },
  {
   "cell_type": "markdown",
   "metadata": {},
   "source": [
    "Исходя из графика мы видим что выручка абонентов тарифа ультра в течении года меняется не сильно, в отличии от тарифа смарт где она постепенно растет к концу года."
   ]
  },
  {
   "cell_type": "code",
   "execution_count": 63,
   "metadata": {},
   "outputs": [
    {
     "data": {
      "text/plain": [
       "count     985.000000\n",
       "mean     2070.152284\n",
       "std       376.187114\n",
       "min      1950.000000\n",
       "25%      1950.000000\n",
       "50%      1950.000000\n",
       "75%      1950.000000\n",
       "max      4800.000000\n",
       "Name: cost_per_month, dtype: float64"
      ]
     },
     "execution_count": 63,
     "metadata": {},
     "output_type": "execute_result"
    }
   ],
   "source": [
    "user_spending.loc[user_spending['tariff_name'] == 'ultra','cost_per_month'].describe()"
   ]
  },
  {
   "cell_type": "code",
   "execution_count": 64,
   "metadata": {},
   "outputs": [
    {
     "data": {
      "text/plain": [
       "count    2229.000000\n",
       "mean     1289.973531\n",
       "std       818.404367\n",
       "min       550.000000\n",
       "25%       550.000000\n",
       "50%      1023.000000\n",
       "75%      1750.000000\n",
       "max      6770.000000\n",
       "Name: cost_per_month, dtype: float64"
      ]
     },
     "execution_count": 64,
     "metadata": {},
     "output_type": "execute_result"
    }
   ],
   "source": [
    "user_spending.loc[user_spending['tariff_name'] == 'smart','cost_per_month'].describe()"
   ]
  },
  {
   "cell_type": "code",
   "execution_count": 65,
   "metadata": {},
   "outputs": [
    {
     "name": "stdout",
     "output_type": "stream",
     "text": [
      "Дисперсия: 141516.75\n"
     ]
    }
   ],
   "source": [
    "print('Дисперсия: {:.2f}'.format(np.var(user_spending.loc[user_spending['tariff_name'] == 'ultra','cost_per_month'], ddof=1)))"
   ]
  },
  {
   "cell_type": "code",
   "execution_count": 66,
   "metadata": {},
   "outputs": [
    {
     "name": "stdout",
     "output_type": "stream",
     "text": [
      "Дисперсия: 669785.71\n"
     ]
    }
   ],
   "source": [
    "print('Дисперсия: {:.2f}'.format(np.var(user_spending.loc[user_spending['tariff_name'] == 'smart','cost_per_month'], ddof=1)))"
   ]
  },
  {
   "cell_type": "code",
   "execution_count": 67,
   "metadata": {},
   "outputs": [
    {
     "name": "stdout",
     "output_type": "stream",
     "text": [
      "Сумарная выручка пользователей тарифа \"Ультра\": 2039100.0\n",
      "Количество пользователей тарифа \"Ультра\": 985\n",
      "Сумарная выручка пользователей тарифа \"Смарт\": 2875351.0\n",
      "Количество пользователей тарифа \"Смарт\": 2229\n"
     ]
    }
   ],
   "source": [
    "print('Сумарная выручка пользователей тарифа \"Ультра\":', \n",
    "      user_spending.loc[user_spending['tariff_name'] == 'ultra','cost_per_month'].sum())\n",
    "print('Количество пользователей тарифа \"Ультра\":', \n",
    "     user_spending.loc[user_spending['tariff_name'] == 'ultra','cost_per_month'].count())\n",
    "print('Сумарная выручка пользователей тарифа \"Смарт\":', \n",
    "      user_spending.loc[user_spending['tariff_name'] == 'smart','cost_per_month'].sum())\n",
    "print('Количество пользователей тарифа \"Смарт\":', \n",
    "     user_spending.loc[user_spending['tariff_name'] == 'smart','cost_per_month'].count())"
   ]
  },
  {
   "cell_type": "markdown",
   "metadata": {},
   "source": [
    "#### Вывод "
   ]
  },
  {
   "cell_type": "markdown",
   "metadata": {},
   "source": [
    "В большинстве своем пользователи тарифа ультра платят только абонетскую плату. Чего не скажеш о пользователях тарифа смарт которые в среднем платят в два раза больше абонентской платы."
   ]
  },
  {
   "cell_type": "markdown",
   "metadata": {},
   "source": [
    "## Проверка гипотиз"
   ]
  },
  {
   "cell_type": "markdown",
   "metadata": {},
   "source": [
    "### Гипотеза 1"
   ]
  },
  {
   "cell_type": "markdown",
   "metadata": {},
   "source": [
    "Узнаем отличается ли средняя выручка пользователей тарифа 'smart' и 'ultra'."
   ]
  },
  {
   "cell_type": "markdown",
   "metadata": {},
   "source": [
    "Зададим критический уровень статистической значимости проведем т-тест и расчитаем p-value."
   ]
  },
  {
   "cell_type": "code",
   "execution_count": 68,
   "metadata": {},
   "outputs": [],
   "source": [
    "alpha = 0.05\n",
    "result = st.ttest_ind(user_spending.loc[user_spending['tariff_name'] == 'ultra','cost_per_month'],\n",
    "                      user_spending.loc[user_spending['tariff_name'] == 'smart','cost_per_month']) "
   ]
  },
  {
   "cell_type": "markdown",
   "metadata": {},
   "source": [
    "Сформулируем гипотезы. H0 - средняя выручка тарифа 'ultra'  не отличается от средней выручки тарифа 'smart'. H1 - средняя выручка тарифа 'ultra' отличается от средней выручки тарифа 'smart'"
   ]
  },
  {
   "cell_type": "code",
   "execution_count": 69,
   "metadata": {},
   "outputs": [
    {
     "name": "stdout",
     "output_type": "stream",
     "text": [
      "p-value: 1.4229814360764067e-160\n",
      "Отвергаем нулевую гипотезу\n"
     ]
    }
   ],
   "source": [
    "print('p-value:', result.pvalue)\n",
    "if result.pvalue < alpha:\n",
    "    print('Отвергаем нулевую гипотезу')\n",
    "else:\n",
    "    print('Не получилось отвергнуть нулевую гипотезу')"
   ]
  },
  {
   "cell_type": "markdown",
   "metadata": {},
   "source": [
    "#### Вывод"
   ]
  },
  {
   "cell_type": "markdown",
   "metadata": {},
   "source": [
    "Исходя из проверки мы можем утверждать что средние выручки тарифов отличаются."
   ]
  },
  {
   "cell_type": "markdown",
   "metadata": {},
   "source": [
    "### Гипотеза 2"
   ]
  },
  {
   "cell_type": "markdown",
   "metadata": {},
   "source": [
    "Узнаем отличается ли средняя выручка пользователей из Москвы от средней выручки пользователей из других регионов."
   ]
  },
  {
   "cell_type": "code",
   "execution_count": 70,
   "metadata": {},
   "outputs": [],
   "source": [
    "revenue_moscow = user_spending.loc[user_spending['city'] == 'Москва', 'cost_per_month']\n",
    "revenue_other = user_spending.loc[user_spending['city'] != 'Москва', 'cost_per_month']"
   ]
  },
  {
   "cell_type": "markdown",
   "metadata": {},
   "source": [
    "Зададим критический уровень статистической значимости, проведем т-тест и расчитаем p-value."
   ]
  },
  {
   "cell_type": "code",
   "execution_count": 71,
   "metadata": {},
   "outputs": [],
   "source": [
    "alpha = 0.05\n",
    "\n",
    "result = st.ttest_ind(revenue_moscow, revenue_other)"
   ]
  },
  {
   "cell_type": "markdown",
   "metadata": {},
   "source": [
    "Сформулируем нулевую гипотезу. Н0 - средняя выручка по Москве не отличается от средней выручки в других регионах. Н1- средняя выручка по Москве отличается от средней выручки в других регионах"
   ]
  },
  {
   "cell_type": "code",
   "execution_count": 72,
   "metadata": {},
   "outputs": [
    {
     "name": "stdout",
     "output_type": "stream",
     "text": [
      "p-value: 0.5440152911670224\n",
      "Не получилось отвергнуть нулевую гипотезу\n"
     ]
    }
   ],
   "source": [
    "print('p-value:', result.pvalue)\n",
    "if result.pvalue < alpha:\n",
    "    print('Отвергаем нулевую гипотезу')\n",
    "else:\n",
    "    print('Не получилось отвергнуть нулевую гипотезу')"
   ]
  },
  {
   "cell_type": "markdown",
   "metadata": {},
   "source": [
    "#### Вывод"
   ]
  },
  {
   "cell_type": "markdown",
   "metadata": {},
   "source": [
    "Наша нулевая гипотеза - средняя выручка по Москве не отличается от средней выручки в других регионах. Исходя из проверки не получилось отвергнуть нулевую гипотезу."
   ]
  },
  {
   "cell_type": "markdown",
   "metadata": {},
   "source": [
    "## Общий вывод"
   ]
  },
  {
   "cell_type": "markdown",
   "metadata": {},
   "source": [
    "Исходя из данных данной выборки мы видим что пользователи тарифа 'ultra' в среднем тратят больше минут, но длительность разговоров крайне редко превышает 1500 соответственно пользователи редко использую хотя бы половину включенных в тариф минут. С пользователями тарифа 'smart' другая ситуация по большей части они гораздо ближе к предельному значению включенных в тариф минут. Так же более чем 75% пользователей тарифа 'ultra' хватает трафика который входит в тариф при этом самую большую плотность мы наблюдаем от 19 до 28 гб. С пользователями тарифа смарт обратная ситуация и большая часть пользователей превышает трафик включенный в тариф, наибольшая плотность частоты наблюдается около 17 гб. Около 70% пользователей тарифа 'smart' вкладываются в лимит влюченных в тариф сообщений, при этом наибольшую плотности мы наблюдаем около 35 сообщений. Последнее верно и для пользователей тарифа ультра однако здесь график скошен вправо что говорит на о том что срееднее больше медианы.\n",
    "75% всех пользователей тарифа ультра не выходят за рамки тарифа и платят только абонентскую плату. Исходя из данных мы можем сказать о том что большая часть всех абонентав тарифа смарт преввышает включенный в тариф пакет, и в среднем платит в два раза больше абонетской платы."
   ]
  },
  {
   "cell_type": "markdown",
   "metadata": {},
   "source": [
    "Исходя из проверки гипотезы мы можем утверждать что средние выручки тарифов отличаются. И наоборот если говорить о гипотезе что средняя выручка по Москве не отличается от средней выручки в других регионах, в ходе проверки не получилось отвергнуть данную гипотезу."
   ]
  },
  {
   "cell_type": "markdown",
   "metadata": {},
   "source": [
    "Подводя итог можно сказать что выгоднее продвигать тариф 'ultra', так как мы можем предположить что его средняя выручка выше и она не зависит от региона."
   ]
  }
 ],
 "metadata": {
  "ExecuteTimeLog": [
   {
    "duration": 1180,
    "start_time": "2021-08-30T21:00:05.925Z"
   },
   {
    "duration": 1220,
    "start_time": "2021-08-30T21:00:07.107Z"
   },
   {
    "duration": 23,
    "start_time": "2021-08-30T21:00:08.329Z"
   },
   {
    "duration": 17,
    "start_time": "2021-08-30T21:00:08.355Z"
   },
   {
    "duration": 153,
    "start_time": "2021-08-30T21:00:08.373Z"
   },
   {
    "duration": 99,
    "start_time": "2021-08-30T21:00:08.528Z"
   },
   {
    "duration": 26,
    "start_time": "2021-08-30T21:00:08.629Z"
   },
   {
    "duration": 9,
    "start_time": "2021-08-30T21:00:08.658Z"
   },
   {
    "duration": 154,
    "start_time": "2021-08-30T21:00:08.669Z"
   },
   {
    "duration": 82,
    "start_time": "2021-08-30T21:00:08.825Z"
   },
   {
    "duration": 31,
    "start_time": "2021-08-30T21:00:08.910Z"
   },
   {
    "duration": 10,
    "start_time": "2021-08-30T21:00:08.943Z"
   },
   {
    "duration": 188,
    "start_time": "2021-08-30T21:00:08.955Z"
   },
   {
    "duration": 46,
    "start_time": "2021-08-30T21:00:09.145Z"
   },
   {
    "duration": 7,
    "start_time": "2021-08-30T21:00:09.192Z"
   },
   {
    "duration": 14,
    "start_time": "2021-08-30T21:00:09.201Z"
   },
   {
    "duration": 7,
    "start_time": "2021-08-30T21:00:09.242Z"
   },
   {
    "duration": 13,
    "start_time": "2021-08-30T21:00:09.251Z"
   },
   {
    "duration": 138,
    "start_time": "2021-08-30T21:00:09.265Z"
   },
   {
    "duration": 369,
    "start_time": "2021-08-30T21:00:09.405Z"
   },
   {
    "duration": -2484,
    "start_time": "2021-08-30T21:00:12.261Z"
   },
   {
    "duration": -2489,
    "start_time": "2021-08-30T21:00:12.267Z"
   },
   {
    "duration": -2496,
    "start_time": "2021-08-30T21:00:12.276Z"
   },
   {
    "duration": -2502,
    "start_time": "2021-08-30T21:00:12.283Z"
   },
   {
    "duration": -2512,
    "start_time": "2021-08-30T21:00:12.294Z"
   },
   {
    "duration": -2518,
    "start_time": "2021-08-30T21:00:12.301Z"
   },
   {
    "duration": -2527,
    "start_time": "2021-08-30T21:00:12.311Z"
   },
   {
    "duration": -2538,
    "start_time": "2021-08-30T21:00:12.323Z"
   },
   {
    "duration": -2545,
    "start_time": "2021-08-30T21:00:12.331Z"
   },
   {
    "duration": -2555,
    "start_time": "2021-08-30T21:00:12.342Z"
   },
   {
    "duration": -2638,
    "start_time": "2021-08-30T21:00:12.426Z"
   },
   {
    "duration": -2649,
    "start_time": "2021-08-30T21:00:12.438Z"
   },
   {
    "duration": -2657,
    "start_time": "2021-08-30T21:00:12.447Z"
   },
   {
    "duration": -2669,
    "start_time": "2021-08-30T21:00:12.460Z"
   },
   {
    "duration": -2679,
    "start_time": "2021-08-30T21:00:12.471Z"
   },
   {
    "duration": -2692,
    "start_time": "2021-08-30T21:00:12.485Z"
   },
   {
    "duration": -2704,
    "start_time": "2021-08-30T21:00:12.498Z"
   },
   {
    "duration": -2715,
    "start_time": "2021-08-30T21:00:12.510Z"
   },
   {
    "duration": -2722,
    "start_time": "2021-08-30T21:00:12.518Z"
   },
   {
    "duration": -2770,
    "start_time": "2021-08-30T21:00:12.567Z"
   },
   {
    "duration": -2778,
    "start_time": "2021-08-30T21:00:12.577Z"
   },
   {
    "duration": -2785,
    "start_time": "2021-08-30T21:00:12.585Z"
   },
   {
    "duration": -2793,
    "start_time": "2021-08-30T21:00:12.594Z"
   },
   {
    "duration": -2806,
    "start_time": "2021-08-30T21:00:12.607Z"
   },
   {
    "duration": -2814,
    "start_time": "2021-08-30T21:00:12.616Z"
   },
   {
    "duration": -2821,
    "start_time": "2021-08-30T21:00:12.625Z"
   },
   {
    "duration": -2828,
    "start_time": "2021-08-30T21:00:12.633Z"
   },
   {
    "duration": -2837,
    "start_time": "2021-08-30T21:00:12.643Z"
   },
   {
    "duration": -2843,
    "start_time": "2021-08-30T21:00:12.650Z"
   },
   {
    "duration": -2850,
    "start_time": "2021-08-30T21:00:12.658Z"
   },
   {
    "duration": -2890,
    "start_time": "2021-08-30T21:00:12.699Z"
   },
   {
    "duration": -2898,
    "start_time": "2021-08-30T21:00:12.708Z"
   },
   {
    "duration": -2902,
    "start_time": "2021-08-30T21:00:12.713Z"
   },
   {
    "duration": -2908,
    "start_time": "2021-08-30T21:00:12.720Z"
   },
   {
    "duration": -2914,
    "start_time": "2021-08-30T21:00:12.727Z"
   },
   {
    "duration": -2893,
    "start_time": "2021-08-30T21:00:12.733Z"
   },
   {
    "duration": -2901,
    "start_time": "2021-08-30T21:00:12.742Z"
   },
   {
    "duration": -2905,
    "start_time": "2021-08-30T21:00:12.748Z"
   },
   {
    "duration": -2911,
    "start_time": "2021-08-30T21:00:12.755Z"
   },
   {
    "duration": 1224,
    "start_time": "2021-08-31T09:09:46.875Z"
   },
   {
    "duration": 1133,
    "start_time": "2021-08-31T09:09:48.101Z"
   },
   {
    "duration": 22,
    "start_time": "2021-08-31T09:09:49.237Z"
   },
   {
    "duration": 12,
    "start_time": "2021-08-31T09:09:49.261Z"
   },
   {
    "duration": 158,
    "start_time": "2021-08-31T09:09:49.274Z"
   },
   {
    "duration": 97,
    "start_time": "2021-08-31T09:09:49.434Z"
   },
   {
    "duration": 25,
    "start_time": "2021-08-31T09:09:49.532Z"
   },
   {
    "duration": 9,
    "start_time": "2021-08-31T09:09:49.560Z"
   },
   {
    "duration": 152,
    "start_time": "2021-08-31T09:09:49.572Z"
   },
   {
    "duration": 60,
    "start_time": "2021-08-31T09:09:49.727Z"
   },
   {
    "duration": 17,
    "start_time": "2021-08-31T09:09:49.789Z"
   },
   {
    "duration": 15,
    "start_time": "2021-08-31T09:09:49.808Z"
   },
   {
    "duration": 151,
    "start_time": "2021-08-31T09:09:49.824Z"
   },
   {
    "duration": 44,
    "start_time": "2021-08-31T09:09:49.977Z"
   },
   {
    "duration": 22,
    "start_time": "2021-08-31T09:09:50.023Z"
   },
   {
    "duration": 16,
    "start_time": "2021-08-31T09:09:50.047Z"
   },
   {
    "duration": 10,
    "start_time": "2021-08-31T09:09:50.065Z"
   },
   {
    "duration": 13,
    "start_time": "2021-08-31T09:09:50.077Z"
   },
   {
    "duration": 141,
    "start_time": "2021-08-31T09:09:50.092Z"
   },
   {
    "duration": 9,
    "start_time": "2021-08-31T09:09:50.235Z"
   },
   {
    "duration": 17,
    "start_time": "2021-08-31T09:09:50.246Z"
   },
   {
    "duration": 7,
    "start_time": "2021-08-31T09:09:50.265Z"
   },
   {
    "duration": 123,
    "start_time": "2021-08-31T09:09:50.276Z"
   },
   {
    "duration": 2177,
    "start_time": "2021-08-31T09:09:50.402Z"
   },
   {
    "duration": -1987,
    "start_time": "2021-08-31T09:09:54.568Z"
   },
   {
    "duration": -1990,
    "start_time": "2021-08-31T09:09:54.572Z"
   },
   {
    "duration": -1994,
    "start_time": "2021-08-31T09:09:54.578Z"
   },
   {
    "duration": -1996,
    "start_time": "2021-08-31T09:09:54.581Z"
   },
   {
    "duration": -1999,
    "start_time": "2021-08-31T09:09:54.585Z"
   },
   {
    "duration": -2001,
    "start_time": "2021-08-31T09:09:54.588Z"
   },
   {
    "duration": -2003,
    "start_time": "2021-08-31T09:09:54.591Z"
   },
   {
    "duration": -2005,
    "start_time": "2021-08-31T09:09:54.594Z"
   },
   {
    "duration": -2007,
    "start_time": "2021-08-31T09:09:54.597Z"
   },
   {
    "duration": -2009,
    "start_time": "2021-08-31T09:09:54.600Z"
   },
   {
    "duration": -2012,
    "start_time": "2021-08-31T09:09:54.604Z"
   },
   {
    "duration": -2013,
    "start_time": "2021-08-31T09:09:54.606Z"
   },
   {
    "duration": -2017,
    "start_time": "2021-08-31T09:09:54.611Z"
   },
   {
    "duration": -2019,
    "start_time": "2021-08-31T09:09:54.615Z"
   },
   {
    "duration": -2021,
    "start_time": "2021-08-31T09:09:54.618Z"
   },
   {
    "duration": -2023,
    "start_time": "2021-08-31T09:09:54.621Z"
   },
   {
    "duration": -2024,
    "start_time": "2021-08-31T09:09:54.624Z"
   },
   {
    "duration": -2026,
    "start_time": "2021-08-31T09:09:54.627Z"
   },
   {
    "duration": -2027,
    "start_time": "2021-08-31T09:09:54.629Z"
   },
   {
    "duration": -2029,
    "start_time": "2021-08-31T09:09:54.632Z"
   },
   {
    "duration": -2031,
    "start_time": "2021-08-31T09:09:54.635Z"
   },
   {
    "duration": -2042,
    "start_time": "2021-08-31T09:09:54.647Z"
   },
   {
    "duration": -2046,
    "start_time": "2021-08-31T09:09:54.652Z"
   },
   {
    "duration": -2048,
    "start_time": "2021-08-31T09:09:54.655Z"
   },
   {
    "duration": -2049,
    "start_time": "2021-08-31T09:09:54.658Z"
   },
   {
    "duration": -2052,
    "start_time": "2021-08-31T09:09:54.662Z"
   },
   {
    "duration": -2054,
    "start_time": "2021-08-31T09:09:54.665Z"
   },
   {
    "duration": -2056,
    "start_time": "2021-08-31T09:09:54.668Z"
   },
   {
    "duration": -2058,
    "start_time": "2021-08-31T09:09:54.671Z"
   },
   {
    "duration": -2060,
    "start_time": "2021-08-31T09:09:54.674Z"
   },
   {
    "duration": -2062,
    "start_time": "2021-08-31T09:09:54.678Z"
   },
   {
    "duration": -2063,
    "start_time": "2021-08-31T09:09:54.680Z"
   },
   {
    "duration": -2066,
    "start_time": "2021-08-31T09:09:54.684Z"
   },
   {
    "duration": -2067,
    "start_time": "2021-08-31T09:09:54.686Z"
   },
   {
    "duration": -2070,
    "start_time": "2021-08-31T09:09:54.689Z"
   },
   {
    "duration": 4,
    "start_time": "2021-08-31T09:10:36.638Z"
   },
   {
    "duration": 857,
    "start_time": "2021-08-31T09:10:36.644Z"
   },
   {
    "duration": 37,
    "start_time": "2021-08-31T09:10:37.504Z"
   },
   {
    "duration": 10,
    "start_time": "2021-08-31T09:10:37.544Z"
   },
   {
    "duration": 154,
    "start_time": "2021-08-31T09:10:37.556Z"
   },
   {
    "duration": 98,
    "start_time": "2021-08-31T09:10:37.712Z"
   },
   {
    "duration": 29,
    "start_time": "2021-08-31T09:10:37.812Z"
   },
   {
    "duration": 9,
    "start_time": "2021-08-31T09:10:37.843Z"
   },
   {
    "duration": 158,
    "start_time": "2021-08-31T09:10:37.855Z"
   },
   {
    "duration": 63,
    "start_time": "2021-08-31T09:10:38.016Z"
   },
   {
    "duration": 16,
    "start_time": "2021-08-31T09:10:38.081Z"
   },
   {
    "duration": 14,
    "start_time": "2021-08-31T09:10:38.099Z"
   },
   {
    "duration": 328,
    "start_time": "2021-08-31T09:10:38.115Z"
   },
   {
    "duration": 45,
    "start_time": "2021-08-31T09:10:38.445Z"
   },
   {
    "duration": 7,
    "start_time": "2021-08-31T09:10:38.492Z"
   },
   {
    "duration": 32,
    "start_time": "2021-08-31T09:10:38.501Z"
   },
   {
    "duration": 22,
    "start_time": "2021-08-31T09:10:38.535Z"
   },
   {
    "duration": 34,
    "start_time": "2021-08-31T09:10:38.559Z"
   },
   {
    "duration": 141,
    "start_time": "2021-08-31T09:10:38.595Z"
   },
   {
    "duration": 5,
    "start_time": "2021-08-31T09:10:38.738Z"
   },
   {
    "duration": 11,
    "start_time": "2021-08-31T09:10:38.744Z"
   },
   {
    "duration": 4,
    "start_time": "2021-08-31T09:10:38.757Z"
   },
   {
    "duration": 140,
    "start_time": "2021-08-31T09:10:38.763Z"
   },
   {
    "duration": 166,
    "start_time": "2021-08-31T09:10:38.905Z"
   },
   {
    "duration": 23,
    "start_time": "2021-08-31T09:10:39.073Z"
   },
   {
    "duration": 4,
    "start_time": "2021-08-31T09:10:39.098Z"
   },
   {
    "duration": 10,
    "start_time": "2021-08-31T09:10:39.106Z"
   },
   {
    "duration": 49,
    "start_time": "2021-08-31T09:10:39.119Z"
   },
   {
    "duration": 10,
    "start_time": "2021-08-31T09:10:39.169Z"
   },
   {
    "duration": 33,
    "start_time": "2021-08-31T09:10:39.181Z"
   },
   {
    "duration": 47,
    "start_time": "2021-08-31T09:10:39.216Z"
   },
   {
    "duration": 19,
    "start_time": "2021-08-31T09:10:39.264Z"
   },
   {
    "duration": 24,
    "start_time": "2021-08-31T09:10:39.285Z"
   },
   {
    "duration": 338,
    "start_time": "2021-08-31T09:10:39.311Z"
   },
   {
    "duration": 220,
    "start_time": "2021-08-31T09:10:39.651Z"
   },
   {
    "duration": 9,
    "start_time": "2021-08-31T09:10:39.873Z"
   },
   {
    "duration": 9,
    "start_time": "2021-08-31T09:10:39.884Z"
   },
   {
    "duration": 5,
    "start_time": "2021-08-31T09:10:39.895Z"
   },
   {
    "duration": 42,
    "start_time": "2021-08-31T09:10:39.902Z"
   },
   {
    "duration": 260,
    "start_time": "2021-08-31T09:10:39.946Z"
   },
   {
    "duration": 219,
    "start_time": "2021-08-31T09:10:40.208Z"
   },
   {
    "duration": 15,
    "start_time": "2021-08-31T09:10:40.429Z"
   },
   {
    "duration": 11,
    "start_time": "2021-08-31T09:10:40.446Z"
   },
   {
    "duration": 15,
    "start_time": "2021-08-31T09:10:40.459Z"
   },
   {
    "duration": 8,
    "start_time": "2021-08-31T09:10:40.476Z"
   },
   {
    "duration": 223,
    "start_time": "2021-08-31T09:10:40.486Z"
   },
   {
    "duration": 221,
    "start_time": "2021-08-31T09:10:40.711Z"
   },
   {
    "duration": 15,
    "start_time": "2021-08-31T09:10:40.934Z"
   },
   {
    "duration": 25,
    "start_time": "2021-08-31T09:10:40.952Z"
   },
   {
    "duration": 13,
    "start_time": "2021-08-31T09:10:40.979Z"
   },
   {
    "duration": 19,
    "start_time": "2021-08-31T09:10:40.994Z"
   },
   {
    "duration": 24,
    "start_time": "2021-08-31T09:10:41.015Z"
   },
   {
    "duration": 18,
    "start_time": "2021-08-31T09:10:41.042Z"
   },
   {
    "duration": 25,
    "start_time": "2021-08-31T09:10:41.062Z"
   },
   {
    "duration": 37,
    "start_time": "2021-08-31T09:10:41.089Z"
   },
   {
    "duration": 19,
    "start_time": "2021-08-31T09:10:41.128Z"
   },
   {
    "duration": 37,
    "start_time": "2021-08-31T09:10:41.148Z"
   },
   {
    "duration": 15,
    "start_time": "2021-08-31T09:10:41.186Z"
   },
   {
    "duration": 34,
    "start_time": "2021-08-31T09:10:41.203Z"
   },
   {
    "duration": 1194,
    "start_time": "2021-09-01T17:08:11.122Z"
   },
   {
    "duration": 958,
    "start_time": "2021-09-01T17:08:12.318Z"
   },
   {
    "duration": 23,
    "start_time": "2021-09-01T17:08:13.278Z"
   },
   {
    "duration": 12,
    "start_time": "2021-09-01T17:08:13.304Z"
   },
   {
    "duration": 156,
    "start_time": "2021-09-01T17:08:13.318Z"
   },
   {
    "duration": 98,
    "start_time": "2021-09-01T17:08:13.476Z"
   },
   {
    "duration": 32,
    "start_time": "2021-09-01T17:08:13.576Z"
   },
   {
    "duration": 9,
    "start_time": "2021-09-01T17:08:13.611Z"
   },
   {
    "duration": 147,
    "start_time": "2021-09-01T17:08:13.622Z"
   },
   {
    "duration": 59,
    "start_time": "2021-09-01T17:08:13.771Z"
   },
   {
    "duration": 14,
    "start_time": "2021-09-01T17:08:13.831Z"
   },
   {
    "duration": 7,
    "start_time": "2021-09-01T17:08:13.847Z"
   },
   {
    "duration": 145,
    "start_time": "2021-09-01T17:08:13.856Z"
   },
   {
    "duration": 38,
    "start_time": "2021-09-01T17:08:14.002Z"
   },
   {
    "duration": 8,
    "start_time": "2021-09-01T17:08:14.042Z"
   },
   {
    "duration": 40,
    "start_time": "2021-09-01T17:08:14.052Z"
   },
   {
    "duration": 7,
    "start_time": "2021-09-01T17:08:14.094Z"
   },
   {
    "duration": 16,
    "start_time": "2021-09-01T17:08:14.103Z"
   },
   {
    "duration": 125,
    "start_time": "2021-09-01T17:08:14.121Z"
   },
   {
    "duration": 4,
    "start_time": "2021-09-01T17:08:14.248Z"
   },
   {
    "duration": 9,
    "start_time": "2021-09-01T17:08:14.253Z"
   },
   {
    "duration": 3,
    "start_time": "2021-09-01T17:08:14.264Z"
   },
   {
    "duration": 122,
    "start_time": "2021-09-01T17:08:14.295Z"
   },
   {
    "duration": 171,
    "start_time": "2021-09-01T17:08:14.420Z"
   },
   {
    "duration": 11,
    "start_time": "2021-09-01T17:08:14.593Z"
   },
   {
    "duration": 28,
    "start_time": "2021-09-01T17:08:14.606Z"
   },
   {
    "duration": 6,
    "start_time": "2021-09-01T17:08:14.636Z"
   },
   {
    "duration": 6,
    "start_time": "2021-09-01T17:08:14.643Z"
   },
   {
    "duration": 42,
    "start_time": "2021-09-01T17:08:14.651Z"
   },
   {
    "duration": 7,
    "start_time": "2021-09-01T17:08:14.694Z"
   },
   {
    "duration": 47,
    "start_time": "2021-09-01T17:08:14.703Z"
   },
   {
    "duration": 10,
    "start_time": "2021-09-01T17:08:14.752Z"
   },
   {
    "duration": 47,
    "start_time": "2021-09-01T17:08:14.764Z"
   },
   {
    "duration": 4,
    "start_time": "2021-09-01T17:08:14.812Z"
   },
   {
    "duration": 36,
    "start_time": "2021-09-01T17:08:14.818Z"
   },
   {
    "duration": 45,
    "start_time": "2021-09-01T17:08:14.856Z"
   },
   {
    "duration": 9,
    "start_time": "2021-09-01T17:08:14.903Z"
   },
   {
    "duration": 24,
    "start_time": "2021-09-01T17:08:14.914Z"
   },
   {
    "duration": 479,
    "start_time": "2021-09-01T17:08:14.940Z"
   },
   {
    "duration": 257,
    "start_time": "2021-09-01T17:08:15.421Z"
   },
   {
    "duration": 191,
    "start_time": "2021-09-01T17:08:15.680Z"
   },
   {
    "duration": 8,
    "start_time": "2021-09-01T17:08:15.873Z"
   },
   {
    "duration": 14,
    "start_time": "2021-09-01T17:08:15.883Z"
   },
   {
    "duration": 5,
    "start_time": "2021-09-01T17:08:15.899Z"
   },
   {
    "duration": 7,
    "start_time": "2021-09-01T17:08:15.906Z"
   },
   {
    "duration": 245,
    "start_time": "2021-09-01T17:08:15.914Z"
   },
   {
    "duration": 203,
    "start_time": "2021-09-01T17:08:16.161Z"
   },
   {
    "duration": 186,
    "start_time": "2021-09-01T17:08:16.365Z"
   },
   {
    "duration": 9,
    "start_time": "2021-09-01T17:08:16.553Z"
   },
   {
    "duration": 11,
    "start_time": "2021-09-01T17:08:16.563Z"
   },
   {
    "duration": 8,
    "start_time": "2021-09-01T17:08:16.592Z"
   },
   {
    "duration": 10,
    "start_time": "2021-09-01T17:08:16.602Z"
   },
   {
    "duration": 195,
    "start_time": "2021-09-01T17:08:16.613Z"
   },
   {
    "duration": 202,
    "start_time": "2021-09-01T17:08:16.810Z"
   },
   {
    "duration": 181,
    "start_time": "2021-09-01T17:08:17.014Z"
   },
   {
    "duration": 8,
    "start_time": "2021-09-01T17:08:17.197Z"
   },
   {
    "duration": 7,
    "start_time": "2021-09-01T17:08:17.207Z"
   },
   {
    "duration": 4,
    "start_time": "2021-09-01T17:08:17.216Z"
   },
   {
    "duration": 7,
    "start_time": "2021-09-01T17:08:17.221Z"
   },
   {
    "duration": 266,
    "start_time": "2021-09-01T17:08:17.229Z"
   },
   {
    "duration": 203,
    "start_time": "2021-09-01T17:08:17.496Z"
   },
   {
    "duration": 191,
    "start_time": "2021-09-01T17:08:17.701Z"
   },
   {
    "duration": 8,
    "start_time": "2021-09-01T17:08:17.894Z"
   },
   {
    "duration": 18,
    "start_time": "2021-09-01T17:08:17.904Z"
   },
   {
    "duration": 5,
    "start_time": "2021-09-01T17:08:17.924Z"
   },
   {
    "duration": 18,
    "start_time": "2021-09-01T17:08:17.931Z"
   },
   {
    "duration": 21,
    "start_time": "2021-09-01T17:08:17.951Z"
   },
   {
    "duration": 17,
    "start_time": "2021-09-01T17:08:17.977Z"
   },
   {
    "duration": 18,
    "start_time": "2021-09-01T17:08:17.996Z"
   },
   {
    "duration": 18,
    "start_time": "2021-09-01T17:08:18.016Z"
   },
   {
    "duration": 8,
    "start_time": "2021-09-01T17:08:18.036Z"
   },
   {
    "duration": 8,
    "start_time": "2021-09-01T17:08:18.045Z"
   },
   {
    "duration": 10,
    "start_time": "2021-09-01T17:11:51.094Z"
   },
   {
    "duration": 17,
    "start_time": "2021-09-01T17:16:59.035Z"
   }
  ],
  "kernelspec": {
   "display_name": "Python 3",
   "language": "python",
   "name": "python3"
  },
  "language_info": {
   "codemirror_mode": {
    "name": "ipython",
    "version": 3
   },
   "file_extension": ".py",
   "mimetype": "text/x-python",
   "name": "python",
   "nbconvert_exporter": "python",
   "pygments_lexer": "ipython3",
   "version": "3.7.8"
  },
  "toc": {
   "base_numbering": 1,
   "nav_menu": {},
   "number_sections": true,
   "sideBar": true,
   "skip_h1_title": true,
   "title_cell": "Table of Contents",
   "title_sidebar": "Contents",
   "toc_cell": false,
   "toc_position": {
    "height": "calc(100% - 180px)",
    "left": "10px",
    "top": "150px",
    "width": "165px"
   },
   "toc_section_display": true,
   "toc_window_display": false
  }
 },
 "nbformat": 4,
 "nbformat_minor": 2
}
